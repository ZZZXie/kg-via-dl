{
 "cells": [
  {
   "cell_type": "markdown",
   "id": "fdd8d5a2",
   "metadata": {},
   "source": [
    "### Import library"
   ]
  },
  {
   "cell_type": "code",
   "execution_count": 1,
   "id": "73538a91",
   "metadata": {},
   "outputs": [],
   "source": [
    "import warnings\n",
    "warnings.filterwarnings(\"ignore\")\n",
    "import pandas as pd\n",
    "import numpy as np\n",
    "import collections\n",
    "import re\n",
    "import os\n",
    "import string\n",
    "pd.set_option('display.max_colwidth', 200)\n",
    "from sklearn.feature_extraction.text import CountVectorizer"
   ]
  },
  {
   "cell_type": "code",
   "execution_count": 2,
   "id": "406767f5",
   "metadata": {},
   "outputs": [],
   "source": [
    "#!pip install BeautifulSoup4\n",
    "# import nltk\n",
    "# nltk.download()  # Download text data sets, including stop words"
   ]
  },
  {
   "cell_type": "code",
   "execution_count": 3,
   "id": "016f00ed",
   "metadata": {},
   "outputs": [],
   "source": [
    "# Import BeautifulSoup into your workspace\n",
    "from bs4 import BeautifulSoup         "
   ]
  },
  {
   "cell_type": "code",
   "execution_count": 4,
   "id": "1e3181b9",
   "metadata": {},
   "outputs": [],
   "source": [
    "from nltk.corpus import stopwords # Import the stop word list\n",
    "from collections import Counter\n",
    "from nltk.util import ngrams\n",
    "from nltk import word_tokenize"
   ]
  },
  {
   "cell_type": "markdown",
   "id": "34f88992",
   "metadata": {
    "tags": []
   },
   "source": [
    "### Whitepaper datasource"
   ]
  },
  {
   "cell_type": "code",
   "execution_count": 5,
   "id": "6c185377-0b77-4feb-9f78-8cb770062e6e",
   "metadata": {},
   "outputs": [],
   "source": [
    "stopwords_set = set(stopwords.words('english'))"
   ]
  },
  {
   "cell_type": "code",
   "execution_count": 6,
   "id": "e12a9f03-2ef8-4acf-800e-198377ecba5f",
   "metadata": {},
   "outputs": [],
   "source": [
    "def extract_and_clean(line, stopwords):\n",
    "    # words = [x.strip() for x in re.split(',| |\\. |\\: ', line) if x]\n",
    "    # words = map(str.lower, words)\n",
    "    # words = [x.replace('-', '') for x in words]\n",
    "    words = word_tokenize(re.sub(r'[^\\w\\s]', '', line.lower()))\n",
    "    # words = [x.replace('-', '') for x in words]\n",
    "    words = [word for word in words if not word in stopwords]\n",
    "    return words"
   ]
  },
  {
   "cell_type": "code",
   "execution_count": 7,
   "id": "4c198f81",
   "metadata": {},
   "outputs": [],
   "source": [
    "def read_whitepapers(filename, stopwords):\n",
    "    directory = \"../whitepapers/top20_whitepapers/\"\n",
    "    words_list = []\n",
    "    for entry in os.scandir(directory):\n",
    "        if (entry.path.endswith(filename) and entry.is_file()):\n",
    "            with open(entry.path, \"r\") as f:\n",
    "                for line in f:\n",
    "                    # words_list.extend(line.split())\n",
    "                    # words_list.extend([x.strip() for x in line.split()])\n",
    "                    words_list.extend(extract_and_clean(line, stopwords))\n",
    "    return words_list"
   ]
  },
  {
   "cell_type": "code",
   "execution_count": 8,
   "id": "52911c9f",
   "metadata": {},
   "outputs": [
    {
     "data": {
      "text/plain": [
       "['bitcoin',\n",
       " 'peertopeer',\n",
       " 'electronic',\n",
       " 'cash',\n",
       " 'system',\n",
       " 'satoshi',\n",
       " 'nakamoto',\n",
       " 'satoshingmxcom',\n",
       " 'wwwbitcoinorg',\n",
       " 'abstract',\n",
       " 'purely',\n",
       " 'peertopeer',\n",
       " 'version',\n",
       " 'electronic',\n",
       " 'cash',\n",
       " 'would',\n",
       " 'allow',\n",
       " 'online',\n",
       " 'payments',\n",
       " 'sent',\n",
       " 'directly',\n",
       " 'one',\n",
       " 'party',\n",
       " 'another',\n",
       " 'without']"
      ]
     },
     "execution_count": 8,
     "metadata": {},
     "output_type": "execute_result"
    }
   ],
   "source": [
    "bitcoin_filename=\"Bitcoin.txt\"\n",
    "whitepapers = read_whitepapers(bitcoin_filename, stopwords_set)\n",
    "# whitepapers.rename(columns={bitcoin_filename: \"whitepapers\"}, inplace=True)\n",
    "whitepapers[:25]"
   ]
  },
  {
   "cell_type": "code",
   "execution_count": 9,
   "id": "8584fca6",
   "metadata": {},
   "outputs": [],
   "source": [
    "filenames = ['Algorand.txt', 'Avalanche.txt', 'Binance.txt', 'Bitcoin.txt', 'Cardano.txt', 'Chainlink.txt',\n",
    "            'Crypto_com.txt', 'Ethereum.txt', 'FTX_token.txt', 'PolkaDot.txt', 'Polygon.txt', 'Ripple.txt', \n",
    "            'Solana.txt', 'Terra.txt', 'Tether.txt', 'Tron.txt', 'Uniswap.txt', 'Wrapped.txt']"
   ]
  },
  {
   "cell_type": "code",
   "execution_count": 10,
   "id": "ffbb718a",
   "metadata": {},
   "outputs": [],
   "source": [
    "def creat_word_bank():\n",
    "    word_bank = {}\n",
    "    for i in filenames:\n",
    "        #deduplicate in each paper\n",
    "        word_bank[i] = list(set(read_whitepapers(i, stopwords_set)))\n",
    "    return word_bank"
   ]
  },
  {
   "cell_type": "code",
   "execution_count": 11,
   "id": "2b9df150-7ac5-4373-92d1-cdf7d37705b6",
   "metadata": {},
   "outputs": [],
   "source": [
    "word_bank = creat_word_bank()"
   ]
  },
  {
   "cell_type": "code",
   "execution_count": 44,
   "id": "17e39b53-df97-4a75-b4fa-1474dc4bc23d",
   "metadata": {},
   "outputs": [
    {
     "name": "stdout",
     "output_type": "stream",
     "text": [
      "['users', '4', 'number', 'use', '3', 'many', '5', 'used', '7', '6', 'new', 'one', '2', 'two', 'user', 'given', '1', 'since', 'amount', 'also', 'may', 'using', 'transactions', '8', 'within', 'system', 'well', 'key', 'make', 'time', 'public', 'paper', 'every', 'network', 'simple', '10', 'receive', '9', 'value', 'able', 'order', 'need', 'even', 'access', 'possible', 'based', 'provide', '11', 'required', 'like', 'current', 'future', 'without', 'protocol', 'would', 'second', 'full', 'function', 'set', 'private', 'particular', 'case', '25', 'first', 'potential', 'following', 'process', '15', 'existing', 'problem', 'size', 'fee', 'must', 'fees', 'transaction', 'per', 'could', 'data', 'less', 'work', 'high', '12', 'large', 'funds', 'example', 'multiple', 'way', 'ensure', 'means', 'however', 'small', 'together', 'digital', 'still', 'see', 'already', 'much', 'abstract', 'keep', 'block', 'long', 'another', 'fast', 'blockchain', 'control', '13', 'currently', 'prevent', 'get', 'entire', 'information', 'costs', 'low', 'including', 'become', 'consensus', 'created', 'additional', 'directly', 'space', 'point', 'bitcoin', 'create', 'provides', 'history', '14', 'security', 'single', 'back', 'systems', 'initial', 'currency', 'several', 'end', 'start', 'previous', 'cryptocurrency', 'note', 'require', 'fully', 'period', 'references', 'introduction', 'c', 'secure', 'allows', 'making', 'next', 'change', 'three', 'expected', 'changes', 'total', 'types', 'blocks', 'times', 'mechanism', 'token', 'operations', 'requires', 'run', 'includes', 'cost', 'design', 'similar', 'part', 'tokens', 'assets', 'section', 'due', 'implementation', 'source', 'platform', 'loss', 'open', 'support', 'risk', 'account', 'instead', 'increase', 'available', 'common', 'distributed', 'exchange', 'record', 'addition', 'include', 'proposed', 'receives', 'us', 'enough', '31', 'stake', 'complete', 'hash', 'cases', 'thus', 'sent', 'among', 'signature', 'propose', 'move', 'working', 'b', 'add', 'conditions', 'protocols', 'form', '23', 'ability', 'price', 'certain', 'management', 'growth', 'allow', 'lower', 'standard', 'easy', 'avoid', 'called', 'nodes', 'group', 'ethereum', 'limited', 'uses', 'issue', 'state', 'eg', 'results', 'global', 'smart', 'via', 'node', 'anyone', 'important', 'world', 'market', 'designed', 'share', 'supply', '30', 'maximum', 'services', 'creation', 'store', '20', 'contracts', 'applications', 'model', 'running', 'provided', 'pool', 'ways', 'trust', 'take', 'proof', 'solution', 'needs', 'stored', 'event', 'included', 'creating', 'primary', 'hold', 'traditional', 'arbitrary', 'described', 'lead', 'functions', 'attacks', 'becomes', 'execution', 'blockchains', 'version', 'members', 'keys', '0', 'n', 'send', 'quickly', 'accepted', 'malicious', 'cryptographic', 'exists', 'ie', 'values', 'rely', 'generated', 'input', 'necessary', 'received', '32', 'chosen', 'track', 'known', 'follows', 'best', 'choose', 'rules', 'trusted', 'strong', 'building', 'contract', 'might', 'third', 'storage', 'code', 'terms', 'maintain', 'supports', 'interface', 'success', 'build', 'decentralized', 'chain', 'issues', 'interest', 'pay', 'others', 'requirements', 'various', 'transfer', 'core', 'ecosystem', 'features', 'attack', 'role', 'recent', 'asset', 'operation', 'miners', 'made', 'allowing', 'useful', 'longer', 'rate', 'main', 'algorithms', 'development', 'reducing', 'added', 'know', 'around', 'done', 'party', 'purposes', 'etc', 'go', 'check', 'zero', 'want', 'accept', 'payment', 'generate', 'either', 'request', 'target', 'address', 'result', 'accounts', 'makes', 'probability', 'combined', 'agree', 'messages', 'vote', 'ledger', 'dynamic', 'property', 'participants', 'valid', 'better', 'starting', 'turn', 'speed', 'signatures', 'safe', 'seen', 'upon', 'voting', 'cryptocurrencies', '17', 'reached', 'generally', 'sign', 'separate', 'least', 'analysis', 'takes', 'majority', 'sending', 'constant', 'otherwise', 'exist', 'reach', 'individual', 'represent', 'established', 'incentives', 'class', 'major', 'architecture', 'past', 'finally', 'double', 'perform', 'active', 'robust', 'distribution', 'achieve', 'reserve', 'cause', 'people', 'resources', 'software', '50', 'fact', 'never', 'failure', 'simply', 'enables', 'solutions', 'increased', 'correct', 'goal', 'member', 'strategy', 'call', 'holders', 'conclusion', 'payments', 'prove', 'maintaining', 'implemented', 'currencies', 'true', 'clients', 'comes', 'last', 'events', 'type', 'list', 'rewards', 'technology', 'exchanges', 'balance', 'increasing', 'initially', 'help', 'previously', 'white', 'built', 'liquidity', 'handle', 'trading', 'spent', 'technical', 'level', 'limit', 'community', 'purchase', 'money', 'different', 'general', 'later', 'coin', 'service', 'top', 'put', 'developed', 'free', 'increases', '24', 'publishing', 'rather', 'easily', 'transfers', 'structure', 'parties', 'incentive', '21', 'requirement', 'utility', 'wallet', 'equal', 'complexity', 'moving', 'agreement', 'properties', 'updated', 'message', 'unique', 'votes', 'happens', 'output', 'ones', 'holds', 'short', 'honest', 'follow', 'beginning', '42', 'say', '33', 'yet', 'ﬁrst', 'depending', 'byzantine', 'faster', '2018', '41', 'adding', 'step', 'networks', 'sets', 'random', 'outputs', 'unit', 'developers', 'functionality', 'grow', 'latest', 'larger', 'direct', 'pos', 'instance', 'owner', 'focus', 'entirely', 'independent', 'update', 'mining', 'client', 'base', 'contents', 'place', 'trade', 'join', 'contain', 'f', 'machine', 'enable', 'bank', 'execute', 'underlying', 'taken', 'validators', 'discussed', 'face', 'introduced', 'higher', 'typically', 'coins', 'centralized', 'crypto', 'components', 'addresses', 'eventually', 'ownership', '51', 'term', 'real', 'reduces', 'basis', '2019', 'improve', 'largest', 'ever', 'associated', 'detailed', 'supported', 'server', 'year', 'gas', 'status', 'roughly', 'day', 'basic', 'though', 'years', 'holding', 'whitepaper', 'financial', '19', 'days', 'successful', 'spot', 'believe', 'usd', 'problems', 'issued', 'framework', 'found', 'facilitate', 'gives', 'power', 'methods', 'obtain', 'method', 'consider', 'verify', 'possibility', 'needed', 'contains', 'held', 'written', 'challenges', 'apply', 'program', 'along', 'identity', 'application', 'bitcoins', '22', 'additionally', 'actually', 'right', 'legal', 'whose', 'opportunity', 'dollars', 'reduced', 'external', 'publicly', 'ratio', 'steps', 'round', 'inputs', 'scaling', 'selected', 'started', 'randomly', '34', 'hashes', 'let', '35', 'guaranteed', 'applies', 'try', 'potentially', 'selection', 'diﬀerent', 'original', 'works', 'interval', 'special', 'periods', 'compared', 'april', 'ﬁxed', 'almost', 'achieves', 'implement', 'independently', 'description', 'communication', 'tools', '100', 'instant', 'release', 'wide', 'governance', '52', 'details', 'modify', 'achieved', 'economic', 'stable', 'beyond', 'becoming', 'guarantee', 'validator', 'act', 'hand', 'language', 'manner', 'old', 'scalability', 'smaller', 'dapps', 'evm', 'therefore', 'overall', 'native', 'lack', 'processing', 'whether', 'merchants', 'millions', 'highly', 'platforms', 'validate', 'paid', 'chance', 'expect', 'implementations', 'wants', 'enabling', 'advantages', 'phase', 'miner', 'completely', 'swap', 'claim', 'getting', 'scale', 'furthermore', 'mechanisms', 'minimal', 'operating', 'doesnt', 'usage', 'involve', 'reduce', 'choice', 'reward', 'computational', 'participate', 'repeated', 'validation', 'onchain', 'although', 'subject', 'industry', 'virtual', 'attacker', 'business', 'transition', 'withdrawal', 'involved', 'resulting', 'businesses', 'capital', 'side', 'api', 'outside', 'generates', 'prior', 'play', 'annual', 'positive', 'infrastructure', 'product', 'come', 'across', 'binary', 'taking', '2015', 'eth', 'rest', 'law', 'understand', 'remaining', 'shares', 'approach', 'root', 'owners', 'passed', 'representation', 'names', 'sum', 'earlier', 'privacy', 'invalid', 'always', 'tree', 'keeping', 'central', 'continue', 'involves', 'merkle', 'split', 'return', '16', 'gain', 'logic', 'produce', 'local', 'reason', 'recover', '18', 'earn', 'layer', 'algorithm', 'executed', 'fork', 'shows', 'immediately', 'seconds', 'compute', 'unless', 'applying', 'mentioned', 'buy', 'providing', 'whole', 'considered', 'range', 'represents', 'growing', 'regular', 'equivalent', 'setup', 'slow', 'publish', 'greater', 'deposit', 'derived', 'deposits', 'markets', 'identities', 'bound', 'controls', 'refer', 'relative', 'essentially', 'describes', 'deﬁned', 'p', 'condition', 'recovery', '43', 'necessarily', 'parallel', 'delivered', 'present', 'x', 'extra', 'secret', 'players', 'v', 'highest', 'corresponding', 'similarly', 'actual', 'r', 'combining', 'proposal', 'leader', 'select', 'orders', 'minutes', 'desirable', 'eﬃcient', 'introduce', 'especially', 'communicate', 'assumptions', 'oracle', 'starts', 'practice', 'election', 'collectively', 'kind', 'runs', 'purely', 'performance', '55', 'participation', 'deployed', 'changing', 'reasons', 'adoption', 'leading', 'hence', 'critical', 'released', 'classes', 'ensuring', 'cryptography', 'programming', 'risks', 'contribute', 'peertopeer', 'sold', 'updates', 'allocation', 'default', 'cap', 'rewarded', 'electronic', 'variety', 'signiﬁcantly', '300', 'validating', 'engine', 'view', 'actors', 'subset', 'meaning', 'ideas', 'launch', 'wish', 'little', 'discussion', 'assume', 'behind', 'stack', 'incoming', 'computation', 'spend', 'paying', 'sharing', 'participant', 'atomic', 'capabilities', 'owned', 'threshold', 'deployment', 'pow', 'storing', 'feature', 'table', 'retaining', 'mainnet', 'assuming', 'holder', 'minimum', 'participating', 'hardware', 'assumption', 'combine', 'enter', 'vision', '45', 'natural', 'date', 'scalable', 'throughput', 'hard', 'trustless', 'serves', 'options', 'commitment', 'con', 'securing', 'environment', 'fundamental', 'substantial', 'expensive', 'company', 'customer', 'match', 'remain', 'international', 'web', 'near', 'computer', 'opportunities', 'fraud', 'responsible', 'latter', 'managing', 'live', 'far', 'looking', 'good', 'btc', 'credit', 'channel', 'traders', 'answer', 'managed', 'securely', 'often', 'project', 'protect', 'sender', 'average', 'solving', 'scenario', 'signing', 'online', 'maintained', 'containing', 'forward', 'verification', 'controlled', 'wait', 'computationally', 'determined', 'amounts', 'course', 'switch', 'chains', 'selling', 'customers', 'percentage', 'represented', 'applied', 'calling', 'remove', 'returns', 'towards', 'proven', 'internal', 'shown', 'sends', 'channels', 'supporting', 'missing', 'ensures', 'availability', 'particularly', 'settlement', 'worth', 'alternative', 'measured', 'develop', 'respect', 'reference', 'quantity', 'adopted', 'andor', 'give', 'entity', 'signed', 'clear', 'recorded', 'read', 'pass', 'opposed', 'likely', 'interact', 'attempt', 'wallets', 'erc20', 'easier', 'estimate', 'prices', 'volatility', 'submit', 'creates', 'collateral', 'approved', 'programs', 'gets', 'look', 'integrated', 'secondary', 'goes', 'delay', 'apart', 'settings', 'tion', 'points', 'pair', 'discuss', 'length', 'grows', 'rule', 'report', 'produced', 'string', 'committee', 'setting', 'guarantees', 'helps', 'else', 'tions', 'continuous', 'response', 'individually', 'transitions', 'genesis', 'generation', 'advances', 'signiﬁcant', 'inherently', 'apis', 'post', 'performed', 'line', 'care', 'balances', 'connect', 'traded', 'prevents', 'objective', 'occurs', '65', 'limits', 'fail', 'think', 'thousands', 'parameters', 'novel', 'fewer', 'practical', 'light', 'proofofwork', 'sybil', 'implements', 'nakamoto', 'strategies', '80', 'figure', 'expressed', 'oﬀers', 'swaps', 'cash', 'developer', '75', 'projects', 'consumed', '40', '200', 'unlimited', 'introducing', 'lock', 'proposals', 'releases', 'load', 'enforce', 'launched', 'diﬀerence', 'quite', 'policy', 'competitive', 'eﬀectively', 'decentralization', 'unlike', 'enforced', 'k', 'onto', 'minimize', 'game', 'wealth', 'operate', 'completion', 'recently', 'operates', 'numbers', 'membership', 'proofofstake', 'suitable', 'substantially', 'implementing', 'consideration', 'predict', 'dependent', '2014', 'ongoing', 'powers', 'equally', 'contributions', 'introduces', 'par', 'statements', 'monetary', 'dedicated', 'deep', 'complex', 'revenue', 'partners', 'action', 'team', 'products', 'planning', 'fundamentally', 'bits', 'authentication', 'review', 'relationship', 'burn', 'developing', 'pairs', 'page', 'anonymous', 'billion', 'tech', 'longterm', 'investment', 'fund', 'constantly', 'successfully', 'withdrawals', 'fiat', 'experience', 'languages', 'listed', 'pending', 'mind', 'withdraw', 'july', 'today', 'volume', 'significant', 'leadership', 'popular', 'mobile', 'difficult', 'transact', 'early', 'accepting', 'solves', 'denial', 'trying', 'noted', 'extract', 'aware', 'returning', 'bytes', 'drop', 'gold', 'timestamp', 'reliable', 'sequence', 'authority', 'simultaneously', 'broadcast', 'inherent', 'validity', 'solve', 'internet', 'institutions', 'spending', 'satisfy', 'trades', 'gap', 'depends', 'relying', 'rise', '28', 'calculated', '27', 'rights', '56', 'advantage', 'tool', '44', 'identify', 'degree', 'measure', 'begin', 'deliver', 'determine', 'regarding', 'minted', 'impossible', 'units', 'requiring', '63', 'states', 'notice', 'proofs', 'correctly', 'march', 'verifying', '37', 'approximately', 'challenge', '29', 'pools', 'liquid', '53', 'position', 'aims', 'ledgers', '26', 'series', 'january', 'throughout', 'reasonable', 'encryption', 'summary', 'weight', 'demand', 'actions', 'window', '2017', '1000', 'issuing', 'portion', 'transferred', 'cover', 'interaction', 'outlined', '54', 'existence', 'refers', '36', 'context', 'incentivized', '61', 'trigger', 'shared', '62', 'expand', 'relevant', 'june', 'direction', 'research', 'maintenance', 'achieving', 'slightly', 'simpler', 'fashion', 'preventing', 'activity', '64', 'related', 'collection', 'protection', 'enforcement', 'promise', 'secured', 'processes', 'serve', 'meet', 'sale', 'usually', 'gains', 'encode', 'deterministic', 'issuer', 'former', 'builtin', 'insurance', 'manage', 'false', 'dapp', 'providers', 'transparent', 'examples', 'mean', 'net', 'thereby', 'deposited', 'intended', 'relatively', 'option', 'servers', 'drive', 'confirmation', 'rates', 'specific', 'mainstream', 'criteria', 'arbitrarily', 'remains', 'primitives', 'indeed', 'keeps', 'asynchronous', 'agreed', 'desired', 'resilient', 'moves', 'soon', 'progress', 'producing', 'propagation', 'delivery', 'deﬁne', 'adaptive', 'describe', 'j', 'generalized', 'simplicity', 'highlighted', 'denoted', 'anything', 'precisely', 'concrete', 'accordingly', 'enjoy', 'permissioned', 'targets', 'neither', 'construction', 'download', 'staked', 'overview', 'speciﬁc', 'sharding', 'decreasing', 'implies', 'matter', 'attempts', 'forms', 'hands', 'accessible', 'seed', 'static', 'concerns', 'procedure', 'precise', 'oﬀ', 'typical', 'accurate', 'oﬀchain', 'parameter', 'appropriate', 'collect', 'argument', 'component', 'aim', 'increasingly', 'parts', 'proportional', 'background', 'topic', 'closed', 'decisions', 'faced', 'compensation', 'normal', 'allowed', 'ultimately', 'eﬀects', 'custom', 'algorithmic', 'latency', 'devices', 'duration', 'goals', 'favor', 'notation', 'constraints', 'globally', 'except', 'designated', 'bandwidth', 'begins', '125', 'conﬁrmation', 'connected', 'decide', 'concern', '250', 'freely', 'amongst', 'hashing', 'decided', 'exposed', 'committed', 'referred', '2008', 'veriﬁcation', 'factors', 'placed', 'evolution', 'knowledge', 'maintains', 'proposition', 'bootstrapping', 'discovery', 'inclusion', '60', 'tps', 'reported', 'implied', '400', '2016', 'schemes', 'determines', 'bond', 'limitation', 'natively', 'mostly', 'aspects', 'bounds', 'minor', 'staking', 'suﬃciently', 'deploy', 'mature', 'significantly', 'left', 'companies', 'innovations', 'automated', 'stability', 'audit', 'schedule', 'upgrades', 'hours', 'charge', 'integration', 'served', 'plan', '500', 'poor', 'standards', 'subsequently', 'innovative', 'detection', 'capable', 'please', 'flow', 'whenever', 'activities', 'task', 'followed', 'securities', 'trader', 'handling', 'question', 'finance', 'ahead', 'person', '2013', 'operators', 'confirmed', 'months', 'science', 'social', 'chief', 'efficiency', 'plans', 'completed', 'banks', 'million', 'changed', 'show', 'decision', 'theory', 'tx', 'checks', 'serving', 'tolerant', 'circulation', 'reverse', 'suppose', 'continuously', 'willing', 'proves', 'executing', 'invested', 'broken', 'extended', 'exact', 'communications', 'header', '01', 'subsequent', 'memory', 'versions', 'benefits', 'conference', 'hashed', 'headers', 'pages', 'detect', 'calculate', 'document', 'physical', 'cpu', 'coordination', 'relies', 'encrypted', 'contained', 'session', 'plus', 'l', 'identifying', 'registration', 'resource', '39', 'board', 'eligible', 'lines', 'posted', 'vs', 'idea', 'ideal', 'height', 'performing', 'connection', 'path', 'curve', 'statement', 'impact', 'u', 'carefully', 'collected', 'carry', 'sense', 'intrinsic', 'evaluate', 'backbone', 'nothing', 'checking', 'entry', 'sure', 'coinbase', 'force', 'pro', 'obtained', 'interacting', 'ex', 'submitted', 'pre', 'reject', 'exactly', 'highlevel', 'formal', 'canonical', 'ready', 'demonstrate', 'smallest', 'purpose', 'lose', 'detail', 'stakeholders', 'censorship', 'nature', 'adjusting', 'transmitted', 'convenience', 'ing', 'computing', 'explained', 'removed', 'embedded', 'speciﬁcally', 'writing', 'volatile', 'roles', 'trivial', 'write', 'counter', 'fair', 'assigned', 'computed', 'generating', 'prevention', 'originally', 'describing', 'concept', 'restrictions', 'newly', 'calculation', '57', 'ecdsa', 'stakes', 'accounting', 'infeasible', 'presented', 'terminology', 'inside', 'production', 'possibly', 'suﬃcient', 'improvement', 'e', 'error', 'al', 'perhaps', 'completeness', 'de', 'somewhat', 'fails', 'index', 'invest', 'elliptic', 'actively', 'tendermint', 'receiving', 'viable', 'partial', 'restricted', 'concepts', 'issuance', 'et', 'focused', 'interested', '81', 'mechanics', 'publishes', 'log', 'wishes', 'representing', 'c1', 'advance', 'treated', 'exception', '67', 'format', '66', 'calls', 'observed', 'allocated', 'elected', 'twice', 'bring', 'properly', 'testing', 'four', 'something', 'raise', 'continues', 'foundation', 'consumer', 'thirdparty', 'relating', 'isnt', 'consume', 'worlds', '71', 'provider', 'groups', 'style', 'blog', 'rapid', 'specify', '72', 'capacity', 'regulations', 'domain', 'mainly', 'withdrawn', 'limitations', 'giving', 'brings', 'regulatory', 'piece', 'enabled', 'website', 'bad', 'sell', 'backing', 'fault', 'organizations', 'great', 'compromise', 'historical', 'medium', 'fairly', 'lending', 'advanced', 'database', 'corporate', 'enforces', 'cryptographically', 'things', 'conversely', 'name', 'periodic', 'unable', 'p2p', 'buying', 'ease', 'bridge', 'candidate', 'priority', 'factor', 'merchant', 'derivatives', 'derivative', 'burned', 'offering', 'daily', 'expansion', 'benefit', 'permanently', 'efficient', 'ethereums', 'funding', 'extremely', 'transacting', 'moreover', 'clarity', 'identiﬁes', 'partition', 'player', 'unknown', 'leaders', 'democratic', 'safety', 'classic', 'simplify', 'super', 'break', 'perfectly', 'dynamically', 'maliciously', 'synchronous', 'deﬁnitions', 'moment', 'deﬁnition', 'seeing', 'sig', 'extensions', 'reaches', 'scheme', 'bounded', 'cryptology', 'h', 'propagated', 'adversary', 'permissionless', 'compliance', 'powered', 'employ', 'liveness', 'lost', 'computers', 'divided', 'big', 'presentation', 'namely', 'locked', '90', 'anticipate', 'dynamics', 'family', 'principle', 'solidity', '5000', 'choosing', 'ground', 'ﬁnancial', 'operator', 'eﬀort', 'induced', 'week', 'diﬃcult', 'subsets', '120', 'destroy', 'realworld', 'largely', 'peer', 'obligation', 'dont', 'maximal', 'validated', 'coupled', 'economics', 'equality', 'selects', 'choices', 'environments', 'forks', 'corruption', 'max', 'attention', 'straightforward', 'reliance', 'predictable', 'needing', 'possesses', 'energy', 'views', 'sus', 'words', 'guide', 'truly', 'extensive', 'imposes', 'cheap', 'doublespend', 'consen', '70', 'g', 'capped', 'extend', 'employs', 'acquire', 'slashing', 'delegation', 'import', 'querying', 'powerful', 'flexible', 'adverse', 'employed', 'modiﬁcation', 'behavior', 'daniel', 'encourage', 'rapidly', 'ﬂexibility', 'accommodate', 'scenarios', 'unfortunately', 'returned', 'hundreds', 'exceeds', 'outline', 'selecting', 'margin', 'paradigm', 'comprehensive', 'deal', 'simplest', 'sufficient', 'overcome', '02', 'economy', 'situation', 'procedures', 'rollout', '2nd', 'investors', 'advisors', 'strategic', 'draft', 'kept', 'professional', 'tasks', '2005', 'duties', 'content', 'binance', 'tested', 'encrypting', 'someone', 'understanding', 'sources', 'strongly', 'interfaces', 'traffic', 'consumes', 'pushes', 'laundering', 'consortium', '91', 'annually', '3rd', 'marketing', 'futures', 'announced', 'modeling', 'head', 'stock', 'yes', 'device', 'app', 'entities', 'slower', 'z', 'nonce', 'find', 'vulnerable', 'longest', 'plays', 'ieee', 'counterparty', 'verified', 'everyone', 'going', 'express', 'inconsistency', 'non', 'w', 'sha256', 'earliest', 'limiting', 'posts', 'ii', 'frequent', 'accomplish', 'predetermined', 'confirm', 'really', 'revealed', 'mint', 'late', 'recipient', 'improving', 'dai', 'branch', 'broader', 'backs', 'leave', 'banking', 'exponential', 'usual', 'satoshi', 'sequences', 'institution', 'symposium', 'compensate', 'funded', 'acm', 'determining', 'difference', 'copy', 'capture', 'estimates', 'yield', 'presents', 'bit', 'nontrivial', 'goods', 'median', 'remainder', 'executes', 'pays', 'graph', 'ends', 'inter', 'conducting', 'shift', 'coded', 'speciﬁed', '59']\n"
     ]
    }
   ],
   "source": [
    "# Single words\n",
    "agg_words = []\n",
    "for coin in word_bank:\n",
    "    agg_words.extend(word_bank[coin])\n",
    "\n",
    "single_counter = Counter(agg_words)\n",
    "# print(single_counter.most_common(700))\n",
    "print([x[0] for x in single_counter.most_common(2000)])"
   ]
  },
  {
   "cell_type": "code",
   "execution_count": 35,
   "id": "b6ac97f2-998c-4e3c-bd5e-f4026e56a2f2",
   "metadata": {},
   "outputs": [
    {
     "name": "stdout",
     "output_type": "stream",
     "text": [
      "[('existing', '3'), ('become', 'consensus'), ('via', 'create'), ('fees', 'includes'), ('increase', '30'), ('useful', 'allows'), ('multiple', 'increase'), ('due', 'initial'), ('check', 'using'), ('included', 'make'), ('many', '5'), ('information', 'costs'), ('without', 'storage'), ('implemented', 'node'), ('following', 'world'), ('services', 'miners'), ('every', 'less'), ('use', 'holds'), ('time', 'particular'), ('amount', 'long'), ('follows', 'total'), ('requirements', 'eg'), ('required', 'ecosystem'), ('small', 'list'), ('rewards', 'cases'), ('8', 'c'), ('funds', 'together'), ('19', '11'), ('growing', 'key'), ('using', 'becomes'), ('2', 'system'), ('times', 'instant'), ('introduced', 'potential'), ('require', 'instead'), ('full', 'technology'), ('5', 'store'), ('ensure', 'work'), ('20', 'still'), ('payment', 'purposes'), ('take', 'receives'), ('within', 'verify'), ('10', 'record'), ('represents', 'current'), ('started', 'users'), ('describes', 'second'), ('guaranteed', 'message'), ('number', 'incentives'), ('allow', 'major'), ('hence', 'one'), ('instance', 'called'), ('perform', 'networks'), ('build', 'evm'), ('32', 'ethereum'), ('issue', 'state'), ('crypto', 'designed'), ('binary', 'various'), ('private', 'successful'), ('difficult', 'without'), ('gives', 'like'), ('resources', 'solution'), ('currency', 'method'), ('could', 'determined'), ('functionality', 'analysis'), ('parties', 'private'), ('limited', 'step'), ('22', 'high'), ('keys', 'starting'), ('solution', 'interface'), ('16', 'properties'), ('data', 'tokens'), ('proposed', 'cryptocurrency'), ('enough', 'let'), ('references', 'votes'), ('possible', 'block'), ('blockchain', 'communicate'), ('13', 'network'), ('properties', 'choose'), ('period', 'trusted'), ('provide', 'avoid'), ('given', 'functionality'), ('guarantee', 'terms'), ('act', 'hand'), ('native', 'chain'), ('platforms', 'enable'), ('known', 'limited'), ('work', 'wants'), ('strategy', 'call'), ('however', 'point'), ('transfer', 'maintaining'), ('bitcoin', 'propose'), ('create', 'implemented'), ('41', '14'), ('risk', 'true'), ('agreement', 'would'), ('asset', 'single'), ('valid', 'operation'), ('allowing', 'term'), ('majority', 'paper'), ('fraud', 'decentralized'), ('limit', 'managing'), ('well', 'highest'), ('even', 'securely'), ('track', 'spot'), ('signatures', 'pool'), ('order', 'two'), ('different', 'loss'), ('tool', 'kind'), ('get', 'near'), ('returns', 'requirement'), ('2', 'sign'), ('selected', 'guarantee'), ('worth', 'per'), ('basic', 'transfers'), ('return', 'follows'), ('discussion', 'sets'), ('protocol', '1000'), ('correct', 'compute'), ('introduction', 'additionally'), ('whole', 'well'), ('right', 'retaining'), ('outputs', 'result'), ('equal', 'repeated'), ('dynamic', 'supply'), ('commitment', 'rate'), ('likely', 'primary'), ('block', 'allocated'), ('slow', 'go'), ('means', 'type'), ('developers', 'database'), ('achieve', 'previously'), ('nodes', 'property'), ('rates', '2'), ('must', 'markets'), ('names', 'build'), ('transfers', '6'), ('application', 'move'), ('customers', 'access'), ('stake', 'supported'), ('obtain', 'source'), ('community', 'scale'), ('large', 'integrated'), ('true', 'trust'), ('based', 'blocks'), ('produce', 'function'), ('efficient', '7'), ('utility', 'see'), ('structure', 'open'), ('switch', 'time'), ('randomly', 'arbitrary'), ('functions', 'attacks'), ('updated', 'hashes'), ('try', 'blockchains'), ('say', 'within'), ('eﬃcient', 'first'), ('block', 'majority'), ('types', 'reach'), ('assumptions', 'oracle'), ('100', 'times'), ('operations', 'leading'), ('latest', 'byzantine'), ('pos', 'protocols'), ('protocols', 'form'), ('called', 'economic'), ('beyond', 'default'), ('storage', 'cost'), ('cost', 'reserve'), ('4', 'fail'), ('lead', 'decisions'), ('base', 'contents'), ('lack', '50'), ('two', 'adaptive'), ('issues', 'could'), ('whether', 'merchants'), ('13', 'stack'), ('paying', 'section'), ('usage', 'public'), ('currencies', 'reduce'), ('world', 'large'), ('centralized', 'participate'), ('ledger', 'bootstrapping'), ('share', 'dynamic'), ('45', 'components'), ('special', 'rewards'), ('contributions', 'many'), ('validation', 'common'), ('trustless', '20'), ('serves', 'user'), ('main', 'aspects'), ('business', 'three'), ('paper', 'environment'), ('environment', 'model'), ('security', 'traditional'), ('play', 'full'), ('delivered', 'addition'), ('still', 'holding'), ('mobile', 'types'), ('root', 'sender'), ('includes', 'help'), ('24', 'similar'), ('similar', 'proves'), ('small', 'timestamp'), ('point', 'use'), ('way', 'post'), ('almost', 'information'), ('possibility', 'given'), ('failure', '1'), ('potential', 'satisfy'), ('cpu', 'directly'), ('relies', 'times'), ('prevent', '28'), ('remove', 'growth'), ('receive', 'returns'), ('7', 'idea'), ('performed', 'challenges'), ('earn', 'units'), ('algorithm', 'achieve'), ('hand', 'proofs'), ('availability', 'condition'), ('challenge', '0'), ('annual', 'subset'), ('possible', 'amount'), ('long', 'ties'), ('respect', 'immediately'), ('existence', 'level'), ('restrictions', 'however'), ('point', 'obtain'), ('mentioned', 'come'), ('actually', 'validity'), ('loss', 'give'), ('inside', 'provides'), ('satisfy', 'remaining'), ('large', 'gap'), ('result', 'error'), ('combine', 'elliptic'), ('partial', 'dynamic'), ('recorded', 'publishing'), ('pass', 'secure'), ('rest', 'useful'), ('rate', 'reduces'), ('three', 'calls'), ('blocks', 'individual'), ('protocols', 'consumption'), ('run', 'cap'), ('price', 'added'), ('multisig', 'including'), ('including', 'several'), ('200', 'long'), ('supply', '221'), ('together', 'upon'), ('ability', 'solving'), ('contents', 'availability'), ('network', 'dapp'), ('2019', 'lending'), ('ie', '18'), ('put', 'paid'), ('miner', 'external'), ('simple', 'management'), ('better', 'deposit'), ('apply', 'see'), ('supported', 'web'), ('level', 'underlying'), ('source', 'greater'), ('prove', 'purchase'), ('award', 'public'), ('conditions', 'involve'), ('membership', 'changes'), ('associated', 'goes'), ('supply', 'capital'), ('pool', 'available'), ('drive', 'new'), ('mind', 'useful'), ('input', 'necessary'), ('2018', 'systems'), ('unit', 'previous'), ('traditional', 'ability'), ('details', 'thereby'), ('works', 'existing'), ('curve', 'takes'), ('layer', 'perform'), ('uses', 'initially'), ('62', 'large'), ('market', 'address'), ('moving', 'traditional'), ('hashes', 'enough'), ('classic', 'members'), ('however', 'small'), ('digital', 'works'), ('quickly', '6'), ('system', 'sign'), ('make', 'private'), ('add', 'cryptology'), ('form', 'possible'), ('another', 'adversary'), ('blocks', 'control'), ('oracle', 'every'), ('every', 'starts'), ('collectively', 'established'), ('advances', 'receive'), ('changing', 'forms'), ('ones', '15')]\n"
     ]
    }
   ],
   "source": [
    "#2-gram counter\n",
    "agg_words_2gram = []\n",
    "for coin in word_bank:\n",
    "    agg_words_2gram.extend(ngrams(word_bank[coin], 2))\n",
    "\n",
    "two_gram_counter = Counter(agg_words_2gram)\n",
    "# print(two_gram_counter.most_common(150))\n",
    "print([x[0] for x in two_gram_counter.most_common(300)])"
   ]
  },
  {
   "cell_type": "code",
   "execution_count": 37,
   "id": "26076b59-2a9e-40c4-a290-a669fc7d340b",
   "metadata": {},
   "outputs": [
    {
     "name": "stdout",
     "output_type": "stream",
     "text": [
      "[(('multiple', 'increase', '30'), 7), (('difficult', 'without', 'storage'), 6), (('create', 'implemented', 'node'), 5), (('many', '5', 'store'), 5), (('check', 'using', 'becomes'), 5), (('without', 'storage', 'cost'), 4), (('via', 'create', 'implemented'), 4), (('special', 'rewards', 'cases'), 4), (('fees', 'includes', 'help'), 4), (('almost', 'information', 'costs'), 4), (('parties', 'private', 'successful'), 4), (('amount', 'long', 'ties'), 4), (('outputs', 'result', 'error'), 4), (('rest', 'useful', 'allows'), 4), (('given', 'functionality', 'analysis'), 4), (('names', 'build', 'evm'), 4), (('stake', 'supported', 'web'), 4), (('risk', 'true', 'trust'), 4), (('works', 'existing', '3'), 4), (('updated', 'hashes', 'enough'), 3), (('2', 'system', 'sign'), 3), (('100', 'times', 'instant'), 3), (('instance', 'called', 'economic'), 3), (('constant', 'become', 'consensus'), 3), (('two', 'adaptive', 'issues'), 3), (('abstract', 'duration', 'validate'), 3), (('required', 'ecosystem', 'operates'), 3), (('following', 'world', 'large'), 3), (('contributions', 'many', '5'), 3), (('key', 'business', 'three'), 3), (('20', 'still', 'holding'), 3), (('need', 'failure', '1'), 3), (('receive', 'returns', 'requirement'), 3), (('speciﬁed', 'size', 'eﬀect'), 3), (('backbone', 'selected', 'guarantee'), 3), (('selected', 'guarantee', 'terms'), 3), (('act', 'hand', 'proofs'), 3), (('48', 'challenge', '0'), 3), (('possible', 'amount', 'long'), 3), (('known', 'limited', 'step'), 3), (('limited', 'step', 'nature'), 3), (('calculate', 'via', 'create'), 3), (('following', 'world', '62'), 3), (('maintains', 'actively', 'requests'), 3), (('commitment', 'rate', 'reduces'), 3), (('attacker', 'growing', 'key'), 3), (('tool', 'kind', 'developing'), 3), (('point', 'obtain', 'source'), 3), (('obtain', 'source', 'greater'), 3), (('introduced', 'potential', 'satisfy'), 3), (('potential', 'satisfy', 'remaining'), 3), (('full', 'technology', 'approved'), 3), (('mind', 'useful', 'allows'), 3), (('take', 'receives', 'spent'), 3), (('within', 'verify', 'payment'), 3), (('verify', 'payment', 'purposes'), 3), (('protocols', 'consumption', 'form'), 3), (('scalability', 'nodes', 'property'), 3), (('complete', 'resources', 'solution'), 3), (('every', 'less', 'implementations'), 3), (('existence', 'level', 'underlying'), 3), (('switch', 'time', 'particular'), 3), (('funds', 'together', 'upon'), 3), (('16', 'properties', 'choose'), 3), (('layer', 'perform', 'networks'), 3), (('resources', 'solution', 'interface'), 3), (('return', 'follows', 'total'), 3), (('two', 'issues', 'could'), 3), (('single', 'multiple', 'increase'), 3), (('keys', 'starting', 'means'), 3), (('may', 'started', 'users'), 2), (('hashes', 'enough', 'let'), 2), (('potentially', 'classic', 'members'), 2), (('references', 'votes', 'optimal'), 2), (('propagate', 'use', 'holds'), 2), (('time', 'particular', '32'), 2), (('add', 'cryptology', 'case'), 2), (('form', 'possible', 'block'), 2), (('possible', 'block', 'majority'), 2), (('assumptions', 'oracle', 'every'), 2), (('times', 'instant', 'identiﬁes'), 2), (('properties', 'choose', 'users'), 2), (('choose', 'users', 'collectively'), 2), (('users', 'collectively', 'established'), 2), (('collectively', 'established', 'lost'), 2), (('period', 'trusted', 'divided'), 2), (('deployed', 'allow', 'major'), 2), (('strong', 'δ', 'realistic'), 2), (('sent', 'hence', 'one'), 2), (('information', 'costs', 'seed'), 2), (('concerns', 'yet', 'easy'), 2), (('building', 'architecture', 'low'), 2), (('principle', 'distinction', 'procedure'), 2), (('contribute', 'achieved', 'peertopeer'), 2), (('pos', 'protocols', 'form'), 2), (('storage', 'cost', 'reserve'), 2), (('360', '4', 'fail'), 2), (('light', 'proofofwork', '120'), 2), (('destroy', 'happens', 'place'), 2), (('platforms', 'enable', 'cash'), 2), (('200', 'amount', 'long'), 2), (('lock', 'every', 'implementations'), 2), (('every', 'implementations', 'less'), 2), (('implementations', 'less', 'proposals'), 2), (('less', 'proposals', '13'), 2), (('ensure', 'releases', 'work'), 2), (('computation', 'unknown', 'load'), 2), (('increased', 'paying', 'section'), 2), (('sometimes', 'requirements', 'eg'), 2), (('platform', 'words', 'transfer'), 2), (('pow', 'exists', 'bitcoin'), 2), (('exists', 'bitcoin', 'propose'), 2), (('loss', 'via', 'create'), 2), (('implemented', 'node', 'truly'), 2), (('theoretical', 'anyone', 'frontier'), 2), (('anyone', 'frontier', 'time'), 2), (('ecosystem', 'operates', 'mainnet'), 2), (('veriﬁcation', 'usage', 'public'), 2), (('41', '14', 'partitions'), 2), (('numbers', 'introduced', 'potential'), 2), (('important', 'following', 'world'), 2), (('features', 'also', 'evolution'), 2), (('assumptions', 'oracle', '70'), 2), (('reward', 'end', 'interactions'), 2), (('require', 'instead', 'comes'), 2), (('comes', 'agreement', 'would'), 2), (('enter', 'centralized', 'participate'), 2), (('surprisingly', 'ledger', 'bootstrapping'), 2), (('ledger', 'bootstrapping', 'spanning'), 2), (('import', 'asset', 'single'), 2), (('increase', '30', 'premium'), 2), (('valid', 'operation', 'dependent'), 2), (('operation', 'dependent', 'tps'), 2), (('dependent', 'tps', 'blockchains'), 2), (('validates', 'services', 'miners'), 2), (('daniel', 'full', 'technology'), 2), (('full', 'technology', 'equally'), 2), (('validation', 'common', 'rapidly'), 2), (('dedicated', 'industry', 'commitment'), 2), (('need', 'virtual', 'con'), 2), (('systems', '2018', 'exchange'), 2), (('block', 'majority', 'paper'), 2), (('paper', 'environment', 'model'), 2), (('environment', 'model', 'running'), 2), (('products', 'involved', 'focus'), 2), (('many', 'live', 'huobi'), 2), (('live', 'huobi', '5'), 2), (('quickly', 'far', 'problem'), 2), (('well', 'highest', 'liu'), 2), (('19', '11', '20000000'), 2)]\n"
     ]
    }
   ],
   "source": [
    "#3-gram counter\n",
    "agg_words_3gram = []\n",
    "for coin in word_bank:\n",
    "    agg_words_3gram.extend(ngrams(word_bank[coin], 3))\n",
    "\n",
    "three_gram_counter = Counter(agg_words_3gram)\n",
    "print(three_gram_counter.most_common(150))\n",
    "# print([x[0] for x in three_gram_counter.most_common(300)])"
   ]
  },
  {
   "cell_type": "code",
   "execution_count": 40,
   "id": "60b3d30c-decd-41ea-a1d7-791c413e6ef9",
   "metadata": {},
   "outputs": [
    {
     "name": "stdout",
     "output_type": "stream",
     "text": [
      "[('via', 'create', 'implemented', 'node'), ('contributions', 'many', '5', 'store'), ('introduced', 'potential', 'satisfy', 'remaining'), ('within', 'verify', 'payment', 'purposes'), ('difficult', 'without', 'storage', 'cost'), ('updated', 'hashes', 'enough', 'let'), ('properties', 'choose', 'users', 'collectively'), ('choose', 'users', 'collectively', 'established'), ('without', 'storage', 'cost', 'reserve'), ('lock', 'every', 'implementations', 'less'), ('every', 'implementations', 'less', 'proposals'), ('implementations', 'less', 'proposals', '13'), ('pow', 'exists', 'bitcoin', 'propose'), ('loss', 'via', 'create', 'implemented'), ('theoretical', 'anyone', 'frontier', 'time'), ('required', 'ecosystem', 'operates', 'mainnet'), ('important', 'following', 'world', 'large'), ('valid', 'operation', 'dependent', 'tps'), ('operation', 'dependent', 'tps', 'blockchains'), ('daniel', 'full', 'technology', 'equally'), ('paper', 'environment', 'model', 'running'), ('many', 'live', 'huobi', '5'), ('server', '24', 'similar', 'proves'), ('24', 'similar', 'proves', 'number'), ('small', 'timestamp', 'point', 'use'), ('really', 'new', 'decided', 'conclusion'), ('new', 'decided', 'conclusion', 'way'), ('attackers', 'almost', 'information', 'costs'), ('check', 'using', 'becomes', 'sk'), ('receive', 'returns', 'requirement', 'version'), ('anonymous', 'motivated', 'containing', 'registration'), ('accordingly', 'stable', 'collect', 'constant'), ('essentially', 'tx', 'backbone', 'selected'), ('tx', 'backbone', 'selected', 'guarantee'), ('backbone', 'selected', 'guarantee', 'terms'), ('act', 'hand', 'proofs', 'com'), ('possible', 'amount', 'long', 'ties'), ('known', 'limited', 'step', 'nature'), ('computed', 'tragedy', 'due', 'initial'), ('slower', 'portions', 'perhaps', 'completeness'), ('maintains', 'actively', 'requests', 'computational'), ('often', 'iﬁcations', 'case', 'volume'), ('paper', 'environment', 'elected', 'model'), ('beneﬁts', '23', 'observe', 'fc'), ('provides', '91', 'chains', 'proposal'), ('power', 'tool', 'kind', 'developing'), ('build', 'evm', '2022', 'per'), ('200', 'long', 'offering', 'unlimited'), ('limited', 'step', 'nature', 'paypal'), ('point', 'obtain', 'source', 'greater'), ('funded', 'introduced', 'potential', 'satisfy'), ('coins', 'risk', 'true', 'trust'), ('crypto', 'designed', 'derived', 'share'), ('designed', 'derived', 'share', 'dynamic'), ('share', 'dynamic', 'supply', 'capital'), ('full', 'technology', 'approved', 'want'), ('offered', 'transition', 'based', 'blocks'), ('tool', 'kind', 'developing', 'ends'), ('ends', 'runs', 'compiled', 'gain'), ('advances', 'receive', 'returns', 'requirement'), ('works', 'existing', '3', 'merchant'), ('given', 'functionality', 'analysis', 'tree'), ('gold', 'five', 'fraud', 'decentralized'), ('parties', 'private', 'successful', 'consume'), ('amount', 'long', 'ties', 'offering'), ('weight', 'pay', 'thirds', 'discussion'), ('pay', 'thirds', 'discussion', 'sets'), ('variable', 'every', 'less', 'implementations'), ('incoming', 'effort', 'issue', 'state'), ('write', 'solves', 'boost', 'functions'), ('context', 'conclusion', 'players', 'incentivized'), ('entity', 'mechanisms', 'even', 'securely'), ('outputs', 'result', 'error', 'difference'), ('rest', 'useful', 'allows', 'benefit'), ('block', 'allocated', 'majority', 'paper'), ('development', 'approach', 'fundamental', 'limitations'), ('tokens', 'exchange', 'customers', 'access'), ('addition', 'header', 'roughly', 'value'), ('technical', 'base', 'contents', 'availability'), ('base', 'contents', 'availability', 'condition'), ('potential', 'satisfy', 'remaining', 'realtime'), ('throughput', 'achieving', 'sale', 'par'), ('soon', 'digital', 'works', 'existing'), ('digital', 'works', 'existing', '3'), ('verify', 'payment', 'purposes', 'towards'), ('payment', 'purposes', 'towards', '2'), ('purposes', 'towards', '2', 'sign'), ('towards', '2', 'sign', 'equals'), ('complete', 'resources', 'solution', 'interface'), ('much', 'characteristics', 'platforms', 'enable'), ('every', 'less', 'implementations', 'stack'), ('existence', 'level', 'underlying', 'easier'), ('usage', 'award', 'public', 'conditions'), ('following', 'world', 'large', 'integrated'), ('world', 'large', 'integrated', 'features'), ('single', 'multiple', 'increase', '30'), ('play', 'full', 'want', 'technology'), ('rate', 'interfaces', 'effect', 'primary'), ('provide', 'avoid', 'utility', 'see'), ('defined', 'stake', 'supported', 'web')]\n"
     ]
    }
   ],
   "source": [
    "#4-gram counter\n",
    "agg_words_4gram = []\n",
    "for coin in word_bank:\n",
    "    agg_words_4gram.extend(ngrams(word_bank[coin], 4))\n",
    "\n",
    "four_gram_counter = Counter(agg_words_4gram)\n",
    "# print(four_gram_counter.most_common(150))\n",
    "print([x[0] for x in four_gram_counter.most_common(100)])"
   ]
  },
  {
   "cell_type": "code",
   "execution_count": 14,
   "id": "30690eea",
   "metadata": {},
   "outputs": [
    {
     "ename": "NameError",
     "evalue": "name 'create_dataframe' is not defined",
     "output_type": "error",
     "traceback": [
      "\u001b[0;31m---------------------------------------------------------------------------\u001b[0m",
      "\u001b[0;31mNameError\u001b[0m                                 Traceback (most recent call last)",
      "\u001b[0;32m/var/folders/ts/6lxh372n7rs5kcv34rc6hnfw0000gn/T/ipykernel_68468/1418592093.py\u001b[0m in \u001b[0;36m<module>\u001b[0;34m\u001b[0m\n\u001b[0;32m----> 1\u001b[0;31m \u001b[0mdf_whitepapers\u001b[0m \u001b[0;34m=\u001b[0m \u001b[0mcreate_dataframe\u001b[0m\u001b[0;34m(\u001b[0m\u001b[0;34m)\u001b[0m\u001b[0;34m\u001b[0m\u001b[0;34m\u001b[0m\u001b[0m\n\u001b[0m\u001b[1;32m      2\u001b[0m \u001b[0mdf_whitepapers\u001b[0m\u001b[0;34m.\u001b[0m\u001b[0mcolumns\u001b[0m \u001b[0;34m=\u001b[0m \u001b[0mfilenames\u001b[0m\u001b[0;34m\u001b[0m\u001b[0;34m\u001b[0m\u001b[0m\n\u001b[1;32m      3\u001b[0m \u001b[0mdf_whitepapers\u001b[0m\u001b[0;34m\u001b[0m\u001b[0;34m\u001b[0m\u001b[0m\n",
      "\u001b[0;31mNameError\u001b[0m: name 'create_dataframe' is not defined"
     ]
    }
   ],
   "source": [
    "df_whitepapers = create_dataframe()\n",
    "df_whitepapers.columns = filenames\n",
    "df_whitepapers"
   ]
  }
 ],
 "metadata": {
  "kernelspec": {
   "display_name": "Python 3 (ipykernel)",
   "language": "python",
   "name": "python3"
  },
  "language_info": {
   "codemirror_mode": {
    "name": "ipython",
    "version": 3
   },
   "file_extension": ".py",
   "mimetype": "text/x-python",
   "name": "python",
   "nbconvert_exporter": "python",
   "pygments_lexer": "ipython3",
   "version": "3.9.7"
  }
 },
 "nbformat": 4,
 "nbformat_minor": 5
}
