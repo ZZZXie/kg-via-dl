{
 "cells": [
  {
   "cell_type": "markdown",
   "id": "fdd8d5a2",
   "metadata": {},
   "source": [
    "### Import library"
   ]
  },
  {
   "cell_type": "code",
   "execution_count": 1,
   "id": "73538a91",
   "metadata": {},
   "outputs": [],
   "source": [
    "import warnings\n",
    "warnings.filterwarnings(\"ignore\")\n",
    "import pandas as pd\n",
    "import numpy as np\n",
    "import collections\n",
    "import re\n",
    "import os\n",
    "import string\n",
    "pd.set_option('display.max_colwidth', 200)\n",
    "from sklearn.feature_extraction.text import CountVectorizer"
   ]
  },
  {
   "cell_type": "code",
   "execution_count": 2,
   "id": "406767f5",
   "metadata": {},
   "outputs": [],
   "source": [
    "#!pip install BeautifulSoup4\n",
    "# import nltk\n",
    "# nltk.download()  # Download text data sets, including stop words"
   ]
  },
  {
   "cell_type": "code",
   "execution_count": 3,
   "id": "016f00ed",
   "metadata": {},
   "outputs": [],
   "source": [
    "# Import BeautifulSoup into your workspace\n",
    "from bs4 import BeautifulSoup         "
   ]
  },
  {
   "cell_type": "code",
   "execution_count": 4,
   "id": "1e3181b9",
   "metadata": {},
   "outputs": [],
   "source": [
    "from nltk.corpus import stopwords # Import the stop word list\n",
    "from collections import Counter\n",
    "from nltk.util import ngrams\n",
    "from nltk import word_tokenize"
   ]
  },
  {
   "cell_type": "markdown",
   "id": "34f88992",
   "metadata": {
    "tags": []
   },
   "source": [
    "### Whitepaper datasource"
   ]
  },
  {
   "cell_type": "code",
   "execution_count": 5,
   "id": "6c185377-0b77-4feb-9f78-8cb770062e6e",
   "metadata": {},
   "outputs": [],
   "source": [
    "stopwords_set = set(stopwords.words('english'))"
   ]
  },
  {
   "cell_type": "code",
   "execution_count": 6,
   "id": "e12a9f03-2ef8-4acf-800e-198377ecba5f",
   "metadata": {},
   "outputs": [],
   "source": [
    "def extract_and_clean(line, stopwords):\n",
    "    # words = [x.strip() for x in re.split(',| |\\. |\\: ', line) if x]\n",
    "    # words = map(str.lower, words)\n",
    "    # words = [x.replace('-', '') for x in words]\n",
    "    words = word_tokenize(re.sub(r'[^\\w\\s]', '', line.lower()))\n",
    "    # words = [x.replace('-', '') for x in words]\n",
    "    words = [word for word in words if not word in stopwords]\n",
    "    return words"
   ]
  },
  {
   "cell_type": "code",
   "execution_count": 7,
   "id": "4c198f81",
   "metadata": {},
   "outputs": [],
   "source": [
    "def read_whitepapers(filename, stopwords):\n",
    "    directory = \"../whitepapers/top20_whitepapers/\"\n",
    "    words_list = []\n",
    "    for entry in os.scandir(directory):\n",
    "        if (entry.path.endswith(filename) and entry.is_file()):\n",
    "            with open(entry.path, \"r\") as f:\n",
    "                for line in f:\n",
    "                    # words_list.extend(line.split())\n",
    "                    # words_list.extend([x.strip() for x in line.split()])\n",
    "                    words_list.extend(extract_and_clean(line, stopwords))\n",
    "    return words_list"
   ]
  },
  {
   "cell_type": "code",
   "execution_count": 8,
   "id": "52911c9f",
   "metadata": {},
   "outputs": [
    {
     "data": {
      "text/plain": [
       "['bitcoin',\n",
       " 'peertopeer',\n",
       " 'electronic',\n",
       " 'cash',\n",
       " 'system',\n",
       " 'satoshi',\n",
       " 'nakamoto',\n",
       " 'satoshingmxcom',\n",
       " 'wwwbitcoinorg',\n",
       " 'abstract',\n",
       " 'purely',\n",
       " 'peertopeer',\n",
       " 'version',\n",
       " 'electronic',\n",
       " 'cash',\n",
       " 'would',\n",
       " 'allow',\n",
       " 'online',\n",
       " 'payments',\n",
       " 'sent',\n",
       " 'directly',\n",
       " 'one',\n",
       " 'party',\n",
       " 'another',\n",
       " 'without']"
      ]
     },
     "execution_count": 8,
     "metadata": {},
     "output_type": "execute_result"
    }
   ],
   "source": [
    "bitcoin_filename=\"Bitcoin.txt\"\n",
    "whitepapers = read_whitepapers(bitcoin_filename, stopwords_set)\n",
    "# whitepapers.rename(columns={bitcoin_filename: \"whitepapers\"}, inplace=True)\n",
    "whitepapers[:25]"
   ]
  },
  {
   "cell_type": "code",
   "execution_count": 9,
   "id": "8584fca6",
   "metadata": {},
   "outputs": [],
   "source": [
    "filenames = ['Algorand.txt', 'Avalanche.txt', 'Binance.txt', 'Bitcoin.txt', 'Cardano.txt', 'Chainlink.txt',\n",
    "            'Crypto_com.txt', 'Ethereum.txt', 'FTX_token.txt', 'PolkaDot.txt', 'Polygon.txt', 'Ripple.txt', \n",
    "            'Solana.txt', 'Terra.txt', 'Tether.txt', 'Tron.txt', 'Uniswap.txt', 'Wrapped.txt']"
   ]
  },
  {
   "cell_type": "code",
   "execution_count": 10,
   "id": "ffbb718a",
   "metadata": {},
   "outputs": [],
   "source": [
    "def creat_word_bank():\n",
    "    word_bank = {}\n",
    "    for i in filenames:\n",
    "        #deduplicate in each paper\n",
    "        word_bank[i] = list(set(read_whitepapers(i, stopwords_set)))\n",
    "    return word_bank"
   ]
  },
  {
   "cell_type": "code",
   "execution_count": 11,
   "id": "2b9df150-7ac5-4373-92d1-cdf7d37705b6",
   "metadata": {},
   "outputs": [],
   "source": [
    "word_bank = creat_word_bank()"
   ]
  },
  {
   "cell_type": "code",
   "execution_count": 12,
   "id": "17e39b53-df97-4a75-b4fa-1474dc4bc23d",
   "metadata": {},
   "outputs": [
    {
     "name": "stdout",
     "output_type": "stream",
     "text": [
      "['7', 'many', '3', '6', '4', 'number', 'amount', 'user', 'since', '1', 'also', 'two', 'one', '2', 'given', 'use', 'new', 'used', 'users', '5', 'using', 'network', 'transactions', 'may', 'public', 'paper', 'make', 'well', 'key', '8', 'time', 'every', 'within', 'system', 'value', 'able', '10', 'even', 'access', 'simple', 'possible', 'order', 'based', 'need', '9', 'receive', 'like', 'current', '11', 'provide', 'required', 'following', 'full', 'case', 'private', 'second', 'first', 'without', 'potential', 'would', 'function', 'set', '25', 'future', 'protocol', 'particular', 'transaction', 'fees', 'work', 'fee', 'must', 'data', 'high', '15', 'could', 'funds', 'problem', '12', 'existing', 'per', 'example', 'less', 'size', 'process', 'large', 'multiple', 'way', 'still', 'small', 'control', 'digital', 'block', 'abstract', 'another', 'much', 'means', 'together', 'see', 'already', 'however', 'blockchain', 'fast', 'long', 'keep', '13', 'ensure', 'single', 'point', 'security', 'consensus', 'low', 'create', 'get', 'space', 'information', 'systems', 'history', 'created', 'back', 'become', 'provides', 'directly', 'including', 'entire', 'prevent', 'additional', 'costs', 'currently', '14', 'bitcoin', 'currency', 'several', 'initial', 'making', 'total', 'expected', 'previous', 'types', 'next', 'cryptocurrency', 'blocks', 'changes', 'period', 'allows', 'references', 'three', 'c', 'end', 'require', 'introduction', 'change', 'secure', 'start', 'note', 'fully', 'loss', 'increase', 'tokens', 'account', 'source', 'run', 'distributed', 'cost', 'part', 'design', 'common', 'includes', 'implementation', 'mechanism', 'similar', 'times', 'token', 'instead', 'due', 'support', 'operations', 'available', 'requires', 'risk', 'exchange', 'assets', 'open', 'section', 'platform', 'addition', 'record', 'include', 'form', 'hash', 'receives', 'conditions', 'thus', 'propose', 'sent', 'complete', 'protocols', 'stake', '23', 'move', 'proposed', 'b', 'signature', 'cases', 'among', 'us', 'working', 'enough', '31', 'add', 'via', '20', 'certain', 'easy', 'limited', 'store', 'standard', 'creation', 'running', 'node', 'important', 'price', 'ethereum', 'state', 'allow', 'ability', 'applications', 'smart', 'called', 'anyone', '30', 'results', 'group', 'growth', 'share', 'global', 'lower', 'management', 'issue', 'world', 'eg', 'designed', 'contracts', 'uses', 'avoid', 'market', 'services', 'maximum', 'nodes', 'supply', 'model', 'pool', 'ways', 'provided', 'trust', 'event', 'solution', 'included', 'needs', 'take', 'creating', 'stored', 'proof', 'primary', 'send', 'follows', 'values', 'keys', 'described', 'received', 'track', 'n', 'becomes', 'necessary', 'functions', 'exists', 'generated', 'malicious', 'accepted', 'input', 'hold', 'rely', 'traditional', 'chosen', 'cryptographic', '32', '0', 'attacks', 'version', 'quickly', 'execution', 'lead', 'arbitrary', 'ie', 'blockchains', 'members', 'known', 'attack', 'supports', 'strong', 'transfer', 'terms', 'best', 'contract', 'asset', 'maintain', 'pay', 'longer', 'trusted', 'success', 'made', 'decentralized', 'allowing', 'build', 'various', 'interest', 'third', 'requirements', 'role', 'features', 'rules', 'building', 'algorithms', 'interface', 'might', 'operation', 'choose', 'core', 'rate', 'miners', 'code', 'main', 'recent', 'ecosystem', 'others', 'storage', 'development', 'chain', 'issues', 'useful', 'reducing', 'around', 'done', 'party', 'go', 'know', 'purposes', 'etc', 'added', 'want', 'either', 'zero', 'check', 'accept', 'generate', 'request', 'payment', 'target', 'accounts', 'makes', 'address', 'result', 'analysis', 'voting', 'valid', 'otherwise', 'least', 'turn', 'sending', 'individual', 'takes', 'reach', 'better', 'exist', 'sign', 'vote', 'messages', '17', 'cryptocurrencies', 'starting', 'majority', 'agree', 'participants', 'generally', 'signatures', 'probability', 'reached', 'ledger', 'constant', 'safe', 'combined', 'seen', 'separate', 'upon', 'speed', 'property', 'dynamic', 'class', 'past', 'achieve', 'implemented', 'robust', 'balance', 'finally', 'currencies', 'represent', 'last', 'maintaining', 'perform', 'major', 'exchanges', 'solutions', 'conclusion', 'goal', 'technology', 'people', 'type', 'distribution', 'simply', 'failure', 'resources', 'prove', 'rewards', 'holders', 'incentives', 'correct', 'architecture', 'list', 'active', 'comes', 'cause', 'true', 'member', 'strategy', 'events', 'enables', '50', 'reserve', 'clients', 'payments', 'established', 'increased', 'increasing', 'software', 'fact', 'call', 'double', 'never', 'different', 'initially', 'put', 'level', 'coin', 'purchase', 'general', 'community', 'developed', 'previously', 'money', 'liquidity', 'service', 'handle', 'help', 'limit', 'spent', 'white', 'built', 'later', 'top', 'trading', 'technical', 'increases', 'rather', 'publishing', 'incentive', 'structure', 'transfers', 'free', 'easily', '24', 'parties', 'requirement', '21', 'equal', 'wallet', 'utility', 'moving', 'holds', 'honest', 'output', '2018', 'complexity', 'say', 'votes', 'message', 'unique', 'ﬁrst', 'depending', 'byzantine', 'faster', 'agreement', 'beginning', 'sets', 'happens', 'follow', 'adding', 'outputs', '33', 'random', 'properties', 'updated', '42', 'yet', 'ones', 'short', '41', 'networks', 'step', 'mining', 'discussed', 'base', 'f', 'independent', 'focus', 'client', 'higher', 'basis', 'join', 'instance', 'centralized', 'pos', 'owner', 'execute', 'introduced', 'contain', 'contents', 'larger', 'machine', 'enable', 'crypto', 'trade', 'addresses', 'functionality', 'reduces', 'place', 'validators', '2019', 'entirely', 'direct', 'underlying', 'grow', '51', 'face', 'real', 'update', 'typically', 'term', 'developers', 'ownership', 'unit', 'eventually', 'latest', 'coins', 'taken', 'components', 'bank', 'years', 'successful', 'holding', 'spot', 'days', 'basic', 'problems', 'whitepaper', 'usd', 'roughly', 'day', 'status', '19', 'though', 'associated', 'believe', 'financial', 'ever', 'detailed', 'largest', 'improve', 'gas', 'server', 'year', 'supported', 'possibility', 'issued', 'obtain', 'needed', 'consider', 'methods', 'found', 'gives', 'method', 'power', 'verify', 'framework', 'facilitate', 'identity', 'written', 'apply', 'contains', 'additionally', 'challenges', 'bitcoins', 'opportunity', '22', 'actually', 'application', 'legal', 'along', 'program', 'held', 'whose', 'right', 'reduced', 'dollars', 'external', 'ratio', 'compared', 'tools', 'april', 'let', 'implement', 'special', 'achieves', 'original', 'guaranteed', 'selection', 'try', 'independently', 'works', 'periods', 'randomly', 'inputs', 'steps', 'publicly', 'started', 'hashes', 'diﬀerent', 'selected', 'communication', 'almost', 'potentially', 'applies', 'interval', '34', 'description', 'scaling', 'ﬁxed', 'round', '35', 'validate', 'swap', 'wants', 'merchants', 'economic', '100', 'overall', 'participate', 'getting', 'smaller', 'reward', 'virtual', 'paid', 'dapps', 'release', 'becoming', '52', 'guarantee', 'phase', 'therefore', 'usage', 'expect', 'scalability', 'wide', 'operating', 'beyond', 'language', 'lack', 'claim', 'onchain', 'mechanisms', 'details', 'industry', 'subject', 'reduce', 'scale', 'highly', 'governance', 'chance', 'instant', 'choice', 'old', 'although', 'enabling', 'platforms', 'millions', 'validator', 'manner', 'evm', 'hand', 'computational', 'furthermore', 'minimal', 'native', 'achieved', 'implementations', 'advantages', 'involve', 'business', 'validation', 'stable', 'whether', 'act', 'repeated', 'doesnt', 'miner', 'transition', 'completely', 'modify', 'attacker', 'processing', 'api', 'understand', 'positive', 'play', '2015', 'generates', 'prior', 'infrastructure', 'shares', 'across', 'side', 'rest', 'taking', 'remaining', 'businesses', 'involved', 'product', 'resulting', 'eth', 'approach', 'outside', 'withdrawal', 'binary', 'law', 'capital', 'annual', 'come', 'involves', 'central', 'passed', 'root', 'merkle', 'return', 'representation', 'earlier', 'invalid', 'split', 'keeping', 'names', 'always', 'sum', 'owners', 'tree', 'continue', 'privacy', 'mentioned', '16', 'equivalent', 'seconds', 'algorithm', 'local', 'unless', 'layer', 'executed', 'applying', 'gain', 'produce', 'logic', 'providing', 'reason', 'range', 'whole', 'recover', 'regular', 'buy', 'shows', 'represents', 'fork', 'considered', 'compute', 'slow', 'earn', '18', 'growing', 'setup', 'immediately', 'publish', 'deposits', 'deposit', 'derived', 'greater', 'markets', 'essentially', 'combining', 'minutes', 'r', 'x', 'orders', 'proposal', 'communicate', 'relative', 'controls', 'v', 'especially', 'oracle', 'election', 'leader', 'introduce', 'actual', 'players', 'corresponding', 'highest', 'select', '43', 'recovery', 'starts', 'refer', 'parallel', 'eﬃcient', 'delivered', 'necessarily', 'present', 'extra', 'deﬁned', 'assumptions', 'secret', 'similarly', 'describes', 'p', 'identities', 'condition', 'bound', 'desirable', 'practice', 'wish', 'throughput', 'retaining', 'assume', 'adoption', 'enter', 'pow', 'little', 'holder', 'computation', 'paying', 'feature', 'fundamental', 'securing', 'owned', 'released', 'hardware', 'con', 'variety', 'minimum', 'discussion', 'spend', 'runs', 'actors', 'sold', '300', '45', 'cryptography', 'reasons', 'validating', 'changing', 'updates', 'stack', 'leading', 'cap', 'signiﬁcantly', 'default', 'critical', 'table', 'purely', 'trustless', 'contribute', 'environment', 'engine', 'serves', 'participating', 'commitment', 'deployment', 'atomic', 'ideas', 'programming', '55', 'vision', 'assumption', 'view', 'combine', 'ensuring', 'classes', 'subset', 'scalable', 'meaning', 'incoming', 'electronic', 'risks', 'capabilities', 'collectively', 'rewarded', 'participant', 'assuming', 'storing', 'sharing', 'behind', 'options', 'kind', 'hard', 'natural', 'allocation', 'performance', 'peertopeer', 'substantial', 'launch', 'mainnet', 'hence', 'participation', 'date', 'deployed', 'threshold', 'fraud', 'managing', 'computer', 'near', 'customer', 'international', 'answer', 'traders', 'securely', 'good', 'web', 'channel', 'looking', 'opportunities', 'remain', 'match', 'often', 'protect', 'credit', 'live', 'company', 'project', 'managed', 'latter', 'btc', 'far', 'responsible', 'expensive', 'sender', 'controlled', 'signing', 'represented', 'verification', 'course', 'determined', 'amounts', 'computationally', 'customers', 'online', 'selling', 'wait', 'containing', 'maintained', 'scenario', 'percentage', 'forward', 'switch', 'chains', 'average', 'solving', 'shown', 'adopted', 'missing', 'recorded', 'clear', 'sends', 'opposed', 'calling', 'likely', 'give', 'develop', 'interact', 'proven', 'read', 'measured', 'alternative', 'worth', 'internal', 'entity', 'supporting', 'particularly', 'respect', 'applied', 'settlement', 'quantity', 'towards', 'returns', 'pass', 'availability', 'remove', 'reference', 'ensures', 'signed', 'andor', 'channels', 'attempt', 'erc20', 'integrated', 'prices', 'easier', 'estimate', 'look', 'volatility', 'creates', 'gets', 'programs', 'collateral', 'approved', 'wallets', 'submit', 'goes', 'secondary', 'length', 'delay', 'setting', 'points', 'settings', 'apart', 'produced', 'report', 'grows', 'string', 'discuss', 'helps', 'pair', 'committee', 'guarantees', 'else', 'rule', 'tion', 'occurs', 'inherently', 'swaps', 'dedicated', 'contributions', 'proofofstake', 'generation', 'nakamoto', 'traded', 'post', '200', 'onto', 'expressed', '40', 'continuous', 'connect', 'practical', 'implementing', 'lock', 'light', 'membership', 'line', 'developer', 'figure', 'individually', 'care', '65', 'proposals', 'signiﬁcant', 'wealth', '2014', 'projects', 'sybil', 'consideration', 'decentralization', 'game', 'proofofwork', 'genesis', 'enforce', '80', 'response', 'substantially', 'parameters', 'enforced', 'unlimited', 'complex', 'oﬀers', '75', 'consumed', 'transitions', 'limits', 'tions', 'deep', 'ongoing', 'load', 'operates', 'implements', 'dependent', 'unlike', 'operate', 'strategies', 'thousands', 'quite', 'diﬀerence', 'powers', 'par', 'apis', 'minimize', 'cash', 'equally', 'statements', 'advances', 'completion', 'novel', 'numbers', 'think', 'eﬀectively', 'policy', 'fail', 'performed', 'competitive', 'k', 'balances', 'introducing', 'introduces', 'monetary', 'objective', 'prevents', 'predict', 'launched', 'releases', 'fewer', 'suitable', 'recently', 'planning', 'experience', 'review', 'authentication', 'pairs', 'mind', 'popular', 'leadership', 'burn', 'partners', 'languages', 'significant', 'longterm', 'developing', 'july', 'revenue', 'relationship', 'billion', 'listed', 'successfully', 'pending', 'withdrawals', 'constantly', 'withdraw', 'bits', 'today', 'team', 'fiat', 'mobile', 'products', 'tech', 'fundamentally', 'fund', 'anonymous', 'volume', 'page', 'investment', 'action', 'solves', 'accepting', 'depends', 'denial', 'relying', 'institutions', 'authority', 'bytes', 'noted', 'inherent', 'transact', 'reliable', 'trades', 'returning', 'sequence', 'drop', 'trying', 'simultaneously', 'early', 'timestamp', 'gap', 'gold', 'spending', 'extract', 'broadcast', 'solve', 'aware', 'validity', 'internet', 'satisfy', 'difficult', 'summary', 'outlined', 'weight', 'regarding', 'demand', 'collection', 'refers', 'determine', 'activity', '36', '28', 'interaction', '37', 'states', 'position', 'slightly', 'issuing', 'throughout', 'march', 'rights', 'calculated', 'relevant', 'research', '64', '26', 'impossible', 'pools', 'actions', '44', '61', 'proofs', 'requiring', 'maintenance', 'degree', 'tool', 'related', 'transferred', 'measure', 'notice', 'direction', '56', 'trigger', 'correctly', '62', 'context', 'portion', 'verifying', 'preventing', 'june', 'encryption', 'shared', '27', 'identify', 'approximately', 'expand', 'window', 'existence', 'minted', 'incentivized', 'begin', '53', 'achieving', 'challenge', 'reasonable', '54', 'aims', 'deliver', 'rise', 'fashion', '63', '29', 'cover', 'advantage', 'units', 'january', '1000', 'liquid', 'series', 'ledgers', '2017', 'simpler', 'promise', 'thereby', 'drive', 'net', 'protection', 'gains', 'examples', 'intended', 'sale', 'secured', 'insurance', 'serve', 'relatively', 'false', 'providers', 'servers', 'deposited', 'processes', 'usually', 'dapp', 'meet', 'issuer', 'encode', 'builtin', 'mean', 'manage', 'deterministic', 'transparent', 'option', 'former', 'enforcement', 'mainstream', 'specific', 'confirmation', 'rates', 'criteria', 'keeps', 'deﬁne', 'agreed', 'denoted', 'resilient', 'describe', 'asynchronous', 'simplicity', 'primitives', 'propagation', 'j', 'highlighted', 'generalized', 'permissioned', 'moves', 'progress', 'delivery', 'enjoy', 'accordingly', 'soon', 'remains', 'concrete', 'desired', 'producing', 'arbitrarily', 'precisely', 'anything', 'indeed', 'adaptive', 'exposed', 'evolution', 'goals', 'deploy', '400', 'implies', 'targets', 'except', 'sharding', 'schemes', 'latency', 'discovery', 'hashing', 'bandwidth', 'referred', 'tps', 'faced', 'ultimately', 'eﬀects', 'custom', 'speciﬁc', 'compensation', '250', 'closed', 'decisions', 'suﬃciently', 'procedure', 'implied', 'topic', 'duration', 'parts', 'concerns', 'begins', 'committed', 'reported', '60', 'decided', 'allowed', 'matter', 'favor', 'natively', 'attempts', 'normal', 'hands', 'typical', '125', 'neither', 'conﬁrmation', 'bounds', '2016', 'algorithmic', 'decreasing', 'constraints', 'mostly', 'bond', 'staked', 'maintains', 'overview', 'argument', 'staking', 'designated', '2008', 'static', 'background', 'knowledge', 'decide', 'component', 'forms', 'increasingly', 'placed', 'inclusion', 'precise', 'notation', 'seed', 'connected', 'determines', 'concern', 'globally', 'veriﬁcation', 'appropriate', 'proposition', 'construction', 'oﬀ', 'limitation', 'aspects', 'accurate', 'collect', 'accessible', 'bootstrapping', 'aim', 'minor', 'proportional', 'parameter', 'oﬀchain', 'download', 'amongst', 'freely', 'factors', 'devices', 'confirmed', 'capable', 'innovations', 'mature', '500', 'detection', 'million', 'person', 'social', 'standards', 'months', 'ahead', 'automated', 'banks', 'securities', 'significantly', 'science', 'finance', 'trader', 'poor', 'efficiency', 'upgrades', 'activities', '2013', 'question', 'schedule', 'audit', 'charge', 'task', 'please', 'plans', 'handling', 'plan', 'completed', 'subsequently', 'left', 'whenever', 'followed', 'stability', 'served', 'innovative', 'flow', 'hours', 'integration', 'companies', 'chief', 'operators', 'benefits', 'continuously', 'hashed', 'show', 'pages', 'subsequent', 'cpu', 'proves', 'invested', 'header', 'broken', 'physical', 'conference', 'versions', '01', 'extended', 'theory', 'tolerant', 'communications', 'executing', 'serving', 'reverse', 'memory', 'detect', 'circulation', 'willing', 'exact', 'changed', 'calculate', 'document', 'decision', 'suppose', 'headers', 'checks', 'tx', 'coordination', 'c1', 'force', 'exception', 'restrictions', 'formal', 'assigned', '39', 'sense', 'impact', 'backbone', 'speciﬁcally', 'canonical', 'lose', 'production', 'calculation', 'idea', 'fails', 'board', 'elected', 'transmitted', 'nothing', 'somewhat', 'u', 'ing', 'inside', 'actively', 'writing', 'terminology', 'smallest', 'removed', 'error', 'four', 'stakeholders', 'vs', 'ready', 'exactly', 'ex', 'eligible', 'infeasible', 'ecdsa', 'properly', 'bring', 'performing', 'accounting', 'advance', 'interacting', 'volatile', 'ideal', 'computed', 'session', 'et', 'concept', 'interested', 'curve', 'contained', 'log', 'publishes', 'adjusting', 'detail', 'submitted', 'completeness', 'write', '67', 'testing', 'prevention', 'mechanics', 'collected', 'demonstrate', 'checking', 'al', 'convenience', 'height', 'focused', 'counter', 'concepts', 'relies', 'representing', 'improvement', 'lines', 'l', 'encrypted', 'partial', 'observed', 'elliptic', 'stakes', 'treated', 'registration', 'fair', '81', 'pro', 'issuance', 'e', 'restricted', 'carry', 'de', 'identifying', 'format', 'reject', 'viable', 'suﬃcient', 'tendermint', 'carefully', '66', 'wishes', 'newly', 'computing', 'possibly', 'perhaps', 'allocated', 'posted', 'intrinsic', 'resource', 'trivial', 'plus', 'presented', 'explained', 'pre', 'path', 'generating', 'twice', 'coinbase', 'sure', 'entry', 'statement', 'connection', 'purpose', 'nature', 'invest', 'index', 'obtained', '57', 'originally', 'highlevel', 'receiving', 'evaluate', 'embedded', 'calls', 'describing', 'censorship', 'roles', 'relating', 'buying', 'historical', 'consume', 'domain', 'bad', 'raise', 'isnt', 'sell', 'mainly', 'something', 'blog', 'ease', 'withdrawn', 'corporate', 'continues', 'compromise', 'giving', 'consumer', 'website', 'lending', 'organizations', 'database', 'regulations', 'great', 'style', '72', 'brings', 'piece', 'fault', 'groups', 'factor', 'provider', 'candidate', 'p2p', 'regulatory', 'foundation', 'advanced', 'things', 'name', 'bridge', 'rapid', 'medium', 'capacity', 'cryptographically', 'conversely', 'fairly', 'backing', 'unable', '71', 'priority', 'limitations', 'enforces', 'enabled', 'specify', 'periodic', 'thirdparty', 'worlds', 'offering', 'benefit', 'derivative', 'daily', 'burned', 'merchant', 'expansion', 'derivatives', 'extremely', 'efficient', 'funding', 'ethereums', 'permanently', 'transacting', 'unknown', 'player', 'sig', 'leaders', 'moment', 'cryptology', 'clarity', 'bounded', 'moreover', 'adversary', 'synchronous', 'deﬁnitions', 'propagated', 'deﬁnition', 'h', 'maliciously', 'scheme', 'simplify', 'partition', 'dynamically', 'democratic', 'perfectly', 'super', 'break', 'identiﬁes', 'permissionless', 'safety', 'reaches', 'extensions', 'classic', 'seeing', 'subsets', 'locked', 'reliance', 'maximal', 'max', 'querying', 'eﬀort', 'employ', 'ﬂexibility', 'truly', 'acquire', 'diﬃcult', 'doublespend', 'extensive', 'selects', 'ground', 'straightforward', 'returned', 'choices', 'peer', 'computers', 'possesses', 'words', 'big', 'equality', 'namely', '5000', 'modiﬁcation', 'capped', 'destroy', 'employed', 'choosing', '90', 'family', 'anticipate', 'encourage', 'predictable', 'hundreds', 'divided', 'energy', 'powered', 'principle', 'flexible', 'liveness', 'employs', 'attention', 'compliance', 'selecting', 'dont', 'guide', 'imposes', 'presentation', 'lost', 'obligation', 'delegation', 'ﬁnancial', 'economics', 'induced', '120', 'import', 'forks', 'week', 'extend', 'adverse', 'largely', 'realworld', 'corruption', 'consen', 'exceeds', '70', 'operator', 'scenarios', 'validated', 'needing', 'accommodate', 'environments', 'slashing', 'unfortunately', 'solidity', 'views', 'behavior', 'sus', 'rapidly', 'dynamics', 'outline', 'cheap', 'powerful', 'g', 'daniel', 'coupled', 'interfaces', 'consortium', 'duties', 'overcome', 'traffic', '2nd', 'understanding', 'margin', 'stock', 'app', 'modeling', '02', 'tasks', 'marketing', '91', 'sources', 'kept', 'draft', 'paradigm', 'rollout', 'entities', 'yes', 'comprehensive', 'someone', 'simplest', '3rd', 'economy', 'encrypting', 'head', 'binance', 'consumes', 'annually', 'professional', 'sufficient', 'procedures', 'content', 'laundering', 'tested', 'device', 'advisors', 'announced', 'strategic', '2005', 'investors', 'futures', 'strongly', 'deal', 'pushes', 'situation', 'copy', 'backs', 'determining', 'going', 'earliest', 'exponential', 'ii', 'broader', 'plays', 'sequences', 'predetermined', 'difference', 'slower', 'inconsistency', 'confirm', 'really', 'improving', 'accomplish', 'nonce', 'banking', 'frequent', 'find', 'satoshi', 'late', 'verified', 'ieee', 'everyone', 'limiting', 'w', 'vulnerable', 'compensate', 'mint', 'non', 'symposium', 'recipient', 'sha256', 'counterparty', 'dai', 'longest', 'revealed', 'funded', 'institution', 'z', 'leave', 'acm', 'branch', 'usual', 'express', 'posts', 'george', 'implicitly', '05', 'unlikely', 'notion', '58', 'strength', 'respond', 'letting', 'requests', 'depth', 'cryp', 'eﬀective', 'commit', 'buterin', 'basically', 'incorporated', 'behalf', 'executes']\n"
     ]
    }
   ],
   "source": [
    "# Single words\n",
    "agg_words = []\n",
    "for coin in word_bank:\n",
    "    agg_words.extend(word_bank[coin])\n",
    "\n",
    "single_counter = Counter(agg_words)\n",
    "# print(single_counter.most_common(700))\n",
    "print([x[0] for x in single_counter.most_common(2000)])"
   ]
  },
  {
   "cell_type": "code",
   "execution_count": 13,
   "id": "b6ac97f2-998c-4e3c-bd5e-f4026e56a2f2",
   "metadata": {},
   "outputs": [
    {
     "name": "stdout",
     "output_type": "stream",
     "text": [
      "[('2', 'together'), ('used', 'introduction'), ('prevent', 'per'), ('several', 'based'), ('transactions', 'small'), ('pool', 'ability'), ('best', 'limited'), ('role', 'given'), ('per', 'support'), ('protocols', 'code'), ('14', 'supply'), ('know', 'problem'), ('users', 'etc'), ('necessary', 'randomly'), ('work', 'economic'), ('run', 'set'), ('like', 'build'), ('applications', 'create'), ('machine', 'user'), ('current', '15'), ('network', 'times'), ('associated', '1'), ('oracle', 'also'), ('easy', 'received'), ('period', 'work'), ('price', 'every'), ('management', 'holders'), ('holders', 'incentives'), ('entire', 'established'), ('software', 'move'), ('store', 'first'), ('become', '17'), ('17', 'two'), ('must', 'already'), ('version', 'mechanism'), ('7', 'reducing'), ('loss', 'around'), ('requirement', 'messages'), ('development', 'setup'), ('vote', 'paper'), ('selected', 'functions'), ('already', 'new'), ('f', 'attack'), ('growth', 'separate'), ('lower', 'rules'), ('blockchains', '50'), ('3', '12'), ('market', 'options'), ('additional', 'miners'), ('others', 'currently'), ('section', 'platform'), ('ways', 'get'), ('better', 'maintaining'), ('also', 'channel'), ('course', 'transaction'), ('obtain', 'solution'), ('pos', 'working'), ('guarantee', 'parties'), ('without', 'ways'), ('ensure', 'tree'), ('way', 'active'), ('useful', 'right'), ('paying', 'within'), ('following', '3'), ('exists', 'complete'), ('players', 'need'), ('attacks', 'safe'), ('terms', 'certain'), ('transaction', 'number'), ('running', 'instance'), ('however', 'asset'), ('upon', 'pos'), ('cost', 'lock'), ('therefore', 'contents'), ('blockchain', 'information'), ('13', 'type'), ('back', 'form'), ('form', 'validators'), ('rewards', 'default'), ('enabling', 'may'), ('using', 'holds'), ('storing', 'existing'), ('uses', 'avoid'), ('act', 'services'), ('available', 'main'), ('constant', 'risk'), ('among', 'model'), ('confirmed', 'following'), ('purchase', '4'), ('4', 'verification'), ('authority', 'number'), ('01', 'provide'), ('easily', 'take'), ('chains', 'similar'), ('standard', 'requirement'), ('step', 'currencies'), ('rather', 'total'), ('part', 'transfers'), ('framework', 'reduce'), ('individual', 'direct'), ('means', 'successfully'), ('regular', 'receive'), ('including', 'future'), ('fashion', 'online'), ('modify', 'users'), ('needs', 'might'), ('instead', 'pass'), ('three', 'rely'), ('future', 'including'), ('follows', 'via'), ('deposited', 'amount'), ('dollars', 'payment'), ('check', 'specific'), ('includes', 'way'), ('privacy', 'section'), ('previously', 'expected'), ('tokens', 'publish'), ('limit', 'three'), ('request', 'however'), ('values', 'making'), ('control', '2018'), ('turn', 'sending'), ('becomes', 'j'), ('references', 'participants'), ('signature', '13'), ('cases', 'set'), ('31', '25'), ('25', 'adaptive'), ('amount', 'focus'), ('leader', 'byzantine'), ('allows', 'actual'), ('actual', 'fee'), ('need', 'almost'), ('important', 'implemented'), ('set', 'implementing'), ('distributed', 'trusted'), ('contain', 'fundamental'), ('hardware', 'larger'), ('scalability', 'wide'), ('solutions', 'claim'), ('conclusion', 'agreement'), ('decentralization', 'space'), ('15', '32'), ('updates', 'time'), ('5', 'secure'), ('cap', 'instant'), ('control', 'load'), ('underlying', 'trustless'), ('includes', 'component'), ('funds', 'problem'), ('changes', 'par'), ('true', 'hand'), ('native', 'connected'), ('future', 'risks'), ('able', 'participant'), ('typically', 'private'), ('clients', 'market'), ('less', 'doesnt'), ('stake', 'increased'), ('size', 'allocation'), ('participation', 'large'), ('double', 'chain'), ('open', 'never'), ('never', '25'), ('ﬁxed', 'issues'), ('successful', 'still'), ('multiple', 'securing'), ('value', 'base'), ('number', 'traders'), ('shares', 'operating'), ('go', 'looking'), ('problem', 'interest'), ('together', 'pending'), ('often', 'generally'), ('created', 'managed'), ('point', 'multiple'), ('like', 'case'), ('incentive', 'noted'), ('provide', 'generate'), ('returning', 'order'), ('trusted', 'distributed'), ('received', 'developed'), ('adopted', 'retaining'), ('retaining', 'previously'), ('targets', 'n'), ('independently', 'store'), ('overall', 'easily'), ('account', 'creation'), ('outputs', '36'), ('new', '28'), ('sum', 'interaction'), ('recorded', 'clear'), ('sends', 'finally'), ('opposed', 'ethereum'), ('state', 'fully'), ('system', 'error'), ('introduced', 'four'), ('represent', 'issuers'), ('spend', 'unless'), ('beyond', 'give'), ('45', 'purposes'), ('corresponding', 'proven'), ('end', 'impossible'), ('produces', 'framework'), ('reduce', 'gain'), ('requiring', 'alternative'), ('2019', 'primary'), ('concepts', 'providing'), ('providing', 'context'), ('range', 'changes'), ('subset', 'rule'), ('46', 'valid'), ('valid', 'produced'), ('reserve', 'complexity'), ('considered', 'storing'), ('compute', 'avoid'), ('whether', 'message'), ('early', 'eventually'), ('would', '24'), ('liquid', 'signed'), ('censorship', 'protocol'), ('integrated', 'need'), ('event', 'takes'), ('unique', 'provide'), ('monthly', 'selected'), ('us', 'describes'), ('74', 'next'), ('trade', 'currency'), ('currency', 'spend'), ('facilitate', 'governance'), ('amounts', 'incentive'), ('actually', 'instead'), ('chosen', 'split'), ('create', 'ex'), ('list', 'collateral'), ('help', 'often'), ('many', 'google'), ('limited', 'rapid'), ('issue', 'deterministic'), ('businesses', 'provided'), ('publishing', 'days'), ('19', 'accept'), ('gas', 'project'), ('37', 'change'), ('data', 'run'), ('done', 'issuing'), ('create', 'party'), ('named', 'perform'), ('unless', 'major'), ('remaining', 'requirements'), ('stored', 'gets'), ('current', '32'), ('32', '15'), ('governance', '11'), ('confirmation', 'paper'), ('status', 'validation'), ('costs', 'developers'), ('result', 'ownership'), ('nodes', 'built'), ('risk', 'team'), ('improve', '14'), ('protocol', 'award'), ('dynamic', 'attempt'), ('first', 'works'), ('allows', 'fee'), ('equal', 'full'), ('apply', 'decentralized'), ('securely', 'represent'), ('merkle', 'machine'), ('address', 'average'), ('building', 'individual'), ('takes', 'correct'), ('found', 'become'), ('advanced', 'digital'), ('large', 'verify'), ('equivalent', 'running'), ('secured', 'general'), ('proof', 'contracts'), ('enabled', 'one'), ('solving', 'include'), ('enough', 'trusted'), ('compared', 'length'), ('follows', 'setting'), ('still', 'transactions'), ('special', 'hash'), ('proposal', 'otherwise'), ('keys', '4'), ('simplicity', 'least'), ('receives', 'block'), ('even', 'v'), ('denote', 'better'), ('publicly', 'access'), ('thus', 'vote'), ('paper', 'enjoy'), ('functions', 'changes'), ('potential', 'period'), ('starting', 'generated'), ('see', 'hold'), ('proposed', 'used'), ('8', 'constant')]\n"
     ]
    }
   ],
   "source": [
    "#2-gram counter\n",
    "agg_words_2gram = []\n",
    "for coin in word_bank:\n",
    "    agg_words_2gram.extend(ngrams(word_bank[coin], 2))\n",
    "\n",
    "two_gram_counter = Counter(agg_words_2gram)\n",
    "# print(two_gram_counter.most_common(150))\n",
    "print([x[0] for x in two_gram_counter.most_common(300)])"
   ]
  },
  {
   "cell_type": "code",
   "execution_count": 14,
   "id": "26076b59-2a9e-40c4-a290-a669fc7d340b",
   "metadata": {},
   "outputs": [
    {
     "name": "stdout",
     "output_type": "stream",
     "text": [
      "[(('prevent', 'per', 'support'), 7), (('period', 'work', 'economic'), 6), (('management', 'holders', 'incentives'), 5), (('become', '17', 'two'), 5), (('run', 'set', 'implementing'), 4), (('current', '15', '32'), 4), (('2', 'together', 'pending'), 4), (('easy', 'received', 'developed'), 4), (('independently', 'store', 'first'), 4), (('must', 'already', 'new'), 4), (('upon', 'pos', 'working'), 4), (('modify', 'users', 'etc'), 4), (('current', '32', '15'), 4), (('merkle', 'machine', 'user'), 4), (('thus', 'vote', 'paper'), 3), (('throughput', 'transaction', 'number'), 3), (('allows', 'actual', 'fee'), 3), (('phase', 'like', 'build'), 3), (('goal', 'queried', '2'), 3), (('predictable', 'blockchain', 'information'), 3), (('electronic', 'globally', 'ie'), 3), (('future', 'risks', 'including'), 3), (('others', 'currently', 'machines'), 3), (('mechanisms', 'satoshi', 'blocks'), 3), (('found', 'theory', 'become'), 3), (('adopted', 'retaining', 'previously'), 3), (('standard', 'requirement', 'messages'), 3), (('overall', 'easily', 'take'), 3), (('produces', 'framework', 'reduce'), 3), (('framework', 'reduce', 'gain'), 3), (('length', 'produce', 'additionally'), 3), (('values', 'making', 'rewards'), 3), (('incentive', 'noted', 'entity'), 3), (('concepts', 'providing', 'context'), 3), (('forms', 'range', 'changes'), 3), (('network', 'times', 'honest'), 3), (('considered', 'storing', 'existing'), 3), (('dominated', 'constant', 'risk'), 3), (('monthly', 'selected', 'functions'), 3), (('actually', 'instead', 'pass'), 3), (('create', 'ex', 'party'), 3), (('reserve', 'complexity', 'term'), 3), (('interfere', 'several', 'based'), 3), (('best', 'limited', 'rapid'), 3), (('moving', 'loss', 'around'), 3), (('transaction', 'authority', 'number'), 3), (('data', 'run', 'set'), 3), (('year', 'paying', 'within'), 3), (('applications', 'create', 'party'), 3), (('goal', '2', 'together'), 3), (('details', 'remaining', 'requirements'), 3), (('4', 'verification', 'relatively'), 3), (('improve', '14', 'supply'), 3), (('privacy', 'section', 'platform'), 3), (('store', 'first', 'works'), 3), (('largest', 'used', 'introduction'), 3), (('end', 'impossible', 'validating'), 3), (('found', 'become', '17'), 3), (('help', 'often', 'creating'), 3), (('dynamic', 'attempt', 'difficult'), 3), (('without', 'ways', 'get'), 3), (('request', 'however', 'asset'), 3), (('remove', 'entire', 'established'), 3), (('enough', 'trusted', 'distributed'), 3), (('holds', 'keeps', 'network'), 2), (('still', 'transactions', 'small'), 2), (('may', 'keys', '4'), 2), (('oracle', 'also', 'grows'), 2), (('delivery', 'thus', 'vote'), 2), (('vote', 'paper', 'enjoy'), 2), (('starting', 'generated', 'sets'), 2), (('proposed', 'used', 'introduction'), 2), (('used', 'introduction', 'cryptographic'), 2), (('b', 'guarantees', 'ledger'), 2), (('attacks', 'safe', 'perfectly'), 2), (('lead', 'p', 'enough'), 2), (('p', 'enough', 'start'), 2), (('validate', 'unknown', 'single'), 2), (('types', 'adversarial', '155'), 2), (('work', 'economic', 'cryptocurrencies'), 2), (('need', 'almost', '250'), 2), (('used', 'introduction', 'holder'), 2), (('ground', 'straightforward', 'necessarily'), 2), (('bear', 'frame', 'pay'), 2), (('balance', '34', 'duration'), 2), (('parts', 'upon', 'pos'), 2), (('pos', 'becoming', 'computation'), 2), (('becoming', 'computation', 'concerns'), 2), (('line', 'computers', 'fully'), 2), (('computers', 'fully', 'state'), 2), (('fully', 'state', 'members'), 2), (('state', 'members', 'begins'), 2), (('decentralized', 'contain', 'fundamental'), 2), (('ipfs', 'equality', 'owned'), 2), (('archival', 'putting', 'allowing'), 2), (('therefore', 'contents', 'beneﬁt'), 2), (('say', 'matter', 'discrepancies'), 2), (('larger', 'machine', 'user'), 2), (('favor', 'capped', 'considerably'), 2), (('1', 'called', 'typical'), 2), (('sybil', 'solutions', 'claim'), 2), (('end', 'validating', 'reached'), 2), (('validating', 'reached', 'enforce'), 2), (('13', 'type', 'stack'), 2), (('type', 'stack', 'reduces'), 2), (('created', 'common', 'assumptions'), 2), (('energy', 'features', 'variance'), 2), (('back', 'form', 'validators'), 2), (('lower', 'rules', 'gained'), 2), (('rules', 'gained', 'management'), 2), (('gained', 'management', 'holders'), 2), (('control', 'load', 'operates'), 2), (('underlying', 'trustless', 'contribute'), 2), (('member', 'lost', 'vision'), 2), (('lost', 'vision', 'statements'), 2), (('precise', 'designed', 'directly'), 2), (('designed', 'directly', 'properties'), 2), (('classes', 'notation', 'implementation'), 2), (('rate', '70', 'typically'), 2), (('clients', 'market', 'options'), 2), (('kind', 'oracle', 'also'), 2), (('validated', 'prevent', 'per'), 2), (('per', 'support', 'repeated'), 2), (('attackers', 'additional', 'miners'), 2), (('references', 'unfortunately', 'solidity'), 2), (('introducing', 'maximum', 'introduces'), 2), (('85', 'software', 'move'), 2), (('latest', 'rapidly', '8'), 2), (('constant', 'risk', 'launch'), 2), (('aim', '14', 'supply'), 2), (('14', 'supply', 'essence'), 2), (('hence', 'exchange', 'prevents'), 2), (('exchange', 'prevents', 'fact'), 2), (('among', 'model', 'bank'), 2), (('cheap', 'bitcoin', 'oﬀchain'), 2), (('date', 'download', 'assets'), 2), (('double', 'chain', 'powerful'), 2), (('fewer', 'amongst', 'note'), 2), (('never', '25', 'adaptive'), 2), (('chart', '35', 'dynamic'), 2), (('web', 'natively', 'developing'), 2), (('though', 'previous', 'ways'), 2), (('trade', 'paper', 'currency'), 2), (('increase', 'operations', 'funds'), 2), (('know', 'problem', 'interest'), 2), (('directly', 'important', 'coins'), 2), (('13', 'call', 'data'), 2), (('moment', 'like', 'case'), 2), (('transaction', 'private', 'authority'), 2), (('private', 'authority', 'number'), 2)]\n"
     ]
    }
   ],
   "source": [
    "#3-gram counter\n",
    "agg_words_3gram = []\n",
    "for coin in word_bank:\n",
    "    agg_words_3gram.extend(ngrams(word_bank[coin], 3))\n",
    "\n",
    "three_gram_counter = Counter(agg_words_3gram)\n",
    "print(three_gram_counter.most_common(150))\n",
    "# print([x[0] for x in three_gram_counter.most_common(300)])"
   ]
  },
  {
   "cell_type": "code",
   "execution_count": 15,
   "id": "60b3d30c-decd-41ea-a1d7-791c413e6ef9",
   "metadata": {},
   "outputs": [
    {
     "name": "stdout",
     "output_type": "stream",
     "text": [
      "[('delivery', 'thus', 'vote', 'paper'), ('proposed', 'used', 'introduction', 'cryptographic'), ('period', 'work', 'economic', 'cryptocurrencies'), ('line', 'computers', 'fully', 'state'), ('computers', 'fully', 'state', 'members'), ('fully', 'state', 'members', 'begins'), ('end', 'validating', 'reached', 'enforce'), ('13', 'type', 'stack', 'reduces'), ('lower', 'rules', 'gained', 'management'), ('rules', 'gained', 'management', 'holders'), ('member', 'lost', 'vision', 'statements'), ('validated', 'prevent', 'per', 'support'), ('prevent', 'per', 'support', 'repeated'), ('hence', 'exchange', 'prevents', 'fact'), ('transaction', 'private', 'authority', 'number'), ('hashes', 'mechanisms', 'satoshi', 'blocks'), ('must', 'already', 'new', '28'), ('calculated', 'denote', 'better', 'maintaining'), ('current', '15', '32', 'computed'), ('produces', 'framework', 'reduce', 'gain'), ('framework', 'reduce', 'gain', 'btc'), ('compared', 'length', 'produce', 'additionally'), ('concepts', 'providing', 'context', 'bitcoins'), ('forms', 'range', 'changes', 'par'), ('delivered', 'ensuring', 'reﬂect', 'shared'), ('references', 'participants', 'result', 'executing'), ('participants', 'result', 'executing', 'connection'), ('peertopeer', 'explicit', 'units', 'proceed'), ('modify', 'users', 'etc', 'highlevel'), ('elaborate', 'produces', 'framework', 'reduce'), ('great', 'actually', 'instead', 'pass'), ('transformation', 'rise', 'cuttingedge', 'costs'), ('authority', 'number', 'reflect', 'traders'), ('dedicated', 'adopted', 'retaining', 'previously'), ('guarantee', 'parties', 'operators', 'step'), ('parties', 'operators', 'step', 'currencies'), ('phase', 'like', 'build', 'pool'), ('like', 'build', 'pool', 'ability'), ('shares', 'operating', 'named', 'perform'), ('page', 'notes', 'share', 'domain'), ('purchase', '4', 'verification', 'relatively'), ('aspects', '53', 'status', 'validation'), ('monthly', 'selected', 'functions', 'earn'), ('jurisdictions', 'interfere', 'several', 'based'), ('factors', 'privacy', 'section', 'platform'), ('course', 'transaction', 'authority', 'number'), ('retaining', 'previously', 'expected', 'revert'), ('opposed', 'ethereum', 'capital', 'line'), ('exactly', 'securely', 'represent', 'issuers'), ('various', 'consists', 'mutability', 'layer'), ('2', 'together', 'details', 'remaining'), ('together', 'details', 'remaining', 'requirements'), ('0', 'changed', 'usually', 'could'), ('unused', 'read', 'extra', 'systems'), ('reduced', 'turing', 'byte', 'guides'), ('multiplied', 'found', 'become', '17'), ('means', 'funds', 'know', 'problem'), ('help', 'often', 'creating', 'generally'), ('often', 'creating', 'generally', 'advances'), ('abstraction', 'spent', 'debate', 'size'), ('large', 'verify', 'outline', 'call'), ('dynamic', 'attempt', 'difficult', 'marketbased'), ('useful', 'right', 'brings', 'situation'), ('enough', 'start', 'simply', 'approximately'), ('applications', 'create', 'ex', 'party'), ('prevent', 'per', 'support', 'happen'), ('loss', 'around', 'identity', 'going'), ('independently', 'store', 'first', 'works'), ('check', 'specific', 'event', 'takes'), ('specific', 'event', 'takes', 'correct'), ('thus', 'confirmation', 'paper', 'vote'), ('slashed', 'dynamic', 'attempt', 'difficult'), ('new', '28', 'smaller', 'equivalent'), ('52', 'computers', 'state', 'fully'), ('confirmed', 'following', 'hashed', 'reduced'), ('ephemeral', 'softvotes', 'rabin', 'form'), ('softvotes', 'rabin', 'form', '7'), ('rabin', 'form', '7', 'relaxed'), ('form', '7', 'relaxed', 'ratio'), ('7', 'relaxed', 'ratio', 'many'), ('relaxed', 'ratio', 'many', 'compared'), ('ratio', 'many', 'compared', 'length'), ('many', 'compared', 'length', 'delay'), ('compared', 'length', 'delay', 'send'), ('length', 'delay', 'send', 'halt'), ('delay', 'send', 'halt', 'moving'), ('send', 'halt', 'moving', 'using'), ('halt', 'moving', 'using', 'restores'), ('moving', 'using', 'restores', 'holds'), ('using', 'restores', 'holds', 'keeps'), ('restores', 'holds', 'keeps', 'network'), ('holds', 'keeps', 'network', 'honest'), ('keeps', 'network', 'honest', 'arxiv'), ('network', 'honest', 'arxiv', 'following'), ('honest', 'arxiv', 'following', '3'), ('arxiv', 'following', '3', 'full'), ('following', '3', 'full', 'unknown'), ('3', 'full', 'unknown', 'deﬁne'), ('full', 'unknown', 'deﬁne', 'tools'), ('unknown', 'deﬁne', 'tools', 'privately')]\n"
     ]
    }
   ],
   "source": [
    "#4-gram counter\n",
    "agg_words_4gram = []\n",
    "for coin in word_bank:\n",
    "    agg_words_4gram.extend(ngrams(word_bank[coin], 4))\n",
    "\n",
    "four_gram_counter = Counter(agg_words_4gram)\n",
    "# print(four_gram_counter.most_common(150))\n",
    "print([x[0] for x in four_gram_counter.most_common(100)])"
   ]
  }
 ],
 "metadata": {
  "kernelspec": {
   "display_name": "Python 3 (ipykernel)",
   "language": "python",
   "name": "python3"
  },
  "language_info": {
   "codemirror_mode": {
    "name": "ipython",
    "version": 3
   },
   "file_extension": ".py",
   "mimetype": "text/x-python",
   "name": "python",
   "nbconvert_exporter": "python",
   "pygments_lexer": "ipython3",
   "version": "3.9.7"
  }
 },
 "nbformat": 4,
 "nbformat_minor": 5
}
