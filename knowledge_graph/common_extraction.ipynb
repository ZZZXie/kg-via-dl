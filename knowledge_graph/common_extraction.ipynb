{
 "cells": [
  {
   "cell_type": "markdown",
   "id": "fdd8d5a2",
   "metadata": {},
   "source": [
    "### Import library"
   ]
  },
  {
   "cell_type": "code",
   "execution_count": 1,
   "id": "73538a91",
   "metadata": {},
   "outputs": [],
   "source": [
    "import warnings\n",
    "warnings.filterwarnings(\"ignore\")\n",
    "import pandas as pd\n",
    "import numpy as np\n",
    "import collections\n",
    "import re\n",
    "import os\n",
    "import string\n",
    "pd.set_option('display.max_colwidth', 200)\n",
    "from sklearn.feature_extraction.text import CountVectorizer"
   ]
  },
  {
   "cell_type": "code",
   "execution_count": 2,
   "id": "406767f5",
   "metadata": {},
   "outputs": [],
   "source": [
    "#!pip install BeautifulSoup4\n",
    "# import nltk\n",
    "# nltk.download()  # Download text data sets, including stop words"
   ]
  },
  {
   "cell_type": "code",
   "execution_count": 3,
   "id": "1e3181b9",
   "metadata": {},
   "outputs": [],
   "source": [
    "from nltk.corpus import stopwords # Import the stop word list\n",
    "from collections import Counter\n",
    "from nltk.util import ngrams\n",
    "from nltk import word_tokenize, pos_tag\n",
    "from nltk.stem import WordNetLemmatizer"
   ]
  },
  {
   "cell_type": "code",
   "execution_count": 4,
   "id": "a98f1fe0-dcf2-4e47-8fb0-726bd1f9c7d9",
   "metadata": {},
   "outputs": [],
   "source": [
    "lemmatizer = WordNetLemmatizer()"
   ]
  },
  {
   "cell_type": "code",
   "execution_count": 5,
   "id": "4a587e8c-d2d7-4f9a-8d5f-e18ef62e8de8",
   "metadata": {},
   "outputs": [
    {
     "data": {
      "text/plain": [
       "'require'"
      ]
     },
     "execution_count": 5,
     "metadata": {},
     "output_type": "execute_result"
    }
   ],
   "source": [
    "lemmatizer.lemmatize(\"requires\", pos='v')"
   ]
  },
  {
   "cell_type": "markdown",
   "id": "34f88992",
   "metadata": {
    "tags": []
   },
   "source": [
    "### Whitepaper datasource"
   ]
  },
  {
   "cell_type": "code",
   "execution_count": 6,
   "id": "6c185377-0b77-4feb-9f78-8cb770062e6e",
   "metadata": {},
   "outputs": [],
   "source": [
    "stopwords_set = set(stopwords.words('english'))"
   ]
  },
  {
   "cell_type": "code",
   "execution_count": 7,
   "id": "e12a9f03-2ef8-4acf-800e-198377ecba5f",
   "metadata": {},
   "outputs": [],
   "source": [
    "def extract_and_clean(line, stopwords):\n",
    "    # words = [x.strip() for x in re.split(',| |\\. |\\: ', line) if x]\n",
    "    # words = map(str.lower, words)\n",
    "    # words = [x.replace('-', '') for x in words]\n",
    "    words = word_tokenize(re.sub(r'[^\\w\\s]', '', line.lower()))\n",
    "    # words = [x.replace('-', '') for x in words]\n",
    "    words = [word for word in words if not word in stopwords]\n",
    "    # ADJ, ADJ_SAT, ADV, NOUN, VERB = 'a', 's', 'r', 'n', 'v'\n",
    "    words = [lemmatizer.lemmatize(w, pos='s') for w in words]\n",
    "    words = [lemmatizer.lemmatize(w, pos='n') for w in words]\n",
    "    words = [lemmatizer.lemmatize(w, pos='v') for w in words]\n",
    "    words = [lemmatizer.lemmatize(w, pos='a') for w in words]\n",
    "    return words"
   ]
  },
  {
   "cell_type": "code",
   "execution_count": 8,
   "id": "4c198f81",
   "metadata": {},
   "outputs": [],
   "source": [
    "def read_whitepapers(filename, stopwords):\n",
    "    directory = \"../whitepapers/top20_whitepapers/\"\n",
    "    words_list = []\n",
    "    for entry in os.scandir(directory):\n",
    "        if (entry.path.endswith(filename) and entry.is_file()):\n",
    "            with open(entry.path, \"r\") as f:\n",
    "                for line in f:\n",
    "                    # words_list.extend(line.split())\n",
    "                    # words_list.extend([x.strip() for x in line.split()])\n",
    "                    words_list.extend(extract_and_clean(line, stopwords))\n",
    "    return words_list"
   ]
  },
  {
   "cell_type": "code",
   "execution_count": 9,
   "id": "52911c9f",
   "metadata": {},
   "outputs": [
    {
     "data": {
      "text/plain": [
       "['bitcoin',\n",
       " 'peertopeer',\n",
       " 'electronic',\n",
       " 'cash',\n",
       " 'system',\n",
       " 'satoshi',\n",
       " 'nakamoto',\n",
       " 'satoshingmxcom',\n",
       " 'wwwbitcoinorg',\n",
       " 'abstract',\n",
       " 'purely',\n",
       " 'peertopeer',\n",
       " 'version',\n",
       " 'electronic',\n",
       " 'cash',\n",
       " 'would',\n",
       " 'allow',\n",
       " 'online',\n",
       " 'payment',\n",
       " 'send',\n",
       " 'directly',\n",
       " 'one',\n",
       " 'party',\n",
       " 'another',\n",
       " 'without',\n",
       " 'go',\n",
       " 'financial',\n",
       " 'institution',\n",
       " 'digital',\n",
       " 'signature',\n",
       " 'provide',\n",
       " 'part',\n",
       " 'solution',\n",
       " 'main',\n",
       " 'benefit',\n",
       " 'lose',\n",
       " 'trust',\n",
       " 'third',\n",
       " 'party',\n",
       " 'still',\n",
       " 'require',\n",
       " 'prevent',\n",
       " 'doublespending',\n",
       " 'propose',\n",
       " 'solution',\n",
       " 'doublespending',\n",
       " 'problem',\n",
       " 'use',\n",
       " 'peertopeer',\n",
       " 'network']"
      ]
     },
     "execution_count": 9,
     "metadata": {},
     "output_type": "execute_result"
    }
   ],
   "source": [
    "bitcoin_filename=\"Bitcoin.txt\"\n",
    "whitepapers = read_whitepapers(bitcoin_filename, stopwords_set)\n",
    "# whitepapers.rename(columns={bitcoin_filename: \"whitepapers\"}, inplace=True)\n",
    "whitepapers[:50]"
   ]
  },
  {
   "cell_type": "code",
   "execution_count": 10,
   "id": "8584fca6",
   "metadata": {},
   "outputs": [],
   "source": [
    "filenames = ['Algorand.txt', 'Avalanche.txt', 'Binance.txt', 'Bitcoin.txt', 'Cardano.txt', 'Chainlink.txt',\n",
    "            'Crypto_com.txt', 'Ethereum.txt', 'FTX_token.txt', 'PolkaDot.txt', 'Polygon.txt', 'Ripple.txt', \n",
    "            'Solana.txt', 'Terra.txt', 'Tether.txt', 'Tron.txt', 'Uniswap.txt', 'Wrapped.txt']"
   ]
  },
  {
   "cell_type": "code",
   "execution_count": 11,
   "id": "35867a76-5ef6-4be5-b337-1b4600d079b6",
   "metadata": {},
   "outputs": [],
   "source": [
    "compiled_r = re.compile('(?<!\\S)\\d+(?!\\S)')"
   ]
  },
  {
   "cell_type": "code",
   "execution_count": 12,
   "id": "0f5ff972-0a1a-4ab3-ace2-76b8443f8331",
   "metadata": {},
   "outputs": [],
   "source": [
    "def filter_less_important_words(words):\n",
    "    tagged = pos_tag(words)\n",
    "    # Only keep verb, noun, adj\n",
    "    return [w[0] for w in tagged if w[1].startswith('N') or w[1].startswith('J') or w[1].startswith('V')]\n",
    "    # return [w for w in words if not compiled_reg.match(w)]"
   ]
  },
  {
   "cell_type": "code",
   "execution_count": 13,
   "id": "ffbb718a",
   "metadata": {},
   "outputs": [],
   "source": [
    "def creat_word_bank():\n",
    "    word_bank = {}\n",
    "    for i in filenames:\n",
    "        word_bank[i] = read_whitepapers(i, stopwords_set)\n",
    "        #deduplicate in each paper\n",
    "        # deduped_words = list(set(read_whitepapers(i, stopwords_set)))\n",
    "        # word_bank[i] = filter_less_important_words(deduped_words)\n",
    "    return word_bank"
   ]
  },
  {
   "cell_type": "code",
   "execution_count": 14,
   "id": "44cd5e47-e88f-4dc8-8342-3189631e774f",
   "metadata": {},
   "outputs": [],
   "source": [
    "def dedupe(words):\n",
    "    return list(set(words))"
   ]
  },
  {
   "cell_type": "code",
   "execution_count": 15,
   "id": "2b9df150-7ac5-4373-92d1-cdf7d37705b6",
   "metadata": {},
   "outputs": [],
   "source": [
    "word_bank = creat_word_bank()"
   ]
  },
  {
   "cell_type": "code",
   "execution_count": 16,
   "id": "f0d17207-3680-40eb-89e9-a8e187942af5",
   "metadata": {},
   "outputs": [],
   "source": [
    "lookup_dict = {}"
   ]
  },
  {
   "cell_type": "code",
   "execution_count": 17,
   "id": "20eed08e-4138-45e4-8ad1-769cb44dde94",
   "metadata": {},
   "outputs": [],
   "source": [
    "def enrich_lookup_dict(lookup_dict, words, paper_name):\n",
    "    for w in words:\n",
    "        lookup_dict.setdefault(w,[]).append(paper_name)\n",
    "        # lookup_dict[w] = paper_name"
   ]
  },
  {
   "cell_type": "code",
   "execution_count": 18,
   "id": "17e39b53-df97-4a75-b4fa-1474dc4bc23d",
   "metadata": {},
   "outputs": [
    {
     "name": "stdout",
     "output_type": "stream",
     "text": [
      "[('system', 18), ('require', 18), ('3', 18), ('user', 18), ('6', 18), ('make', 18), ('take', 18), ('one', 18), ('since', 18), ('number', 18), ('two', 18), ('amount', 18), ('give', 18), ('many', 18), ('use', 18), ('2', 18), ('also', 18), ('5', 18), ('paper', 18), ('4', 18), ('new', 18), ('1', 18), ('7', 18), ('follow', 17), ('8', 17), ('become', 17), ('within', 17), ('key', 17), ('order', 17), ('receive', 17), ('start', 17), ('time', 17), ('every', 17), ('may', 17), ('network', 17), ('transaction', 17), ('well', 17), ('public', 17), ('need', 17), ('work', 17), ('keep', 17), ('exist', 17), ('include', 17), ('increase', 17), ('provide', 17), ('generate', 16), ('simple', 16), ('able', 16), ('reference', 16), ('protocol', 16), ('access', 16), ('possible', 16), ('allow', 16), ('case', 16), ('high', 16), ('set', 16), ('base', 16), ('change', 16), ('even', 16), ('10', 16), ('mean', 16), ('know', 16), ('second', 16), ('control', 16), ('fast', 16), ('value', 16), ('see', 16), ('9', 16), ('hold', 16), ('send', 16), ('fee', 16), ('problem', 16), ('11', 16), ('create', 16), ('current', 16), ('fund', 16), ('large', 16), ('store', 16), ('reduce', 16), ('like', 16), ('share', 16), ('result', 16), ('way', 16), ('would', 15), ('full', 15), ('choose', 15), ('particular', 15), ('without', 15), ('add', 15), ('first', 15), ('long', 15), ('point', 15), ('function', 15), ('private', 15), ('future', 15), ('25', 15), ('update', 15), ('model', 15), ('potential', 15), ('solution', 15), ('size', 15), ('account', 15), ('limit', 15), ('could', 15), ('le', 15), ('low', 15), ('loss', 15), ('get', 15), ('currency', 15), ('cost', 15), ('data', 15), ('issue', 15), ('support', 15), ('example', 15), ('want', 15), ('process', 15), ('space', 15), ('12', 15), ('per', 15), ('prevent', 15), ('must', 15), ('represent', 15), ('15', 15), ('record', 15), ('multiple', 15), ('much', 14), ('move', 14), ('describe', 14), ('type', 14), ('begin', 14), ('apply', 14), ('another', 14), ('propose', 14), ('reach', 14), ('note', 14), ('secure', 14), ('already', 14), ('grow', 14), ('ensure', 14), ('blockchain', 14), ('abstract', 14), ('accept', 14), ('still', 14), ('expect', 14), ('digital', 14), ('combine', 14), ('together', 14), ('block', 14), ('13', 14), ('however', 14), ('small', 14), ('easy', 14), ('risk', 14), ('target', 14), ('exchange', 14), ('operation', 14), ('currently', 14), ('come', 14), ('trust', 14), ('bitcoin', 14), ('group', 14), ('history', 14), ('back', 14), ('consensus', 14), ('security', 14), ('token', 14), ('information', 14), ('distribute', 14), ('requirement', 14), ('single', 14), ('run', 14), ('call', 14), ('14', 14), ('directly', 14), ('mechanism', 14), ('part', 14), ('entire', 14), ('rate', 14), ('design', 14), ('additional', 14), ('maintain', 14), ('initial', 14), ('several', 14), ('cryptocurrency', 13), ('introduce', 13), ('next', 13), ('vote', 13), ('lead', 13), ('implement', 13), ('form', 13), ('version', 13), ('period', 13), ('introduction', 13), ('rely', 13), ('service', 13), ('previous', 13), ('achieve', 13), ('rule', 13), ('fully', 13), ('three', 13), ('c', 13), ('scale', 13), ('hash', 13), ('total', 13), ('attack', 13), ('complete', 13), ('end', 13), ('common', 13), ('implementation', 13), ('section', 13), ('detail', 13), ('platform', 13), ('payment', 13), ('source', 13), ('event', 13), ('asset', 13), ('similar', 13), ('late', 13), ('available', 13), ('price', 13), ('failure', 13), ('instead', 13), ('contract', 13), ('spend', 13), ('transfer', 13), ('state', 13), ('address', 13), ('market', 13), ('due', 13), ('open', 13), ('standard', 13), ('year', 13), ('handle', 13), ('addition', 13), ('pool', 13), ('go', 13), ('method', 13), ('show', 13), ('good', 12), ('23', 12), ('sign', 12), ('message', 12), ('help', 12), ('thus', 12), ('depend', 12), ('among', 12), ('remain', 12), ('track', 12), ('condition', 12), ('ledger', 12), ('signature', 12), ('31', 12), ('participant', 12), ('guarantee', 12), ('b', 12), ('stake', 12), ('input', 12), ('member', 12), ('enough', 12), ('u', 12), ('identity', 12), ('us', 12), ('application', 12), ('build', 12), ('via', 12), ('coin', 12), ('creation', 12), ('global', 12), ('supply', 12), ('code', 12), ('execute', 12), ('eg', 12), ('power', 12), ('involve', 12), ('ability', 12), ('improve', 12), ('certain', 12), ('release', 12), ('enable', 12), ('strong', 12), ('management', 12), ('incentive', 12), ('avoid', 12), ('30', 12), ('bank', 12), ('world', 12), ('interest', 12), ('20', 12), ('term', 12), ('list', 12), ('ethereum', 12), ('owner', 12), ('perform', 12), ('reserve', 12), ('put', 12), ('growth', 12), ('prove', 12), ('feature', 12), ('face', 12), ('anyone', 12)]\n"
     ]
    }
   ],
   "source": [
    "# Single words\n",
    "agg_words = []\n",
    "for coin in word_bank:\n",
    "    agg_words.extend(dedupe(word_bank[coin]))\n",
    "    enrich_lookup_dict(lookup_dict, word_bank[coin], coin)\n",
    "\n",
    "single_counter = Counter(agg_words)\n",
    "print(single_counter.most_common(300))\n",
    "# print([x[0] for x in single_counter.most_common(2000)])"
   ]
  },
  {
   "cell_type": "code",
   "execution_count": 19,
   "id": "b6ac97f2-998c-4e3c-bd5e-f4026e56a2f2",
   "metadata": {},
   "outputs": [
    {
     "name": "stdout",
     "output_type": "stream",
     "text": [
      "[(('reference', '1'), 10), (('1', 'introduction'), 10), (('smart', 'contract'), 10), (('private', 'key'), 10), (('transaction', 'fee'), 10), (('allow', 'user'), 9), (('white', 'paper'), 9), (('1', '2'), 8), (('use', 'case'), 8), (('decentralize', 'exchange'), 8), (('period', 'time'), 8), (('create', 'new'), 8), (('transaction', 'per'), 8), (('large', 'number'), 8), (('third', 'party'), 8), (('also', 'provide'), 8), (('public', 'key'), 7), (('token', 'holder'), 7), (('per', 'second'), 7), (('also', 'use'), 7), (('consensus', 'protocol'), 7), (('high', 'level'), 7), (('transaction', 'cost'), 7), (('merkle', 'tree'), 7), (('transaction', 'transaction'), 7), (('block', 'block'), 7), (('data', 'structure'), 7), (('buy', 'sell'), 7), (('would', 'need'), 7), (('1', '1'), 6), (('block', 'transaction'), 6), (('step', '1'), 6), (('block', 'hash'), 6), (('digital', 'signature'), 6), (('amount', 'time'), 6), (('block', 'time'), 6), (('give', 'time'), 6), (('stake', 'system'), 6), (('protocol', 'provide'), 6), (('bitcoin', 'network'), 6), (('double', 'spend'), 6), (('decentralize', 'application'), 6), (('sybil', 'attack'), 6), (('without', 'need'), 6), (('figure', '1'), 6), (('entire', 'network'), 6), (('make', 'easy'), 6), (('ethereum', 'blockchain'), 6), (('transaction', 'take'), 6), (('next', 'block'), 6), (('propose', 'solution'), 6), (('include', 'block'), 6), (('transaction', 'block'), 6), (('current', 'state'), 6), (('main', 'chain'), 6), (('transaction', 'data'), 6), (('total', 'number'), 6), (('enable', 'user'), 6), (('would', 'require'), 6), (('provide', 'user'), 6), (('consensus', 'algorithm'), 6), (('blockchain', 'technology'), 6), (('total', 'amount'), 6), (('user', 'would'), 6), (('network', 'may'), 5), (('2', '1'), 5), (('2', '3'), 5), (('user', 'send'), 5), (('key', 'pair'), 5), (('user', 'also'), 5), (('user', 'may'), 5), (('time', 'take'), 5), (('digital', 'asset'), 5), (('new', 'user'), 5), (('consensus', 'mechanism'), 5), (('provide', 'strong'), 5), (('consensus', 'process'), 5), (('long', 'term'), 5), (('randomly', 'select'), 5), (('computational', 'resource'), 5), (('high', 'performance'), 5), (('lead', 'loss'), 5), (('node', 'network'), 5), (('node', 'node'), 5), (('may', 'choose'), 5), (('time', 'pass'), 5), (('next', 'section'), 5), (('section', '3'), 5), (('least', 'one'), 5), (('full', 'node'), 5), (('high', 'transaction'), 5), (('f', '1'), 5), (('state', 'transition'), 5), (('pay', 'fee'), 5), (('computer', 'science'), 5), (('user', 'experience'), 5), (('even', 'though'), 5), (('track', 'record'), 5), (('near', 'future'), 5), (('need', 'way'), 5), (('use', 'generate'), 5), (('need', 'trust'), 5), (('would', 'allow'), 5), (('payment', 'system'), 5), (('number', 'block'), 5), (('block', 'contain'), 5), (('order', 'transaction'), 5), (('system', 'similar'), 5), (('run', 'node'), 5), (('block', 'take'), 5), (('denial', 'service'), 5), (('merkle', 'root'), 5), (('rely', 'trust'), 5), (('block', 'header'), 5), (('header', 'block'), 5), (('chain', 'block'), 5), (('invalid', 'block'), 5), (('sign', 'message'), 5), (('limit', 'number'), 5), (('proof', 'work'), 5), (('number', 'transaction'), 5), (('figure', '3'), 5), (('describe', 'section'), 5), (('byzantine', 'fault'), 5), (('set', 'transaction'), 5), (('would', 'also'), 5), (('transaction', 'include'), 5), (('state', 'state'), 5), (('elliptic', 'curve'), 5), (('see', 'section'), 5), (('proof', 'stake'), 5), (('figure', '2'), 5), (('discuss', 'section'), 5), (('distribute', 'ledger'), 5), (('two', 'type'), 5), (('take', 'place'), 5), (('transaction', 'require'), 5), (('produce', 'block'), 5), (('last', 'block'), 5), (('user', 'use'), 5), (('cryptocurrency', 'market'), 5), (('contract', 'order'), 5), (('state', 'machine'), 5), (('economic', 'incentive'), 5), (('also', 'include'), 5), (('low', 'cost'), 5), (('open', 'source'), 5), (('digital', 'currency'), 5), (('would', 'make'), 5), (('user', 'want'), 5), (('bitcoin', 'ethereum'), 5), (('per', 'day'), 5), (('user', 'merchant'), 5), (('protocol', 'describe'), 4), (('1', 'user'), 4), (('hash', 'block'), 4), (('follow', 'property'), 4), (('system', 'use'), 4), (('signature', 'scheme'), 4), (('cryptographic', 'primitive'), 4), (('protocol', 'use'), 4), (('network', 'user'), 4), (('protocol', 'also'), 4), (('total', 'stake'), 4), (('message', 'send'), 4), (('committee', 'member'), 4), (('n', 'n'), 4), (('full', 'control'), 4), (('keep', 'track'), 4), (('protocol', 'achieve'), 4), (('finally', 'note'), 4), (('amount', 'stake'), 4), (('one', 'transaction'), 4), (('since', 'last'), 4), (('first', 'transaction'), 4), (('bitcoin', 'peertopeer'), 4), (('distribute', 'system'), 4), (('virtual', 'machine'), 4), (('resource', 'require'), 4), (('note', 'however'), 4), (('long', 'majority'), 4), (('unit', 'account'), 4), (('execution', 'environment'), 4), (('node', 'need'), 4), (('ethereum', 'virtual'), 4), (('allow', 'node'), 4), (('participate', 'node'), 4), (('every', 'transaction'), 4), (('include', 'limit'), 4), (('atomic', 'swap'), 4), (('key', 'use'), 4), (('transaction', 'every'), 4), (('low', 'fee'), 4), (('every', 'node'), 4), (('stake', 'validators'), 4), (('section', '5'), 4), (('time', 'allow'), 4), (('node', 'achieve'), 4), (('blockchain', 'solution'), 4), (('protocol', 'enable'), 4), (('valid', 'block'), 4), (('need', 'prove'), 4), (('protocol', 'make'), 4), (('program', 'language'), 4), (('fiat', 'currency'), 4), (('trade', 'pair'), 4), (('amount', 'fee'), 4), (('user', 'base'), 4), (('ensure', 'security'), 4), (('btc', 'eth'), 4), (('one', 'key'), 4), (('system', 'need'), 4), (('large', 'network'), 4), (('data', 'include'), 4), (('real', 'time'), 4), (('fee', 'fee'), 4), (('two', 'different'), 4), (('many', 'time'), 4), (('issue', 'token'), 4), (('provide', 'way'), 4), (('per', 'block'), 4), (('verify', 'transaction'), 4), (('attacker', 'could'), 4), (('node', 'would'), 4), (('1', 'k'), 4), (('output', 'value'), 4), (('new', 'transaction'), 4), (('make', 'payment'), 4), (('per', 'year'), 4), (('ahead', 'time'), 4), (('execute', 'transaction'), 4), (('use', 'proof'), 4), (('transaction', 'send'), 4), (('follow', '1'), 4), (('hash', 'transaction'), 4), (('chain', 'see'), 4), (('include', 'previous'), 4), (('input', 'output'), 4), (('cryptographic', 'proof'), 4), (('security', 'privacy'), 4), (('network', 'require'), 4), (('chain', 'use'), 4), (('user', 'need'), 4), (('transaction', 'would'), 4), (('one', 'block'), 4), (('may', 'include'), 4), (('transaction', 'conﬁrmed'), 4), (('x', 'x'), 4), (('work', 'bitcoin'), 4), (('stake', 'po'), 4)]\n"
     ]
    }
   ],
   "source": [
    "#2-gram counter\n",
    "agg_words_2gram = []\n",
    "for coin in word_bank:\n",
    "    words = dedupe(ngrams(word_bank[coin], 2))\n",
    "    agg_words_2gram.extend(words)\n",
    "    enrich_lookup_dict(lookup_dict, words, coin)\n",
    "\n",
    "two_gram_counter = Counter(agg_words_2gram)\n",
    "print(two_gram_counter.most_common(250))\n",
    "# print([x[0] for x in two_gram_counter.most_common(300)])"
   ]
  },
  {
   "cell_type": "code",
   "execution_count": 20,
   "id": "9873bd4b-c3fb-4ec1-9d82-fe05dfdcc0a4",
   "metadata": {},
   "outputs": [],
   "source": [
    "# print(lookup_dict)"
   ]
  },
  {
   "cell_type": "code",
   "execution_count": 21,
   "id": "26076b59-2a9e-40c4-a290-a669fc7d340b",
   "metadata": {},
   "outputs": [
    {
     "name": "stdout",
     "output_type": "stream",
     "text": [
      "[(('transaction', 'per', 'second'), 7), (('ethereum', 'virtual', 'machine'), 4), (('block', 'header', 'block'), 4), (('proof', 'stake', 'po'), 4), (('1', '2', '1'), 4), (('use', 'smart', 'contract'), 4), (('high', 'transaction', 'fee'), 4), (('control', 'private', 'key'), 4), (('eprint', 'archive', 'report'), 3), (('digital', 'signature', 'scheme'), 3), (('2', '1', '1'), 3), (('cryptology', 'eprint', 'archive'), 3), (('bitcoin', 'peertopeer', 'electronic'), 3), (('decentralize', 'application', 'dapps'), 3), (('peertopeer', 'electronic', 'cash'), 3), (('electronic', 'cash', 'system'), 3), (('long', 'period', 'time'), 3), (('every', 'node', 'network'), 3), (('conference', 'computer', 'communication'), 3), (('computer', 'communication', 'security'), 3), (('symposium', 'security', 'privacy'), 3), (('key', 'public', 'key'), 3), (('2', '1', '2'), 3), (('double', 'spend', 'attack'), 3), (('least', 'one', 'honest'), 3), (('r', 'r', '1'), 3), (('two', 'reason', 'first'), 3), (('1', '2', '2'), 3), (('proof', 'stake', 'system'), 3), (('token', 'ethereum', 'blockchain'), 3), (('smart', 'contract', 'language'), 3), (('byzantine', 'fault', 'tolerant'), 3), (('erc20', 'token', 'ethereum'), 3), (('decentralize', 'digital', 'currency'), 3), (('denial', 'service', 'attack'), 3), (('potential', 'use', 'case'), 3), (('previous', 'block', 'hash'), 3), (('ﬁrst', 'describe', 'protocol'), 2), (('time', 'take', 'user'), 2), (('p', '6', '4'), 2), (('micali', 'algorand', 'eﬃcient'), 2), (('value', 'v', 'v'), 2), (('random', 'function', 'vrfs'), 2), (('eﬃcient', 'democratic', 'ledger'), 2), (('keep', 'track', 'time'), 2), (('silvio', 'micali', 'algorand'), 2), (('veriﬁable', 'random', 'function'), 2), (('cid17', 'cid16', 'cid17'), 2), (('choose', 'message', 'attack'), 2), (('9', 'reference', '1'), 2), (('algorand', 'eﬃcient', 'democratic'), 2), (('cid16', 'cid17', 'cid16'), 2), (('0', 'cid16', 'cid17'), 2), (('byzantine', 'agreement', 'protocol'), 2), (('consen', 'sus', 'protocol'), 2), (('update', 'forwardlooking', 'statement'), 2), (('ethereum', 'secure', 'decentralise'), 2), (('virtual', 'machine', 'vm'), 2), (('time', 'pass', 'since'), 2), (('include', 'smart', 'contract'), 2), (('prevent', 'double', 'spend'), 2), (('smart', 'contract', 'operate'), 2), (('undertake', 'obligation', 'update'), 2), (('computational', 'resource', 'require'), 2), (('secure', 'decentralise', 'generalise'), 2), (('node', 'stake', 'system'), 2), (('new', 'user', 'may'), 2), (('provide', 'strong', 'guarantee'), 2), (('deploy', 'smart', 'contract'), 2), (('set', 'smart', 'contract'), 2), (('nakamoto', 'bitcoin', 'peertopeer'), 2), (('consensus', 'mechanism', 'assume'), 2), (('pass', 'since', 'last'), 2), (('scale', 'large', 'number'), 2), (('obligation', 'update', 'forwardlooking'), 2), (('consensus', 'protocol', 'use'), 2), (('provide', 'strong', 'security'), 2), (('deﬁned', 'figure', '1'), 2), (('consensus', 'protocol', 'provide'), 2), (('trade', 'margin', 'trade'), 2), (('btc', 'eth', 'ltc'), 2), (('design', 'user', 'experience'), 2), (('support', 'trade', 'pair'), 2), (('two', 'different', 'type'), 2), (('6', 'revenue', 'model'), 2), (('margin', 'trade', 'future'), 2), (('system', 'exchange', 'operator'), 2), (('decentralize', 'exchange', 'future'), 2), (('decentralize', 'onchain', 'exchange'), 2), (('trade', 'pair', 'follow'), 2), (('do', 'btc', 'eth'), 2), (('15', 'year', 'experience'), 2), (('base', 'trade', 'volume'), 2), (('hash', 'root', 'hash'), 2), (('hash', 'block', 'header'), 2), (('merkle', 'root', 'merkle'), 2), (('acm', 'conference', 'computer'), 2), (('block', 'header', 'transaction'), 2), (('root', 'merkle', 'root'), 2), (('tx', 'tx', 'tx'), 2), (('two', 'will', 'party'), 2), (('electronic', 'payment', 'system'), 2), (('base', 'cryptographic', 'proof'), 2), (('cryptographic', 'proof', 'instead'), 2), (('allow', 'two', 'will'), 2), (('without', 'need', 'trust'), 2), (('root', 'include', 'block'), 2), (('simplify', 'payment', 'verification'), 2), (('directly', 'without', 'need'), 2), (('hash', 'hash', 'block'), 2), (('ieee', 'computer', 'society'), 2), (('party', 'transact', 'directly'), 2), (('trust', 'third', 'party'), 2), (('computer', 'science', 'page'), 2), (('key', 'private', 'key'), 2), (('transaction', 'add', 'block'), 2), (('need', 'trust', 'third'), 2), (('payment', 'system', 'base'), 2), (('will', 'party', 'transact'), 2), (('public', 'key', 'public'), 2), (('transaction', 'hash', 'merkle'), 2), (('system', 'base', 'cryptographic'), 2), (('transaction', 'double', 'spend'), 2), (('transact', 'directly', 'without'), 2), (('header', 'block', 'header'), 2), (('trust', 'allow', 'two'), 2), (('proof', 'instead', 'trust'), 2), (('give', 'public', 'key'), 2), (('instead', 'trust', 'allow'), 2), (('cryptography', 'data', 'security'), 2), (('1', '0', '0'), 2), (('nothing', 'stake', 'problem'), 2), (('advance', 'cryptology', 'crypto'), 2), (('collect', 'transaction', 'fee'), 2), (('conference', 'theory', 'application'), 2), (('cambridge', 'university', 'press'), 2), (('cryptography', 'network', 'security'), 2), (('f', 'f', 'f'), 2), (('computer', 'science', 'springer'), 2), (('2', '2', '1'), 2), (('see', 'next', 'section'), 2), (('sign', 'key', 'pair'), 2), (('n', 'total', 'number'), 2), (('transaction', 'main', 'chain'), 2), (('secret', 'share', 'scheme'), 2), (('lecture', 'note', 'computer'), 2), (('note', 'computer', 'science'), 2), (('discuss', 'previous', 'section'), 2), (('security', 'parameter', 'k'), 2), (('secret', 'share', 'v'), 2)]\n"
     ]
    }
   ],
   "source": [
    "#3-gram counter\n",
    "agg_words_3gram = []\n",
    "for coin in word_bank:\n",
    "    words = dedupe(ngrams(word_bank[coin], 3))\n",
    "    agg_words_3gram.extend(words)\n",
    "    enrich_lookup_dict(lookup_dict, words, coin)\n",
    "\n",
    "three_gram_counter = Counter(agg_words_3gram)\n",
    "print(three_gram_counter.most_common(150))\n",
    "# print([x[0] for x in three_gram_counter.most_common(300)])"
   ]
  },
  {
   "cell_type": "code",
   "execution_count": 22,
   "id": "60b3d30c-decd-41ea-a1d7-791c413e6ef9",
   "metadata": {},
   "outputs": [
    {
     "name": "stdout",
     "output_type": "stream",
     "text": [
      "[(('cryptology', 'eprint', 'archive', 'report'), 3), (('peertopeer', 'electronic', 'cash', 'system'), 3), (('bitcoin', 'peertopeer', 'electronic', 'cash'), 3), (('conference', 'computer', 'communication', 'security'), 3), (('cid16', 'cid17', 'cid16', 'cid17'), 2), (('micali', 'algorand', 'eﬃcient', 'democratic'), 2), (('veriﬁable', 'random', 'function', 'vrfs'), 2), (('cid17', 'cid16', 'cid17', 'cid16'), 2), (('algorand', 'eﬃcient', 'democratic', 'ledger'), 2), (('silvio', 'micali', 'algorand', 'eﬃcient'), 2), (('obligation', 'update', 'forwardlooking', 'statement'), 2), (('nakamoto', 'bitcoin', 'peertopeer', 'electronic'), 2), (('ethereum', 'secure', 'decentralise', 'generalise'), 2), (('undertake', 'obligation', 'update', 'forwardlooking'), 2), (('time', 'pass', 'since', 'last'), 2), (('acm', 'conference', 'computer', 'communication'), 2), (('party', 'transact', 'directly', 'without'), 2), (('proof', 'instead', 'trust', 'allow'), 2), (('system', 'base', 'cryptographic', 'proof'), 2), (('cryptographic', 'proof', 'instead', 'trust'), 2), (('electronic', 'payment', 'system', 'base'), 2), (('without', 'need', 'trust', 'third'), 2), (('public', 'key', 'public', 'key'), 2), (('base', 'cryptographic', 'proof', 'instead'), 2), (('directly', 'without', 'need', 'trust'), 2), (('allow', 'two', 'will', 'party'), 2), (('payment', 'system', 'base', 'cryptographic'), 2), (('will', 'party', 'transact', 'directly'), 2), (('two', 'will', 'party', 'transact'), 2), (('trust', 'allow', 'two', 'will'), 2), (('instead', 'trust', 'allow', 'two'), 2), (('tx', 'tx', 'tx', 'tx'), 2), (('transact', 'directly', 'without', 'need'), 2), (('block', 'header', 'block', 'header'), 2), (('merkle', 'root', 'merkle', 'root'), 2), (('annual', 'international', 'conference', 'theory'), 2), (('2', '1', '2', '1'), 2), (('measure', 'transaction', 'per', 'second'), 2), (('international', 'conference', 'theory', 'application'), 2), (('yonatan', 'sompolinsky', 'aviv', 'zohar'), 2), (('secure', 'multiparty', 'computation', 'mpc'), 2), (('data', 'security', 'fc', '2016'), 2), (('1', '2', '1', '2'), 2), (('cryptography', 'data', 'security', 'fc'), 2), (('secret', 'share', 'v', 'scheme'), 2), (('lecture', 'note', 'computer', 'science'), 2), (('1', '1', '0', '0'), 2), (('scheme', 'noninteractive', 'veriﬁable', 'secret'), 2), (('practical', 'scheme', 'noninteractive', 'veriﬁable'), 2), (('financial', 'cryptography', 'data', 'security'), 2), (('conference', 'theory', 'application', 'cryptographic'), 2), (('theory', 'application', 'cryptographic', 'technique'), 2), (('1', '2', '1', '1'), 2), (('note', 'computer', 'science', 'springer'), 2), (('noninteractive', 'veriﬁable', 'secret', 'share'), 2), (('post', 'transaction', 'main', 'chain'), 2), (('2', '1', '1', '2'), 2), (('computer', 'communication', 'security', 'cc'), 2), (('apply', 'cryptography', 'network', 'security'), 2), (('byzantine', 'fault', 'tolerant', 'bft'), 2), (('central', 'bank', 'digital', 'currency'), 2), (('data', 'protection', 'regulation', 'gdpr'), 2), (('ieee', 'symposium', 'security', 'privacy'), 2), (('general', 'data', 'protection', 'regulation'), 2), (('user', 'full', 'control', 'private'), 2), (('full', 'control', 'private', 'key'), 2), (('service', 'attack', 'consensusbased', 'attack'), 2), (('sybil', 'attack', 'smurfing', 'spoof'), 2), (('attack', 'consensusbased', 'attack', 'sybil'), 2), (('malware', 'attack', 'denial', 'service'), 2), (('attack', 'sybil', 'attack', 'smurfing'), 2), (('denial', 'service', 'attack', 'consensusbased'), 2), (('attack', 'denial', 'service', 'attack'), 2), (('consensusbased', 'attack', 'sybil', 'attack'), 2), (('elliptic', 'curve', 'public', 'key'), 2), (('tendermint', 'consensus', 'without', 'mine'), 2), (('transaction', 'pay', 'high', 'fee'), 2), (('evm', 'ethereum', 'virtual', 'machine'), 2), (('token', 'back', 'fiat', 'currency'), 2), (('time', 'high', 'transaction', 'fee'), 2), (('paper', 'also', 'describe', 'random'), 1), (('step', 'see', '2t1', 'softvotes'), 1), (('2t1', 'softvotes', 'value', 'many'), 1), (('report', 'httparxivorgabs160701341', 'version', '1'), 1), (('softvote', 'hash', 'step', '2'), 1), (('nextvote', 'anything', 'else', 'period'), 1), (('publicsecret', 'key', 'pair', 'even'), 1), (('propagate', 'much', 'fast', 'block'), 1), (('honest', 'user', 'follow', 'leader'), 1), (('period', 'p1', 'v', 'period'), 1), (('traditional', 'byzantine', 'agreement', 'user'), 1), (('p', 'cid96', 'set', 'cid96'), 1), (('1', 'next', 'describe', 'change'), 1), (('eﬀectivelyaftertheblockpropagatesacertiﬁcateisgenerated', 'one', 'step', 'vote'), 1), (('b', 'certiﬁcate', 'produce', 'one'), 1), (('value', '2t1', 'nextvotes', 'period'), 1), (('6λ', 'move', 'within', 'time'), 1), (('p', 'nextvotes', 'v', 'else'), 1), (('fact', 'together', 'period1', 'leader'), 1), (('see', '2t1', 'softvotes', 'v'), 1), (('key', 'point', 'three', 'desire'), 1), (('protocol', 'honest', 'user', 'ﬁnish'), 1), (('v', 'step', '5', 'period'), 1), (('random', 'oracle', 'digital', 'signature'), 1), (('2t1', 'honest', 'user', 'softvote'), 1), (('period', 'p', 'nextvotes', 'aevenifdiﬀerentusersstartperiod1hoursapartintimeitisasifthenetworkhasbeenpartitionedandonce'), 1), (('5', 'silvio', 'micali', 'salil'), 1), (('halt', 'else', 'let', 'p'), 1), (('leader', 'cid96', 'malicious', '1'), 1), (('5λ', 'see', '2t1', 'nextvotes'), 1), (('democratic', 'ledger', 'arxiv', 'report'), 1), (('thus', 'ﬁnish', 'protocol', 'time'), 1), (('value', 'v', '3', 'player'), 1), (('2t1', 'softvotes', 'v', 'time'), 1), (('2', 'honest', 'majority', '3'), 1), (('v', 'period', 'p', 'leader'), 1), (('step', 'see', 'honest', 'user'), 1), (('p', 'start', 'period', 'p1'), 1), (('hold', 'secret', 'key', 'privately'), 1), (('one', 'vote', 'step', 'protocol'), 1), (('help', 'propagate', 'message', 'communication'), 1), (('number', 'malicious', 'player', '2'), 1), (('1', 'output', 'v', 'time'), 1), (('independently', 'player', 'public', 'key'), 1), (('2', 'use', 'follow', 'deﬁnitions'), 1), (('player', 'access', 'public', 'random'), 1), (('enough', 'nextvotes', 'v', 'softvote'), 1), (('micali', 'georgios', 'vlachos', 'jing'), 1), (('communicate', 'propagation', 'network', 'user'), 1), (('set', 'communication', 'set', '1'), 1), (('generally', 'certiﬁed', 'value', 'period'), 1), (('user', 'softvotes', 'value', 'v'), 1), (('period', 'first', 'finish', 'step'), 1), (('protocol', 'simple', 'reach', 'agreement'), 1), (('p', 'move', 'step', '1'), 1), (('user', 'certvote', 'v', 'time'), 1), (('time', '4λ', 'moreover', 'moment'), 1), (('reference', '1', 'jing', 'chen'), 1), (('honest', 'user', 'softvote', 'v'), 1), (('else', 'let', 'p', 'high'), 1), (('λ', 'honest', 'user', 'also'), 1), (('symbol', 'v', 'user', 'try'), 1), (('certiﬁcate', 'within', 'time', 'λ'), 1), (('cid16', 'cid17', 'cid16', 'else'), 1), (('good', 'align', 'communication', 'set'), 1), (('agree', 'value', 'v', '3'), 1), (('deﬁnitions', 'deﬁnition', '41', 'potential'), 1), (('value', 'propose', 'leader', 'protocol'), 1), (('synchronize', 'almost', 'synchronize', 'require'), 1), (('network', 'within', 'give', 'time'), 1)]\n"
     ]
    }
   ],
   "source": [
    "#4-gram counter\n",
    "agg_words_4gram = []\n",
    "for coin in word_bank:\n",
    "    words = dedupe(ngrams(word_bank[coin], 4))\n",
    "    agg_words_4gram.extend(words)\n",
    "    enrich_lookup_dict(lookup_dict, words, coin)\n",
    "\n",
    "four_gram_counter = Counter(agg_words_4gram)\n",
    "print(four_gram_counter.most_common(150))\n",
    "# print([x[0] for x in four_gram_counter.most_common(100)])"
   ]
  },
  {
   "cell_type": "code",
   "execution_count": 23,
   "id": "1ccdc8da-b3d2-4c72-b9d4-ad3f97d0df3c",
   "metadata": {},
   "outputs": [
    {
     "name": "stdout",
     "output_type": "stream",
     "text": [
      "['Bitcoin.txt', 'Ethereum.txt', 'Ethereum.txt', 'Solana.txt', 'Solana.txt', 'Solana.txt', 'Tron.txt', 'Tron.txt']\n"
     ]
    }
   ],
   "source": [
    "print(lookup_dict['sha256'])"
   ]
  },
  {
   "cell_type": "code",
   "execution_count": 24,
   "id": "f6716d1b-0f1b-4e7b-b030-04815e71e96b",
   "metadata": {},
   "outputs": [
    {
     "name": "stdout",
     "output_type": "stream",
     "text": [
      "['Avalanche.txt', 'Avalanche.txt', 'Bitcoin.txt', 'Bitcoin.txt', 'Bitcoin.txt', 'Bitcoin.txt', 'Bitcoin.txt', 'Bitcoin.txt', 'Bitcoin.txt', 'Bitcoin.txt', 'Bitcoin.txt', 'Bitcoin.txt', 'Bitcoin.txt', 'Bitcoin.txt', 'Bitcoin.txt', 'Bitcoin.txt', 'Bitcoin.txt', 'Bitcoin.txt', 'Bitcoin.txt', 'Bitcoin.txt', 'Cardano.txt', 'Chainlink.txt', 'Chainlink.txt', 'Chainlink.txt', 'Ethereum.txt', 'Ethereum.txt', 'Ethereum.txt', 'Ethereum.txt', 'Ethereum.txt', 'Ethereum.txt', 'Ethereum.txt', 'Ethereum.txt', 'Ethereum.txt', 'PolkaDot.txt']\n"
     ]
    }
   ],
   "source": [
    "print(lookup_dict['proofofwork'])"
   ]
  },
  {
   "cell_type": "code",
   "execution_count": 25,
   "id": "03fcd5bb-8914-437c-a2fc-9b42f43c98ce",
   "metadata": {},
   "outputs": [
    {
     "name": "stdout",
     "output_type": "stream",
     "text": [
      "['Avalanche.txt', 'Avalanche.txt', 'Avalanche.txt', 'Cardano.txt', 'Cardano.txt', 'Cardano.txt', 'Chainlink.txt', 'Chainlink.txt', 'Chainlink.txt', 'Chainlink.txt', 'Chainlink.txt', 'Chainlink.txt', 'Ethereum.txt', 'Ethereum.txt', 'PolkaDot.txt', 'PolkaDot.txt', 'PolkaDot.txt', 'PolkaDot.txt', 'Polygon.txt']\n"
     ]
    }
   ],
   "source": [
    "print(lookup_dict['proofofstake'])"
   ]
  },
  {
   "cell_type": "code",
   "execution_count": 26,
   "id": "9fc985ed-aef5-479f-ab79-5daf5a3a95ef",
   "metadata": {},
   "outputs": [
    {
     "name": "stdout",
     "output_type": "stream",
     "text": [
      "['Avalanche.txt', 'Cardano.txt', 'Chainlink.txt', 'Ethereum.txt', 'PolkaDot.txt', 'Ripple.txt', 'Solana.txt']\n"
     ]
    }
   ],
   "source": [
    "print(lookup_dict[('consensus', 'protocol')])"
   ]
  },
  {
   "cell_type": "code",
   "execution_count": null,
   "id": "1e42c796-6e9d-400c-9d03-d5329539976e",
   "metadata": {},
   "outputs": [],
   "source": []
  },
  {
   "cell_type": "code",
   "execution_count": null,
   "id": "27373135-d697-422a-8ba1-078a5e25d6d6",
   "metadata": {},
   "outputs": [],
   "source": []
  }
 ],
 "metadata": {
  "kernelspec": {
   "display_name": "Python 3 (ipykernel)",
   "language": "python",
   "name": "python3"
  },
  "language_info": {
   "codemirror_mode": {
    "name": "ipython",
    "version": 3
   },
   "file_extension": ".py",
   "mimetype": "text/x-python",
   "name": "python",
   "nbconvert_exporter": "python",
   "pygments_lexer": "ipython3",
   "version": "3.9.7"
  }
 },
 "nbformat": 4,
 "nbformat_minor": 5
}
