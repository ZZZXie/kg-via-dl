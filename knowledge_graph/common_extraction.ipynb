{
 "cells": [
  {
   "cell_type": "markdown",
   "id": "fdd8d5a2",
   "metadata": {},
   "source": [
    "### Import library"
   ]
  },
  {
   "cell_type": "code",
   "execution_count": 1,
   "id": "73538a91",
   "metadata": {},
   "outputs": [],
   "source": [
    "import warnings\n",
    "warnings.filterwarnings(\"ignore\")\n",
    "import pandas as pd\n",
    "import numpy as np\n",
    "import collections\n",
    "import re\n",
    "import os\n",
    "import string\n",
    "pd.set_option('display.max_colwidth', 200)\n",
    "from sklearn.feature_extraction.text import CountVectorizer"
   ]
  },
  {
   "cell_type": "code",
   "execution_count": 2,
   "id": "406767f5",
   "metadata": {},
   "outputs": [],
   "source": [
    "#!pip install BeautifulSoup4\n",
    "# import nltk\n",
    "# nltk.download()  # Download text data sets, including stop words"
   ]
  },
  {
   "cell_type": "code",
   "execution_count": 3,
   "id": "1e3181b9",
   "metadata": {},
   "outputs": [],
   "source": [
    "from nltk.corpus import stopwords # Import the stop word list\n",
    "from collections import Counter\n",
    "from nltk.util import ngrams\n",
    "from nltk import word_tokenize, pos_tag\n",
    "from nltk.stem import WordNetLemmatizer"
   ]
  },
  {
   "cell_type": "code",
   "execution_count": 4,
   "id": "a98f1fe0-dcf2-4e47-8fb0-726bd1f9c7d9",
   "metadata": {},
   "outputs": [],
   "source": [
    "lemmatizer = WordNetLemmatizer()"
   ]
  },
  {
   "cell_type": "code",
   "execution_count": 5,
   "id": "4a587e8c-d2d7-4f9a-8d5f-e18ef62e8de8",
   "metadata": {},
   "outputs": [
    {
     "data": {
      "text/plain": [
       "'require'"
      ]
     },
     "execution_count": 5,
     "metadata": {},
     "output_type": "execute_result"
    }
   ],
   "source": [
    "lemmatizer.lemmatize(\"requires\", pos='v')"
   ]
  },
  {
   "cell_type": "markdown",
   "id": "34f88992",
   "metadata": {
    "tags": []
   },
   "source": [
    "### Whitepaper datasource"
   ]
  },
  {
   "cell_type": "code",
   "execution_count": 6,
   "id": "6c185377-0b77-4feb-9f78-8cb770062e6e",
   "metadata": {},
   "outputs": [],
   "source": [
    "stopwords_set = set(stopwords.words('english'))"
   ]
  },
  {
   "cell_type": "code",
   "execution_count": 7,
   "id": "e12a9f03-2ef8-4acf-800e-198377ecba5f",
   "metadata": {},
   "outputs": [],
   "source": [
    "def extract_and_clean(line, stopwords):\n",
    "    # words = [x.strip() for x in re.split(',| |\\. |\\: ', line) if x]\n",
    "    # words = map(str.lower, words)\n",
    "    # words = [x.replace('-', '') for x in words]\n",
    "    words = word_tokenize(re.sub(r'[^\\w\\s]', '', line.lower()))\n",
    "    # words = [x.replace('-', '') for x in words]\n",
    "    words = [word for word in words if not word in stopwords]\n",
    "    # ADJ, ADJ_SAT, ADV, NOUN, VERB = 'a', 's', 'r', 'n', 'v'\n",
    "    words = [lemmatizer.lemmatize(w, pos='s') for w in words]\n",
    "    words = [lemmatizer.lemmatize(w, pos='n') for w in words]\n",
    "    words = [lemmatizer.lemmatize(w, pos='v') for w in words]\n",
    "    words = [lemmatizer.lemmatize(w, pos='a') for w in words]\n",
    "    return words"
   ]
  },
  {
   "cell_type": "code",
   "execution_count": 8,
   "id": "4c198f81",
   "metadata": {},
   "outputs": [],
   "source": [
    "def read_whitepapers(filename, stopwords):\n",
    "    directory = \"../whitepapers/top20_whitepapers/\"\n",
    "    words_list = []\n",
    "    for entry in os.scandir(directory):\n",
    "        if (entry.path.endswith(filename) and entry.is_file()):\n",
    "            with open(entry.path, \"r\") as f:\n",
    "                for line in f:\n",
    "                    # words_list.extend(line.split())\n",
    "                    # words_list.extend([x.strip() for x in line.split()])\n",
    "                    words_list.extend(extract_and_clean(line, stopwords))\n",
    "    return words_list"
   ]
  },
  {
   "cell_type": "code",
   "execution_count": 9,
   "id": "52911c9f",
   "metadata": {},
   "outputs": [
    {
     "data": {
      "text/plain": [
       "['bitcoin',\n",
       " 'peertopeer',\n",
       " 'electronic',\n",
       " 'cash',\n",
       " 'system',\n",
       " 'satoshi',\n",
       " 'nakamoto',\n",
       " 'satoshingmxcom',\n",
       " 'wwwbitcoinorg',\n",
       " 'abstract',\n",
       " 'purely',\n",
       " 'peertopeer',\n",
       " 'version',\n",
       " 'electronic',\n",
       " 'cash',\n",
       " 'would',\n",
       " 'allow',\n",
       " 'online',\n",
       " 'payment',\n",
       " 'send',\n",
       " 'directly',\n",
       " 'one',\n",
       " 'party',\n",
       " 'another',\n",
       " 'without',\n",
       " 'go',\n",
       " 'financial',\n",
       " 'institution',\n",
       " 'digital',\n",
       " 'signature',\n",
       " 'provide',\n",
       " 'part',\n",
       " 'solution',\n",
       " 'main',\n",
       " 'benefit',\n",
       " 'lose',\n",
       " 'trust',\n",
       " 'third',\n",
       " 'party',\n",
       " 'still',\n",
       " 'require',\n",
       " 'prevent',\n",
       " 'doublespending',\n",
       " 'propose',\n",
       " 'solution',\n",
       " 'doublespending',\n",
       " 'problem',\n",
       " 'use',\n",
       " 'peertopeer',\n",
       " 'network',\n",
       " 'network',\n",
       " 'timestamps',\n",
       " 'transaction',\n",
       " 'hash',\n",
       " 'ongoing',\n",
       " 'chain',\n",
       " 'hashbased',\n",
       " 'proofofwork',\n",
       " 'form',\n",
       " 'record',\n",
       " 'change',\n",
       " 'without',\n",
       " 'redo',\n",
       " 'proofofwork',\n",
       " 'long',\n",
       " 'chain',\n",
       " 'serf',\n",
       " 'proof',\n",
       " 'sequence',\n",
       " 'event',\n",
       " 'witness',\n",
       " 'proof',\n",
       " 'come',\n",
       " 'large',\n",
       " 'pool',\n",
       " 'cpu',\n",
       " 'power',\n",
       " 'long',\n",
       " 'majority',\n",
       " 'cpu',\n",
       " 'power',\n",
       " 'control',\n",
       " 'node',\n",
       " 'cooperate',\n",
       " 'attack',\n",
       " 'network',\n",
       " 'theyll',\n",
       " 'generate',\n",
       " 'long',\n",
       " 'chain',\n",
       " 'outpace',\n",
       " 'attacker',\n",
       " 'network',\n",
       " 'require',\n",
       " 'minimal',\n",
       " 'structure',\n",
       " 'message',\n",
       " 'broadcast',\n",
       " 'best',\n",
       " 'effort']"
      ]
     },
     "execution_count": 9,
     "metadata": {},
     "output_type": "execute_result"
    }
   ],
   "source": [
    "bitcoin_filename=\"Bitcoin.txt\"\n",
    "whitepapers = read_whitepapers(bitcoin_filename, stopwords_set)\n",
    "# whitepapers.rename(columns={bitcoin_filename: \"whitepapers\"}, inplace=True)\n",
    "whitepapers[:100]"
   ]
  },
  {
   "cell_type": "code",
   "execution_count": 10,
   "id": "8584fca6",
   "metadata": {},
   "outputs": [],
   "source": [
    "filenames = ['Algorand.txt', 'Avalanche.txt', 'Binance.txt', 'Bitcoin.txt', 'Cardano.txt', 'Chainlink.txt',\n",
    "            'Crypto_com.txt', 'Ethereum.txt', 'FTX_token.txt', 'PolkaDot.txt', 'Polygon.txt', 'Ripple.txt', \n",
    "            'Solana.txt', 'Terra.txt', 'Tether.txt', 'Tron.txt', 'Uniswap.txt', 'Wrapped.txt']"
   ]
  },
  {
   "cell_type": "code",
   "execution_count": 11,
   "id": "35867a76-5ef6-4be5-b337-1b4600d079b6",
   "metadata": {},
   "outputs": [],
   "source": [
    "compiled_r = re.compile('(?<!\\S)\\d+(?!\\S)')"
   ]
  },
  {
   "cell_type": "code",
   "execution_count": 12,
   "id": "0f5ff972-0a1a-4ab3-ace2-76b8443f8331",
   "metadata": {},
   "outputs": [],
   "source": [
    "def filter_less_important_words(words):\n",
    "    tagged = pos_tag(words)\n",
    "    # Only keep verb, noun, adj\n",
    "    return [w[0] for w in tagged if w[1].startswith('N') or w[1].startswith('J') or w[1].startswith('V')]\n",
    "    # return [w for w in words if not compiled_reg.match(w)]"
   ]
  },
  {
   "cell_type": "code",
   "execution_count": 13,
   "id": "ffbb718a",
   "metadata": {},
   "outputs": [],
   "source": [
    "def creat_word_bank():\n",
    "    word_bank = {}\n",
    "    for i in filenames:\n",
    "        #deduplicate in each paper\n",
    "        deduped_words = list(set(read_whitepapers(i, stopwords_set)))\n",
    "        word_bank[i] = filter_less_important_words(deduped_words)\n",
    "    return word_bank"
   ]
  },
  {
   "cell_type": "code",
   "execution_count": 14,
   "id": "2b9df150-7ac5-4373-92d1-cdf7d37705b6",
   "metadata": {},
   "outputs": [],
   "source": [
    "word_bank = creat_word_bank()"
   ]
  },
  {
   "cell_type": "code",
   "execution_count": 15,
   "id": "17e39b53-df97-4a75-b4fa-1474dc4bc23d",
   "metadata": {},
   "outputs": [
    {
     "name": "stdout",
     "output_type": "stream",
     "text": [
      "[('paper', 18), ('require', 18), ('amount', 18), ('take', 18), ('many', 18), ('make', 18), ('give', 18), ('use', 18), ('number', 18), ('system', 18), ('new', 18), ('exist', 17), ('receive', 17), ('follow', 17), ('key', 17), ('start', 17), ('transaction', 17), ('work', 17), ('order', 17), ('network', 17), ('public', 17), ('need', 17), ('time', 17), ('increase', 17), ('include', 17), ('base', 16), ('high', 16), ('become', 16), ('mean', 16), ('protocol', 16), ('change', 16), ('possible', 16), ('access', 16), ('hold', 16), ('second', 16), ('send', 16), ('set', 16), ('case', 16), ('simple', 16), ('reference', 16), ('see', 16), ('control', 16), ('able', 16), ('generate', 16), ('value', 16), ('keep', 16), ('create', 16), ('result', 16), ('fund', 16), ('fee', 16), ('large', 16), ('reduce', 16), ('current', 16), ('share', 16), ('problem', 16), ('way', 16), ('update', 15), ('future', 15), ('particular', 15), ('choose', 15), ('full', 15), ('potential', 15), ('function', 15), ('point', 15), ('model', 15), ('private', 15), ('know', 15), ('low', 15), ('cost', 15), ('limit', 15), ('le', 15), ('represent', 15), ('support', 15), ('space', 15), ('solution', 15), ('account', 15), ('process', 15), ('currency', 15), ('example', 15), ('size', 15), ('prevent', 15), ('loss', 15), ('data', 15), ('get', 15), ('issue', 15), ('want', 15), ('record', 15), ('multiple', 15), ('describe', 14), ('ensure', 14), ('grow', 14), ('type', 14), ('blockchain', 14), ('propose', 14), ('add', 14), ('begin', 14), ('combine', 14), ('reach', 14), ('user', 14), ('digital', 14), ('note', 14), ('move', 14), ('abstract', 14), ('expect', 14), ('small', 14), ('secure', 14), ('single', 14), ('mechanism', 14), ('easy', 14), ('information', 14), ('exchange', 14), ('call', 14), ('run', 14), ('consensus', 14), ('risk', 14), ('requirement', 14), ('operation', 14), ('come', 14), ('entire', 14), ('target', 14), ('distribute', 14), ('rate', 14), ('trust', 14), ('history', 14), ('security', 14), ('additional', 14), ('part', 14), ('bitcoin', 14), ('design', 14), ('group', 14), ('several', 14), ('initial', 14), ('total', 13), ('c', 13), ('vote', 13), ('introduce', 13), ('lead', 13), ('form', 13), ('introduction', 13), ('scale', 13), ('cryptocurrency', 13), ('allow', 13), ('attack', 13), ('implement', 13), ('complete', 13), ('previous', 13), ('hash', 13), ('service', 13), ('version', 13), ('end', 13), ('rule', 13), ('period', 13), ('platform', 13), ('market', 13), ('due', 13), ('price', 13), ('event', 13), ('failure', 13), ('contract', 13), ('maintain', 13), ('state', 13), ('transfer', 13), ('section', 13), ('common', 13), ('payment', 13), ('provide', 13), ('similar', 13), ('standard', 13), ('detail', 13), ('open', 13), ('implementation', 13), ('available', 13), ('spend', 13), ('source', 13), ('asset', 13), ('store', 13), ('go', 13), ('addition', 13), ('handle', 13), ('year', 13), ('pool', 13), ('show', 13), ('block', 12), ('good', 12), ('depend', 12), ('remain', 12), ('b', 12), ('member', 12), ('much', 12), ('input', 12), ('ledger', 12), ('condition', 12), ('help', 12), ('message', 12), ('participant', 12), ('sign', 12), ('signature', 12), ('stake', 12), ('guarantee', 12), ('u', 12), ('identity', 12), ('perform', 12), ('involve', 12), ('power', 12), ('feature', 12), ('code', 12), ('ability', 12), ('world', 12), ('trade', 12), ('smart', 12), ('term', 12), ('execute', 12), ('next', 12), ('important', 12), ('incentive', 12), ('pay', 12), ('maximum', 12), ('certain', 12), ('enable', 12), ('put', 12), ('ethereum', 12), ('client', 12), ('growth', 12), ('avoid', 12), ('creation', 12), ('gain', 12), ('reserve', 12), ('improve', 12), ('list', 12), ('participate', 12), ('interest', 12), ('global', 12), ('release', 12), ('miner', 12), ('management', 12), ('anyone', 12), ('bank', 12), ('strong', 12), ('application', 12), ('program', 12), ('face', 12), ('owner', 12), ('coin', 12), ('build', 12), ('day', 12), ('purchase', 12), ('look', 12), ('method', 12), ('great', 12), ('solve', 12), ('consider', 12), ('request', 12), ('structure', 12), ('primary', 12), ('cryptographic', 11), ('say', 11), ('refer', 11), ('separate', 11), ('fact', 11), ('agree', 11), ('traditional', 11), ('necessary', 11), ('step', 11), ('execution', 11), ('turn', 11), ('achieve', 11), ('happen', 11), ('produce', 11), ('let', 11), ('property', 11), ('malicious', 11), ('blockchains', 11), ('ie', 11), ('strategy', 11), ('swap', 11), ('fail', 11), ('advantage', 11), ('determine', 11), ('contain', 11), ('holder', 11), ('chain', 11), ('storage', 11), ('various', 11), ('return', 11), ('success', 11), ('node', 11), ('address', 11), ('role', 11), ('ecosystem', 11), ('decentralize', 11), ('recent', 11), ('third', 11), ('main', 11), ('others', 11), ('sell', 11), ('token', 11), ('cause', 11), ('developer', 11), ('development', 11), ('core', 11)]\n"
     ]
    }
   ],
   "source": [
    "# Single words\n",
    "agg_words = []\n",
    "for coin in word_bank:\n",
    "    agg_words.extend(word_bank[coin])\n",
    "\n",
    "single_counter = Counter(agg_words)\n",
    "print(single_counter.most_common(300))\n",
    "# print([x[0] for x in single_counter.most_common(2000)])"
   ]
  },
  {
   "cell_type": "code",
   "execution_count": 19,
   "id": "b6ac97f2-998c-4e3c-bd5e-f4026e56a2f2",
   "metadata": {},
   "outputs": [
    {
     "name": "stdout",
     "output_type": "stream",
     "text": [
      "[(('paper', 'include'), 13), (('node', 'network'), 11), (('future', 'total'), 10), (('blockchain', 'client'), 10), (('come', 'participant'), 10), (('cryptographic', 'exist'), 9), (('consume', 'receive'), 9), (('prevent', 'remain'), 9), (('initial', 'large'), 9), (('let', 'currency'), 9), (('introduce', 'grow'), 8), (('take', 'individual'), 8), (('secure', 'identity'), 8), (('create', 'hash'), 8), (('balance', 'ecosystem'), 8), (('act', 'risk'), 8), (('agree', 'requirement'), 8), (('developer', 'hold'), 8), (('model', 'group'), 8), (('entire', 'successful'), 8), (('propose', 'change'), 8), (('step', 'add'), 7), (('order', 'access'), 7), (('represent', 'launch'), 7), (('price', 'new'), 7), (('access', 'creation'), 7), (('able', 'machine'), 7), (('design', 'attempt'), 7), (('robust', 'model'), 7), (('algorithm', 'know'), 7), (('client', 'traditional'), 7), (('today', 'give'), 7), (('current', 'rest'), 7), (('live', 'see'), 7), (('rate', 'dollar'), 7), (('separate', 'communicate'), 6), (('fact', 'agreement'), 6), (('transaction', 'underlie'), 6), (('information', 'allocation'), 6), (('world', 'limit'), 6), (('scalability', 'node'), 6), (('ecosystem', 'enable'), 6), (('reduce', 'relate'), 6), (('content', 'ledger'), 6), (('threshold', 'detail'), 6), (('dynamic', 'size'), 6), (('safe', 'trust'), 6), (('bank', 'cause'), 6), (('mention', 'build'), 6), (('financial', 'service'), 6), (('customer', 'pool'), 6), (('bitcoin', 'digital'), 6), (('size', 'round'), 6), (('usd', 'function'), 6), (('manage', 'price'), 6), (('total', 'base'), 5), (('abstract', 'arbitrary'), 5), (('phase', 'single'), 5), (('perform', 'modify'), 5), (('work', 'allow'), 5), (('strategy', 'code'), 5), (('limit', 'basis'), 5), (('le', 'option'), 5), (('procedure', 'trade'), 5), (('smart', 'support'), 5), (('attacker', 'contain'), 5), (('maintain', 'short'), 5), (('merchant', 'people'), 5), (('become', 'key'), 5), (('success', 'protocol'), 5), (('solution', 'onchain'), 5), (('pay', 'address'), 5), (('direct', 'fact'), 5), (('reason', 'entire'), 5), (('loss', 'subject'), 5), (('choose', 'little'), 5), (('participation', 'security'), 5), (('digital', 'bitcoin'), 5), (('face', 'class'), 5), (('global', 'binary'), 5), (('provide', 'transaction'), 5), (('get', 'liquidity'), 5), (('implementation', 'private'), 5), (('trust', 'accept'), 5), (('sum', 'protocol'), 5), (('easy', 'page'), 5), (('constant', 'create'), 5), (('write', 'space'), 5), (('maintenance', 'require'), 5), (('input', 'record'), 5), (('cryptocurrencies', 'request'), 5), (('account', 'allocate'), 5), (('process', 'counter'), 5), (('foundation', 'act'), 5), (('level', 'growth'), 5), (('gain', 'reserve'), 5), (('force', 'need'), 5), (('send', 'apply'), 5), (('produce', 'interact'), 5), (('play', 'developer'), 5), (('swap', 'handle'), 5), (('large', 'expansion'), 5), (('many', 'easy'), 5), (('core', 'compute'), 5), (('increase', 'state'), 5), (('multiple', 'simple'), 5), (('grow', 'depend'), 4), (('accept', 'b'), 4), (('high', 'amount'), 4), (('full', 'attack'), 4), (('highlight', 'signature'), 4), (('see', 'need'), 4), (('able', 'new'), 4), (('expect', 'period'), 4), (('cap', 'architecture'), 4), (('scale', 'fork'), 4), (('code', 'complex'), 4), (('genesis', 'smart'), 4), (('computational', 'extract'), 4), (('maximal', 'term'), 4), (('event', 'move'), 4), (('move', 'stack'), 4), (('contain', 'validate'), 4), (('economic', 'describe'), 4), (('contract', 'con'), 4), (('run', 'generation'), 4), (('attention', 'transfer'), 4), (('discuss', 'cryptocurrencies'), 4), (('continuous', 'potential'), 4), (('reference', 'validator'), 4), (('aim', 'important'), 4), (('true', 'pay'), 4), (('expect', 'enforce'), 4), (('claim', 'private'), 4), (('private', 'contribution'), 4), (('role', 'vote'), 4), (('mean', 'extend'), 4), (('provide', 'similar'), 4), (('primitive', 'avoid'), 4), (('avoid', 'electronic'), 4), (('reserve', 'wish'), 4), (('wish', 'delegate'), 4), (('ongoing', 'reach'), 4), (('open', 'guide'), 4), (('sus', 'end'), 4), (('guarantee', 'example'), 4), (('list', 'ﬁxed'), 4), (('sybil', 'mine'), 4), (('main', 'others'), 4), (('undertake', 'establish'), 4), (('distribute', 'view'), 4), (('commit', 'available'), 4), (('form', 'prevent'), 4), (('management', 'particular'), 4), (('part', 'system'), 4), (('bitcoin', 'development'), 4), (('public', 'spend'), 4), (('spend', 'want'), 4), (('natural', 'oﬀers'), 4), (('mark', 'paper'), 4), (('deep', 'raise'), 4), (('gas', 'volume'), 4), (('experience', 'prevent'), 4), (('active', 'pair'), 4), (('platform', 'partner'), 4), (('partner', 'level'), 4), (('responsibility', 'standard'), 4), (('country', 'come'), 4), (('market', 'get'), 4), (('network', 'due'), 4), (('channel', 'community'), 4), (('see', 'earn'), 4), (('earn', 'need'), 4), (('coin', 'sell'), 4), (('lead', 'single'), 4), (('fee', 'miner'), 4), (('handle', 'consider'), 4), (('access', 'information'), 4), (('transact', 'deliver'), 4), (('message', 'data'), 4), (('combine', 'sequence'), 4), (('protect', 'end'), 4), (('enter', 'identify'), 4), (('minute', 'common'), 4), (('process', 'customer'), 4), (('determine', 'coin'), 4), (('root', 'day'), 4), (('white', 'work'), 4), (('think', 'old'), 4), (('posse', 'carry'), 4), (('honest', 'ask'), 4), (('comparison', 'general'), 4), (('event', 'ecdsa'), 4), (('internet', 'run'), 4), (('crypto', 'block'), 4), (('execution', 'own'), 4), (('see', 'interaction'), 4), (('much', 'ideal'), 4), (('ideal', 'facilitate'), 4), (('special', 'deal'), 4), (('check', 'operate'), 4), (('place', 'coinbase'), 4), (('furthermore', 'status'), 4), (('convenient', 'technical'), 4), (('deﬁned', 'logic'), 4), (('june', 'bank'), 4), (('tool', 'solve'), 4), (('interact', 'degree'), 4), (('prior', 'communication'), 4), (('build', 'compromise'), 4), (('compromise', 'legal'), 4), (('day', 'default'), 4), (('production', 'virtual'), 4), (('blockchains', 'value'), 4), (('find', 'wide'), 4), (('historical', 'rate'), 4), (('solve', 'many'), 4), (('cpu', 'contract'), 4), (('thing', 'fee'), 4), (('oﬀer', 'wallet'), 4), (('ensure', 'map'), 4), (('benefit', 'gas'), 4), (('lack', 'publish'), 4), (('company', 'white'), 4), (('work', 'effect'), 4), (('effect', 'allow'), 4), (('website', 'limit'), 4), (('carry', 'infrastructure'), 4), (('market', 'liquidity'), 4), (('confirmation', 'property'), 4), (('spot', 'cryptographic'), 4), (('whole', 'direct'), 4), (('decentralize', 'top'), 4), (('validation', 'imply'), 4), (('improvement', 'let'), 4), (('research', 'major'), 4), (('dollar', 'settle'), 4), (('transparent', 'management'), 4), (('external', 'detect'), 4), (('original', 'scale'), 4), (('easy', 'challenge'), 4), (('address', 'malicious'), 4), (('elliptic', 'put'), 4), (('anyone', 'derive'), 4), (('framework', 'enforcement'), 4), (('fund', 'api'), 4), (('c', 'dynamic'), 3), (('short', 'vote'), 3), (('agreement', 'much'), 3), (('protocol', 'blockchain'), 3)]\n"
     ]
    }
   ],
   "source": [
    "#2-gram counter\n",
    "agg_words_2gram = []\n",
    "for coin in word_bank:\n",
    "    agg_words_2gram.extend(ngrams(word_bank[coin], 2))\n",
    "\n",
    "two_gram_counter = Counter(agg_words_2gram)\n",
    "print(two_gram_counter.most_common(250))\n",
    "# print([x[0] for x in two_gram_counter.most_common(300)])"
   ]
  },
  {
   "cell_type": "code",
   "execution_count": 17,
   "id": "26076b59-2a9e-40c4-a290-a669fc7d340b",
   "metadata": {},
   "outputs": [
    {
     "name": "stdout",
     "output_type": "stream",
     "text": [
      "[(('scalability', 'node', 'network'), 6), (('blockchain', 'client', 'traditional'), 6), (('robust', 'model', 'group'), 5), (('future', 'total', 'base'), 4), (('world', 'limit', 'basis'), 4), (('balance', 'ecosystem', 'enable'), 4), (('country', 'come', 'participant'), 4), (('see', 'earn', 'need'), 4), (('order', 'access', 'information'), 4), (('constant', 'create', 'hash'), 4), (('foundation', 'act', 'risk'), 4), (('much', 'ideal', 'facilitate'), 4), (('work', 'effect', 'allow'), 4), (('manage', 'price', 'new'), 4), (('spot', 'cryptographic', 'exist'), 4), (('improvement', 'let', 'currency'), 4), (('rate', 'dollar', 'settle'), 4), (('introduce', 'grow', 'depend'), 3), (('strategy', 'code', 'complex'), 3), (('computer', 'represent', 'launch'), 3), (('genesis', 'smart', 'support'), 3), (('transition', 'maximal', 'term'), 3), (('download', 'idea', 'object'), 3), (('contract', 'con', 'result'), 3), (('maintain', 'short', 'say'), 3), (('true', 'pay', 'address'), 3), (('primitive', 'avoid', 'electronic'), 3), (('come', 'participant', 'occur'), 3), (('form', 'prevent', 'remain'), 3), (('digital', 'bitcoin', 'development'), 3), (('public', 'spend', 'want'), 3), (('mark', 'paper', 'include'), 3), (('experience', 'prevent', 'remain'), 3), (('market', 'get', 'liquidity'), 3), (('multiple', 'financial', 'service'), 3), (('process', 'customer', 'pool'), 3), (('easy', 'page', 'challenge'), 3), (('separate', 'communicate', 'gap'), 3), (('discuss', 'cryptocurrencies', 'request'), 3), (('game', 'access', 'creation'), 3), (('reason', 'entire', 'successful'), 3), (('let', 'currency', 'join'), 3), (('june', 'bank', 'cause'), 3), (('produce', 'interact', 'degree'), 3), (('mention', 'build', 'compromise'), 3), (('build', 'compromise', 'legal'), 3), (('action', 'push', 'detection'), 3), (('settlement', 'balance', 'ecosystem'), 3), (('company', 'white', 'work'), 3), (('white', 'work', 'effect'), 3), (('world', 'website', 'limit'), 3), (('posse', 'carry', 'infrastructure'), 3), (('solution', 'onchain', 'entitle'), 3), (('solve', 'organisation', 'many'), 3), (('future', 'total', 'format'), 3), (('pay', 'address', 'malicious'), 3), (('replace', 'sybil', 'mine'), 3), (('dynamic', 'size', 'round'), 3), (('add', 'participation', 'security'), 3), (('initial', 'large', 'expansion'), 3), (('conversion', 'act', 'risk'), 3), (('play', 'developer', 'hold'), 3), (('trust', 'accept', 'b'), 3), (('balance', 'ecosystem', 'low'), 3), (('count', 'april', 'form'), 2), (('fact', 'agreement', 'much'), 2), (('take', 'individual', 'majority'), 2), (('forge', 'byzantine', 'follow'), 2), (('full', 'attack', 'least'), 2), (('simplicity', 'generate', 'probability'), 2), (('silvio', 'value', 'delay'), 2), (('obligation', 'phase', 'single'), 2), (('behavior', 'proofofstake', 'involve'), 2), (('transaction', 'underlie', 'validators'), 2), (('dozen', 'strategy', 'code'), 2), (('statement', 'condition', 'hardcoded'), 2), (('condition', 'hardcoded', 'r'), 2), (('cost', 'attack', 'information'), 2), (('attack', 'information', 'allocation'), 2), (('mainnet', 'serf', 'exchange'), 2), (('decentralization', 'create', 'hash'), 2), (('beneﬁt', 'accurate', 'modiﬁcation'), 2), (('proportional', 'transition', 'maximal'), 2), (('maximal', 'term', 'discussion'), 2), (('event', 'move', 'stack'), 2), (('component', 'suﬀer', 'advantage'), 2), (('idea', 'object', 'governance'), 2), (('committee', 'failure', 'attacker'), 2), (('attacker', 'contain', 'validate'), 2), (('run', 'generation', 'fund'), 2), (('generation', 'fund', 'instant'), 2), (('instant', 'mode', 'maintain'), 2), (('mode', 'maintain', 'short'), 2), (('merchant', 'people', 'evolve'), 2), (('various', 'attention', 'transfer'), 2), (('critical', 'truly', 'inﬂation'), 2), (('suitable', 'success', 'protocol'), 2), (('least', 'order', 'heavy'), 2), (('dns', 'custom', 'reader'), 2), (('custom', 'reader', 'account'), 2), (('equality', 'reference', 'validator'), 2), (('focus', 'hence', 'sharding'), 2), (('claim', 'private', 'contribution'), 2), (('base', 'cryptographic', 'exist'), 2), (('cryptographic', 'exist', 'response'), 2), (('high', 'revert', 'few'), 2), (('agreement', 'philosophy', 'much'), 2), (('reduce', 'relate', 'rich'), 2), (('relate', 'rich', 'provide'), 2), (('apis', 'content', 'ledger'), 2), (('content', 'ledger', 'type'), 2), (('retain', 'blockchain', 'client'), 2), (('growth', 'primitive', 'avoid'), 2), (('avoid', 'electronic', 'factor'), 2), (('reserve', 'wish', 'delegate'), 2), (('permissioned', 'worldwide', 'validation'), 2), (('synchronize', 'reason', 'entire'), 2), (('language', 'doesnt', 'late'), 2), (('doesnt', 'late', 'deploy'), 2), (('adversarial', 'speciﬁc', 'contrast'), 2), (('rule', 'favor', 'list'), 2), (('favor', 'list', 'ﬁxed'), 2), (('list', 'ﬁxed', 'able'), 2), (('ﬁxed', 'able', 'machine'), 2), (('implementation', 'justintime', 'time'), 2), (('advance', 'form', 'prevent'), 2), (('prevent', 'remain', 'serialize'), 2), (('choose', 'little', 'share'), 2), (('explore', 'fundamental', 'get'), 2), (('spend', 'want', 'natural'), 2), (('want', 'natural', 'oﬀers'), 2), (('useful', 'dependent', 'abstract'), 2), (('owner', 'practice', 'point'), 2), (('principle', 'robust', 'model'), 2), (('model', 'group', 'store'), 2), (('include', 'deep', 'raise'), 2), (('strategic', 'take', 'month'), 2), (('become', 'paradigm', 'key'), 2), (('platform', 'partner', 'level'), 2), (('developer', 'hold', 'sufficient'), 2), (('improve', 'import', 'promotion'), 2), (('antonopoulos', 'entire', 'successful'), 2), (('entire', 'successful', 'system'), 2), (('successful', 'system', 'continuous'), 2), (('simple', 'financial', 'service'), 2), (('live', 'see', 'earn'), 2), (('source', 'chinese', 'asset'), 2), (('customer', 'pool', 'activity'), 2), (('algorithm', 'know', 'read'), 2), (('receive', 'independent', 'payment'), 2)]\n"
     ]
    }
   ],
   "source": [
    "#3-gram counter\n",
    "agg_words_3gram = []\n",
    "for coin in word_bank:\n",
    "    agg_words_3gram.extend(ngrams(word_bank[coin], 3))\n",
    "\n",
    "three_gram_counter = Counter(agg_words_3gram)\n",
    "print(three_gram_counter.most_common(150))\n",
    "# print([x[0] for x in three_gram_counter.most_common(300)])"
   ]
  },
  {
   "cell_type": "code",
   "execution_count": 18,
   "id": "60b3d30c-decd-41ea-a1d7-791c413e6ef9",
   "metadata": {},
   "outputs": [
    {
     "name": "stdout",
     "output_type": "stream",
     "text": [
      "[('mention', 'build', 'compromise', 'legal'), ('company', 'white', 'work', 'effect'), ('white', 'work', 'effect', 'allow'), ('dozen', 'strategy', 'code', 'complex'), ('statement', 'condition', 'hardcoded', 'r'), ('proportional', 'transition', 'maximal', 'term'), ('transition', 'maximal', 'term', 'discussion'), ('download', 'idea', 'object', 'governance'), ('instant', 'mode', 'maintain', 'short'), ('dns', 'custom', 'reader', 'account'), ('reduce', 'relate', 'rich', 'provide'), ('apis', 'content', 'ledger', 'type'), ('language', 'doesnt', 'late', 'deploy'), ('list', 'ﬁxed', 'able', 'machine'), ('advance', 'form', 'prevent', 'remain'), ('form', 'prevent', 'remain', 'serialize'), ('robust', 'model', 'group', 'store'), ('antonopoulos', 'entire', 'successful', 'system'), ('entire', 'successful', 'system', 'continuous'), ('live', 'see', 'earn', 'need'), ('receive', 'independent', 'payment', 'verification'), ('code', 'practical', 'propose', 'change'), ('security', 'order', 'access', 'information'), ('structure', 'split', 'year', 'previous'), ('split', 'year', 'previous', 'come'), ('update', 'consult', 'future', 'total'), ('event', 'ecdsa', 'move', 'thread'), ('maintenance', 'require', 'consideration', 'broadcast'), ('discuss', 'cryptocurrencies', 'request', 'aﬀect'), ('basic', 'yield', 'transmit', 'maximum'), ('game', 'access', 'creation', 'action'), ('become', 'key', 'appear', 'opportunity'), ('action', 'push', 'detection', 'interactive'), ('necessary', 'speculative', 'steve', 'diverse'), ('handle', 'save', 'consider', 'cost'), ('success', 'protocol', 'cryptocurrency', 'tps'), ('solution', 'onchain', 'entitle', 'setup'), ('foundation', 'act', 'risk', 'roll'), ('annual', 'achieve', 'phone', 'third'), ('reason', 'entire', 'successful', 'malware'), ('historical', 'rate', 'dollar', 'settle'), ('compliant', 'early', 'variable', 'leaf'), ('early', 'variable', 'leaf', 'analysis'), ('mutability', 'future', 'total', 'format'), ('compile', 'ethereums', 'header', 'unique'), ('work', 'effect', 'allow', 'assign'), ('infrastructure', 'honest', 'ask', 'market'), ('honest', 'ask', 'market', 'liquidity'), ('cpu', 'contract', 'result', 'timestamp'), ('output', 'blog', 'scalability', 'node'), ('blog', 'scalability', 'node', 'network'), ('berlin', 'extra', 'document', 'turing'), ('blockchain', 'client', 'traditional', 'sort'), ('improvement', 'let', 'currency', 'extension'), ('membership', 'current', 'rest', 'package'), ('difference', 'replace', 'sybil', 'mine'), ('step', 'add', 'participation', 'security'), ('terminology', 'calculate', 'equivalent', 'additional'), ('calculate', 'equivalent', 'additional', 'structure'), ('represent', 'launch', 'improve', 'hour'), ('constant', 'create', 'hash', 'proto'), ('maintain', 'short', 'say', 'several'), ('incentive', 'bounty', 'pay', 'address'), ('bounty', 'pay', 'address', 'malicious'), ('philosophy', 'much', 'ideal', 'facilitate'), ('agree', 'requirement', 'start', 'spam'), ('turn', 'gain', 'reserve', 'wish'), ('open', 'improvement', 'let', 'currency'), ('tool', 'solve', 'organisation', 'many'), ('scale', 'fork', 'batch', 'easy'), ('fork', 'batch', 'easy', 'challenge'), ('genesis', 'smart', 'support', 'party'), ('add', 'participation', 'security', 'peak'), ('system', 'send', 'apply', 'cryptography'), ('send', 'apply', 'cryptography', 'primary'), ('combine', 'compensation', 'procedure', 'trade'), ('compensation', 'procedure', 'trade', 'overall'), ('balance', 'ecosystem', 'low', 'enable'), ('ecosystem', 'low', 'enable', 'audit'), ('order', 'access', 'information', 'wallet'), ('access', 'information', 'wallet', 'creation'), ('information', 'wallet', 'creation', 'engage'), ('see', 'earn', 'need', 'meet'), ('describe', 'assumption', 'scheme', 'track'), ('assumption', 'scheme', 'track', 'analysis'), ('scheme', 'track', 'analysis', 'clarity'), ('track', 'analysis', 'clarity', 'algorands'), ('analysis', 'clarity', 'algorands', 'hsig'), ('clarity', 'algorands', 'hsig', 'update'), ('algorands', 'hsig', 'update', 'complexity'), ('hsig', 'update', 'complexity', 'deﬁne'), ('update', 'complexity', 'deﬁne', 'future'), ('complexity', 'deﬁne', 'future', 'total'), ('deﬁne', 'future', 'total', 'base'), ('future', 'total', 'base', 'keepscounting'), ('total', 'base', 'keepscounting', 'synchronous'), ('base', 'keepscounting', 'synchronous', 'cryptographic'), ('keepscounting', 'synchronous', 'cryptographic', 'exist'), ('synchronous', 'cryptographic', 'exist', 'ensure'), ('cryptographic', 'exist', 'ensure', 'c')]\n"
     ]
    }
   ],
   "source": [
    "#4-gram counter\n",
    "agg_words_4gram = []\n",
    "for coin in word_bank:\n",
    "    agg_words_4gram.extend(ngrams(word_bank[coin], 4))\n",
    "\n",
    "four_gram_counter = Counter(agg_words_4gram)\n",
    "print(four_gram_counter.most_common(150))\n",
    "# print([x[0] for x in four_gram_counter.most_common(100)])"
   ]
  },
  {
   "cell_type": "code",
   "execution_count": null,
   "id": "22160eed-d11e-43d6-bdf0-915b7e143f85",
   "metadata": {},
   "outputs": [],
   "source": []
  }
 ],
 "metadata": {
  "kernelspec": {
   "display_name": "Python 3 (ipykernel)",
   "language": "python",
   "name": "python3"
  },
  "language_info": {
   "codemirror_mode": {
    "name": "ipython",
    "version": 3
   },
   "file_extension": ".py",
   "mimetype": "text/x-python",
   "name": "python",
   "nbconvert_exporter": "python",
   "pygments_lexer": "ipython3",
   "version": "3.9.7"
  }
 },
 "nbformat": 4,
 "nbformat_minor": 5
}
