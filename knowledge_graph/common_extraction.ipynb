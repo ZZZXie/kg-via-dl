{
 "cells": [
  {
   "cell_type": "markdown",
   "id": "fdd8d5a2",
   "metadata": {},
   "source": [
    "### Import library"
   ]
  },
  {
   "cell_type": "code",
   "execution_count": 1,
   "id": "73538a91",
   "metadata": {},
   "outputs": [],
   "source": [
    "import warnings\n",
    "warnings.filterwarnings(\"ignore\")\n",
    "import pandas as pd\n",
    "import numpy as np\n",
    "import collections\n",
    "import re\n",
    "import os\n",
    "import string\n",
    "pd.set_option('display.max_colwidth', 200)\n",
    "from sklearn.feature_extraction.text import CountVectorizer"
   ]
  },
  {
   "cell_type": "code",
   "execution_count": 2,
   "id": "406767f5",
   "metadata": {},
   "outputs": [],
   "source": [
    "#!pip install BeautifulSoup4\n",
    "# import nltk\n",
    "# nltk.download()  # Download text data sets, including stop words"
   ]
  },
  {
   "cell_type": "code",
   "execution_count": 3,
   "id": "016f00ed",
   "metadata": {},
   "outputs": [],
   "source": [
    "# Import BeautifulSoup into your workspace\n",
    "from bs4 import BeautifulSoup         "
   ]
  },
  {
   "cell_type": "code",
   "execution_count": 4,
   "id": "1e3181b9",
   "metadata": {},
   "outputs": [],
   "source": [
    "from nltk.corpus import stopwords # Import the stop word list\n",
    "from collections import Counter\n",
    "from nltk.util import ngrams\n",
    "from nltk import word_tokenize, pos_tag"
   ]
  },
  {
   "cell_type": "markdown",
   "id": "34f88992",
   "metadata": {
    "tags": []
   },
   "source": [
    "### Whitepaper datasource"
   ]
  },
  {
   "cell_type": "code",
   "execution_count": 5,
   "id": "6c185377-0b77-4feb-9f78-8cb770062e6e",
   "metadata": {},
   "outputs": [],
   "source": [
    "stopwords_set = set(stopwords.words('english'))"
   ]
  },
  {
   "cell_type": "code",
   "execution_count": 6,
   "id": "e12a9f03-2ef8-4acf-800e-198377ecba5f",
   "metadata": {},
   "outputs": [],
   "source": [
    "def extract_and_clean(line, stopwords):\n",
    "    # words = [x.strip() for x in re.split(',| |\\. |\\: ', line) if x]\n",
    "    # words = map(str.lower, words)\n",
    "    # words = [x.replace('-', '') for x in words]\n",
    "    words = word_tokenize(re.sub(r'[^\\w\\s]', '', line.lower()))\n",
    "    # words = [x.replace('-', '') for x in words]\n",
    "    words = [word for word in words if not word in stopwords]\n",
    "    return words"
   ]
  },
  {
   "cell_type": "code",
   "execution_count": 7,
   "id": "4c198f81",
   "metadata": {},
   "outputs": [],
   "source": [
    "def read_whitepapers(filename, stopwords):\n",
    "    directory = \"../whitepapers/top20_whitepapers/\"\n",
    "    words_list = []\n",
    "    for entry in os.scandir(directory):\n",
    "        if (entry.path.endswith(filename) and entry.is_file()):\n",
    "            with open(entry.path, \"r\") as f:\n",
    "                for line in f:\n",
    "                    # words_list.extend(line.split())\n",
    "                    # words_list.extend([x.strip() for x in line.split()])\n",
    "                    words_list.extend(extract_and_clean(line, stopwords))\n",
    "    return words_list"
   ]
  },
  {
   "cell_type": "code",
   "execution_count": 8,
   "id": "52911c9f",
   "metadata": {},
   "outputs": [
    {
     "data": {
      "text/plain": [
       "['bitcoin',\n",
       " 'peertopeer',\n",
       " 'electronic',\n",
       " 'cash',\n",
       " 'system',\n",
       " 'satoshi',\n",
       " 'nakamoto',\n",
       " 'satoshingmxcom',\n",
       " 'wwwbitcoinorg',\n",
       " 'abstract',\n",
       " 'purely',\n",
       " 'peertopeer',\n",
       " 'version',\n",
       " 'electronic',\n",
       " 'cash',\n",
       " 'would',\n",
       " 'allow',\n",
       " 'online',\n",
       " 'payments',\n",
       " 'sent',\n",
       " 'directly',\n",
       " 'one',\n",
       " 'party',\n",
       " 'another',\n",
       " 'without']"
      ]
     },
     "execution_count": 8,
     "metadata": {},
     "output_type": "execute_result"
    }
   ],
   "source": [
    "bitcoin_filename=\"Bitcoin.txt\"\n",
    "whitepapers = read_whitepapers(bitcoin_filename, stopwords_set)\n",
    "# whitepapers.rename(columns={bitcoin_filename: \"whitepapers\"}, inplace=True)\n",
    "whitepapers[:25]"
   ]
  },
  {
   "cell_type": "code",
   "execution_count": 9,
   "id": "8584fca6",
   "metadata": {},
   "outputs": [],
   "source": [
    "filenames = ['Algorand.txt', 'Avalanche.txt', 'Binance.txt', 'Bitcoin.txt', 'Cardano.txt', 'Chainlink.txt',\n",
    "            'Crypto_com.txt', 'Ethereum.txt', 'FTX_token.txt', 'PolkaDot.txt', 'Polygon.txt', 'Ripple.txt', \n",
    "            'Solana.txt', 'Terra.txt', 'Tether.txt', 'Tron.txt', 'Uniswap.txt', 'Wrapped.txt']"
   ]
  },
  {
   "cell_type": "code",
   "execution_count": 10,
   "id": "35867a76-5ef6-4be5-b337-1b4600d079b6",
   "metadata": {},
   "outputs": [],
   "source": [
    "compiled_r = re.compile('(?<!\\S)\\d+(?!\\S)')"
   ]
  },
  {
   "cell_type": "code",
   "execution_count": 11,
   "id": "0f5ff972-0a1a-4ab3-ace2-76b8443f8331",
   "metadata": {},
   "outputs": [],
   "source": [
    "def filter_less_important_words(words):\n",
    "    tagged = pos_tag(words)\n",
    "    return [w[0] for w in tagged if w[1].startswith('N') or w[1].startswith('J')]\n",
    "    # return [w for w in words if not compiled_reg.match(w)]"
   ]
  },
  {
   "cell_type": "code",
   "execution_count": 12,
   "id": "ffbb718a",
   "metadata": {},
   "outputs": [],
   "source": [
    "def creat_word_bank():\n",
    "    word_bank = {}\n",
    "    for i in filenames:\n",
    "        #deduplicate in each paper\n",
    "        deduped_words = list(set(read_whitepapers(i, stopwords_set)))\n",
    "        word_bank[i] = filter_less_important_words(deduped_words)\n",
    "    return word_bank"
   ]
  },
  {
   "cell_type": "code",
   "execution_count": 13,
   "id": "2b9df150-7ac5-4373-92d1-cdf7d37705b6",
   "metadata": {},
   "outputs": [],
   "source": [
    "word_bank = creat_word_bank()"
   ]
  },
  {
   "cell_type": "code",
   "execution_count": 14,
   "id": "17e39b53-df97-4a75-b4fa-1474dc4bc23d",
   "metadata": {},
   "outputs": [
    {
     "name": "stdout",
     "output_type": "stream",
     "text": [
      "['users', 'new', 'many', 'number', 'network', 'amount', 'paper', 'key', 'system', 'time', 'transactions', 'public', 'able', 'order', 'access', 'value', 'possible', 'current', 'future', 'full', 'simple', 'case', 'potential', 'private', 'second', 'funds', 'large', 'process', 'fees', 'data', 'size', 'example', 'transaction', 'problem', 'way', 'abstract', 'small', 'digital', 'block', 'fee', 'additional', 'systems', 'information', 'point', 'single', 'low', 'work', 'security', 'high', 'consensus', 'space', 'history', 'entire', 'several', 'initial', 'multiple', 'currency', 'changes', 'control', 'period', 'function', 'previous', 'cryptocurrency', 'introduction', 'references', 'next', 'total', 'particular', 'risk', 'similar', 'common', 'implementation', 'section', 'part', 'source', 'costs', 'loss', 'assets', 'use', 'cost', 'exchange', 'due', 'available', 'operations', 'record', 'addition', 'stake', 'blocks', 'blockchain', 'signature', 'protocol', 'cases', 'complete', 'conditions', 'types', 'creation', 'world', 'certain', 'account', 'anyone', 'avoid', 'times', 'ability', 'share', 'group', 'applications', 'services', 'results', 'nodes', 'global', 'easy', 'market', 'increase', 'management', 'design', 'contracts', 'price', 'maximum', 'growth', 'important', 'state', 'model', 'open', 'ways', 'event', 'trust', 'primary', 'cryptographic', 'traditional', 'necessary', 'execution', 'members', 'attacks', 'c', 'malicious', 'input', 'arbitrary', 'functions', 'values', 'send', 'version', 'lower', 'various', 'recent', 'strong', 'features', 'issues', 'requirements', 'mechanism', 'useful', 'success', 'miners', 'rate', 'role', 'node', 'standard', 'contract', 'others', 'operation', 'development', 'rules', 'issue', 'asset', 'storage', 'third', 'terms', 'main', 'interest', 'chain', 'tokens', 'pool', 'party', 'proof', 'payment', 'bitcoin', 'property', 'ie', 'hash', 'majority', 'separate', 'keys', 'note', 'change', 'messages', 'cryptocurrencies', 'valid', 'lead', 'sign', 'participants', 'dynamic', 'least', 'n', 'much', 'probability', 'safe', 'double', 'balance', 'active', 'last', 'supply', 'maintain', 'payments', 'clients', 'distribution', 'people', 'major', 'technology', 'class', 'propose', 'rewards', 'software', 'events', 'call', 'true', 'support', 'ethereum', 'robust', 'conclusion', 'fact', 'goal', 'solutions', 'interface', 'strategy', 'form', 'code', 'failure', 'currencies', 'resources', 'exchanges', 'holders', 'secure', 'member', 'service', 'technical', 'money', 'platform', 'white', 'different', 'top', 'purchase', 'liquidity', 'community', 'general', 'parties', 'free', 'incentive', 'enough', 'structure', 'transfers', 'solution', 'requirement', 'utility', 'accounts', 'equal', 'wallet', 'complexity', 'properties', 'step', 'receive', 'track', 'networks', 'short', 'user', 'ones', 'long', 'output', 'agreement', 'sets', 'individual', 'honest', 'unique', 'blockchains', 'less', 'components', 'base', 'execute', 'architecture', 'instance', 'vote', 'functionality', 'ownership', 'correct', 'attack', 'basis', 'update', 'unit', 'machine', 'reserve', 'enable', 'real', 'owner', 'best', 'bank', 'validators', 'smart', 'developers', 'get', 'larger', 'perform', 'constant', 'latest', 'independent', 'term', 'transfer', 'client', 'purposes', 'financial', 'core', 'status', 'successful', 'largest', 'years', 'basic', 'year', 'gas', 'problems', 'day', 'days', 'framework', 'prevent', 'needs', 'methods', 'facilitate', 'possibility', 'power', 'result', 'identity', 'type', 'application', 'opportunity', 'right', 'address', 'program', 'target', 'legal', 'external', 'dollars', 'trading', 'original', 'random', 'special', 'tools', 'means', 'applies', 'b', 'communication', 'message', 'hashes', 'start', 'periods', 'selection', 'description', 'steps', 'first', 'diﬀerent', 'release', 'virtual', 'contents', 'ecosystem', 'instant', 'manner', 'merchants', 'direct', 'industry', 'governance', 'language', 'higher', 'validation', 'millions', 'cause', 'pos', 'swap', 'stable', 'subject', 'focus', 'wide', 'old', 'place', 'byzantine', 'economic', 'choice', 'guarantee', 'agree', 'transition', 'usage', 'overall', 'implementations', 'business', 'hand', 'act', 'claim', 'smaller', 'details', 'computational', 'scalability', 'native', 'platforms', 'scale', 'chance', 'build', 'law', 'handle', 'product', 'spot', 'shares', 'binary', 'rest', 'join', 'businesses', 'usd', 'positive', 'annual', 'representation', 'owners', 'check', 'privacy', 'coin', 'tree', 'protocols', 'central', 'request', 'sum', 'reason', 'regular', 'whole', 'seconds', 'equivalent', 'incentives', 'fork', 'local', 'list', 'layer', 'markets', 'deposits', 'greater', 'deposit', 'desirable', 'r', 'present', 'leader', 'interval', 'achieves', 'proposal', 'secret', 'identities', 'relative', 'actual', 'orders', 'players', 'outputs', 'ﬁxed', 'practice', 'highest', 'minutes', 'assumptions', 'recovery', 'election', 'validator', 'feature', 'cap', 'variety', 'validate', 'crypto', 'evm', 'eg', 'actors', 'electronic', 'little', 'minimal', 'kind', 'reasons', 'options', 'coins', 'cryptography', 'environment', 'store', 'ideas', 'adoption', 'engine', 'fundamental', 'date', 'face', 'peertopeer', 'addresses', 'require', 'capabilities', 'scalable', 'natural', 'mining', 'discussion', 'uses', 'supports', 'signatures', 'assumption', 'launch', 'deployment', 'pay', 'attacker', 'lack', 'critical', 'performance', 'minimum', 'substantial', 'table', 'participation', 'vision', 'wish', 'opportunities', 'trade', 'token', 'company', 'side', 'international', 'expensive', 'infrastructure', 'need', 'match', 'credit', 'protect', 'analysis', 'withdrawal', 'customer', 'capital', 'traders', 'responsible', 'fraud', 'good', 'computer', 'level', 'course', 'verification', 'implement', 'percentage', 'customers', 'generate', 'scenario', 'chains', 'average', 'split', 'reduces', 'availability', 'channels', 'verify', 'internal', 'reference', 'andor', 'interact', 'contains', 'limit', 'slow', 'attempt', 'settlement', 'algorithm', 'quantity', 'volatility', 'publish', 'collateral', 'recover', 'estimate', 'wallets', 'programs', 'prices', 'secondary', 'tion', 'extra', 'add', 'follow', 'report', 'points', 'delay', 'guarantees', 'receives', 'condition', 'committee', 'select', 'turn', 'settings', 'round', 'introduce', 'ledger', 'p', 'reach', 'represent', 'proposals', 'deep', 'parameters', 'competitive', 'care', 'policy', 'numbers', 'contain', 'powers', 'miner', 'hardware', 'contributions', 'risks', 'classes', 'participant', 'game', 'onchain', 'implements', 'introduces', 'atomic', 'commitment', 'continuous', 'strategies', 'threshold', 'practical', 'participate', 'response', 'fewer', 'monetary', 'completion', 'line', 'transitions', 'suitable', 'holder', 'limits', 'proofofstake', 'parallel', 'proofofwork', 'post', 'prevents', 'lock', 'statements', 'projects', 'con', 'grow', 'computation', 'eﬃcient', 'generation', 'advantages', 'thousands', 'wealth', 'cash', 'membership', 'tions', 'consideration', 'figure', 'novel', 'allocation', 'dependent', 'anonymous', 'project', 'investment', 'relationship', 'authentication', 'today', 'pairs', 'choose', 'revenue', 'algorithms', 'products', 'withdrawals', 'help', 'spent', 'popular', 'generates', 'volume', 'server', 'partners', 'fund', 'web', 'leadership', 'phase', 'mobile', 'significant', 'action', 'tech', 'sender', 'root', 'satisfy', 'end', 'transact', 'reliable', 'denial', 'institutions', 'aware', 'gap', 'trades', 'timestamp', 'modify', 'see', 'inherent', 'amounts', 'inputs', 'difficult', 'merkle', 'authority', 'validity', 'clear', 'fashion', 'interaction', 'proofs', 'summary', 'entity', 'combine', 'refers', 'tool', 'portion', 'maintenance', 'series', 'advantage', 'reasonable', 'approach', 'march', 'returns', 'collection', 'pass', 'degree', 'encryption', 'ledgers', 'invalid', 'ratio', 'research', 'impossible', 'actions', 'direction', 'units', 'measure', 'trigger', 'rights', 'activity', 'context', 'window', 'become', 'simpler', 'determine', 'demand', 'range', 'position', 'return', 'january', 'f', 'bitcoins', 'encode', 'servers', 'insurance', 'give', 'transparent', 'net', 'option', 'enforcement', 'sale', 'logic', 'drive', 'former', 'move', 'gains', 'trustless', 'providers', 'protection', 'deterministic', 'names', 'rates', 'confirmation', 'specific', 'criteria', 'concrete', 'delivery', 'enjoy', 'anything', 'j', 'works', 'adaptive', 'progress', 'describe', 'better', 'length', 'moves', 'propagation', 'resilient', 'deﬁne', 'simplicity', 'refer', 'votes', 'oracle', 'updated', 'let', 'asynchronous', 'normal', 'component', 'bond', 'load', 'decisions', 'implies', 'developer', 'download', 'throughput', 'construction', 'light', 'inclusion', 'argument', 'compensation', 'parameter', 'concerns', 'notation', 'duration', 'conﬁrmation', 'devices', 'targets', 'appropriate', 'hard', 'sybil', 'amongst', 'factors', 'schemes', 'unlimited', 'default', 'minor', 'limitation', 'speciﬁc', 'precise', 'concern', 'complex', 'stack', 'latency', 'typical', 'enables', 'static', 'parts', 'discuss', 'bounds', 'discovery', 'enforce', 'proposition', 'forms', 'collect', 'releases', 'objective', 'algorithmic', 'past', 'accessible', 'goals', 'decentralization', 'seed', 'longer', 'oﬀers', 'tps', 'veriﬁcation', 'bandwidth', 'proportional', 'please', 'plans', 'innovations', 'longterm', 'science', 'integration', 'companies', 'person', 'team', 'trader', 'finance', 'view', 'standards', 'page', 'poor', 'understand', 'languages', 'play', 'task', 'securities', 'bits', 'charge', 'operators', 'chief', 'innovative', 'latter', 'banks', 'hours', 'run', 'capable', 'months', 'efficiency', 'schedule', 'social', 'activities', 'upgrades', 'plan', 'show', 'willing', 'decision', 'online', 'conference', 'doesnt', 'drop', 'gold', 'increases', 'headers', 'method', 'memory', 'physical', 'internet', 'accept', 'benefits', 'pair', 'calculate', 'pages', 'document', 'detect', 'subsequent', 'tolerant', 'cpu', 'theory', 'extract', 'checks', 'versions', 'cover', 'backbone', 'diﬀerence', 'index', 'u', 'advance', 'operate', 'stakeholders', 'board', 'tendermint', 'alternative', 'terminology', 'sure', 'e', 'l', 'impact', 'c1', 'censorship', 'entry', 'registration', 'evaluate', 'signiﬁcant', 'resource', 'begin', 'eligible', 'ideal', 'setup', 'notice', 'error', 'idea', 'challenge', 'bring', 'suﬃcient', 'bound', 'production', 'force', 'intrinsic', 'likely', 'volatile', 'elliptic', 'issuance', 'canonical', 'infeasible', 'detail', 'interested', 'existence', 'path', 'fair', 'highlevel', 'formal', 'statement', 'lines', 'sequence', 'pow', 'session', 'towards', 'purpose', 'deliver', 'write', 'improvement', 'wishes', 'exception', 'respect', 'trivial', 'ecdsa', 'calculation', 'partial', 'ready', 'restrictions', 'mechanics', 'viable', 'relevant', 'log', 'x', 'connection', 'nothing', 'limitations', 'creates', 'regulatory', 'style', 'provider', 'thirdparty', 'states', 'historical', 'factor', 'bad', 'consumer', 'experience', 'produce', 'erc20', 'june', 'candidate', 'raise', 'processes', 'corporate', 'bridge', 'regulations', 'priority', 'database', 'things', 'centralized', 'unable', 'capacity', 'domain', 'enforces', 'meet', 'periodic', 'something', 'great', 'manage', 'dapp', 'isnt', 'promise', 'organizations', 'worlds', 'easier', 'website', 'groups', 'gain', 'mainstream', 'merchant', 'derivatives', 'expansion', 'benefit', 'issuer', 'dapps', 'false', 'examples', 'submit', 'democratic', 'synchronous', 'permissionless', 'extensions', 'hold', 'player', 'unknown', 'classic', 'h', 'controls', 'grows', 'deﬁnitions', 'leaders', 'partition', 'moment', 'describes', 'becomes', 'voting', 'communicate', 'deﬁnition', 'adversary', 'keeps', 'safety', 'clarity', 'break', 'rule', 'extensive', 'dynamics', 'enter', 'ﬂexibility', 'week', 'procedure', 'g', 'words', 'corruption', 'topic', 'modiﬁcation', 'guide', 'big', 'knowledge', 'economics', 'ground', 'attempts', 'reliance', 'updates', 'dont', 'extend', 'cheap', 'adverse', 'balances', 'hence', 'hundreds', 'advances', 'apis', 'eﬀort', 'obligation', 'flexible', 'powerful', 'views', 'genesis', 'custom', 'operator', 'ﬁnancial', 'energy', 'sus', 'presentation', 'deploy', 'computers', 'realworld', 'subsets', 'maximal', 'mainnet', 'attention', 'predictable', 'determines', 'evolution', 'employ', 'principle', 'background', 'doublespend', 'environments', 'outline', 'connect', 'family', 'equality', 'entities', 'futures', 'stability', 'binance', 'consortium', 'draft', 'audit', 'consumes', 'api', 'situation', 'traffic', 'app', 'advisors', 'device', 'sources', 'limited', 'content', 'withdraw', 'professional', 'paradigm', 'flow', 'economy', 'deal', 'detection', 'procedures', 'sufficient', 'duties', 'stock', 'strategic', 'someone', 'investors', 'interfaces', 'tasks', 'review', 'simplest', 'live', 'everyone', 'express', 'sha256', 'non', 'sequences', 'come', 'frequent', 'accomplish', 'communications', 'sent', 'inconsistency', 'mint', 'tx', 'z', 'counterparty', 'broken', 'earliest', 'vulnerable', 'posts', 'usual', 'make', 'institution', 'backs', 'difference', 'longest', 'slower', 'implemented', 'suppose', 'exponential', 'symposium', 'bytes', 'circulation', 'confirm', 'equilibrium', 'fraction', 'mitigate', 'goods', 'constraints', 'liquid', 'essential', 'elections', 'capture', 'extension', 'early', 'commit', 'faults', 'graph', 'weight', 'shorter', 'inverse', 'respond', 'oﬀchain', 'rounds', 'al', 'ﬁgure', 'challenges', 'ﬁnal', 'feasible', 'notion', 'intermediate', 'strength', 'instances', 'none', 'pro', 'vitalik', 'completeness', 'issuers', 'grant', 'authorities', 'coinbase', 'variable', 'pseudorandom', 'perspective', 'identify', 'relies', 'stage', 'proﬁt', 'fails', 'primitive', 'com', 'foundations', 'presents', 'exposure', 'proper', 'nature', 'prevention', 'format', 'contribution', 'papers', 'understood', 'collaboration', 'buterin', 'equation', 'quality', 'ties', 'stakes', 'instantaneous', 'quantities', 'inter', 'hot', 'signs', 'claims', 'func', 'consistent', 'frequency', 'cold', 'occur', 'concepts', 'brief', 'pre', 'depth', 'publishes', 'aims', 'stronger', 'smallest', 'raw', 'shows', 'comparable', 'unlikely', 'median', 'submits', 'representative', 'randomness', 'nontrivial', 'notes', 'david', 'george', 'sense', 'cryp', 'serious', 'allows', 'counter', 'realtime', 'compute', 'metadata', 'piece', 'dual', 'multi', 'custodian', 'freeze', 'jurisdictions', 'weak', 'cheaper', 'p2p', 'register', 'innovation', 'oﬀer', 'buy', 'constitute', 'enhance', 'checkpoint', 'ordinary', 'specify', 'outside', 'expenses', 'consume', 'universal', 'questions', 'mean', 'provide', 'failures', 'dao', 'par', 'leverage', 'instruments', 'arbitrage', 'dollar', 'duplicate', 'documentation', 'medium', 'integral', 'agents', 'situations', 'department', 'countries', 'conduct', 'records', 'approaches', 'multisig', 'contributors', 'correctness', 'monthly', 'thanks', 'compromise', 'builtin', 'oracles', 'reputation', 'marginal', 'reserves', 'organization', 'body', 'characteristics', 'submission', 'consumers', 'transparency', 'library', 'consumption', 'categories', 'levels', 'name', 'custody', 'fault', 'blog', 'bounty', 'glossary', 'proprietary', 'sys', 'matters', 'combination', 'rapid', 'policies', 'url', 'interactive', 'intuitive', 'rise', 'pools', 'test', 'foundational', 'tax', 'create', 'holdings', 'roadmap', 'testnet', 'governments', 'ecommerce', 'relationships', 'daily', 'multisignature', 'aspect', 'curve', 'concept', 'efficient', 'redemption', 'swaps', 'prove', 'destination', 'configuration', 'conceptual', 'denote', 'cid16', 'literature', 'discussions', 'committees', 'halt', 'cryptology', 'resilience', 'scheme', 'agreements', 'micali', 'propagate', 'credentials', 'reaches', 'veriﬁable', 'ip', 'signer', 'partitions', 'exist', 'certiﬁcate', 'identiﬁes', 'copies', 'primitives', 'archive', 'interests', 'envision', 'reality', 'rich', 'disk', 'minimize', 'decades', 'optimizations', 'compilation', 'ipfs', 'disclosure', 'electricity', 'suﬀer', 'distinction', 'spend', 'securing', 'quick', 'bigger', 'bootstrap', 'topics', 'premium', 'exceeds', 'attackers', 'connections', 'arithmetic', 'mode', 'finality', 'interactions', 'philosophy', 'hostile', 'behavior', 'invalidate', 'ﬁle', 'synchronize', 'presence', 'reader', 'highperformance', 'classical', 'variance', 'bear', 'preliminary', 'essence', 'latencies', 'forks', 'ticular', 'samples', 'eﬀects', 'heavy', 'custodians', 'vm', 'port', 'undue', 'lightweight', 'resistant', 'anticipate', 'implications', 'expect', 'oﬀ', 'parameterizable', 'diﬀerences', 'frame', 'induce', 'stakers', 'reputable', 'render', 'widespread', 'accommodate', 'diﬀer', 'barrier', 'serves', 'liveness', 'ized', 'adversarial', 'subset', 'heart', 'τ', 'dozens', 'passes', 'queries', 'aim', 'anchor', 'machines', 'hands', 'realistic', 'statistical', 'added', 'founder', 'emergency', 'job', 'york', 'firms', 'revenues', 'slippage', 'middleware', 'detailed', 'otc', 'notable', 'ui', 'cybersecurity', 'manager', 'btc', 'ico', 'chinese', 'media', 'deutsche', 'antimoney', 'discount', 'zhang', 'teams', 'involved', 'pc', 'income', 'finishes', 'sensitive', 'variations', 'speed', 'intro', 'government', 'etc', 'hong', 'site', 'yes', 'firm', 'strict', 'age', 'engineering', 'mind', 'institutional', 'partner', 'ii', 'branches', 'acceptance', 'coordination', 'branch', 'distribute', 'steady', 'catch', 'effort', 'uncertainties', 'broadcast', 'proc', 'doublespent', 'greatest', 'buyers', 'k0', 'timestamps', 'define', 'inflation', 'walk', 'analogous', 'alternate', 'commerce', 'hour', 'infinite', 'defraud', 'incomplete', 'proceedings', 'dishonest', 'switch', 'reliability', 'consider', 'header', 'reveal', 'items', 'acm', 'recipient', 'allow', 'compensate', 'suffers', 'vol', 'channel', 'dai', 'allocate', 'cor', 'conclude', 'functionalities', 'ﬂat', 'workshop', 'amazon', 'head', 'models', 'broader', 'beneﬁts', 'late', 'incentivized', 'demands', 'correspond', 'sample', 'diagram', 'daniel', 'eliminate', 'publickey', 'april', 'article', 'experimental', 'regime', 'collective', 'tal', 'european', 'october', 'ieee', 'certainty', 'borrow', 'segment', 'variant', 'elements', 'negligible', 'builds', 'yield', 'sole', 'tocurrency', 'exact', 'august', 'talk', 'commitments', 'worst', 'expense', 'straightforward', 'deviation', 'existential', 'sequential', 'integer', 'vulnerability', 'ap', 'concentration', 'outcome', 'deviations', 'persistent', 'stages', 'satisﬁes', 'estimates', 'stream', 'inconsistencies', 'height', 'minute', 'identical', 'scope', 'study', 'mines', 'circumstances', 'sections', 'provision', 'revert', 'responsibility', 'interesting', 'invest', 'un', 'mark', 'subtle', 'tional', 'answers', 'losses', 'rigorous', 'council', 'heuristic', 'immediate', 'dis', 'possess', 'collision', 'interacts', 'behalf', 'ity', 'distinguish', 'indication', 'choices', 'denotes', 'immutable', 'restrict', 'endorsement', 'elastic', 'continue', 's0', 'ij', 'histories', 'matches', 'permit', 'adopts', 'settle', 'ask', 'intervals', 'executions', 'di', 'trans', 'proxy', 'computes', 'assurance', 'abstraction', 'terminate', 'removal', 'evaluation', 'mine', 'matter', 'assign', 'conditional', 'multiparty', 'adjacent', 'delegation', 'vs', 'accounting', 'cumulative', 'mod', 'christian', 'arises', 'indexes', 'favor', 'commons', 'noninteractive', 'negative', 'mixed', 'derive', 'weights', 'rank', 'delegate', 'superior', 'consist', 'proceeds', 'iii', 'proportion', 'ad', 'comparison', 'overview', 'earlier', 'structural', 'identiﬁed', 'bitshares', 'declare', 'reveals', 'acceptable', 'distance', 'unavailable', 'evidence', 'places', 'ab', 'susceptible', 'university', 'equity', 'augment', 'observers', 'cloud', 'requests', 'processing', 'february', 'worth', 'unnecessary', 'adopt', 'master', 'errors', 'se', 'autonomous', 'pattern', 'pub', 'ed', 'positions', 'candidates', 'c2', 'lets', 'loans', 'compete', 'uptodate', 'connectivity', 'problematic', 'bft', 'nfts', 'obvious', 'namecoin', 'ness', 'ascertain', 'conventional', 'diﬀers', 'applicable', 'vice', 'maximize', 'possession', 'extent', 'attractive', 'usability', 'unpredictable', 'scenarios', 'accordance', 'principal', 'convenient', 'logs', 'stores', 'array', 'news', 'compatible', 'monitors', 'pays', 'loan', 'batch', 'diverse', 'compatibility', 'tolerance', 'vast', 'nft', 'query', 'lowlevel', 'designs', 'eth', 'spending', 'maps', 'integrates', 'individuals', 'meaningful', 'actor', 'reduction', 'robustness', 'tive', 'tor', 'jan', 'fun', 'optional', 'prediction', 'wbtc', 'related', 'ease', 'auction', 'defense', 'thirds', 'cancel', 'excess', 'extensible', 'cycle', 'maintains', 'composed', 'discretion', 'ﬁrst', 'gpus', 'apps', 'capability', 'creators', 'upcoming', 'withdrawn', 'jp', 'perfect', 'vary', 'exclusive', 'rotation', 'eos', 'pieces', 'ex', 'legacy', 'blue', 'tem', 'volumes', 'serve', 'lowest', 'accuracy', 'optimize', 'golang', 'nonfungible', 'territory', 'assess', 'browser', 'exploration', 'expertise', 'technologies', 'improvements', 'outlines', 'brand', 'severe', 'reports', 'transac', 'dangerous', 'accurate', 'ship', 'enterprise', 'nascent', 'feed', 'complement', 'speculative', 'subjective', 'zcash', 'cess', 'imposes', 'integrity', 'diﬀerentiate', 'forwards', 'fall', 'economies', 'marks', 'promote', 'cosmos', 'payload', 'sync', 'fast', 'soft', 'roles', 'vectors', 'checkpoints', 'faulttolerant', 'id', 'complications', 'quarterly', 'functional', 'keep', 'inspection', 'pushes', 'bit', 'twitter', 'documents', 'interoperability', 'google', 'conﬁdence', 'transport', 'eﬃciency', 'cards', 'regulation', 'games', 'custodial', 'read', 'jurisdiction', 'phones', 'final', 'refund', 'whitepaper', 'timeframe', 'trend', 'smooth', 'journey', 'producer', 'desktop', 'hedge', 'convert', 'human', 'reflect', 'contribute', 'search', 'month', 'abc', 'award', 'compliant', 'banking', 'usdc', 'mission', 'offers', 'locations', 'prime', 'outstanding', 'reddit', 'apply', 'stablecoin', 'providing', 'effect', 'merits', 'december', 'usdt', 'grants', 'expand', 'aspects', 'half', 'look', 'contact', 'massive', 'fields', 'nxt', 'question', 'ethereums', 'incentivization', 'byte', 'assigned', 'bytecode', 'trees', 'funding', 'involve', 'sell', 'solve', 'exit', 'instruction', 'hub', 'verifies', 'advanced', 'leaf', 'opcode', 'effective', 'exists', 'ripple', 'burn', 'decrease', 'likelihood', 'mature']\n"
     ]
    }
   ],
   "source": [
    "# Single words\n",
    "agg_words = []\n",
    "for coin in word_bank:\n",
    "    agg_words.extend(word_bank[coin])\n",
    "\n",
    "single_counter = Counter(agg_words)\n",
    "# print(single_counter.most_common(700))\n",
    "print([x[0] for x in single_counter.most_common(2000)])"
   ]
  },
  {
   "cell_type": "code",
   "execution_count": 15,
   "id": "b6ac97f2-998c-4e3c-bd5e-f4026e56a2f2",
   "metadata": {},
   "outputs": [
    {
     "name": "stdout",
     "output_type": "stream",
     "text": [
      "[('cryptocurrency', 'record'), ('strong', 'value'), ('tokens', 'operations'), ('event', 'transaction'), ('amount', 'users'), ('long', 'access'), ('private', 'avoid'), ('ownership', 'safe'), ('public', 'transfer'), ('get', 'key'), ('previous', 'facilitate'), ('signature', 'proposal'), ('potential', 'start'), ('creation', 'virtual'), ('block', 'ownership'), ('correct', 'attack'), ('special', 'easy'), ('security', 'transition'), ('use', 'best'), ('details', 'many'), ('history', 'open'), ('gas', 'different'), ('key', 'timestamp'), ('point', 'software'), ('data', 'equivalent'), ('paper', 'malicious'), ('problem', 'maximum'), ('layer', 'second'), ('consensus', 'initial'), ('call', 'prevent'), ('random', 'stake'), ('balance', 'represent'), ('validator', 'active'), ('active', 'r'), ('blocks', 'release'), ('virtual', 'members'), ('users', 'parameters'), ('vote', 'features'), ('unit', 'source'), ('enable', 'byzantine'), ('node', 'completion'), ('best', 'proofofstake'), ('desirable', 'proofofwork'), ('holders', 'attacks'), ('main', 'period'), ('important', 'developers'), ('platforms', 'time'), ('help', 'certain'), ('able', 'paper'), ('successful', 'need'), ('fund', 'year'), ('sender', 'event'), ('transfers', 'individual'), ('availability', 'similar'), ('split', 'requirement'), ('access', 'generates'), ('state', 'larger'), ('example', 'rate'), ('form', 'limit'), ('software', 'general'), ('track', 'options'), ('purposes', 'property'), ('functions', 'design'), ('currency', 'function'), ('scenario', 'total'), ('changes', 'control'), ('output', 'introduction'), ('supply', 'feature'), ('various', 'payments'), ('account', 'clients'), ('instant', 'information'), ('actors', 'technology'), ('next', 'manner'), ('notation', 'requirements'), ('nodes', 'role'), ('old', 'low'), ('participate', 'costs'), ('date', 'real'), ('monetary', 'node'), ('contract', 'protocol'), ('increase', 'interface'), ('exchange', 'statements'), ('stake', 'execution'), ('change', 'consensus'), ('terms', 'main'), ('arbitrary', 'model'), ('constant', 'platforms'), ('assumptions', 'term'), ('chance', 'client'), ('side', 'base'), ('delay', 'systems'), ('credit', 'technology'), ('technology', 'usd'), ('charge', 'usage'), ('efficiency', 'fees'), ('introduction', 'customers'), ('security', 'addition'), ('addition', 'computational'), ('circulation', 'entire'), ('last', 'project'), ('fashion', 'full'), ('common', 'board'), ('majority', 'utility'), ('ethereum', 'march'), ('function', 'currency'), ('stable', 'useful'), ('complete', 'reference'), ('transaction', 'complexity'), ('direction', 'work'), ('scalable', 'loss'), ('inputs', 'development'), ('list', 'new'), ('holders', 'needs'), ('needs', 'attacks'), ('metadata', 'single'), ('order', 'support'), ('facilitate', 'pos'), ('monthly', 'conditions'), ('service', 'categories'), ('custody', 'events'), ('various', 'mainstream'), ('platform', 'number'), ('cases', 'trades'), ('capital', 'traders'), ('projects', 'problem'), ('open', 'former'), ('former', 'see'), ('vision', 'specific'), ('original', 'parties'), ('result', 'simple'), ('case', 'side'), ('style', 'type'), ('requirement', 'issues'), ('mechanism', 'output'), ('send', 'claim'), ('individual', 'wallets'), ('property', 'synchronous'), ('r', 'future'), ('means', 'able'), ('players', 'malicious'), ('veriﬁable', 'outputs'), ('deﬁne', 'abstract'), ('updated', 'send'), ('steps', 'public'), ('feature', 'cap'), ('release', 'creation'), ('fee', 'components'), ('load', 'funds'), ('base', 'maintain'), ('certain', 'enter'), ('additional', 'lower'), ('changes', 'various'), ('throughput', 'construction'), ('distribution', 'people'), ('week', 'major'), ('major', 'ones'), ('miner', 'instant'), ('argument', 'private'), ('optimizations', 'implementation'), ('process', 'merchants'), ('small', 'securing'), ('direct', 'data'), ('game', 'section'), ('requirements', 'ability'), ('language', 'true'), ('true', 'correct'), ('basis', 'coins'), ('appropriate', 'hard'), ('amongst', 'environment'), ('useful', 'stable'), ('extend', 'introduces'), ('success', 'conditions'), ('source', 'advances'), ('default', 'applications'), ('example', 'periods'), ('speciﬁc', 'participate'), ('powerful', 'require'), ('easy', 'enjoy'), ('tools', 'solutions'), ('current', 'increase'), ('agree', 'discovery'), ('lightweight', 'enforce'), ('releases', 'resources'), ('objective', 'digital'), ('con', 'attacker'), ('storage', 'smart'), ('period', 'generation'), ('generation', 'space'), ('space', 'seed'), ('tps', 'agreement'), ('participation', 'consideration'), ('term', 'tokens'), ('statistical', 'public'), ('plans', 'investment'), ('withdrawals', 'team'), ('order', 'standards'), ('standards', 'support'), ('spent', 'sources'), ('volume', 'class'), ('large', 'source'), ('level', 'upgrades'), ('payment', 'problem'), ('messages', 'needs'), ('size', 'percentage'), ('aware', 'gap'), ('see', 'year'), ('honest', 'transactions'), ('p', 'place'), ('versions', 'owner'), ('anonymous', 'framework'), ('z', 'result'), ('account', 'increases'), ('number', 'correspond'), ('advance', 'match'), ('tendermint', 'next'), ('process', 'shorter'), ('value', 'alternative'), ('elements', 'course'), ('blockchain', 'satisfy'), ('internal', 'short'), ('cause', 'begin'), ('gap', 'pass'), ('challenge', 'reserve'), ('rate', 'periods'), ('opportunity', 'incentives'), ('incentives', 'foundations'), ('particular', 'scope'), ('low', 'andor'), ('right', 'precise'), ('papers', 'rigorous'), ('bitcoin', 'special'), ('networks', 'units'), ('protocol', 'ties'), ('identities', 'interact'), ('solutions', 'likely'), ('interface', 'keys'), ('loss', 'suitable'), ('context', 'natural'), ('participants', 'largest'), ('message', 'possibility'), ('become', 'assumption'), ('currencies', 'lines'), ('session', 'towards'), ('claim', 'concepts'), ('brief', 'purpose'), ('stake', 'improvement'), ('christian', 'root'), ('accept', 'get'), ('timestamp', 'state'), ('declare', 'references'), ('ab', 'time'), ('term', 'operations'), ('transfer', 'scale'), ('nothing', 'dependent'), ('volatility', 'little'), ('safe', 'servers'), ('social', 'updated'), ('non', 'due'), ('company', 'owners'), ('blockchains', 'challenges'), ('application', 'several'), ('spot', 'registration'), ('market', 'doesnt'), ('algorithm', 'merkle'), ('operations', 'request'), ('c', 'countries'), ('propose', 'upcoming'), ('conditions', 'logic'), ('builtin', 'machine'), ('production', 'economic'), ('blue', 'recovery'), ('standard', 'serve'), ('interact', 'tools'), ('innovative', 'golang'), ('performance', 'consumers'), ('larger', 'target'), ('fee', 'crypto'), ('levels', 'world'), ('average', 'direct'), ('true', 'ways'), ('marks', 'incentives'), ('incentives', 'particular'), ('days', 'brief'), ('full', 'read'), ('additional', 'gain'), ('lower', 'whole'), ('phones', 'incentive'), ('incentive', 'c'), ('people', 'platform'), ('final', 'receives'), ('rates', 'recent'), ('tax', 'process'), ('n', 'domain'), ('features', 'liquidity'), ('several', 'utility'), ('promise', 'amongst'), ('thirdparty', 'states'), ('success', 'monthly'), ('protocols', 'leadership'), ('community', 'confirmation')]\n"
     ]
    }
   ],
   "source": [
    "#2-gram counter\n",
    "agg_words_2gram = []\n",
    "for coin in word_bank:\n",
    "    agg_words_2gram.extend(ngrams(word_bank[coin], 2))\n",
    "\n",
    "two_gram_counter = Counter(agg_words_2gram)\n",
    "# print(two_gram_counter.most_common(150))\n",
    "print([x[0] for x in two_gram_counter.most_common(300)])"
   ]
  },
  {
   "cell_type": "code",
   "execution_count": 16,
   "id": "26076b59-2a9e-40c4-a290-a669fc7d340b",
   "metadata": {},
   "outputs": [
    {
     "name": "stdout",
     "output_type": "stream",
     "text": [
      "[(('creation', 'virtual', 'members'), 5), (('block', 'ownership', 'safe'), 5), (('open', 'former', 'see'), 4), (('transfers', 'individual', 'wallets'), 4), (('validator', 'active', 'r'), 3), (('true', 'correct', 'attack'), 3), (('special', 'easy', 'enjoy'), 3), (('use', 'best', 'proofofstake'), 3), (('main', 'period', 'generation'), 3), (('period', 'generation', 'space'), 3), (('term', 'tokens', 'operations'), 3), (('credit', 'technology', 'usd'), 3), (('strong', 'value', 'alternative'), 3), (('bitcoin', 'special', 'easy'), 3), (('holders', 'needs', 'attacks'), 3), (('accept', 'get', 'key'), 3), (('key', 'timestamp', 'state'), 3), (('public', 'transfer', 'scale'), 3), (('tokens', 'operations', 'request'), 3), (('success', 'monthly', 'conditions'), 3), (('sender', 'event', 'transaction'), 3), (('event', 'transaction', 'complexity'), 3), (('network', 'banking', 'capabilities'), 3), (('history', 'open', 'former'), 3), (('see', 'fund', 'year'), 3), (('point', 'software', 'general'), 3), (('split', 'requirement', 'issues'), 3), (('call', 'prevent', 'reasons'), 3), (('change', 'consensus', 'initial'), 3), (('consensus', 'initial', 'messages'), 3), (('part', 'stable', 'useful'), 3), (('previous', 'facilitate', 'pos'), 3), (('tokens', 'operations', 'conversion'), 3), (('operations', 'conversion', 'request'), 3), (('access', 'generates', 'available'), 3), (('leader', 'amount', 'users'), 2), (('orders', 'changes', 'control'), 2), (('means', 'able', 'players'), 2), (('players', 'malicious', 'paper'), 2), (('references', 'veriﬁable', 'outputs'), 2), (('total', 'ﬁxed', 'system'), 2), (('active', 'r', 'future'), 2), (('component', 'supply', 'feature'), 2), (('supply', 'feature', 'cap'), 2), (('feature', 'cap', 'hold'), 2), (('variety', 'blocks', 'release'), 2), (('blocks', 'release', 'creation'), 2), (('release', 'creation', 'virtual'), 2), (('systems', 'generalised', 'guarantees'), 2), (('miner', 'instant', 'information'), 2), (('contributions', 'potential', 'start'), 2), (('argument', 'private', 'avoid'), 2), (('private', 'avoid', 'words'), 2), (('process', 'merchants', 'compilation'), 2), (('point', 'projections', 'software'), 2), (('language', 'true', 'correct'), 2), (('unit', 'source', 'advances'), 2), (('results', 'subject', 'threshold'), 2), (('rig', 'practical', 'ﬁxed'), 2), (('example', 'periods', 'rate'), 2), (('speciﬁc', 'participate', 'costs'), 2), (('date', 'real', 'fewer'), 2), (('monetary', 'node', 'completion'), 2), (('reverted', 'guarantee', 'stack'), 2), (('current', 'increase', 'interface'), 2), (('undue', 'lightweight', 'enforce'), 2), (('management', 'resistant', 'realworld'), 2), (('assets', 'use', 'best'), 2), (('desirable', 'proofofwork', 'post'), 2), (('terms', 'main', 'period'), 2), (('constant', 'platforms', 'time'), 2), (('assumptions', 'term', 'tokens'), 2), (('statistical', 'public', 'transfer'), 2), (('simple', 'status', 'finance'), 2), (('order', 'standards', 'support'), 2), (('cryptocurrency', 'record', 'poor'), 2), (('operators', 'economy', 'income'), 2), (('fund', 'year', 'strong'), 2), (('customers', 'security', 'addition'), 2), (('accept', 'key', 'timestamp'), 2), (('conclusion', 'point', 'software'), 2), (('point', 'software', 'digital'), 2), (('r', 'removed', 'future'), 2), (('core', 'fashion', 'full'), 2), (('users', 'parameters', 'relationship'), 2), (('broader', 'decisions', 'beneﬁts'), 2), (('distribution', 'identity', 'page'), 2), (('article', 'unconditional', 'large'), 2), (('tendermint', 'next', 'manner'), 2), (('regime', 'strong', 'value'), 2), (('correct', 'attack', 'ways'), 2), (('aware', 'gap', 'pass'), 2), (('eligible', 'previous', 'facilitate'), 2), (('complete', 'reference', 'variable'), 2), (('moves', 'presence', 'generate'), 2), (('rate', 'periods', 'example'), 2), (('incentives', 'foundations', 'particular'), 2), (('composition', 'p', 'place'), 2), (('fewer', 'suﬃcient', 'bound'), 2), (('special', 'easy', 'democracy'), 2), (('paper', 'malicious', 'ij'), 2), (('instantaneous', 'agree', 'discovery'), 2), (('hand', 'become', 'assumption'), 2), (('inputs', 'development', 'bulletin'), 2), (('fresh', 'desirable', 'proofofwork'), 2), (('dpos', 'random', 'stake'), 2), (('random', 'stake', 'improvement'), 2), (('details', 'many', 'demand'), 2), (('get', 'key', 'timestamp'), 2), (('timestamp', 'state', 'larger'), 2), (('ab', 'time', 'mitment'), 2), (('log', 'environments', 'chains'), 2), (('quantity', 'assumptions', 'term'), 2), (('assumptions', 'term', 'operations'), 2), (('transfer', 'scale', 'allows'), 2), (('common', 'board', 'positions'), 2), (('direction', 'ity', 'work'), 2), (('monthly', 'conditions', 'logic'), 2), (('state', 'larger', 'target'), 2), (('language', 'peer', 'true'), 2), (('marks', 'incentives', 'particular'), 2), (('party', 'documents', 'website'), 2), (('holders', 'attacks', 'sector'), 2), (('cap', 'jurisdiction', 'variety'), 2), (('world', 'malware', 'product'), 2), (('incentive', 'c', 'countries'), 2), (('various', 'mainstream', 'payments'), 2), (('people', 'platform', 'number'), 2), (('markets', 'final', 'receives'), 2), (('industry', 'custody', 'events'), 2), (('necessary', 'payment', 'executive'), 2), (('application', 'several', 'utility'), 2), (('share', 'corporate', 'group'), 2), (('millions', 'contributors', 'home'), 2), (('contributors', 'home', 'privacy'), 2), (('capital', 'traders', 'organizations'), 2), (('increase', 'mission', 'interface'), 2), (('advisors', 'cryptocurrencies', 'providers'), 2), (('cold', 'functions', 'design'), 2), (('development', 'pain', 'providing'), 2), (('pain', 'providing', 'rules'), 2), (('problem', 'relationships', 'maximum'), 2), (('list', 'new', 'settlement'), 2), (('asset', 'company', 'owners'), 2), (('consensus', 'initial', 'holders'), 2), (('initial', 'holders', 'attacks'), 2), (('documentation', 'important', 'developers'), 2), (('former', 'see', 'fund'), 2), (('future', 'proposals', 'sha256'), 2), (('fashion', 'full', 'read'), 2)]\n"
     ]
    }
   ],
   "source": [
    "#3-gram counter\n",
    "agg_words_3gram = []\n",
    "for coin in word_bank:\n",
    "    agg_words_3gram.extend(ngrams(word_bank[coin], 3))\n",
    "\n",
    "three_gram_counter = Counter(agg_words_3gram)\n",
    "print(three_gram_counter.most_common(150))\n",
    "# print([x[0] for x in three_gram_counter.most_common(300)])"
   ]
  },
  {
   "cell_type": "code",
   "execution_count": 17,
   "id": "60b3d30c-decd-41ea-a1d7-791c413e6ef9",
   "metadata": {},
   "outputs": [
    {
     "name": "stdout",
     "output_type": "stream",
     "text": [
      "[('main', 'period', 'generation', 'space'), ('history', 'open', 'former', 'see'), ('tokens', 'operations', 'conversion', 'request'), ('validator', 'active', 'r', 'future'), ('supply', 'feature', 'cap', 'hold'), ('release', 'creation', 'virtual', 'members'), ('language', 'true', 'correct', 'attack'), ('terms', 'main', 'period', 'generation'), ('assumptions', 'term', 'tokens', 'operations'), ('conclusion', 'point', 'software', 'digital'), ('bitcoin', 'special', 'easy', 'democracy'), ('get', 'key', 'timestamp', 'state'), ('key', 'timestamp', 'state', 'larger'), ('quantity', 'assumptions', 'term', 'operations'), ('public', 'transfer', 'scale', 'allows'), ('millions', 'contributors', 'home', 'privacy'), ('sender', 'event', 'transaction', 'complexity'), ('development', 'pain', 'providing', 'rules'), ('consensus', 'initial', 'holders', 'attacks'), ('open', 'former', 'see', 'fund'), ('former', 'see', 'fund', 'year'), ('ownership', 'safe', 'servers', 'validity'), ('sale', 'works', 'problematic', 'control'), ('free', 'change', 'consensus', 'initial'), ('change', 'consensus', 'initial', 'messages'), ('deposits', 'influence', 'memory', 'documentation'), ('transfers', 'individual', 'wallets', 'member'), ('roadmap', 'split', 'requirement', 'issues'), ('messages', 'holders', 'needs', 'attacks'), ('open', 'former', 'see', 'year'), ('external', 'horizontal', 'additional', 'lower'), ('promise', 'amongst', 'mechanism', 'output'), ('sufficient', 'scenario', 'total', 'robust'), ('event', 'transaction', 'complexity', 'compliant'), ('secure', 'insufficient', 'third', 'provability'), ('withdrawal', 'implementations', 'code', 'banks'), ('implementations', 'code', 'banks', 'management'), ('long', 'access', 'generates', 'available'), ('addresses', 'testnet', 'event', 'transaction'), ('desirable', 'tion', 'resets', 't1'), ('tion', 'resets', 't1', 'democratic'), ('resets', 't1', 'democratic', 'corresponds'), ('t1', 'democratic', 'corresponds', 'ﬁnishes'), ('democratic', 'corresponds', 'ﬁnishes', 'complexity'), ('corresponds', 'ﬁnishes', 'complexity', 'properties'), ('ﬁnishes', 'complexity', 'properties', 'property'), ('complexity', 'properties', 'property', 'synchronous'), ('properties', 'property', 'synchronous', 'permissionless'), ('property', 'synchronous', 'permissionless', 'focs'), ('synchronous', 'permissionless', 'focs', 'thefollowingpropertiesholdevenduringanetworkpartition'), ('permissionless', 'focs', 'thefollowingpropertiesholdevenduringanetworkpartition', 'concrete'), ('focs', 'thefollowingpropertiesholdevenduringanetworkpartition', 'concrete', 'ie'), ('thefollowingpropertiesholdevenduringanetworkpartition', 'concrete', 'ie', 'r'), ('concrete', 'ie', 'r', 'future'), ('ie', 'r', 'future', 'step'), ('r', 'future', 'step', 'sergey'), ('future', 'step', 'sergey', 'democoin'), ('step', 'sergey', 'democoin', 'cryptographic'), ('sergey', 'democoin', 'cryptographic', 'receive'), ('democoin', 'cryptographic', 'receive', 'conceptual'), ('cryptographic', 'receive', 'conceptual', 'cλ'), ('receive', 'conceptual', 'cλ', 'traditional'), ('conceptual', 'cλ', 'traditional', 'oddnumbered'), ('cλ', 'traditional', 'oddnumbered', 'necessary'), ('traditional', 'oddnumbered', 'necessary', 'moreover'), ('oddnumbered', 'necessary', 'moreover', 'full'), ('necessary', 'moreover', 'full', 'delivery'), ('moreover', 'full', 'delivery', 'original'), ('full', 'delivery', 'original', 'extensions'), ('delivery', 'original', 'extensions', 'present'), ('original', 'extensions', 'present', 'random'), ('extensions', 'present', 'random', 'stake'), ('present', 'random', 'stake', 'track'), ('random', 'stake', 'track', 'execution'), ('stake', 'track', 'execution', 'network'), ('track', 'execution', 'network', 'extra'), ('execution', 'network', 'extra', 'relaxed'), ('network', 'extra', 'relaxed', 'cid96'), ('extra', 'relaxed', 'cid96', 'hold'), ('relaxed', 'cid96', 'hold', 'blocks'), ('cid96', 'hold', 'blocks', 'hash'), ('hold', 'blocks', 'hash', 'reset'), ('blocks', 'hash', 'reset', 'members'), ('hash', 'reset', 'members', 'special'), ('reset', 'members', 'special', 'majority'), ('members', 'special', 'majority', 'enjoy'), ('special', 'majority', 'enjoy', 'leader'), ('majority', 'enjoy', 'leader', 'amount'), ('enjoy', 'leader', 'amount', 'users'), ('leader', 'amount', 'users', 'add'), ('amount', 'users', 'add', 'interval'), ('users', 'add', 'interval', 'blockchain'), ('add', 'interval', 'blockchain', 'timea'), ('interval', 'blockchain', 'timea', 'separate'), ('blockchain', 'timea', 'separate', 'new'), ('timea', 'separate', 'new', 'networks'), ('separate', 'new', 'networks', 'denote'), ('new', 'networks', 'denote', 'achieves'), ('networks', 'denote', 'achieves', 'signature'), ('denote', 'achieves', 'signature', 'proposal')]\n"
     ]
    }
   ],
   "source": [
    "#4-gram counter\n",
    "agg_words_4gram = []\n",
    "for coin in word_bank:\n",
    "    agg_words_4gram.extend(ngrams(word_bank[coin], 4))\n",
    "\n",
    "four_gram_counter = Counter(agg_words_4gram)\n",
    "# print(four_gram_counter.most_common(150))\n",
    "print([x[0] for x in four_gram_counter.most_common(100)])"
   ]
  },
  {
   "cell_type": "code",
   "execution_count": null,
   "id": "22160eed-d11e-43d6-bdf0-915b7e143f85",
   "metadata": {},
   "outputs": [],
   "source": []
  }
 ],
 "metadata": {
  "kernelspec": {
   "display_name": "Python 3 (ipykernel)",
   "language": "python",
   "name": "python3"
  },
  "language_info": {
   "codemirror_mode": {
    "name": "ipython",
    "version": 3
   },
   "file_extension": ".py",
   "mimetype": "text/x-python",
   "name": "python",
   "nbconvert_exporter": "python",
   "pygments_lexer": "ipython3",
   "version": "3.9.7"
  }
 },
 "nbformat": 4,
 "nbformat_minor": 5
}
