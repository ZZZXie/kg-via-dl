{
 "cells": [
  {
   "cell_type": "markdown",
   "id": "fdd8d5a2",
   "metadata": {},
   "source": [
    "### Import library"
   ]
  },
  {
   "cell_type": "code",
   "execution_count": 1,
   "id": "73538a91",
   "metadata": {},
   "outputs": [],
   "source": [
    "import warnings\n",
    "warnings.filterwarnings(\"ignore\")\n",
    "import pandas as pd\n",
    "import numpy as np\n",
    "import collections\n",
    "import re\n",
    "import os\n",
    "import string\n",
    "pd.set_option('display.max_colwidth', 200)\n",
    "from sklearn.feature_extraction.text import CountVectorizer"
   ]
  },
  {
   "cell_type": "code",
   "execution_count": 2,
   "id": "406767f5",
   "metadata": {},
   "outputs": [],
   "source": [
    "#!pip install BeautifulSoup4\n",
    "# import nltk\n",
    "# nltk.download()  # Download text data sets, including stop words"
   ]
  },
  {
   "cell_type": "code",
   "execution_count": 3,
   "id": "1e3181b9",
   "metadata": {},
   "outputs": [],
   "source": [
    "from nltk.corpus import stopwords # Import the stop word list\n",
    "from collections import Counter\n",
    "from nltk.util import ngrams\n",
    "from nltk import word_tokenize, pos_tag\n",
    "from nltk.stem import WordNetLemmatizer"
   ]
  },
  {
   "cell_type": "code",
   "execution_count": 4,
   "id": "a98f1fe0-dcf2-4e47-8fb0-726bd1f9c7d9",
   "metadata": {},
   "outputs": [],
   "source": [
    "lemmatizer = WordNetLemmatizer()"
   ]
  },
  {
   "cell_type": "code",
   "execution_count": 5,
   "id": "4a587e8c-d2d7-4f9a-8d5f-e18ef62e8de8",
   "metadata": {},
   "outputs": [
    {
     "data": {
      "text/plain": [
       "'require'"
      ]
     },
     "execution_count": 5,
     "metadata": {},
     "output_type": "execute_result"
    }
   ],
   "source": [
    "lemmatizer.lemmatize(\"requires\", pos='v')"
   ]
  },
  {
   "cell_type": "markdown",
   "id": "34f88992",
   "metadata": {
    "tags": []
   },
   "source": [
    "### Whitepaper datasource"
   ]
  },
  {
   "cell_type": "code",
   "execution_count": 6,
   "id": "6c185377-0b77-4feb-9f78-8cb770062e6e",
   "metadata": {},
   "outputs": [],
   "source": [
    "stopwords_set = set(stopwords.words('english'))"
   ]
  },
  {
   "cell_type": "code",
   "execution_count": 7,
   "id": "e12a9f03-2ef8-4acf-800e-198377ecba5f",
   "metadata": {},
   "outputs": [],
   "source": [
    "def extract_and_clean(line, stopwords):\n",
    "    # words = [x.strip() for x in re.split(',| |\\. |\\: ', line) if x]\n",
    "    # words = map(str.lower, words)\n",
    "    # words = [x.replace('-', '') for x in words]\n",
    "    words = word_tokenize(re.sub(r'[^\\w\\s]', '', line.lower()))\n",
    "    # words = [x.replace('-', '') for x in words]\n",
    "    words = [word for word in words if not word in stopwords]\n",
    "    # ADJ, ADJ_SAT, ADV, NOUN, VERB = 'a', 's', 'r', 'n', 'v'\n",
    "    words = [lemmatizer.lemmatize(w, pos='s') for w in words]\n",
    "    words = [lemmatizer.lemmatize(w, pos='n') for w in words]\n",
    "    words = [lemmatizer.lemmatize(w, pos='v') for w in words]\n",
    "    words = [lemmatizer.lemmatize(w, pos='a') for w in words]\n",
    "    return words"
   ]
  },
  {
   "cell_type": "code",
   "execution_count": 8,
   "id": "4c198f81",
   "metadata": {},
   "outputs": [],
   "source": [
    "def read_whitepapers(filename, stopwords):\n",
    "    directory = \"../whitepapers/top20_whitepapers/\"\n",
    "    words_list = []\n",
    "    for entry in os.scandir(directory):\n",
    "        if (entry.path.endswith(filename) and entry.is_file()):\n",
    "            with open(entry.path, \"r\") as f:\n",
    "                for line in f:\n",
    "                    # words_list.extend(line.split())\n",
    "                    # words_list.extend([x.strip() for x in line.split()])\n",
    "                    words_list.extend(extract_and_clean(line, stopwords))\n",
    "    return words_list"
   ]
  },
  {
   "cell_type": "code",
   "execution_count": 9,
   "id": "52911c9f",
   "metadata": {},
   "outputs": [
    {
     "data": {
      "text/plain": [
       "['bitcoin',\n",
       " 'peertopeer',\n",
       " 'electronic',\n",
       " 'cash',\n",
       " 'system',\n",
       " 'satoshi',\n",
       " 'nakamoto',\n",
       " 'satoshingmxcom',\n",
       " 'wwwbitcoinorg',\n",
       " 'abstract',\n",
       " 'purely',\n",
       " 'peertopeer',\n",
       " 'version',\n",
       " 'electronic',\n",
       " 'cash',\n",
       " 'would',\n",
       " 'allow',\n",
       " 'online',\n",
       " 'payment',\n",
       " 'send',\n",
       " 'directly',\n",
       " 'one',\n",
       " 'party',\n",
       " 'another',\n",
       " 'without',\n",
       " 'go',\n",
       " 'financial',\n",
       " 'institution',\n",
       " 'digital',\n",
       " 'signature',\n",
       " 'provide',\n",
       " 'part',\n",
       " 'solution',\n",
       " 'main',\n",
       " 'benefit',\n",
       " 'lose',\n",
       " 'trust',\n",
       " 'third',\n",
       " 'party',\n",
       " 'still',\n",
       " 'require',\n",
       " 'prevent',\n",
       " 'doublespending',\n",
       " 'propose',\n",
       " 'solution',\n",
       " 'doublespending',\n",
       " 'problem',\n",
       " 'use',\n",
       " 'peertopeer',\n",
       " 'network']"
      ]
     },
     "execution_count": 9,
     "metadata": {},
     "output_type": "execute_result"
    }
   ],
   "source": [
    "bitcoin_filename=\"Bitcoin.txt\"\n",
    "whitepapers = read_whitepapers(bitcoin_filename, stopwords_set)\n",
    "# whitepapers.rename(columns={bitcoin_filename: \"whitepapers\"}, inplace=True)\n",
    "whitepapers[:50]"
   ]
  },
  {
   "cell_type": "code",
   "execution_count": 10,
   "id": "8584fca6",
   "metadata": {},
   "outputs": [],
   "source": [
    "filenames = ['Algorand.txt', 'Avalanche.txt', 'Binance.txt', 'Bitcoin.txt', 'Cardano.txt', 'Chainlink.txt',\n",
    "            'Crypto_com.txt', 'Ethereum.txt', 'FTX_token.txt', 'PolkaDot.txt', 'Polygon.txt', 'Ripple.txt', \n",
    "            'Solana.txt', 'Terra.txt', 'Tether.txt', 'Tron.txt', 'Uniswap.txt', 'Wrapped.txt']"
   ]
  },
  {
   "cell_type": "code",
   "execution_count": 11,
   "id": "35867a76-5ef6-4be5-b337-1b4600d079b6",
   "metadata": {},
   "outputs": [],
   "source": [
    "compiled_r = re.compile('(?<!\\S)\\d+(?!\\S)')"
   ]
  },
  {
   "cell_type": "code",
   "execution_count": 12,
   "id": "0f5ff972-0a1a-4ab3-ace2-76b8443f8331",
   "metadata": {},
   "outputs": [],
   "source": [
    "def filter_less_important_words(words):\n",
    "    tagged = pos_tag(words)\n",
    "    # Only keep verb, noun, adj\n",
    "    return [w[0] for w in tagged if w[1].startswith('N') or w[1].startswith('J') or w[1].startswith('V')]\n",
    "    # return [w for w in words if not compiled_reg.match(w)]"
   ]
  },
  {
   "cell_type": "code",
   "execution_count": 13,
   "id": "ffbb718a",
   "metadata": {},
   "outputs": [],
   "source": [
    "def creat_word_bank():\n",
    "    word_bank = {}\n",
    "    for i in filenames:\n",
    "        #deduplicate in each paper\n",
    "        deduped_words = list(set(read_whitepapers(i, stopwords_set)))\n",
    "        word_bank[i] = filter_less_important_words(deduped_words)\n",
    "    return word_bank"
   ]
  },
  {
   "cell_type": "code",
   "execution_count": 14,
   "id": "2b9df150-7ac5-4373-92d1-cdf7d37705b6",
   "metadata": {},
   "outputs": [],
   "source": [
    "word_bank = creat_word_bank()"
   ]
  },
  {
   "cell_type": "code",
   "execution_count": 15,
   "id": "f0d17207-3680-40eb-89e9-a8e187942af5",
   "metadata": {},
   "outputs": [],
   "source": [
    "lookup_dict = {}"
   ]
  },
  {
   "cell_type": "code",
   "execution_count": 16,
   "id": "20eed08e-4138-45e4-8ad1-769cb44dde94",
   "metadata": {},
   "outputs": [],
   "source": [
    "def enrich_lookup_dict(lookup_dict, words, paper_name):\n",
    "    for w in words:\n",
    "        lookup_dict.setdefault(w,[]).append(paper_name)\n",
    "        # lookup_dict[w] = paper_name"
   ]
  },
  {
   "cell_type": "code",
   "execution_count": 17,
   "id": "17e39b53-df97-4a75-b4fa-1474dc4bc23d",
   "metadata": {},
   "outputs": [
    {
     "name": "stdout",
     "output_type": "stream",
     "text": [
      "[('give', 18), ('system', 18), ('new', 18), ('amount', 18), ('require', 18), ('many', 18), ('make', 18), ('take', 18), ('number', 18), ('paper', 18), ('use', 17), ('start', 17), ('transaction', 17), ('become', 17), ('network', 17), ('work', 17), ('receive', 17), ('follow', 17), ('key', 17), ('public', 17), ('order', 17), ('keep', 17), ('exist', 17), ('time', 17), ('increase', 17), ('include', 17), ('second', 16), ('control', 16), ('base', 16), ('simple', 16), ('send', 16), ('access', 16), ('know', 16), ('see', 16), ('value', 16), ('change', 16), ('generate', 16), ('protocol', 16), ('able', 16), ('case', 16), ('hold', 16), ('high', 16), ('mean', 16), ('set', 16), ('possible', 16), ('reference', 16), ('share', 16), ('fund', 16), ('create', 16), ('store', 16), ('current', 16), ('large', 16), ('result', 16), ('reduce', 16), ('problem', 16), ('fee', 16), ('way', 16), ('future', 15), ('update', 15), ('function', 15), ('need', 15), ('particular', 15), ('point', 15), ('full', 15), ('potential', 15), ('private', 15), ('size', 15), ('solution', 15), ('get', 15), ('space', 15), ('example', 15), ('loss', 15), ('prevent', 15), ('cost', 15), ('data', 15), ('issue', 15), ('limit', 15), ('low', 15), ('process', 15), ('account', 15), ('currency', 15), ('represent', 15), ('want', 15), ('support', 15), ('le', 15), ('provide', 15), ('multiple', 15), ('record', 15), ('grow', 14), ('type', 14), ('small', 14), ('combine', 14), ('blockchain', 14), ('digital', 14), ('note', 14), ('secure', 14), ('ensure', 14), ('expect', 14), ('move', 14), ('block', 14), ('add', 14), ('reach', 14), ('begin', 14), ('part', 14), ('security', 14), ('run', 14), ('exchange', 14), ('call', 14), ('maintain', 14), ('come', 14), ('mechanism', 14), ('single', 14), ('bitcoin', 14), ('rate', 14), ('operation', 14), ('group', 14), ('entire', 14), ('design', 14), ('additional', 14), ('risk', 14), ('requirement', 14), ('choose', 14), ('consensus', 14), ('easy', 14), ('information', 14), ('trust', 14), ('target', 14), ('distribute', 14), ('history', 14), ('initial', 14), ('several', 14), ('lead', 13), ('achieve', 13), ('introduce', 13), ('propose', 13), ('vote', 13), ('end', 13), ('period', 13), ('introduction', 13), ('model', 13), ('scale', 13), ('complete', 13), ('rule', 13), ('form', 13), ('version', 13), ('user', 13), ('service', 13), ('cryptocurrency', 13), ('total', 13), ('implement', 13), ('describe', 13), ('previous', 13), ('attack', 13), ('hash', 13), ('c', 13), ('standard', 13), ('state', 13), ('similar', 13), ('market', 13), ('open', 13), ('token', 13), ('price', 13), ('spend', 13), ('contract', 13), ('source', 13), ('platform', 13), ('available', 13), ('event', 13), ('due', 13), ('allow', 13), ('common', 13), ('failure', 13), ('section', 13), ('detail', 13), ('asset', 13), ('implementation', 13), ('payment', 13), ('go', 13), ('handle', 13), ('year', 13), ('addition', 13), ('pool', 13), ('method', 13), ('show', 13), ('track', 12), ('u', 12), ('stake', 12), ('remain', 12), ('message', 12), ('identity', 12), ('good', 12), ('member', 12), ('help', 12), ('signature', 12), ('participant', 12), ('b', 12), ('depend', 12), ('condition', 12), ('much', 12), ('sign', 12), ('guarantee', 12), ('input', 12), ('coin', 12), ('miner', 12), ('incentive', 12), ('interest', 12), ('supply', 12), ('address', 12), ('global', 12), ('power', 12), ('enable', 12), ('perform', 12), ('execute', 12), ('owner', 12), ('creation', 12), ('strong', 12), ('management', 12), ('trade', 12), ('face', 12), ('improve', 12), ('involve', 12), ('feature', 12), ('anyone', 12), ('participate', 12), ('world', 12), ('gain', 12), ('smart', 12), ('pay', 12), ('ability', 12), ('list', 12), ('program', 12), ('maximum', 12), ('release', 12), ('reserve', 12), ('transfer', 12), ('bank', 12), ('ethereum', 12), ('client', 12), ('certain', 12), ('avoid', 12), ('growth', 12), ('important', 12), ('application', 12), ('term', 12), ('develop', 12), ('day', 12), ('look', 12), ('purchase', 12), ('solve', 12), ('great', 12), ('structure', 12), ('request', 12), ('consider', 12), ('proof', 12), ('primary', 12), ('ie', 11), ('happen', 11), ('v', 11), ('fact', 11), ('say', 11), ('separate', 11), ('produce', 11), ('turn', 11), ('execution', 11), ('malicious', 11), ('step', 11), ('ledger', 11), ('necessary', 11), ('agree', 11), ('property', 11), ('cryptographic', 11), ('arbitrary', 11), ('blockchains', 11), ('refer', 11), ('n', 11), ('traditional', 11), ('return', 11), ('development', 11), ('advantage', 11), ('recent', 11), ('build', 11), ('role', 11), ('storage', 11), ('various', 11), ('determine', 11), ('third', 11), ('others', 11), ('interface', 11), ('useful', 11), ('cause', 11), ('contain', 11), ('holder', 11), ('ecosystem', 11), ('assume', 11), ('core', 11), ('put', 11), ('main', 11), ('sell', 11), ('swap', 11), ('fail', 11)]\n"
     ]
    }
   ],
   "source": [
    "# Single words\n",
    "agg_words = []\n",
    "for coin in word_bank:\n",
    "    agg_words.extend(word_bank[coin])\n",
    "    enrich_lookup_dict(lookup_dict, word_bank[coin], coin)\n",
    "\n",
    "single_counter = Counter(agg_words)\n",
    "print(single_counter.most_common(300))\n",
    "# print([x[0] for x in single_counter.most_common(2000)])"
   ]
  },
  {
   "cell_type": "code",
   "execution_count": 18,
   "id": "b6ac97f2-998c-4e3c-bd5e-f4026e56a2f2",
   "metadata": {},
   "outputs": [
    {
     "name": "stdout",
     "output_type": "stream",
     "text": [
      "[(('low', 'transaction'), 14), (('receive', 'form'), 11), (('increase', 'implement'), 11), (('ensure', 'state'), 10), (('reach', 'market'), 10), (('new', 'amount'), 9), (('much', 'easy'), 9), (('estimate', 'new'), 9), (('use', 'give'), 8), (('participant', 'version'), 8), (('input', 'previous'), 8), (('creation', 'lead'), 8), (('pay', 'ability'), 8), (('key', 'many'), 8), (('success', 'potential'), 8), (('give', 'pay'), 8), (('interest', 'model'), 8), (('share', 'equal'), 8), (('write', 'work'), 8), (('see', 'step'), 7), (('signature', 'participant'), 7), (('particular', 'case'), 7), (('additional', 'validators'), 7), (('reduce', 'active'), 7), (('system', 'limit'), 7), (('distribute', 'history'), 7), (('server', 'consensus'), 7), (('malicious', 'network'), 7), (('second', 'solve'), 7), (('transaction', 'track'), 6), (('achieve', 'send'), 6), (('introduction', 'network'), 6), (('vision', 'ensure'), 6), (('user', 'independent'), 6), (('face', 'current'), 6), (('game', 'crypto'), 6), (('data', 'participate'), 6), (('seed', 'update'), 6), (('validators', 'holder'), 6), (('critical', 'resource'), 6), (('handle', 'fraud'), 6), (('create', 'perform'), 6), (('pool', 'full'), 6), (('solve', 'result'), 6), (('network', 'represent'), 6), (('representation', 'require'), 6), (('timestamp', 'take'), 6), (('space', 'setup'), 6), (('represent', 'local'), 6), (('describe', 'remove'), 6), (('step', 'contract'), 6), (('available', 'challenge'), 6), (('due', 'smart'), 6), (('cryptocurrencies', 'notation'), 5), (('small', 'minute'), 5), (('hold', 'follow'), 5), (('condition', 'order'), 5), (('discussion', 'individual'), 5), (('balance', 'node'), 5), (('random', 'actor'), 5), (('miner', 'cryptocurrencies'), 5), (('software', 'security'), 5), (('place', 'interest'), 5), (('run', 'necessary'), 5), (('create', 'come'), 5), (('store', 'ie'), 5), (('substantial', 'constant'), 5), (('eg', 'prevent'), 5), (('single', 'various'), 5), (('third', 'rate'), 5), (('design', 'economic'), 5), (('hold', 'choose'), 5), (('account', 'high'), 5), (('point', 'swap'), 5), (('ownership', 'special'), 5), (('special', 'reduce'), 5), (('introduction', 'represent'), 5), (('want', 'electronic'), 5), (('blockchain', 'validate'), 5), (('option', 'member'), 5), (('support', 'able'), 5), (('le', 'phase'), 5), (('provide', 'success'), 5), (('include', 'simple'), 5), (('fee', 'do'), 5), (('source', 'value'), 5), (('addition', 'space'), 5), (('data', 'call'), 5), (('many', 'public'), 5), (('convert', 'problem'), 5), (('large', 'consider'), 5), (('facilitate', 'name'), 5), (('application', 'purpose'), 5), (('point', 'different'), 5), (('subsequent', 'exist'), 5), (('identify', 'development'), 5), (('achieve', 'successful'), 5), (('successful', 'send'), 5), (('highlevel', 'solution'), 5), (('incentive', 'security'), 5), (('security', 'turn'), 5), (('setup', 'particular'), 5), (('call', 'replace'), 5), (('succeed', 'tool'), 5), (('check', 'technical'), 5), (('selection', 'design'), 5), (('failure', 'wallet'), 5), (('addition', 'regard'), 5), (('order', 'formal'), 5), (('manner', 'input'), 5), (('method', 'v'), 5), (('note', 'country'), 5), (('extension', 'le'), 5), (('force', 'po'), 5), (('april', 'loss'), 5), (('generate', 'website'), 5), (('consensus', 'privacy'), 5), (('constitute', 'attack'), 5), (('consider', 'burn'), 5), (('gas', 'miner'), 5), (('enforcement', 'technology'), 5), (('function', 'abstract'), 5), (('way', 'target'), 5), (('hash', 'specific'), 5), (('complexity', 'communicate'), 4), (('malicious', 'introduction'), 4), (('combine', 'blockchain'), 4), (('make', 'take'), 4), (('potential', 'time'), 4), (('attack', 'hash'), 4), (('adaptive', 'bind'), 4), (('private', 'begin'), 4), (('doesnt', 'instance'), 4), (('solution', 'retain'), 4), (('incentive', 'software'), 4), (('identity', 'digital'), 4), (('standard', 'hand'), 4), (('arbitrary', 'power'), 4), (('require', 'enable'), 4), (('market', 'custodian'), 4), (('maintain', 'par'), 4), (('par', 'create'), 4), (('come', 'perform'), 4), (('perform', 'true'), 4), (('completion', 'reference'), 4), (('ie', 'creation'), 4), (('consume', 'open'), 4), (('kind', 'strong'), 4), (('natural', 'price'), 4), (('current', 'wish'), 4), (('world', 'interface'), 4), (('issue', 'energy'), 4), (('cap', 'group'), 4), (('future', 'use'), 4), (('propose', 'goal'), 4), (('suitable', 'release'), 4), (('scale', 'correct'), 4), (('typical', 'agree'), 4), (('express', 'dapps'), 4), (('second', 'chain'), 4), (('word', 'strategy'), 4), (('governance', 'grow'), 4), (('exceed', 'extract'), 4), (('note', 'query'), 4), (('distribute', 'reward'), 4), (('wide', 'evm'), 4), (('past', 'discussion'), 4), (('result', 'overcome'), 4), (('use', 'token'), 4), (('language', 'decentralize'), 4), (('certain', 'base'), 4), (('v', 'include'), 4), (('science', 'system'), 4), (('drive', 'deep'), 4), (('amount', 'fund'), 4), (('generate', 'usd'), 4), (('usd', 'page'), 4), (('require', 'ethereum'), 4), (('take', 'flow'), 4), (('architecture', 'rest'), 4), (('binary', 'client'), 4), (('slow', 'operation'), 4), (('reduce', 'store'), 4), (('return', 'drop'), 4), (('loss', 'process'), 4), (('tie', 'proofofwork'), 4), (('consensus', 'cost'), 4), (('move', 'data'), 4), (('vulnerable', 'point'), 4), (('law', 'verify'), 4), (('volume', 'comparison'), 4), (('global', 'arise'), 4), (('status', 'fund'), 4), (('incentivize', 'follow'), 4), (('enable', 'aware'), 4), (('string', 'insert'), 4), (('true', 'several'), 4), (('ex', 'produce'), 4), (('large', 'complete'), 4), (('inconsistency', 'set'), 4), (('validity', 'cause'), 4), (('process', 'quality'), 4), (('common', 'opportunity'), 4), (('b', 'specify'), 4), (('payment', 'topic'), 4), (('become', 'period'), 4), (('weak', 'utility'), 4), (('fault', 'ratio'), 4), (('white', 'background'), 4), (('proposal', 'detect'), 4), (('original', 'response'), 4), (('ease', 'mechanism'), 4), (('cryptocurrency', 'ethereum'), 4), (('whitepaper', 'multiple'), 4), (('cap', 'treat'), 4), (('quality', 'advisor'), 4), (('research', 'express'), 4), (('historical', 'account'), 4), (('existence', 'possible'), 4), (('institution', 'class'), 4), (('buy', 'remain'), 4), (('strong', 'community'), 4), (('simple', 'major'), 4), (('complete', 'aim'), 4), (('try', 'host'), 4), (('fiat', 'help'), 4), (('primary', 'volatility'), 4), (('candidate', 'control'), 4), (('type', 'go'), 4), (('reference', 'elliptic'), 4), (('deposit', 'encrypt'), 4), (('reserve', 'merkle'), 4), (('byte', 'encode'), 4), (('help', 'submit'), 4), (('history', 'reward'), 4), (('size', 'asset'), 4), (('liquidity', 'supply'), 4), (('interaction', 'measure'), 4), (('approve', 'show'), 4), (('lead', 'happen'), 3), (('partition', 'assumption'), 3), (('unknown', 'resilient'), 3), (('agreement', 'achieve'), 3), (('access', 'april'), 3), (('simplify', 'honest'), 3), (('model', 'small'), 3), (('ledger', 'digital'), 3), (('dynamic', 'skip'), 3), (('necessary', 'need'), 3), (('protocol', 'property'), 3)]\n"
     ]
    }
   ],
   "source": [
    "#2-gram counter\n",
    "agg_words_2gram = []\n",
    "for coin in word_bank:\n",
    "    words = list(ngrams(word_bank[coin], 2))\n",
    "    agg_words_2gram.extend(words)\n",
    "    enrich_lookup_dict(lookup_dict, words, coin)\n",
    "\n",
    "two_gram_counter = Counter(agg_words_2gram)\n",
    "print(two_gram_counter.most_common(250))\n",
    "# print([x[0] for x in two_gram_counter.most_common(300)])"
   ]
  },
  {
   "cell_type": "code",
   "execution_count": 27,
   "id": "9873bd4b-c3fb-4ec1-9d82-fe05dfdcc0a4",
   "metadata": {},
   "outputs": [],
   "source": [
    "# print(lookup_dict)"
   ]
  },
  {
   "cell_type": "code",
   "execution_count": 20,
   "id": "26076b59-2a9e-40c4-a290-a669fc7d340b",
   "metadata": {},
   "outputs": [
    {
     "name": "stdout",
     "output_type": "stream",
     "text": [
      "[(('signature', 'participant', 'version'), 6), (('vision', 'ensure', 'state'), 6), (('additional', 'validators', 'holder'), 6), (('provide', 'success', 'potential'), 5), (('give', 'pay', 'ability'), 5), (('space', 'setup', 'particular'), 5), (('estimate', 'new', 'amount'), 5), (('malicious', 'introduction', 'network'), 4), (('miner', 'cryptocurrencies', 'notation'), 4), (('incentive', 'software', 'security'), 4), (('reach', 'market', 'custodian'), 4), (('store', 'ie', 'creation'), 4), (('ie', 'creation', 'lead'), 4), (('face', 'current', 'wish'), 4), (('ownership', 'special', 'reduce'), 4), (('low', 'transaction', 'track'), 4), (('introduction', 'network', 'represent'), 4), (('place', 'interest', 'model'), 4), (('achieve', 'successful', 'send'), 4), (('see', 'step', 'contract'), 4), (('distribute', 'history', 'reward'), 4), (('secure', 'vision', 'ensure'), 3), (('maintain', 'par', 'create'), 3), (('create', 'come', 'perform'), 3), (('private', 'completion', 'reference'), 3), (('creation', 'lead', 'rich'), 3), (('substantial', 'constant', 'classical'), 3), (('goal', 'additional', 'validators'), 3), (('typical', 'agree', 'put'), 3), (('relate', 'critical', 'resource'), 3), (('reduce', 'active', 'store'), 3), (('platform', 'game', 'crypto'), 3), (('volume', 'comparison', 'random'), 3), (('incentive', 'security', 'turn'), 3), (('security', 'turn', 'request'), 3), (('par', 'create', 'perform'), 3), (('create', 'perform', 'come'), 3), (('blockchainbased', 'weight', 'financial'), 3), (('day', 'validity', 'cause'), 3), (('wallet', 'tie', 'proofofwork'), 3), (('fashion', 'increase', 'implement'), 3), (('introduction', 'represent', 'local'), 3), (('fault', 'ratio', 'pre'), 3), (('scenario', 'malicious', 'network'), 3), (('setup', 'particular', 'case'), 3), (('current', 'title', 'wish'), 3), (('third', 'rate', 'vary'), 3), (('use', 'give', 'pay'), 3), (('regular', 'communication', 'great'), 3), (('process', 'quality', 'advisor'), 3), (('cryptocurrency', 'ethereum', 'read'), 3), (('certain', 'method', 'v'), 3), (('method', 'v', 'include'), 3), (('payment', 'topic', 'profit'), 3), (('u', 'upon', 'policy'), 3), (('actor', 'influence', 'return'), 3), (('logic', 'type', 'go'), 3), (('bytecode', 'server', 'consensus'), 3), (('sell', 'much', 'easy'), 3), (('second', 'solve', 'chain'), 3), (('selection', 'design', 'economic'), 3), (('long', 'malicious', 'introduction'), 3), (('move', 'data', 'call'), 3), (('need', 'bitcoins', 'work'), 3), (('standard', 'estimate', 'new'), 3), (('agreement', 'achieve', 'send'), 2), (('cryptocurrencies', 'notation', 'propose'), 2), (('exist', 'input', 'previous'), 2), (('oracle', 'attack', 'hash'), 2), (('adaptive', 'bind', 'private'), 2), (('solution', 'retain', 'launch'), 2), (('retain', 'launch', 'modify'), 2), (('few', 'standard', 'hand'), 2), (('space', 'particular', 'case'), 2), (('require', 'enable', 'public'), 2), (('enable', 'public', 'connect'), 2), (('deployment', 'reach', 'market'), 2), (('come', 'perform', 'true'), 2), (('posse', 'execute', 'build'), 2), (('connection', 'adaptive', 'bind'), 2), (('broad', 'private', 'completion'), 2), (('completion', 'reference', 'select'), 2), (('performance', 'implication', 'store'), 2), (('implication', 'store', 'ie'), 2), (('lead', 'rich', 'happen'), 2), (('short', 'consume', 'open'), 2), (('eg', 'prevent', 'divide'), 2), (('function', 'ized', 'abstract'), 2), (('receive', 'form', 'life'), 2), (('barrier', 'belief', 'cryptographic'), 2), (('concern', 'storage', 'idea'), 2), (('cryptography', 'cost', 'data'), 2), (('cost', 'data', 'participate'), 2), (('single', 'various', 'ﬁxed'), 2), (('limit', 'entire', 'real'), 2), (('consen', 'seed', 'update'), 2), (('say', 'design', 'economic'), 2), (('propose', 'goal', 'additional'), 2), (('speciﬁc', 'suitable', 'release'), 2), (('neighbor', 'typical', 'agree'), 2), (('fundamental', 'requirement', 'bandwidth'), 2), (('engine', 'line', 'theoretical'), 2), (('line', 'theoretical', 'sell'), 2), (('lack', 'account', 'high'), 2), (('currency', 'client', 'philosophy'), 2), (('oﬀers', 'ownership', 'special'), 2), (('trust', 'word', 'strategy'), 2), (('know', 'end', 'execution'), 2), (('introduction', 'represent', 'want'), 2), (('represent', 'want', 'electronic'), 2), (('want', 'electronic', 'practice'), 2), (('transition', 'blockchain', 'validate'), 2), (('extract', 'mark', 'care'), 2), (('double', 'option', 'member'), 2), (('environment', 'outline', 'vertex'), 2), (('support', 'able', 'ten'), 2), (('distribute', 'reward', 'history'), 2), (('important', 'robust', 'con'), 2), (('feasibility', 'wide', 'evm'), 2), (('phase', 'claim', 'election'), 2), (('claim', 'election', 'endpoint'), 2), (('active', 'store', 'basic'), 2), (('v', 'include', 'simple'), 2), (('combine', 'blockchain', 'see'), 2), (('industry', 'opportunity', 'common'), 2), (('hold', 'choose', 'cash'), 2), (('add', 'cryptocurrency', 'mature'), 2), (('expensive', 'pool', 'full'), 2), (('success', 'potential', 'time'), 2), (('binary', 'client', 'slow'), 2), (('client', 'slow', 'operation'), 2), (('chain', 'solve', 'result'), 2), (('undermine', 'reduce', 'store'), 2), (('convert', 'problem', 'infinite'), 2), (('method', 'wealth', 'include'), 2), (('achieve', 'send', 'payment'), 2), (('spread', 'solution', 'spend'), 2), (('prevent', 'avoid', 'additional'), 2), (('abstract', 'introduction', 'network'), 2), (('authority', 'buyer', 'distribution'), 2), (('denial', 'exact', 'serve'), 2), (('exact', 'serve', 'byte'), 2), (('receive', 'form', 'support'), 2), (('able', 'signature', 'participant'), 2), (('tolerant', 'tree', 'branch'), 2), (('history', 'leave', 'service'), 2), (('server', 'consensus', 'cost'), 2), (('consensus', 'cost', 'privacy'), 2), (('timestamp', 'take', 'flow'), 2), (('maintain', 'sign', 'continue'), 2)]\n"
     ]
    }
   ],
   "source": [
    "#3-gram counter\n",
    "agg_words_3gram = []\n",
    "for coin in word_bank:\n",
    "    words = list(ngrams(word_bank[coin], 3))\n",
    "    agg_words_3gram.extend(words)\n",
    "    enrich_lookup_dict(lookup_dict, words, coin)\n",
    "\n",
    "three_gram_counter = Counter(agg_words_3gram)\n",
    "print(three_gram_counter.most_common(150))\n",
    "# print([x[0] for x in three_gram_counter.most_common(300)])"
   ]
  },
  {
   "cell_type": "code",
   "execution_count": 21,
   "id": "60b3d30c-decd-41ea-a1d7-791c413e6ef9",
   "metadata": {},
   "outputs": [
    {
     "name": "stdout",
     "output_type": "stream",
     "text": [
      "[(('store', 'ie', 'creation', 'lead'), 4), (('secure', 'vision', 'ensure', 'state'), 3), (('ie', 'creation', 'lead', 'rich'), 3), (('goal', 'additional', 'validators', 'holder'), 3), (('space', 'setup', 'particular', 'case'), 3), (('use', 'give', 'pay', 'ability'), 3), (('long', 'malicious', 'introduction', 'network'), 3), (('require', 'enable', 'public', 'connect'), 2), (('create', 'come', 'perform', 'true'), 2), (('broad', 'private', 'completion', 'reference'), 2), (('private', 'completion', 'reference', 'select'), 2), (('performance', 'implication', 'store', 'ie'), 2), (('creation', 'lead', 'rich', 'happen'), 2), (('cryptography', 'cost', 'data', 'participate'), 2), (('propose', 'goal', 'additional', 'validators'), 2), (('neighbor', 'typical', 'agree', 'put'), 2), (('engine', 'line', 'theoretical', 'sell'), 2), (('phase', 'claim', 'election', 'endpoint'), 2), (('reduce', 'active', 'store', 'basic'), 2), (('abstract', 'introduction', 'network', 'represent'), 2), (('denial', 'exact', 'serve', 'byte'), 2), (('able', 'signature', 'participant', 'version'), 2), (('miner', 'cryptocurrencies', 'notation', 'june'), 2), (('incentive', 'security', 'turn', 'request'), 2), (('place', 'interest', 'model', 'coalition'), 2), (('maintain', 'par', 'create', 'perform'), 2), (('par', 'create', 'perform', 'come'), 2), (('failure', 'wallet', 'tie', 'proofofwork'), 2), (('wallet', 'tie', 'proofofwork', 'january'), 2), (('signature', 'participant', 'version', 'york'), 2), (('addition', 'regard', 'derive', 'variety'), 2), (('chain', 'illustrative', 'solve', 'result'), 2), (('volume', 'comparison', 'random', 'actor'), 2), (('ity', 'modern', 'misbehave', 'outcome'), 2), (('modern', 'misbehave', 'outcome', 'extension'), 2), (('atom', 'store', 'ie', 'creation'), 2), (('see', 'step', 'contract', 'compensation'), 2), (('direct', 'resell', 'own', 'liquidity'), 2), (('estimate', 'new', 'amount', 'whitepaper'), 2), (('new', 'amount', 'whitepaper', 'multiple'), 2), (('team', 'secondary', 'live', 'unanticipated'), 2), (('additional', 'validators', 'holder', 'investment'), 2), (('blog', 'cryptocurrency', 'ethereum', 'read'), 2), (('detail', 'approval', 'business', 'manner'), 2), (('approval', 'business', 'manner', 'input'), 2), (('certain', 'method', 'v', 'include'), 2), (('payment', 'topic', 'profit', 'decentralization'), 2), (('random', 'actor', 'influence', 'return'), 2), (('free', 'generation', 'facilitate', 'name'), 2), (('generation', 'facilitate', 'name', 'secure'), 2), (('facilitate', 'name', 'secure', 'vision'), 2), (('name', 'secure', 'vision', 'ensure'), 2), (('reference', 'elliptic', 'valuable', 'select'), 2), (('comparable', 'kind', 'strong', 'community'), 2), (('face', 'current', 'title', 'wish'), 2), (('difficulty', 'infrastructure', 'bounty', 'benefit'), 2), (('develop', 'regular', 'communication', 'great'), 2), (('requirement', 'bandwidth', 'hundred', 'suggest'), 2), (('berlin', 'next', 'language', 'decentralize'), 2), (('help', 'submit', 'support', 'able'), 2), (('recover', 'distribute', 'history', 'reward'), 2), (('partner', 'hedge', 'distribute', 'history'), 2), (('reserve', 'merkle', 'validation', 'stable'), 2), (('successful', 'send', 'correspond', 'duplicate'), 2), (('see', 'step', 'contract', 'feature'), 2), (('large', 'complete', 'aim', 'compromise'), 2), (('say', 'selection', 'design', 'economic'), 2), (('second', 'solve', 'result', 'defense'), 2), (('malicious', 'introduction', 'network', 'represent'), 2), (('mechanism', 'fault', 'ratio', 'pre'), 2), (('second', 'messagesaredeliveredwithinaboundedworstcasedelayagreementisreachedinexpectedconstant', 'control', 'restore'), 1), (('messagesaredeliveredwithinaboundedworstcasedelayagreementisreachedinexpectedconstant', 'control', 'restore', 'parallel'), 1), (('control', 'restore', 'parallel', 'j'), 1), (('restore', 'parallel', 'j', 'conceptual'), 1), (('parallel', 'j', 'conceptual', 'accept'), 1), (('j', 'conceptual', 'accept', 'special'), 1), (('conceptual', 'accept', 'special', 'michael'), 1), (('accept', 'special', 'michael', 'ie'), 1), (('special', 'michael', 'ie', 'retrievable'), 1), (('michael', 'ie', 'retrievable', 'literature'), 1), (('ie', 'retrievable', 'literature', 'lead'), 1), (('retrievable', 'literature', 'lead', 'happen'), 1), (('literature', 'lead', 'happen', 'random'), 1), (('lead', 'happen', 'random', 'nickolai'), 1), (('happen', 'random', 'nickolai', 'short'), 1), (('random', 'nickolai', 'short', 'future'), 1), (('nickolai', 'short', 'future', 'eﬃcient'), 1), (('short', 'future', 'eﬃcient', 'partition'), 1), (('future', 'eﬃcient', 'partition', 'assumption'), 1), (('eﬃcient', 'partition', 'assumption', 'rp'), 1), (('partition', 'assumption', 'rp', 'use'), 1), (('assumption', 'rp', 'use', 'give'), 1), (('rp', 'use', 'give', 'certiﬁed'), 1), (('use', 'give', 'certiﬁed', 'communication'), 1), (('give', 'certiﬁed', 'communication', 'cryptology'), 1), (('certiﬁed', 'communication', 'cryptology', 'permissionless'), 1), (('communication', 'cryptology', 'permissionless', 'zeldovich'), 1), (('cryptology', 'permissionless', 'zeldovich', 'eprint'), 1), (('permissionless', 'zeldovich', 'eprint', 'next'), 1), (('zeldovich', 'eprint', 'next', 'concrete'), 1), (('eprint', 'next', 'concrete', 'pair'), 1), (('next', 'concrete', 'pair', 'secret'), 1), (('concrete', 'pair', 'secret', 'p1'), 1), (('pair', 'secret', 'p1', 'jn'), 1), (('secret', 'p1', 'jn', 'credential'), 1), (('p1', 'jn', 'credential', 'interval'), 1), (('jn', 'credential', 'interval', 'enough'), 1), (('credential', 'interval', 'enough', 'base'), 1), (('interval', 'enough', 'base', 'v'), 1), (('enough', 'base', 'v', 'simple'), 1), (('base', 'v', 'simple', 'system'), 1), (('v', 'simple', 'system', 'relative'), 1), (('simple', 'system', 'relative', 'veriﬁable'), 1), (('system', 'relative', 'veriﬁable', 'certvote'), 1), (('relative', 'veriﬁable', 'certvote', 'start'), 1), (('veriﬁable', 'certvote', 'start', 'maybedelayedarbitrarilylongourprotocolensuressafetyofthesystemsothatnotwohonest'), 1), (('certvote', 'start', 'maybedelayedarbitrarilylongourprotocolensuressafetyofthesystemsothatnotwohonest', 'rabin'), 1), (('start', 'maybedelayedarbitrarilylongourprotocolensuressafetyofthesystemsothatnotwohonest', 'rabin', 'super'), 1), (('maybedelayedarbitrarilylongourprotocolensuressafetyofthesystemsothatnotwohonest', 'rabin', 'super', 'count'), 1), (('rabin', 'super', 'count', 'arbitrarypartitionresilience'), 1), (('super', 'count', 'arbitrarypartitionresilience', 'complexity'), 1), (('count', 'arbitrarypartitionresilience', 'complexity', 'communicate'), 1), (('arbitrarypartitionresilience', 'complexity', 'communicate', 'unknown'), 1), (('complexity', 'communicate', 'unknown', 'resilient'), 1), (('communicate', 'unknown', 'resilient', 'honesty'), 1), (('unknown', 'resilient', 'honesty', 'p'), 1), (('resilient', 'honesty', 'p', 'playerreplaceable'), 1), (('honesty', 'p', 'playerreplaceable', 'fast'), 1), (('p', 'playerreplaceable', 'fast', 'constant'), 1), (('playerreplaceable', 'fast', 'constant', 'transaction'), 1), (('fast', 'constant', 'transaction', 'track'), 1), (('constant', 'transaction', 'track', 'round'), 1), (('transaction', 'track', 'round', 'grow'), 1), (('track', 'round', 'grow', 'idealize'), 1), (('round', 'grow', 'idealize', 'update'), 1), (('grow', 'idealize', 'update', 'deﬁne'), 1), (('idealize', 'update', 'deﬁne', 'align'), 1), (('update', 'deﬁne', 'align', 'agreement'), 1), (('deﬁne', 'align', 'agreement', 'achieve'), 1), (('align', 'agreement', 'achieve', 'send'), 1), (('agreement', 'achieve', 'send', 'desirable'), 1), (('achieve', 'send', 'desirable', 'clarity'), 1), (('send', 'desirable', 'clarity', 'committee'), 1), (('desirable', 'clarity', 'committee', 'correspond'), 1), (('clarity', 'committee', 'correspond', 'tolerate'), 1), (('committee', 'correspond', 'tolerate', 'u'), 1), (('correspond', 'tolerate', 'u', 'discus'), 1), (('tolerate', 'u', 'discus', 'vcertp'), 1), (('u', 'discus', 'vcertp', 'denote'), 1), (('discus', 'vcertp', 'denote', 'fact'), 1)]\n"
     ]
    }
   ],
   "source": [
    "#4-gram counter\n",
    "agg_words_4gram = []\n",
    "for coin in word_bank:\n",
    "    words = list(ngrams(word_bank[coin], 4))\n",
    "    agg_words_4gram.extend(words)\n",
    "    enrich_lookup_dict(lookup_dict, words, coin)\n",
    "\n",
    "four_gram_counter = Counter(agg_words_4gram)\n",
    "print(four_gram_counter.most_common(150))\n",
    "# print([x[0] for x in four_gram_counter.most_common(100)])"
   ]
  },
  {
   "cell_type": "code",
   "execution_count": 24,
   "id": "22160eed-d11e-43d6-bdf0-915b7e143f85",
   "metadata": {},
   "outputs": [
    {
     "name": "stdout",
     "output_type": "stream",
     "text": [
      "['Avalanche.txt', 'Crypto_com.txt', 'PolkaDot.txt', 'Polygon.txt']\n"
     ]
    }
   ],
   "source": [
    "print(lookup_dict[('store', 'ie', 'creation', 'lead')])"
   ]
  },
  {
   "cell_type": "code",
   "execution_count": 25,
   "id": "5e02cce9-91a1-4f94-a792-f7bc4d931de5",
   "metadata": {},
   "outputs": [
    {
     "name": "stdout",
     "output_type": "stream",
     "text": [
      "['Avalanche.txt', 'Ethereum.txt', 'Tron.txt']\n"
     ]
    }
   ],
   "source": [
    "print(lookup_dict[('secure', 'vision', 'ensure', 'state')])"
   ]
  },
  {
   "cell_type": "code",
   "execution_count": 26,
   "id": "8d3d484b-3bae-4685-8820-391d712dfac0",
   "metadata": {},
   "outputs": [
    {
     "name": "stdout",
     "output_type": "stream",
     "text": [
      "['Uniswap.txt']\n"
     ]
    }
   ],
   "source": [
    "print(lookup_dict[('uniswap', 'mandatory')])"
   ]
  },
  {
   "cell_type": "code",
   "execution_count": 28,
   "id": "1ccdc8da-b3d2-4c72-b9d4-ad3f97d0df3c",
   "metadata": {},
   "outputs": [
    {
     "name": "stdout",
     "output_type": "stream",
     "text": [
      "['Bitcoin.txt', 'Ethereum.txt', 'Solana.txt', 'Tron.txt']\n"
     ]
    }
   ],
   "source": [
    "print(lookup_dict['sha256'])"
   ]
  },
  {
   "cell_type": "code",
   "execution_count": 29,
   "id": "f6716d1b-0f1b-4e7b-b030-04815e71e96b",
   "metadata": {},
   "outputs": [
    {
     "name": "stdout",
     "output_type": "stream",
     "text": [
      "['Avalanche.txt', 'Bitcoin.txt', 'Cardano.txt', 'Chainlink.txt', 'Ethereum.txt', 'PolkaDot.txt']\n"
     ]
    }
   ],
   "source": [
    "print(lookup_dict['proofofwork'])"
   ]
  },
  {
   "cell_type": "code",
   "execution_count": 30,
   "id": "03fcd5bb-8914-437c-a2fc-9b42f43c98ce",
   "metadata": {},
   "outputs": [
    {
     "name": "stdout",
     "output_type": "stream",
     "text": [
      "['Avalanche.txt', 'Cardano.txt', 'Chainlink.txt', 'Ethereum.txt', 'PolkaDot.txt', 'Polygon.txt']\n"
     ]
    }
   ],
   "source": [
    "print(lookup_dict['proofofstake'])"
   ]
  },
  {
   "cell_type": "code",
   "execution_count": null,
   "id": "78228a04-8a94-4ae4-890e-55ba9dbb05c9",
   "metadata": {},
   "outputs": [],
   "source": []
  }
 ],
 "metadata": {
  "kernelspec": {
   "display_name": "Python 3 (ipykernel)",
   "language": "python",
   "name": "python3"
  },
  "language_info": {
   "codemirror_mode": {
    "name": "ipython",
    "version": 3
   },
   "file_extension": ".py",
   "mimetype": "text/x-python",
   "name": "python",
   "nbconvert_exporter": "python",
   "pygments_lexer": "ipython3",
   "version": "3.9.7"
  }
 },
 "nbformat": 4,
 "nbformat_minor": 5
}
