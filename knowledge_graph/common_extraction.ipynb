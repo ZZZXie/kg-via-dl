{
 "cells": [
  {
   "cell_type": "markdown",
   "id": "fdd8d5a2",
   "metadata": {},
   "source": [
    "### Import library"
   ]
  },
  {
   "cell_type": "code",
   "execution_count": 1,
   "id": "73538a91",
   "metadata": {},
   "outputs": [],
   "source": [
    "import warnings\n",
    "warnings.filterwarnings(\"ignore\")\n",
    "import pandas as pd\n",
    "import numpy as np\n",
    "import collections\n",
    "import re\n",
    "import os\n",
    "import string\n",
    "pd.set_option('display.max_colwidth', 200)\n",
    "from sklearn.feature_extraction.text import CountVectorizer"
   ]
  },
  {
   "cell_type": "code",
   "execution_count": 2,
   "id": "406767f5",
   "metadata": {},
   "outputs": [],
   "source": [
    "#!pip install BeautifulSoup4\n",
    "# import nltk\n",
    "# nltk.download()  # Download text data sets, including stop words"
   ]
  },
  {
   "cell_type": "code",
   "execution_count": 3,
   "id": "1e3181b9",
   "metadata": {},
   "outputs": [],
   "source": [
    "from nltk.corpus import stopwords # Import the stop word list\n",
    "from collections import Counter\n",
    "from nltk.util import ngrams\n",
    "from nltk import word_tokenize, pos_tag\n",
    "from nltk.stem import WordNetLemmatizer"
   ]
  },
  {
   "cell_type": "code",
   "execution_count": 4,
   "id": "a98f1fe0-dcf2-4e47-8fb0-726bd1f9c7d9",
   "metadata": {},
   "outputs": [],
   "source": [
    "lemmatizer = WordNetLemmatizer()"
   ]
  },
  {
   "cell_type": "code",
   "execution_count": 5,
   "id": "4a587e8c-d2d7-4f9a-8d5f-e18ef62e8de8",
   "metadata": {},
   "outputs": [
    {
     "data": {
      "text/plain": [
       "'require'"
      ]
     },
     "execution_count": 5,
     "metadata": {},
     "output_type": "execute_result"
    }
   ],
   "source": [
    "lemmatizer.lemmatize(\"requires\", pos='v')"
   ]
  },
  {
   "cell_type": "markdown",
   "id": "34f88992",
   "metadata": {
    "tags": []
   },
   "source": [
    "### Whitepaper datasource"
   ]
  },
  {
   "cell_type": "code",
   "execution_count": 6,
   "id": "6c185377-0b77-4feb-9f78-8cb770062e6e",
   "metadata": {},
   "outputs": [],
   "source": [
    "stopwords_set = set(stopwords.words('english'))"
   ]
  },
  {
   "cell_type": "code",
   "execution_count": 7,
   "id": "e12a9f03-2ef8-4acf-800e-198377ecba5f",
   "metadata": {},
   "outputs": [],
   "source": [
    "def extract_and_clean(line, stopwords):\n",
    "    # words = [x.strip() for x in re.split(',| |\\. |\\: ', line) if x]\n",
    "    # words = map(str.lower, words)\n",
    "    # words = [x.replace('-', '') for x in words]\n",
    "    words = word_tokenize(re.sub(r'[^\\w\\s]', '', line.lower()))\n",
    "    # words = [x.replace('-', '') for x in words]\n",
    "    words = [word for word in words if not word in stopwords]\n",
    "    # ADJ, ADJ_SAT, ADV, NOUN, VERB = 'a', 's', 'r', 'n', 'v'\n",
    "    words = [lemmatizer.lemmatize(w, pos='s') for w in words]\n",
    "    words = [lemmatizer.lemmatize(w, pos='n') for w in words]\n",
    "    words = [lemmatizer.lemmatize(w, pos='v') for w in words]\n",
    "    words = [lemmatizer.lemmatize(w, pos='a') for w in words]\n",
    "    return words"
   ]
  },
  {
   "cell_type": "code",
   "execution_count": 34,
   "id": "4c198f81",
   "metadata": {},
   "outputs": [],
   "source": [
    "def read_whitepapers(filename, stopwords):\n",
    "    directory = \"../whitepapers/top20_whitepapers/\"\n",
    "    words_list = []\n",
    "    words_context_dict = {}\n",
    "    # context_tuples_ref = []\n",
    "    word_idx = 0\n",
    "    context_idx = 0\n",
    "    for entry in os.scandir(directory):\n",
    "        if (entry.path.endswith(filename) and entry.is_file()):\n",
    "            with open(entry.path, \"r\") as f:\n",
    "                for line in f:\n",
    "                    # context_tuples_ref += [line]\n",
    "                    temp_words = extract_and_clean(line, stopwords)\n",
    "                    words_list.extend(temp_words)\n",
    "                    for i in range(len(temp_words)):\n",
    "                        words_context_dict[word_idx] = context_idx\n",
    "                        word_idx += 1\n",
    "                    context_idx += 1\n",
    "    return words_list, words_context_dict #, context_tuples_ref"
   ]
  },
  {
   "cell_type": "code",
   "execution_count": 35,
   "id": "52911c9f",
   "metadata": {},
   "outputs": [
    {
     "data": {
      "text/plain": [
       "['bitcoin',\n",
       " 'peertopeer',\n",
       " 'electronic',\n",
       " 'cash',\n",
       " 'system',\n",
       " 'satoshi',\n",
       " 'nakamoto',\n",
       " 'satoshingmxcom',\n",
       " 'wwwbitcoinorg',\n",
       " 'abstract',\n",
       " 'purely',\n",
       " 'peertopeer',\n",
       " 'version',\n",
       " 'electronic',\n",
       " 'cash']"
      ]
     },
     "execution_count": 35,
     "metadata": {},
     "output_type": "execute_result"
    }
   ],
   "source": [
    "bitcoin_filename=\"Bitcoin.txt\"\n",
    "whitepapers, words_context_dict_test = read_whitepapers(bitcoin_filename, stopwords_set)\n",
    "# whitepapers.rename(columns={bitcoin_filename: \"whitepapers\"}, inplace=True)\n",
    "whitepapers[:15]"
   ]
  },
  {
   "cell_type": "code",
   "execution_count": 36,
   "id": "0c7acd02-bad6-4095-ad5d-e4d72aa2c6d7",
   "metadata": {},
   "outputs": [
    {
     "data": {
      "text/plain": [
       "[(0, 0),\n",
       " (1, 0),\n",
       " (2, 0),\n",
       " (3, 0),\n",
       " (4, 0),\n",
       " (5, 1),\n",
       " (6, 1),\n",
       " (7, 2),\n",
       " (8, 3),\n",
       " (9, 4)]"
      ]
     },
     "execution_count": 36,
     "metadata": {},
     "output_type": "execute_result"
    }
   ],
   "source": [
    "list(words_context_dict_test.items())[:10]"
   ]
  },
  {
   "cell_type": "code",
   "execution_count": 37,
   "id": "8584fca6",
   "metadata": {},
   "outputs": [],
   "source": [
    "filenames = ['Algorand.txt', 'Avalanche.txt', 'Binance.txt', 'Bitcoin.txt', 'Cardano.txt', 'Chainlink.txt',\n",
    "            'Crypto_com.txt', 'Ethereum.txt', 'FTX_token.txt', 'PolkaDot.txt', 'Polygon.txt', 'Ripple.txt', \n",
    "            'Solana.txt', 'Terra.txt', 'Tether.txt', 'Tron.txt', 'Uniswap.txt', 'Wrapped.txt']"
   ]
  },
  {
   "cell_type": "code",
   "execution_count": 38,
   "id": "35867a76-5ef6-4be5-b337-1b4600d079b6",
   "metadata": {},
   "outputs": [],
   "source": [
    "compiled_r = re.compile('(?<!\\S)\\d+(?!\\S)')"
   ]
  },
  {
   "cell_type": "code",
   "execution_count": 39,
   "id": "0f5ff972-0a1a-4ab3-ace2-76b8443f8331",
   "metadata": {},
   "outputs": [],
   "source": [
    "def filter_less_important_words(words):\n",
    "    tagged = pos_tag(words)\n",
    "    # Only keep verb, noun, adj\n",
    "    return [w[0] for w in tagged if w[1].startswith('N') or w[1].startswith('J') or w[1].startswith('V')]\n",
    "    # return [w for w in words if not compiled_reg.match(w)]"
   ]
  },
  {
   "cell_type": "code",
   "execution_count": 68,
   "id": "ffbb718a",
   "metadata": {},
   "outputs": [],
   "source": [
    "def creat_word_bank():\n",
    "    word_bank = {}\n",
    "    context_ref = {}\n",
    "    for i in filenames:\n",
    "        word_bank[i], context_ref[i] = read_whitepapers(i, stopwords_set)\n",
    "        #deduplicate in each paper\n",
    "        # deduped_words = list(set(read_whitepapers(i, stopwords_set)))\n",
    "        # word_bank[i] = filter_less_important_words(deduped_words)\n",
    "    return word_bank, context_ref"
   ]
  },
  {
   "cell_type": "code",
   "execution_count": 98,
   "id": "44cd5e47-e88f-4dc8-8342-3189631e774f",
   "metadata": {},
   "outputs": [],
   "source": [
    "def dedupe(words, context_ref):\n",
    "    appearance_dict = {}\n",
    "    for i in range(len(words)):\n",
    "        appearance_dict.setdefault(words[i],[]).append(context_ref[i])\n",
    "    return list(set(words)), appearance_dict"
   ]
  },
  {
   "cell_type": "code",
   "execution_count": 99,
   "id": "2b9df150-7ac5-4373-92d1-cdf7d37705b6",
   "metadata": {},
   "outputs": [],
   "source": [
    "word_bank, context_ref = creat_word_bank()"
   ]
  },
  {
   "cell_type": "code",
   "execution_count": 100,
   "id": "f0d17207-3680-40eb-89e9-a8e187942af5",
   "metadata": {},
   "outputs": [],
   "source": [
    "lookup_dict = {}"
   ]
  },
  {
   "cell_type": "code",
   "execution_count": 101,
   "id": "20eed08e-4138-45e4-8ad1-769cb44dde94",
   "metadata": {},
   "outputs": [],
   "source": [
    "def enrich_lookup_dict(lookup_dict, words, paper_name, appearance_dict):\n",
    "    for w in words:\n",
    "        lookup_dict.setdefault(w,[]).append((paper_name, appearance_dict[w]))\n",
    "        # lookup_dict[w] = paper_name"
   ]
  },
  {
   "cell_type": "code",
   "execution_count": 102,
   "id": "17e39b53-df97-4a75-b4fa-1474dc4bc23d",
   "metadata": {},
   "outputs": [
    {
     "name": "stdout",
     "output_type": "stream",
     "text": [
      "[('use', 18), ('since', 18), ('7', 18), ('new', 18), ('3', 18), ('1', 18), ('take', 18), ('make', 18), ('system', 18), ('require', 18), ('also', 18), ('one', 18), ('user', 18), ('paper', 18), ('many', 18), ('5', 18), ('2', 18), ('two', 18), ('4', 18), ('6', 18), ('give', 18), ('amount', 18), ('number', 18), ('follow', 17), ('every', 17), ('order', 17), ('public', 17), ('work', 17), ('network', 17), ('exist', 17), ('keep', 17), ('within', 17), ('well', 17), ('start', 17), ('key', 17), ('time', 17), ('receive', 17), ('need', 17), ('may', 17), ('8', 17), ('transaction', 17), ('become', 17), ('include', 17), ('provide', 17), ('increase', 17), ('value', 16), ('set', 16), ('hold', 16), ('9', 16), ('fast', 16), ('reference', 16), ('mean', 16), ('10', 16), ('able', 16), ('allow', 16), ('high', 16), ('even', 16), ('change', 16), ('see', 16), ('simple', 16), ('protocol', 16), ('control', 16), ('send', 16), ('know', 16), ('possible', 16), ('base', 16), ('case', 16), ('second', 16), ('generate', 16), ('access', 16), ('store', 16), ('fee', 16), ('large', 16), ('fund', 16), ('share', 16), ('problem', 16), ('like', 16), ('result', 16), ('current', 16), ('11', 16), ('create', 16), ('reduce', 16), ('way', 16), ('potential', 15), ('future', 15), ('would', 15), ('long', 15), ('25', 15), ('add', 15), ('without', 15), ('first', 15), ('full', 15), ('update', 15), ('function', 15), ('particular', 15), ('model', 15), ('point', 15), ('choose', 15), ('private', 15), ('support', 15), ('per', 15), ('must', 15), ('could', 15), ('15', 15), ('size', 15), ('prevent', 15), ('low', 15), ('space', 15), ('cost', 15), ('represent', 15), ('currency', 15), ('solution', 15), ('limit', 15), ('get', 15), ('example', 15), ('process', 15), ('loss', 15), ('want', 15), ('issue', 15), ('account', 15), ('le', 15), ('data', 15), ('12', 15), ('record', 15), ('multiple', 15), ('together', 14), ('abstract', 14), ('13', 14), ('propose', 14), ('still', 14), ('accept', 14), ('type', 14), ('grow', 14), ('already', 14), ('small', 14), ('reach', 14), ('expect', 14), ('begin', 14), ('note', 14), ('move', 14), ('blockchain', 14), ('however', 14), ('combine', 14), ('apply', 14), ('ensure', 14), ('block', 14), ('describe', 14), ('another', 14), ('secure', 14), ('much', 14), ('digital', 14), ('back', 14), ('security', 14), ('part', 14), ('rate', 14), ('come', 14), ('14', 14), ('directly', 14), ('distribute', 14), ('call', 14), ('target', 14), ('trust', 14), ('group', 14), ('entire', 14), ('additional', 14), ('single', 14), ('operation', 14), ('easy', 14), ('token', 14), ('exchange', 14), ('design', 14), ('mechanism', 14), ('consensus', 14), ('information', 14), ('history', 14), ('currently', 14), ('risk', 14), ('run', 14), ('bitcoin', 14), ('requirement', 14), ('maintain', 14), ('several', 14), ('initial', 14), ('implement', 13), ('rely', 13), ('introduce', 13), ('fully', 13), ('total', 13), ('end', 13), ('service', 13), ('attack', 13), ('hash', 13), ('achieve', 13), ('next', 13), ('vote', 13), ('three', 13), ('complete', 13), ('introduction', 13), ('period', 13), ('c', 13), ('scale', 13), ('rule', 13), ('lead', 13), ('cryptocurrency', 13), ('form', 13), ('version', 13), ('previous', 13), ('open', 13), ('similar', 13), ('state', 13), ('standard', 13), ('payment', 13), ('detail', 13), ('contract', 13), ('implementation', 13), ('failure', 13), ('available', 13), ('event', 13), ('platform', 13), ('asset', 13), ('due', 13), ('source', 13), ('market', 13), ('late', 13), ('price', 13), ('section', 13), ('spend', 13), ('address', 13), ('common', 13), ('instead', 13), ('transfer', 13), ('year', 13), ('handle', 13), ('go', 13), ('addition', 13), ('pool', 13), ('show', 13), ('method', 13), ('message', 12), ('depend', 12), ('ledger', 12), ('condition', 12), ('track', 12), ('signature', 12), ('help', 12), ('b', 12), ('among', 12), ('enough', 12), ('good', 12), ('sign', 12), ('participant', 12), ('identity', 12), ('u', 12), ('member', 12), ('remain', 12), ('input', 12), ('stake', 12), ('31', 12), ('23', 12), ('guarantee', 12), ('thus', 12), ('release', 12), ('strong', 12), ('code', 12), ('node', 12), ('growth', 12), ('30', 12), ('us', 12), ('improve', 12), ('put', 12), ('miner', 12), ('pay', 12), ('enable', 12), ('world', 12), ('anyone', 12), ('algorithm', 12), ('20', 12), ('via', 12), ('creation', 12), ('face', 12), ('eg', 12), ('feature', 12), ('management', 12), ('important', 12), ('list', 12), ('participate', 12), ('build', 12), ('certain', 12), ('application', 12), ('maximum', 12), ('coin', 12), ('interest', 12), ('incentive', 12), ('smart', 12), ('gain', 12), ('involve', 12), ('bank', 12), ('owner', 12), ('reserve', 12), ('execute', 12)]\n"
     ]
    }
   ],
   "source": [
    "# Single words\n",
    "agg_words = []\n",
    "for coin in word_bank:\n",
    "    deduped_words, appearance_dict = dedupe(word_bank[coin], context_ref[coin])\n",
    "    agg_words.extend(deduped_words)\n",
    "    enrich_lookup_dict(lookup_dict, deduped_words, coin, appearance_dict)\n",
    "\n",
    "single_counter = Counter(agg_words)\n",
    "print(single_counter.most_common(300))\n",
    "# print([x[0] for x in single_counter.most_common(2000)])"
   ]
  },
  {
   "cell_type": "code",
   "execution_count": 106,
   "id": "b69a7945-be4e-49df-bc1f-441c8a7c13f4",
   "metadata": {},
   "outputs": [],
   "source": [
    "# list(lookup_dict.items())[:1]\n",
    "# lookup_dict['use']"
   ]
  },
  {
   "cell_type": "code",
   "execution_count": 109,
   "id": "b6ac97f2-998c-4e3c-bd5e-f4026e56a2f2",
   "metadata": {},
   "outputs": [
    {
     "name": "stdout",
     "output_type": "stream",
     "text": [
      "[(('1', 'introduction'), 10), (('reference', '1'), 10), (('smart', 'contract'), 10), (('transaction', 'fee'), 10), (('private', 'key'), 10), (('allow', 'user'), 9), (('white', 'paper'), 9), (('1', '2'), 8), (('large', 'number'), 8), (('use', 'case'), 8), (('create', 'new'), 8), (('transaction', 'per'), 8), (('decentralize', 'exchange'), 8), (('period', 'time'), 8), (('third', 'party'), 8), (('also', 'provide'), 8), (('public', 'key'), 7), (('token', 'holder'), 7), (('also', 'use'), 7), (('consensus', 'protocol'), 7), (('per', 'second'), 7), (('high', 'level'), 7), (('block', 'block'), 7), (('transaction', 'transaction'), 7), (('transaction', 'cost'), 7), (('merkle', 'tree'), 7), (('data', 'structure'), 7), (('would', 'need'), 7), (('buy', 'sell'), 7), (('block', 'hash'), 6), (('amount', 'time'), 6), (('block', 'time'), 6), (('step', '1'), 6), (('give', 'time'), 6), (('digital', 'signature'), 6), (('stake', 'system'), 6), (('1', '1'), 6), (('block', 'transaction'), 6), (('protocol', 'provide'), 6), (('figure', '1'), 6), (('without', 'need'), 6), (('bitcoin', 'network'), 6), (('decentralize', 'application'), 6), (('sybil', 'attack'), 6), (('double', 'spend'), 6), (('make', 'easy'), 6), (('entire', 'network'), 6), (('ethereum', 'blockchain'), 6), (('transaction', 'take'), 6), (('transaction', 'block'), 6), (('next', 'block'), 6), (('propose', 'solution'), 6), (('include', 'block'), 6), (('total', 'number'), 6), (('current', 'state'), 6), (('enable', 'user'), 6), (('main', 'chain'), 6), (('transaction', 'data'), 6), (('user', 'would'), 6), (('blockchain', 'technology'), 6), (('consensus', 'algorithm'), 6), (('would', 'require'), 6), (('provide', 'user'), 6), (('total', 'amount'), 6), (('2', '3'), 5), (('user', 'may'), 5), (('2', '1'), 5), (('key', 'pair'), 5), (('user', 'send'), 5), (('user', 'also'), 5), (('time', 'take'), 5), (('network', 'may'), 5), (('next', 'section'), 5), (('node', 'network'), 5), (('provide', 'strong'), 5), (('may', 'choose'), 5), (('pay', 'fee'), 5), (('lead', 'loss'), 5), (('high', 'performance'), 5), (('randomly', 'select'), 5), (('f', '1'), 5), (('least', 'one'), 5), (('new', 'user'), 5), (('computational', 'resource'), 5), (('section', '3'), 5), (('consensus', 'process'), 5), (('digital', 'asset'), 5), (('high', 'transaction'), 5), (('consensus', 'mechanism'), 5), (('state', 'transition'), 5), (('time', 'pass'), 5), (('full', 'node'), 5), (('long', 'term'), 5), (('node', 'node'), 5), (('user', 'experience'), 5), (('even', 'though'), 5), (('track', 'record'), 5), (('computer', 'science'), 5), (('near', 'future'), 5), (('rely', 'trust'), 5), (('merkle', 'root'), 5), (('would', 'allow'), 5), (('order', 'transaction'), 5), (('need', 'trust'), 5), (('denial', 'service'), 5), (('use', 'generate'), 5), (('payment', 'system'), 5), (('invalid', 'block'), 5), (('need', 'way'), 5), (('system', 'similar'), 5), (('chain', 'block'), 5), (('number', 'block'), 5), (('block', 'header'), 5), (('run', 'node'), 5), (('block', 'take'), 5), (('header', 'block'), 5), (('block', 'contain'), 5), (('proof', 'stake'), 5), (('state', 'state'), 5), (('figure', '2'), 5), (('number', 'transaction'), 5), (('take', 'place'), 5), (('distribute', 'ledger'), 5), (('elliptic', 'curve'), 5), (('byzantine', 'fault'), 5), (('proof', 'work'), 5), (('sign', 'message'), 5), (('discuss', 'section'), 5), (('set', 'transaction'), 5), (('would', 'also'), 5), (('two', 'type'), 5), (('transaction', 'require'), 5), (('describe', 'section'), 5), (('see', 'section'), 5), (('limit', 'number'), 5), (('produce', 'block'), 5), (('figure', '3'), 5), (('last', 'block'), 5), (('transaction', 'include'), 5), (('digital', 'currency'), 5), (('user', 'use'), 5), (('also', 'include'), 5), (('low', 'cost'), 5), (('would', 'make'), 5), (('open', 'source'), 5), (('economic', 'incentive'), 5), (('contract', 'order'), 5), (('state', 'machine'), 5), (('cryptocurrency', 'market'), 5), (('user', 'want'), 5), (('per', 'day'), 5), (('bitcoin', 'ethereum'), 5), (('user', 'merchant'), 5), (('protocol', 'use'), 4), (('system', 'use'), 4), (('message', 'send'), 4), (('committee', 'member'), 4), (('network', 'user'), 4), (('keep', 'track'), 4), (('signature', 'scheme'), 4), (('protocol', 'describe'), 4), (('protocol', 'also'), 4), (('protocol', 'achieve'), 4), (('1', 'user'), 4), (('n', 'n'), 4), (('follow', 'property'), 4), (('full', 'control'), 4), (('hash', 'block'), 4), (('total', 'stake'), 4), (('cryptographic', 'primitive'), 4), (('program', 'language'), 4), (('protocol', 'make'), 4), (('every', 'transaction'), 4), (('first', 'transaction'), 4), (('transaction', 'every'), 4), (('distribute', 'system'), 4), (('resource', 'require'), 4), (('time', 'allow'), 4), (('unit', 'account'), 4), (('since', 'last'), 4), (('node', 'need'), 4), (('key', 'use'), 4), (('virtual', 'machine'), 4), (('note', 'however'), 4), (('low', 'fee'), 4), (('ethereum', 'virtual'), 4), (('node', 'achieve'), 4), (('need', 'prove'), 4), (('atomic', 'swap'), 4), (('finally', 'note'), 4), (('valid', 'block'), 4), (('section', '5'), 4), (('every', 'node'), 4), (('include', 'limit'), 4), (('protocol', 'enable'), 4), (('bitcoin', 'peertopeer'), 4), (('blockchain', 'solution'), 4), (('amount', 'stake'), 4), (('execution', 'environment'), 4), (('participate', 'node'), 4), (('long', 'majority'), 4), (('stake', 'validators'), 4), (('one', 'transaction'), 4), (('allow', 'node'), 4), (('amount', 'fee'), 4), (('many', 'time'), 4), (('large', 'network'), 4), (('ensure', 'security'), 4), (('fee', 'fee'), 4), (('real', 'time'), 4), (('one', 'key'), 4), (('issue', 'token'), 4), (('user', 'base'), 4), (('trade', 'pair'), 4), (('system', 'need'), 4), (('btc', 'eth'), 4), (('data', 'include'), 4), (('two', 'different'), 4), (('fiat', 'currency'), 4), (('node', 'would'), 4), (('follow', '1'), 4), (('per', 'year'), 4), (('1', 'k'), 4), (('one', 'block'), 4), (('per', 'block'), 4), (('transaction', 'send'), 4), (('input', 'output'), 4), (('cryptographic', 'proof'), 4), (('verify', 'transaction'), 4), (('chain', 'use'), 4), (('ahead', 'time'), 4), (('attacker', 'could'), 4), (('include', 'previous'), 4), (('new', 'transaction'), 4), (('network', 'require'), 4), (('use', 'proof'), 4), (('execute', 'transaction'), 4), (('make', 'payment'), 4), (('hash', 'transaction'), 4), (('provide', 'way'), 4), (('user', 'need'), 4), (('output', 'value'), 4), (('transaction', 'would'), 4), (('security', 'privacy'), 4), (('chain', 'see'), 4), (('bitcoin', 'blockchain'), 4), (('input', 'data'), 4), (('total', 'reward'), 4), (('blockchain', 'system'), 4), (('may', 'include'), 4)]\n"
     ]
    }
   ],
   "source": [
    "#2-gram counter\n",
    "agg_words_2gram = []\n",
    "for coin in word_bank:\n",
    "    deduped_words, appearance_dict = dedupe(list(ngrams(word_bank[coin], 2)), context_ref[coin])\n",
    "    agg_words_2gram.extend(deduped_words)\n",
    "    enrich_lookup_dict(lookup_dict, deduped_words, coin, appearance_dict)\n",
    "\n",
    "two_gram_counter = Counter(agg_words_2gram)\n",
    "print(two_gram_counter.most_common(250))\n",
    "# print([x[0] for x in two_gram_counter.most_common(300)])"
   ]
  },
  {
   "cell_type": "code",
   "execution_count": 110,
   "id": "9873bd4b-c3fb-4ec1-9d82-fe05dfdcc0a4",
   "metadata": {},
   "outputs": [
    {
     "data": {
      "text/plain": [
       "[('Avalanche.txt', [348, 349, 350, 352, 354, 354, 358, 364, 367]),\n",
       " ('Chainlink.txt',\n",
       "  [31,\n",
       "   36,\n",
       "   40,\n",
       "   42,\n",
       "   55,\n",
       "   177,\n",
       "   181,\n",
       "   183,\n",
       "   192,\n",
       "   196,\n",
       "   201,\n",
       "   211,\n",
       "   215,\n",
       "   222,\n",
       "   229,\n",
       "   238,\n",
       "   278,\n",
       "   279,\n",
       "   280,\n",
       "   283,\n",
       "   289,\n",
       "   289,\n",
       "   296,\n",
       "   299,\n",
       "   322,\n",
       "   354,\n",
       "   356,\n",
       "   388,\n",
       "   391,\n",
       "   400,\n",
       "   409,\n",
       "   411,\n",
       "   432,\n",
       "   465,\n",
       "   472,\n",
       "   491,\n",
       "   496,\n",
       "   535,\n",
       "   594,\n",
       "   706,\n",
       "   756,\n",
       "   797,\n",
       "   826,\n",
       "   831,\n",
       "   837,\n",
       "   867,\n",
       "   881,\n",
       "   883,\n",
       "   901,\n",
       "   1009,\n",
       "   1052,\n",
       "   1065,\n",
       "   1079,\n",
       "   1131,\n",
       "   1202,\n",
       "   1216,\n",
       "   1431,\n",
       "   1468,\n",
       "   1542,\n",
       "   1582,\n",
       "   1712,\n",
       "   1719,\n",
       "   1724,\n",
       "   1726,\n",
       "   1767,\n",
       "   1770,\n",
       "   1772,\n",
       "   1773,\n",
       "   1776,\n",
       "   1793,\n",
       "   1803,\n",
       "   1817,\n",
       "   1821,\n",
       "   1836,\n",
       "   1838,\n",
       "   2110,\n",
       "   2111,\n",
       "   2297,\n",
       "   2438,\n",
       "   2439,\n",
       "   2476,\n",
       "   2573,\n",
       "   2755,\n",
       "   2764,\n",
       "   2764,\n",
       "   2830,\n",
       "   2832,\n",
       "   3170,\n",
       "   3269,\n",
       "   3293,\n",
       "   3298,\n",
       "   3429,\n",
       "   3506,\n",
       "   3528,\n",
       "   3824,\n",
       "   3825,\n",
       "   3829,\n",
       "   3829,\n",
       "   3832,\n",
       "   3834,\n",
       "   3849,\n",
       "   3852,\n",
       "   3857,\n",
       "   3864,\n",
       "   3975,\n",
       "   4017,\n",
       "   4024,\n",
       "   4053,\n",
       "   4068,\n",
       "   4081,\n",
       "   4190,\n",
       "   4210,\n",
       "   4214,\n",
       "   4218,\n",
       "   4251,\n",
       "   4276,\n",
       "   4284,\n",
       "   4286,\n",
       "   4289,\n",
       "   4294,\n",
       "   4334,\n",
       "   4455,\n",
       "   4494,\n",
       "   4499,\n",
       "   4615,\n",
       "   4696,\n",
       "   4702,\n",
       "   4723,\n",
       "   5266,\n",
       "   5321]),\n",
       " ('Crypto_com.txt', [1387, 1413]),\n",
       " ('Ethereum.txt', [10, 21, 238, 290, 293, 495, 497, 960]),\n",
       " ('Polygon.txt', [16, 18, 23, 88, 255, 306, 452, 484, 561, 636]),\n",
       " ('Solana.txt', [53, 801, 802, 805, 821]),\n",
       " ('Terra.txt', [301, 305]),\n",
       " ('Tether.txt', [47, 169, 459]),\n",
       " ('Tron.txt',\n",
       "  [75,\n",
       "   126,\n",
       "   170,\n",
       "   278,\n",
       "   280,\n",
       "   304,\n",
       "   467,\n",
       "   630,\n",
       "   667,\n",
       "   736,\n",
       "   738,\n",
       "   740,\n",
       "   742,\n",
       "   755,\n",
       "   768,\n",
       "   772,\n",
       "   776,\n",
       "   793,\n",
       "   799,\n",
       "   807,\n",
       "   810,\n",
       "   811,\n",
       "   813,\n",
       "   816,\n",
       "   818,\n",
       "   823,\n",
       "   831,\n",
       "   853,\n",
       "   863,\n",
       "   868,\n",
       "   872,\n",
       "   896,\n",
       "   929,\n",
       "   930,\n",
       "   933,\n",
       "   1167,\n",
       "   1234,\n",
       "   1247,\n",
       "   1251,\n",
       "   1253,\n",
       "   1262]),\n",
       " ('Wrapped.txt', [42, 50, 101, 113, 427])]"
      ]
     },
     "execution_count": 110,
     "metadata": {},
     "output_type": "execute_result"
    }
   ],
   "source": [
    "lookup_dict[('smart', 'contract')]"
   ]
  },
  {
   "cell_type": "code",
   "execution_count": 113,
   "id": "26076b59-2a9e-40c4-a290-a669fc7d340b",
   "metadata": {},
   "outputs": [
    {
     "name": "stdout",
     "output_type": "stream",
     "text": [
      "[(('transaction', 'per', 'second'), 7), (('ethereum', 'virtual', 'machine'), 4), (('block', 'header', 'block'), 4), (('1', '2', '1'), 4), (('proof', 'stake', 'po'), 4), (('high', 'transaction', 'fee'), 4), (('use', 'smart', 'contract'), 4), (('control', 'private', 'key'), 4), (('eprint', 'archive', 'report'), 3), (('digital', 'signature', 'scheme'), 3), (('cryptology', 'eprint', 'archive'), 3), (('2', '1', '1'), 3), (('decentralize', 'application', 'dapps'), 3), (('long', 'period', 'time'), 3), (('peertopeer', 'electronic', 'cash'), 3), (('every', 'node', 'network'), 3), (('bitcoin', 'peertopeer', 'electronic'), 3), (('electronic', 'cash', 'system'), 3), (('conference', 'computer', 'communication'), 3), (('symposium', 'security', 'privacy'), 3), (('key', 'public', 'key'), 3), (('computer', 'communication', 'security'), 3), (('proof', 'stake', 'system'), 3), (('least', 'one', 'honest'), 3), (('1', '2', '2'), 3), (('r', 'r', '1'), 3), (('two', 'reason', 'first'), 3), (('double', 'spend', 'attack'), 3), (('2', '1', '2'), 3), (('byzantine', 'fault', 'tolerant'), 3), (('smart', 'contract', 'language'), 3), (('erc20', 'token', 'ethereum'), 3), (('token', 'ethereum', 'blockchain'), 3), (('decentralize', 'digital', 'currency'), 3), (('potential', 'use', 'case'), 3), (('denial', 'service', 'attack'), 3), (('previous', 'block', 'hash'), 3), (('time', 'take', 'user'), 2), (('random', 'function', 'vrfs'), 2), (('choose', 'message', 'attack'), 2), (('p', '6', '4'), 2), (('keep', 'track', 'time'), 2), (('byzantine', 'agreement', 'protocol'), 2), (('value', 'v', 'v'), 2), (('silvio', 'micali', 'algorand'), 2), (('9', 'reference', '1'), 2), (('cid16', 'cid17', 'cid16'), 2), (('veriﬁable', 'random', 'function'), 2), (('micali', 'algorand', 'eﬃcient'), 2), (('0', 'cid16', 'cid17'), 2), (('ﬁrst', 'describe', 'protocol'), 2), (('cid17', 'cid16', 'cid17'), 2), (('eﬃcient', 'democratic', 'ledger'), 2), (('algorand', 'eﬃcient', 'democratic'), 2), (('new', 'user', 'may'), 2), (('consensus', 'mechanism', 'assume'), 2), (('node', 'stake', 'system'), 2), (('time', 'pass', 'since'), 2), (('ethereum', 'secure', 'decentralise'), 2), (('include', 'smart', 'contract'), 2), (('deploy', 'smart', 'contract'), 2), (('virtual', 'machine', 'vm'), 2), (('nakamoto', 'bitcoin', 'peertopeer'), 2), (('prevent', 'double', 'spend'), 2), (('obligation', 'update', 'forwardlooking'), 2), (('undertake', 'obligation', 'update'), 2), (('secure', 'decentralise', 'generalise'), 2), (('smart', 'contract', 'operate'), 2), (('deﬁned', 'figure', '1'), 2), (('set', 'smart', 'contract'), 2), (('update', 'forwardlooking', 'statement'), 2), (('consensus', 'protocol', 'provide'), 2), (('consensus', 'protocol', 'use'), 2), (('provide', 'strong', 'security'), 2), (('pass', 'since', 'last'), 2), (('computational', 'resource', 'require'), 2), (('scale', 'large', 'number'), 2), (('consen', 'sus', 'protocol'), 2), (('provide', 'strong', 'guarantee'), 2), (('15', 'year', 'experience'), 2), (('6', 'revenue', 'model'), 2), (('margin', 'trade', 'future'), 2), (('design', 'user', 'experience'), 2), (('two', 'different', 'type'), 2), (('decentralize', 'onchain', 'exchange'), 2), (('btc', 'eth', 'ltc'), 2), (('base', 'trade', 'volume'), 2), (('trade', 'margin', 'trade'), 2), (('system', 'exchange', 'operator'), 2), (('support', 'trade', 'pair'), 2), (('trade', 'pair', 'follow'), 2), (('do', 'btc', 'eth'), 2), (('decentralize', 'exchange', 'future'), 2), (('system', 'base', 'cryptographic'), 2), (('merkle', 'root', 'merkle'), 2), (('simplify', 'payment', 'verification'), 2), (('transact', 'directly', 'without'), 2), (('party', 'transact', 'directly'), 2), (('header', 'block', 'header'), 2), (('transaction', 'add', 'block'), 2), (('trust', 'allow', 'two'), 2), (('public', 'key', 'public'), 2), (('cryptographic', 'proof', 'instead'), 2), (('payment', 'system', 'base'), 2), (('transaction', 'hash', 'merkle'), 2), (('will', 'party', 'transact'), 2), (('electronic', 'payment', 'system'), 2), (('root', 'include', 'block'), 2), (('transaction', 'double', 'spend'), 2), (('trust', 'third', 'party'), 2), (('instead', 'trust', 'allow'), 2), (('without', 'need', 'trust'), 2), (('block', 'header', 'transaction'), 2), (('ieee', 'computer', 'society'), 2), (('proof', 'instead', 'trust'), 2), (('root', 'merkle', 'root'), 2), (('directly', 'without', 'need'), 2), (('computer', 'science', 'page'), 2), (('two', 'will', 'party'), 2), (('hash', 'hash', 'block'), 2), (('hash', 'root', 'hash'), 2), (('allow', 'two', 'will'), 2), (('hash', 'block', 'header'), 2), (('need', 'trust', 'third'), 2), (('give', 'public', 'key'), 2), (('acm', 'conference', 'computer'), 2), (('base', 'cryptographic', 'proof'), 2), (('tx', 'tx', 'tx'), 2), (('key', 'private', 'key'), 2), (('f', 'f', 'f'), 2), (('0', '0', '0'), 2), (('generate', 'transaction', 'use'), 2), (('annual', 'international', 'conference'), 2), (('blockchain', 'protocol', '6'), 2), (('multiparty', 'computation', 'mpc'), 2), (('digital', 'signature', 'algorithm'), 2), (('lecture', 'note', 'computer'), 2), (('communication', 'security', 'cc'), 2), (('advance', 'cryptology', 'eurocrypt'), 2), (('international', 'conference', 'theory'), 2), (('v', 'v', 'v'), 2), (('fruitchains', 'fair', 'blockchain'), 2), (('sompolinsky', 'aviv', 'zohar'), 2), (('may', 'take', 'place'), 2), (('also', 'worth', 'note'), 2), (('conference', 'theory', 'application'), 2), (('transaction', 'main', 'chain'), 2), (('sign', 'key', 'pair'), 2), (('without', 'loss', 'generality'), 2), (('without', 'random', 'oracle'), 2)]\n"
     ]
    }
   ],
   "source": [
    "#3-gram counter\n",
    "agg_words_3gram = []\n",
    "for coin in word_bank:\n",
    "    deduped_words, appearance_dict = dedupe(list(ngrams(word_bank[coin], 3)), context_ref[coin])\n",
    "    agg_words_3gram.extend(deduped_words)\n",
    "    enrich_lookup_dict(lookup_dict, deduped_words, coin, appearance_dict)\n",
    "\n",
    "three_gram_counter = Counter(agg_words_3gram)\n",
    "print(three_gram_counter.most_common(150))\n",
    "# print([x[0] for x in three_gram_counter.most_common(300)])"
   ]
  },
  {
   "cell_type": "code",
   "execution_count": 114,
   "id": "60b3d30c-decd-41ea-a1d7-791c413e6ef9",
   "metadata": {},
   "outputs": [
    {
     "name": "stdout",
     "output_type": "stream",
     "text": [
      "[(('cryptology', 'eprint', 'archive', 'report'), 3), (('bitcoin', 'peertopeer', 'electronic', 'cash'), 3), (('peertopeer', 'electronic', 'cash', 'system'), 3), (('conference', 'computer', 'communication', 'security'), 3), (('algorand', 'eﬃcient', 'democratic', 'ledger'), 2), (('micali', 'algorand', 'eﬃcient', 'democratic'), 2), (('silvio', 'micali', 'algorand', 'eﬃcient'), 2), (('cid17', 'cid16', 'cid17', 'cid16'), 2), (('cid16', 'cid17', 'cid16', 'cid17'), 2), (('veriﬁable', 'random', 'function', 'vrfs'), 2), (('obligation', 'update', 'forwardlooking', 'statement'), 2), (('ethereum', 'secure', 'decentralise', 'generalise'), 2), (('nakamoto', 'bitcoin', 'peertopeer', 'electronic'), 2), (('undertake', 'obligation', 'update', 'forwardlooking'), 2), (('time', 'pass', 'since', 'last'), 2), (('allow', 'two', 'will', 'party'), 2), (('directly', 'without', 'need', 'trust'), 2), (('payment', 'system', 'base', 'cryptographic'), 2), (('public', 'key', 'public', 'key'), 2), (('trust', 'allow', 'two', 'will'), 2), (('block', 'header', 'block', 'header'), 2), (('two', 'will', 'party', 'transact'), 2), (('will', 'party', 'transact', 'directly'), 2), (('instead', 'trust', 'allow', 'two'), 2), (('electronic', 'payment', 'system', 'base'), 2), (('acm', 'conference', 'computer', 'communication'), 2), (('tx', 'tx', 'tx', 'tx'), 2), (('cryptographic', 'proof', 'instead', 'trust'), 2), (('base', 'cryptographic', 'proof', 'instead'), 2), (('merkle', 'root', 'merkle', 'root'), 2), (('without', 'need', 'trust', 'third'), 2), (('system', 'base', 'cryptographic', 'proof'), 2), (('transact', 'directly', 'without', 'need'), 2), (('party', 'transact', 'directly', 'without'), 2), (('proof', 'instead', 'trust', 'allow'), 2), (('data', 'security', 'fc', '2016'), 2), (('lecture', 'note', 'computer', 'science'), 2), (('cryptography', 'data', 'security', 'fc'), 2), (('computer', 'communication', 'security', 'cc'), 2), (('note', 'computer', 'science', 'springer'), 2), (('1', '2', '1', '2'), 2), (('measure', 'transaction', 'per', 'second'), 2), (('noninteractive', 'veriﬁable', 'secret', 'share'), 2), (('secret', 'share', 'v', 'scheme'), 2), (('2', '1', '1', '2'), 2), (('secure', 'multiparty', 'computation', 'mpc'), 2), (('apply', 'cryptography', 'network', 'security'), 2), (('yonatan', 'sompolinsky', 'aviv', 'zohar'), 2), (('practical', 'scheme', 'noninteractive', 'veriﬁable'), 2), (('financial', 'cryptography', 'data', 'security'), 2), (('scheme', 'noninteractive', 'veriﬁable', 'secret'), 2), (('international', 'conference', 'theory', 'application'), 2), (('theory', 'application', 'cryptographic', 'technique'), 2), (('post', 'transaction', 'main', 'chain'), 2), (('2', '1', '2', '1'), 2), (('1', '2', '1', '1'), 2), (('conference', 'theory', 'application', 'cryptographic'), 2), (('1', '1', '0', '0'), 2), (('annual', 'international', 'conference', 'theory'), 2), (('ieee', 'symposium', 'security', 'privacy'), 2), (('central', 'bank', 'digital', 'currency'), 2), (('general', 'data', 'protection', 'regulation'), 2), (('byzantine', 'fault', 'tolerant', 'bft'), 2), (('data', 'protection', 'regulation', 'gdpr'), 2), (('user', 'full', 'control', 'private'), 2), (('attack', 'consensusbased', 'attack', 'sybil'), 2), (('consensusbased', 'attack', 'sybil', 'attack'), 2), (('service', 'attack', 'consensusbased', 'attack'), 2), (('attack', 'denial', 'service', 'attack'), 2), (('denial', 'service', 'attack', 'consensusbased'), 2), (('attack', 'sybil', 'attack', 'smurfing'), 2), (('full', 'control', 'private', 'key'), 2), (('sybil', 'attack', 'smurfing', 'spoof'), 2), (('malware', 'attack', 'denial', 'service'), 2), (('elliptic', 'curve', 'public', 'key'), 2), (('transaction', 'pay', 'high', 'fee'), 2), (('tendermint', 'consensus', 'without', 'mine'), 2), (('evm', 'ethereum', 'virtual', 'machine'), 2), (('token', 'back', 'fiat', 'currency'), 2), (('time', 'high', 'transaction', 'fee'), 2), (('receive', '2t1', 'nextvotes', 'value'), 1), (('unknown', 'length', 'recover', 'fast'), 1), (('v', 'period', 'p', 'set'), 1), (('signature', 'deﬁne', 'sig', 'x'), 1), (('0', 'step', '1', 'value'), 1), (('2015521', '4', 'silvio', 'micali'), 1), (('period', 'pcid48', 'p', 'v'), 1), (('v', 'nextvoted', 't1', 'honest'), 1), (('certify', 'step', 'see', '2t1'), 1), (('time', 'compare', 'period', '1'), 1), (('dynamic', 'adversary', 'permissionless', 'set'), 1), (('signature', 'precisely', 'player', 'publicsecret'), 1), (('x', 'ensure', 'signer', 'identity'), 1), (('may', 'nextvoted', 'step', '4'), 1), (('user', 'try', 'agree', 'value'), 1), (('every', 'honest', 'user', 'see'), 1), (('p', '1', 'p', '2'), 1), (('apart', 'exist', 'two', 'value'), 1), (('deﬁnition', '34', 'softvote', 'user'), 1), (('partition', 'honest', 'user', 'receive'), 1), (('delay', 'agreement', 'reach', 'constant'), 1), (('particular', 'honest', 'leader', 'propose'), 1), (('follow', 'assumption', 'soon', 'relax'), 1), (('leader', 'election', 'work', '23'), 1), (('reach', 'agreement', 'quickly', 'network'), 1), (('vlachos', 'nickolai', 'zeldovich', 'algorand'), 1), (('fast', 'agreement', 'network', 'bound'), 1), (('step', '2', 'without', 'see'), 1), (('p', 'receive', '2t1', 'nextvotes'), 1), (('4', 'nextvote', 'anything', 'else'), 1), (('interval', 'amount', 'time', 'take'), 1), (('v', 'period', 'p', 'unique'), 1), (('certvotes', 'value', 'v', 'period'), 1), (('5', 'time', '5λ', 'see'), 1), (('player', '2', 'user', 'private'), 1), (('rely', 'two', 'well', 'know'), 1), (('message', 'receive', 'honest', 'user'), 1), (('p', 'step', '1', 'value'), 1), (('algorand', 'protocol', 'allow', 'u'), 1), (('algorand', 'protocol', 'adversary', 'corrupt'), 1), (('p1', 'within', 'time', 'λ'), 1), (('set', '2', 'player', 'communicate'), 1), (('asynchronous', 'network', 'algorand', 'ledger'), 1), (('certiﬁed', 'period', 'two', 'honest'), 1), (('2', 'halt', 'condition', 'user'), 1), (('σp', 'period', 'p', 'sig'), 1), (('propagate', 'sig', 'vcertp', 'say'), 1), (('step', '2', 'p', 'step'), 1), (('two', 'well', 'know', 'cryptographic'), 1), (('permissionless', 'system', 'particular', 'honest'), 1), (('period', 'p', 'credential', 'cid16'), 1), (('move', 'period', '2', 'time'), 1), (('certvotes', 'v', 'step', '4'), 1), (('forge', 'honest', 'player', 'signature'), 1), (('ﬁnish', 'step', 'within', 'time'), 1), (('cid96', 'malicious', '1', 'honest'), 1), (('user', 'start', 'protocol', 'guarantee'), 1), (('nextvotes', 'va', 'aby', 'end'), 1), (('step', '4', '5', 'may'), 1), (('special', 'symbol', 'diﬀerent', 'user'), 1), (('potentially', 'certiﬁed', 'adversary', 'make'), 1), (('p', 'cid96', 'set', 'cid96'), 1), (('time', 'honest', 'user', 'receive'), 1), (('potentially', 'certiﬁed', 'period', 'p'), 1), (('set', 'permissionless', 'system', 'adversary'), 1), (('p', 'value', 'v', 'nextvoted'), 1), (('give', 'introduction', 'player', 'replaceability'), 1), (('user', 'ﬁnishes', 'protocol', 'honest'), 1), (('time', '5λ', 'see', '2t1'), 1), (('micali', 'salil', 'vadhan', 'michael'), 1)]\n"
     ]
    }
   ],
   "source": [
    "#4-gram counter\n",
    "agg_words_4gram = []\n",
    "for coin in word_bank:\n",
    "    deduped_words, appearance_dict = dedupe(list(ngrams(word_bank[coin], 4)), context_ref[coin])\n",
    "    agg_words_4gram.extend(deduped_words)\n",
    "    enrich_lookup_dict(lookup_dict, deduped_words, coin, appearance_dict)\n",
    "\n",
    "four_gram_counter = Counter(agg_words_4gram)\n",
    "print(four_gram_counter.most_common(150))\n",
    "# print([x[0] for x in four_gram_counter.most_common(100)])"
   ]
  },
  {
   "cell_type": "code",
   "execution_count": 115,
   "id": "1ccdc8da-b3d2-4c72-b9d4-ad3f97d0df3c",
   "metadata": {},
   "outputs": [
    {
     "name": "stdout",
     "output_type": "stream",
     "text": [
      "[('Bitcoin.txt', [82]), ('Ethereum.txt', [119, 865]), ('Solana.txt', [97, 154, 154]), ('Tron.txt', [625, 626])]\n"
     ]
    }
   ],
   "source": [
    "print(lookup_dict['sha256'])"
   ]
  },
  {
   "cell_type": "code",
   "execution_count": 116,
   "id": "f6716d1b-0f1b-4e7b-b030-04815e71e96b",
   "metadata": {},
   "outputs": [
    {
     "name": "stdout",
     "output_type": "stream",
     "text": [
      "[('Avalanche.txt', [280, 307]), ('Bitcoin.txt', [10, 11, 17, 79, 82, 85, 87, 93, 95, 96, 99, 103, 109, 110, 163, 168, 327, 332]), ('Cardano.txt', [3146]), ('Chainlink.txt', [3197, 5249, 5251]), ('Ethereum.txt', [40, 41, 103, 116, 146, 171, 177, 438, 674]), ('PolkaDot.txt', [76])]\n"
     ]
    }
   ],
   "source": [
    "print(lookup_dict['proofofwork'])"
   ]
  },
  {
   "cell_type": "code",
   "execution_count": 117,
   "id": "03fcd5bb-8914-437c-a2fc-9b42f43c98ce",
   "metadata": {},
   "outputs": [
    {
     "name": "stdout",
     "output_type": "stream",
     "text": [
      "[('Avalanche.txt', [139, 280, 311]), ('Cardano.txt', [0, 3479, 3534]), ('Chainlink.txt', [652, 3198, 3285, 4377, 5249, 5251]), ('Ethereum.txt', [49, 855]), ('PolkaDot.txt', [407, 1467, 1467, 1474]), ('Polygon.txt', [59])]\n"
     ]
    }
   ],
   "source": [
    "print(lookup_dict['proofofstake'])"
   ]
  },
  {
   "cell_type": "code",
   "execution_count": 118,
   "id": "9fc985ed-aef5-479f-ab79-5daf5a3a95ef",
   "metadata": {},
   "outputs": [
    {
     "name": "stdout",
     "output_type": "stream",
     "text": [
      "[('Avalanche.txt', [41, 79, 87, 96, 125, 180, 191, 275, 289, 292, 295, 517, 555]), ('Cardano.txt', [3280, 3282]), ('Chainlink.txt', [208, 375, 593, 631, 679, 732, 970, 981, 1551, 1919, 1996, 2947, 4045, 4822, 5279]), ('Ethereum.txt', [199, 218]), ('PolkaDot.txt', [1398]), ('Ripple.txt', [3, 5]), ('Solana.txt', [546, 687])]\n"
     ]
    }
   ],
   "source": [
    "print(lookup_dict[('consensus', 'protocol')])"
   ]
  },
  {
   "cell_type": "code",
   "execution_count": 124,
   "id": "1e42c796-6e9d-400c-9d03-d5329539976e",
   "metadata": {},
   "outputs": [],
   "source": [
    "def lookup_context(lookup_dict, words):\n",
    "    directory = \"../whitepapers/top20_whitepapers/\"\n",
    "    appearances = lookup_dict[words]\n",
    "    # For each white paper, read and print relevant contents\n",
    "    for appear in appearances:\n",
    "        filename = appear[0]\n",
    "        idxs = appear[1]\n",
    "        context_idx = 0\n",
    "        for entry in os.scandir(directory):\n",
    "            if (entry.path.endswith(filename) and entry.is_file()):\n",
    "                with open(entry.path, \"r\") as f:\n",
    "                    for line in f:\n",
    "                        if context_idx in idxs:\n",
    "                            print(filename + \" [line \" + str(context_idx) + \"] : \" + line)\n",
    "                        context_idx += 1"
   ]
  },
  {
   "cell_type": "code",
   "execution_count": 125,
   "id": "27373135-d697-422a-8ba1-078a5e25d6d6",
   "metadata": {},
   "outputs": [
    {
     "name": "stdout",
     "output_type": "stream",
     "text": [
      "Avalanche.txt [line 41] : Secure Avalanche is designed to be robust and achieve high security. Classical consensus protocols are\n",
      "\n",
      "Avalanche.txt [line 79] : of the platform is called “$AVAX”. The family of consensus protocols used by the Avalanche platform is\n",
      "\n",
      "Avalanche.txt [line 87] : of machines. Therefore, consensus protocols, which enable a group of nodes to achieve agreement, lie at the\n",
      "\n",
      "Avalanche.txt [line 96] : static deployments. Nakamoto consensus protocols [5,7,4], on the other hand, are robust, but suﬀer from\n",
      "\n",
      "Avalanche.txt [line 125] : consensus protocols and therefore require full membership knowledge. Knowing the entire set of par-\n",
      "\n",
      "Avalanche.txt [line 180] : of consensus protocols through a set of 8 critical axes.\n",
      "\n",
      "Avalanche.txt [line 191] : Table 1. Comparative chart between the three known families of consensus protocols. Avalanche, Snowman, and\n",
      "\n",
      "Avalanche.txt [line 275] : Consensus protocols provide their security guarantees under the assumption that up to a threshold number\n",
      "\n",
      "Avalanche.txt [line 289] : proposing participant. Unfortunately, there has also been substantial confusion between consensus protocols\n",
      "\n",
      "Avalanche.txt [line 292] : versus Sybil control mechanisms. We note that the choice of consensus protocols is, for the most part,\n",
      "\n",
      "Avalanche.txt [line 295] : guarantees of the consensus protocol. However, the Snow* family can be coupled with many of these known\n",
      "\n",
      "Avalanche.txt [line 517] : simple example is that of leader-based consensus protocols, wherein a subcommittee or a designated leader\n",
      "\n",
      "Avalanche.txt [line 555] : 6. Rocket, T.: Snowﬂake to Avalanche: A novel metastable consensus protocol family for cryptocurrencies. IPFS\n",
      "\n",
      "Cardano.txt [line 3280] : be be less eﬀective against a PoS based consensus protocol than a PoW based one. Currently our\n",
      "\n",
      "Cardano.txt [line 3282] : against PoS based consensus protocols is left as a future work.\n",
      "\n",
      "Chainlink.txt [line 208] : maintained by a committee of Chainlink nodes. Rooted in a consensus protocol, it\n",
      "\n",
      "Chainlink.txt [line 375] : based or permissionless consensus protocols, which they combine with the blockchains\n",
      "\n",
      "Chainlink.txt [line 593] : consensus protocol and run by a set of oracle nodes. A DON is designed primarily\n",
      "\n",
      "Chainlink.txt [line 631] : emphasize that DONs can be realized using permissionless consensus protocols.\n",
      "\n",
      "Chainlink.txt [line 679] : written to L even if the consensus protocol used for L doesn’t employ them.\n",
      "\n",
      "Chainlink.txt [line 732] : permissionless consensus protocol and DON deployers may ultimately choose to adopt\n",
      "\n",
      "Chainlink.txt [line 970] : a complete BFT consensus protocol. Nodes do not maintain message logs that are\n",
      "\n",
      "Chainlink.txt [line 981] : OCR to be a full-blown consensus protocol, they do require OCR to provide some addi-\n",
      "\n",
      "Chainlink.txt [line 1551] : The problem of undue inﬂuence by leaders on transaction ordering in consensus\n",
      "\n",
      "Chainlink.txt [line 1919] : on all transactions is the very problem solved by the consensus protocol underlying\n",
      "\n",
      "Chainlink.txt [line 1996] : ﬁned by Cachin et al. [71], where it was integrated with a permissioned consensus\n",
      "\n",
      "Chainlink.txt [line 2947] : ing or adversarially ordering transactions. The underlying consensus protocol in a\n",
      "\n",
      "Chainlink.txt [line 4045] : [72] Cachin, C., and Vukolic´, M. Blockchain consensus protocols in the wild. arXiv preprint\n",
      "\n",
      "Chainlink.txt [line 4822] : consensus protocol). The other three can only achieve this property by having an\n",
      "\n",
      "Chainlink.txt [line 5279] : This observation underlies many hybrid consensus protocols, e.g., [120, 182] as well\n",
      "\n",
      "Ethereum.txt [line 199] : for the Bitcoin consensus protocol. Namecoin is the oldest, and most successful, implementation of a\n",
      "\n",
      "Ethereum.txt [line 218] : Thus, in general, there are two approaches toward building a consensus protocol: building an independent\n",
      "\n",
      "PolkaDot.txt [line 1398] : the consensus protocol.\n",
      "\n",
      "Ripple.txt [line 3] : This paper does not reflect the current state of the ledger consensus protocol or its \n",
      "\n",
      "Ripple.txt [line 5] : used as a reference. For an updated analysis and presentation of the consensus \n",
      "\n",
      "Solana.txt [line 546] : The consensus protocol provides a second layer of defense, as any attack\n",
      "\n",
      "Solana.txt [line 687] : To limit this attack, the consensus protocol chosen for the network can\n",
      "\n"
     ]
    }
   ],
   "source": [
    "lookup_context(lookup_dict, ('consensus', 'protocol'))"
   ]
  },
  {
   "cell_type": "code",
   "execution_count": 126,
   "id": "762f5646-6782-4d53-bcb8-06194ea342c6",
   "metadata": {},
   "outputs": [
    {
     "name": "stdout",
     "output_type": "stream",
     "text": [
      "Bitcoin.txt [line 82] : The proof-of-work involves scanning for a value that when hashed, such as with SHA-256, the \n",
      "\n",
      "Ethereum.txt [line 119] : preventing sybil attackers from remaking the entire blockchain in their favor. Because SHA256 is designed\n",
      "\n",
      "Ethereum.txt [line 865] : The Bitcoin mining algorithm works by having miners compute SHA256 on slightly modified versions of\n",
      "\n",
      "Solana.txt [line 97] : sha256, ripemd, etc.), run the function from some random starting value\n",
      "\n",
      "Solana.txt [line 154] : sha256 of the photograph. The index and the sha256 of the photograph are\n",
      "\n",
      "Tron.txt [line 625] : The raw data then undergoes SHA-256 hashing. The private key corresponding to the contract \n",
      "\n",
      "Tron.txt [line 626] : address then signs the result of the SHA256 hash. The signature result is then added to the \n",
      "\n"
     ]
    }
   ],
   "source": [
    "lookup_context(lookup_dict, 'sha256')"
   ]
  },
  {
   "cell_type": "code",
   "execution_count": 127,
   "id": "6fcf4288-4610-4b6f-96f6-12c96dcdfe0b",
   "metadata": {},
   "outputs": [
    {
     "name": "stdout",
     "output_type": "stream",
     "text": [
      "Cardano.txt [line 4] : We present “Ouroboros,” the ﬁrst blockchain protocol based on proof of stake with rig-\n",
      "\n",
      "Cardano.txt [line 6] : those achieved by the bitcoin blockchain protocol. As the protocol provides a “proof of stake”\n",
      "\n",
      "Cardano.txt [line 9] : centivizing proof of stake protocols and we prove that, given this mechanism, honest behavior\n",
      "\n",
      "Cardano.txt [line 27] : A natural alternative mechanism relies on the notion of “proof of stake” (PoS). Rather than\n",
      "\n",
      "Cardano.txt [line 43] : ideal; however, realizing such a proof of stake protocol appears to involve a number of deﬁnitional,\n",
      "\n",
      "Cardano.txt [line 45] : Previous work. The concept of PoS has been discussed extensively in the bitcoin forum.1 Proof\n",
      "\n",
      "Cardano.txt [line 50] : Heuristic proof of stake based blockchain protocols have been proposed (and implemented) for a\n",
      "\n",
      "Cardano.txt [line 73] : Our Results. We present “Ouroboros,” a provably secure proof of stake system. To the best of\n",
      "\n",
      "Cardano.txt [line 80] : 1See “Proof of stake instead of proof of work”, Bitcoin forum thread. Posts by user “QuantumMechanic” and\n",
      "\n",
      "Cardano.txt [line 148] : report on benchmark experiments run in the Amazon cloud that showcase the power of our proof\n",
      "\n",
      "Cardano.txt [line 3488] : bitcoin’s proof of work via proof of stake [extended abstract]y. SIGMETRICS Performance\n",
      "\n",
      "Cardano.txt [line 3492] : [9] Iddo Bentov, Rafael Pass, and Elaine Shi. Snow white: Provably secure proofs of stake. IACR\n",
      "\n",
      "Cardano.txt [line 3512] : [15] Vitalik Buterin. Proof of stake faq. https://github.com/ethereum/wiki/wiki/Proof-of-Stake-\n",
      "\n",
      "Polygon.txt [line 65] : a selected set of Block Producers, chosen for every checkpoint by a set of Stakers. It then uses a Proof Of\n",
      "\n",
      "Polygon.txt [line 172] : The Matic Network uses a dual strategy of Proof of Stake at the checkpointing layer and Block Producers\n",
      "\n",
      "Solana.txt [line 22] : consensus algorithm such as Proof of Work (PoW) or Proof of Stake\n",
      "\n",
      "Solana.txt [line 49] : in Section 4. In depth description of the proposed Proof of Stake consensus\n",
      "\n",
      "Solana.txt [line 348] : 5 Proof of Stake Consensus\n",
      "\n",
      "Solana.txt [line 350] : This specific instance of Proof of Stake is designed for quick confirmation of\n",
      "\n",
      "Solana.txt [line 361] : slashing The proposed solution to the nothing at stake problem in Proof\n",
      "\n",
      "Solana.txt [line 456] : Proof of Stake verifiers lock up some amount of coin in a “stake”, which\n",
      "\n",
      "Solana.txt [line 720] : The Proof of Stake bond’s table contains:\n",
      "\n",
      "Solana.txt [line 731] : The network could be configured with a minimum Proof of Stake bond\n",
      "\n",
      "Solana.txt [line 840] : [7] Slasher, A punative Proof of Stake algorithm\n",
      "\n",
      "Solana.txt [line 843] : [8] BitShares Delegated Proof of Stake\n",
      "\n",
      "Terra.txt [line 143] : The Terra Protocol runs on a Proof of Stake (PoS) blockchain, where miners need to stake a native\n",
      "\n",
      "Tron.txt [line 50] : 3.1 Delegated Proof of Stake (DPoS) 13 \n",
      "\n",
      "Tron.txt [line 64] : 5.2.4 Transaction as Proof of Stake (TaPoS) 20 \n",
      "\n",
      "Tron.txt [line 226] : network. See 3.1 Delegated Proof of Stake (DPoS) for more details. \n",
      "\n",
      "Tron.txt [line 282] : mechanism is based on Delegated Proof of Stake (DPoS) and many innovations were made in \n",
      "\n",
      "Tron.txt [line 358] : 3.1 Delegated Proof of Stake (DPoS) \n",
      "\n",
      "Tron.txt [line 424] : To solve the energy waste issue, the Proof of Stake (PoS) consensus mechanism was proposed by \n",
      "\n",
      "Tron.txt [line 431] : The TRON consensus mechanism uses an innovative Delegated Proof of Stake system in which 27 \n",
      "\n",
      "Tron.txt [line 676] : 5.2.4 Transaction as Proof of Stake (TaPoS) \n",
      "\n"
     ]
    }
   ],
   "source": [
    "lookup_context(lookup_dict, ('proof', 'stake'))"
   ]
  },
  {
   "cell_type": "code",
   "execution_count": null,
   "id": "bc8c280e-0c2c-4f2b-89b0-fccd3cff1444",
   "metadata": {},
   "outputs": [],
   "source": []
  },
  {
   "cell_type": "code",
   "execution_count": null,
   "id": "dd60ba13-f6c0-4bc2-953e-10261681f222",
   "metadata": {},
   "outputs": [],
   "source": []
  }
 ],
 "metadata": {
  "kernelspec": {
   "display_name": "Python 3 (ipykernel)",
   "language": "python",
   "name": "python3"
  },
  "language_info": {
   "codemirror_mode": {
    "name": "ipython",
    "version": 3
   },
   "file_extension": ".py",
   "mimetype": "text/x-python",
   "name": "python",
   "nbconvert_exporter": "python",
   "pygments_lexer": "ipython3",
   "version": "3.9.7"
  }
 },
 "nbformat": 4,
 "nbformat_minor": 5
}
