{
 "cells": [
  {
   "cell_type": "code",
   "execution_count": 1,
   "metadata": {
    "collapsed": true
   },
   "outputs": [],
   "source": [
    "import warnings\n",
    "warnings.filterwarnings(\"ignore\")\n",
    "import re\n",
    "import pandas as pd\n",
    "import numpy as np\n",
    "import bs4\n",
    "import requests\n",
    "import spacy\n",
    "import string\n",
    "import demoji\n",
    "import os\n",
    "from spacy import displacy\n",
    "nlp = spacy.load('en_core_web_sm')\n",
    "\n",
    "from spacy.matcher import Matcher \n",
    "from spacy.tokens import Span \n",
    "\n",
    "import networkx as nx\n",
    "\n",
    "import matplotlib.pyplot as plt\n",
    "from tqdm import tqdm\n",
    "\n",
    "pd.set_option('display.max_colwidth', 200)\n",
    "%matplotlib inline"
   ]
  },
  {
   "cell_type": "code",
   "execution_count": 2,
   "metadata": {
    "collapsed": true
   },
   "outputs": [],
   "source": [
    "def read_whitepapers(filename):\n",
    "    directory = \"../whitepapers\"\n",
    "    texts = []\n",
    "    for entry in os.scandir(directory):\n",
    "        if (entry.path.endswith(filename) and entry.is_file()):\n",
    "            a_dataframe = pd.read_csv(entry.path, names=[filename], sep=\"\\n\")\n",
    "    a_dataframe.replace('', np.nan, inplace=True)\n",
    "    a_dataframe.dropna(inplace=True)\n",
    "    return a_dataframe"
   ]
  },
  {
   "cell_type": "code",
   "execution_count": 3,
   "metadata": {},
   "outputs": [
    {
     "data": {
      "text/html": [
       "<div>\n",
       "<style scoped>\n",
       "    .dataframe tbody tr th:only-of-type {\n",
       "        vertical-align: middle;\n",
       "    }\n",
       "\n",
       "    .dataframe tbody tr th {\n",
       "        vertical-align: top;\n",
       "    }\n",
       "\n",
       "    .dataframe thead th {\n",
       "        text-align: right;\n",
       "    }\n",
       "</style>\n",
       "<table border=\"1\" class=\"dataframe\">\n",
       "  <thead>\n",
       "    <tr style=\"text-align: right;\">\n",
       "      <th></th>\n",
       "      <th>shiba_inu.txt</th>\n",
       "    </tr>\n",
       "  </thead>\n",
       "  <tbody>\n",
       "    <tr>\n",
       "      <th>0</th>\n",
       "      <td>SHIBA INU</td>\n",
       "    </tr>\n",
       "    <tr>\n",
       "      <th>1</th>\n",
       "      <td>ECOSYSTEM</td>\n",
       "    </tr>\n",
       "    <tr>\n",
       "      <th>2</th>\n",
       "      <td>WWW.SHIBATOKEN.COM</td>\n",
       "    </tr>\n",
       "    <tr>\n",
       "      <th>3</th>\n",
       "      <td>BONE</td>\n",
       "    </tr>\n",
       "    <tr>\n",
       "      <th>4</th>\n",
       "      <td>v1 - 4/29/21 - WOOF Paper</td>\n",
       "    </tr>\n",
       "    <tr>\n",
       "      <th>...</th>\n",
       "      <td>...</td>\n",
       "    </tr>\n",
       "    <tr>\n",
       "      <th>209</th>\n",
       "      <td>participation, none of this would be possible.</td>\n",
       "    </tr>\n",
       "    <tr>\n",
       "      <th>210</th>\n",
       "      <td>It's time for us to begin.</td>\n",
       "    </tr>\n",
       "    <tr>\n",
       "      <th>211</th>\n",
       "      <td>- Ryoshi</td>\n",
       "    </tr>\n",
       "    <tr>\n",
       "      <th>212</th>\n",
       "      <td>v1 - 4/29/21 - WOOF Paper WWW.SHIBATOKEN.COM</td>\n",
       "    </tr>\n",
       "    <tr>\n",
       "      <th>213</th>\n",
       "      <td>v1 - 4/29/21 - WOOF Paper WWW.SHIBATOKEN.COM</td>\n",
       "    </tr>\n",
       "  </tbody>\n",
       "</table>\n",
       "<p>214 rows × 1 columns</p>\n",
       "</div>"
      ],
      "text/plain": [
       "                                      shiba_inu.txt\n",
       "0                                         SHIBA INU\n",
       "1                                         ECOSYSTEM\n",
       "2                                WWW.SHIBATOKEN.COM\n",
       "3                                              BONE\n",
       "4                         v1 - 4/29/21 - WOOF Paper\n",
       "..                                              ...\n",
       "209  participation, none of this would be possible.\n",
       "210                      It's time for us to begin.\n",
       "211                                        - Ryoshi\n",
       "212    v1 - 4/29/21 - WOOF Paper WWW.SHIBATOKEN.COM\n",
       "213    v1 - 4/29/21 - WOOF Paper WWW.SHIBATOKEN.COM\n",
       "\n",
       "[214 rows x 1 columns]"
      ]
     },
     "execution_count": 3,
     "metadata": {},
     "output_type": "execute_result"
    }
   ],
   "source": [
    "shiba_filename = \"shiba_inu.txt\"\n",
    "shiba_whitepapers = read_whitepapers(shiba_filename)\n",
    "shiba_whitepapers"
   ]
  },
  {
   "cell_type": "code",
   "execution_count": 4,
   "metadata": {},
   "outputs": [
    {
     "data": {
      "text/plain": [
       "216                                                                              #Dogelon Mars Becomes the Most Traded Altcoin Among the Top 1000 #Ethereum Wallets (@DogelonMars) \\n\\nhttps://t.co/ApnJh1Mrun\n",
       "8      InPoker Airdrop \\n\\n Task:          ➕ Up to 200 INP (~$4)\\n\\n‍‍ Referral:   ➕ 100,000 INP (~$2000) for the top 100 referrers.\\n\\n Airdrop Link &amp; Information: https://t.co/ZX5bmZs4pw\\n\\n#crypto...\n",
       "326    $100 Giving in 24 HOURS   \\n \\nRT &amp; Follow @TheGodsCome \\n \\nJoin TG https://t.co/3NjAEI5cJE Post Proof\\n\\nThe next 1000X gem, The Gods Come(TGC) is a mythical Greek blockchain game. we are ve...\n",
       "352    ️ Introducing @MetastrikeHQ, Shoot, Build and Earn\\n\\n️ Metastrike is a multiplayer 3D FPS blockchain game project that includes many essential &amp; advanced features of a shooting game\\n\\nINFO\\n...\n",
       "275    #NEXT100XGEMS! \\n\\n» Whitelist: https://t.co/2iGXXlGbn0\\n\\n» DEVS WILL BE DOXXED BEFORE PRESALE\\n» 8% ADA REWARDS\\n» PREMIUM AUDIT IN 24 HOURS\\n» NFT VERY COMING SOON \\n\\nClearly a lot of hype aro...\n",
       "Name: full_text, dtype: object"
      ]
     },
     "execution_count": 4,
     "metadata": {},
     "output_type": "execute_result"
    }
   ],
   "source": [
    "# import wikipedia sentences\n",
    "candidate_sentences = pd.read_excel(\"./input/dataset_twitter-scraper_2021-11-22_22-28-52-216.xlsx\")\n",
    "candidate_sentences['full_text'].sample(5)"
   ]
  },
  {
   "cell_type": "markdown",
   "metadata": {},
   "source": [
    "### Data preprocessing\n",
    "We will begin our data processing with punctuations"
   ]
  },
  {
   "cell_type": "code",
   "execution_count": 5,
   "metadata": {
    "collapsed": true
   },
   "outputs": [],
   "source": [
    "def remove_emojis(data):\n",
    "    emoj = re.compile(\"[\"\n",
    "        u\"\\U0001F600-\\U0001F64F\"  # emoticons\n",
    "        u\"\\U0001F300-\\U0001F5FF\"  # symbols & pictographs\n",
    "        u\"\\U0001F680-\\U0001F6FF\"  # transport & map symbols\n",
    "        u\"\\U0001F1E0-\\U0001F1FF\"  # flags (iOS)\n",
    "        u\"\\U00002500-\\U00002BEF\"  # chinese char\n",
    "        u\"\\U00002702-\\U000027B0\"\n",
    "        u\"\\U00002702-\\U000027B0\"\n",
    "        u\"\\U000024C2-\\U0001F251\"\n",
    "        u\"\\U0001f926-\\U0001f937\"\n",
    "        u\"\\U00010000-\\U0010ffff\"\n",
    "        u\"\\u2640-\\u2642\" \n",
    "        u\"\\u2600-\\u2B55\"\n",
    "        u\"\\u200d\"\n",
    "        u\"\\u23cf\"\n",
    "        u\"\\u23e9\"\n",
    "        u\"\\u231a\"\n",
    "        u\"\\ufe0f\"  # dingbats\n",
    "        u\"\\u3030\"\n",
    "                      \"]+\", re.UNICODE)\n",
    "    return re.sub(emoj, ' ', data)"
   ]
  },
  {
   "cell_type": "code",
   "execution_count": 6,
   "metadata": {
    "collapsed": true
   },
   "outputs": [],
   "source": [
    "def tweet_cleaning(text):\n",
    "    '''Make text lowercase, remove text in square brackets,remove links,remove punctuation\n",
    "    and remove words containing numbers.'''\n",
    "#     text = str(text).lower()\n",
    "    text = re.sub('\\[.*?\\]', ' ', text)\n",
    "    text = re.sub('https?://\\S+|www\\.\\S+', ' ', text)\n",
    "    text = re.sub('<.*?>+', ' ', text)\n",
    "    text = re.sub('[%s]' % re.escape(string.punctuation), '', text)\n",
    "    text = re.sub('\\n', ' ', text)\n",
    "    text = re.sub('\\w*\\d\\w*', ' ', text)\n",
    "    text = remove_emojis(text)\n",
    "    text = re.sub('\\s+', ' ', text)\n",
    "    text = text.strip()\n",
    "    return text"
   ]
  },
  {
   "cell_type": "code",
   "execution_count": 7,
   "metadata": {},
   "outputs": [
    {
     "data": {
      "text/plain": [
       "275                         » Whitelist » DEVS WILL BE DOXXED BEFORE PRESALE » ADA REWARDS » PREMIUM AUDIT IN HOURS » NFT VERY COMING SOON Clearly a lot of hype around this one Official Telegram bsc btc eth\n",
       "346    RvrsToken created to make saving the planet simpler through using blockchain technology Support this project guys Buy use or sell RVRS token users are creating a positive impact in the fight again...\n",
       "265                                                                                                                                                                               YOKSA btc eth stevedabitcoin\n",
       "294                                                                                                                                                                           Fear is back seems Mtgox related\n",
       "354                                              Celebrate our Cofounder Today is his birthday Happy birthday Chace chaceeskam birthday chl gaming dapp blockchain cryptocurrency eosio telos eos tlos btc eth\n",
       "Name: full_text, dtype: object"
      ]
     },
     "execution_count": 7,
     "metadata": {},
     "output_type": "execute_result"
    }
   ],
   "source": [
    "candidate_sentences['full_text']=candidate_sentences['full_text'].apply(lambda x:tweet_cleaning(x))\n",
    "candidate_sentences['full_text'].sample(5)"
   ]
  },
  {
   "cell_type": "code",
   "execution_count": 8,
   "metadata": {
    "collapsed": true
   },
   "outputs": [],
   "source": [
    "def get_entities(sent):\n",
    "    ## chunk 1\n",
    "    ent1 = \"\"\n",
    "    ent2 = \"\"\n",
    "\n",
    "    prv_tok_dep = \"\"    # dependency tag of previous token in the sentence\n",
    "    prv_tok_text = \"\"   # previous token in the sentence\n",
    "\n",
    "    prefix = \"\"\n",
    "    modifier = \"\"\n",
    "\n",
    "  #############################################################\n",
    "  \n",
    "    for tok in nlp(sent):\n",
    "    ## chunk 2\n",
    "    # if token is a punctuation mark then move on to the next token\n",
    "        if tok.dep_ != \"punct\":\n",
    "            # check: token is a compound word or not\n",
    "            if tok.dep_ == \"compound\":\n",
    "                prefix = tok.text\n",
    "                # if the previous word was also a 'compound' then add the current word to it\n",
    "                if prv_tok_dep == \"compound\":\n",
    "                    prefix = prv_tok_text + \" \"+ tok.text\n",
    "\n",
    "            # check: token is a modifier or not\n",
    "            if tok.dep_.endswith(\"mod\") == True:\n",
    "                modifier = tok.text\n",
    "                # if the previous word was also a 'compound' then add the current word to it\n",
    "                if prv_tok_dep == \"compound\":\n",
    "                    modifier = prv_tok_text + \" \"+ tok.text\n",
    "\n",
    "            ## chunk 3\n",
    "            if tok.dep_.find(\"subj\") == True:\n",
    "                ent1 = modifier +\" \"+ prefix + \" \"+ tok.text\n",
    "                prefix = \"\"\n",
    "                modifier = \"\"\n",
    "                prv_tok_dep = \"\"\n",
    "                prv_tok_text = \"\"      \n",
    "\n",
    "            ## chunk 4\n",
    "            if tok.dep_.find(\"obj\") == True:\n",
    "                ent2 = modifier +\" \"+ prefix +\" \"+ tok.text\n",
    "\n",
    "            ## chunk 5  \n",
    "            # update variables\n",
    "            prv_tok_dep = tok.dep_\n",
    "            prv_tok_text = tok.text\n",
    "    #############################################################\n",
    "\n",
    "    return [ent1.strip(), ent2.strip()]"
   ]
  },
  {
   "cell_type": "code",
   "execution_count": 9,
   "metadata": {
    "collapsed": true
   },
   "outputs": [],
   "source": [
    "def get_relation(sent):\n",
    "    if sent == '':\n",
    "        return ''\n",
    "    doc = nlp(sent)\n",
    "\n",
    "    # Matcher class object \n",
    "    matcher = Matcher(nlp.vocab)\n",
    "\n",
    "    #define the pattern \n",
    "    pattern = [{'DEP':'ROOT'}, \n",
    "            {'DEP':'prep','OP':\"?\"},\n",
    "            {'DEP':'agent','OP':\"?\"},  \n",
    "            {'POS':'ADJ','OP':\"?\"}] \n",
    "\n",
    "    matcher.add(\"matching_1\", [pattern], on_match=None)\n",
    "    matches = matcher(doc)\n",
    "    k = len(matches) - 1\n",
    "    span = doc[matches[k][1]:matches[k][2]] \n",
    "    return(span.text)"
   ]
  },
  {
   "cell_type": "code",
   "execution_count": 15,
   "metadata": {},
   "outputs": [
    {
     "name": "stderr",
     "output_type": "stream",
     "text": [
      "100%|██████████| 372/372 [00:02<00:00, 145.26it/s]\n",
      "100%|██████████| 372/372 [00:02<00:00, 157.53it/s]\n",
      "100%|██████████| 214/214 [00:00<00:00, 236.74it/s]\n",
      "100%|██████████| 214/214 [00:01<00:00, 213.21it/s]\n"
     ]
    }
   ],
   "source": [
    "def extract_entity_relation(candidate_sentences):\n",
    "    candidate_sentences=candidate_sentences.apply(lambda x:tweet_cleaning(x))\n",
    "\n",
    "    entity_pairs = []\n",
    "    for i in tqdm(candidate_sentences):\n",
    "        entity_pairs.append(get_entities(i))\n",
    "    \n",
    "    relation = [get_relation(i) for i in tqdm(candidate_sentences)]\n",
    "    \n",
    "    return entity_pairs, relation\n",
    "\n",
    "bitcoin_entity_pairs, bitcoin_relation = extract_entity_relation(candidate_sentences['full_text'])\n",
    "shiba_entity_pairs, shiba_relation = extract_entity_relation(shiba_whitepapers[shiba_filename])"
   ]
  },
  {
   "cell_type": "code",
   "execution_count": 11,
   "metadata": {},
   "outputs": [
    {
     "name": "stdout",
     "output_type": "stream",
     "text": [
      "[['We', 'spontaneous  community'], ['', ''], ['that', 'time'], ['', ''], ['Projects', 'community involvement'], ['we', 'financial  structures'], ['mindsets  we', 'new  one'], ['', ''], ['', 'communityrun projects'], ['change  they', 'radical  others']]\n"
     ]
    }
   ],
   "source": [
    "def visualize_entity(entity_pairs):\n",
    "    print(entity_pairs[10:20])\n",
    "visualize_entity(shiba_entity_pairs)"
   ]
  },
  {
   "cell_type": "code",
   "execution_count": 12,
   "metadata": {},
   "outputs": [
    {
     "name": "stdout",
     "output_type": "stream",
     "text": [
      "WWWSHIBATOKENCOM    22\n",
      "BONE                 8\n",
      "are                  8\n",
      "Share of             6\n",
      "Minted per           6\n",
      "get                  6\n",
      "                     5\n",
      "SSLP                 4\n",
      "SHIBASWAP            3\n",
      "DIG                  3\n",
      "been                 3\n",
      "is                   3\n",
      "was                  3\n",
      "ECOSYSTEM            2\n",
      "comes from           2\n",
      "LEASH                2\n",
      "’s                   2\n",
      "look                 2\n",
      "work                 2\n",
      "became               2\n",
      "from                 2\n",
      "SHIB                 2\n",
      "protect              1\n",
      "approached           1\n",
      "LEASHETH             1\n",
      "USDT                 1\n",
      "collaborated         1\n",
      "DAI                  1\n",
      "Ethereum             1\n",
      "struggle with        1\n",
      "INCENTIVES           1\n",
      "banner               1\n",
      "exploded             1\n",
      "decentralization     1\n",
      "The                  1\n",
      "time                 1\n",
      "xLEASH               1\n",
      "direction of         1\n",
      "BACKGROUND           1\n",
      "returns              1\n",
      "setting              1\n",
      "Paper                1\n",
      "played               1\n",
      "paradigm             1\n",
      "are eligible         1\n",
      "used                 1\n",
      "like                 1\n",
      "FUTURE               1\n",
      "INU                  1\n",
      "began                1\n",
      "dtype: int64\n"
     ]
    }
   ],
   "source": [
    "def visualize_relation(relations):\n",
    "    print(pd.Series(relations).value_counts()[:50])\n",
    "visualize_relation(shiba_relation)"
   ]
  },
  {
   "cell_type": "code",
   "execution_count": 16,
   "metadata": {
    "collapsed": true
   },
   "outputs": [],
   "source": [
    "def build_knowledge_graph(entity_pairs, relations):\n",
    "    # extract subject\n",
    "    source = [i[0] for i in entity_pairs]\n",
    "\n",
    "    # extract object\n",
    "    target = [i[1] for i in entity_pairs]\n",
    "\n",
    "    kg_df = pd.DataFrame({'source':source, 'target':target, 'edge':relations})\n",
    "    return kg_df\n",
    "kg_bitcoin = build_knowledge_graph(bitcoin_entity_pairs, bitcoin_relation)\n",
    "kg_shiba = build_knowledge_graph(shiba_entity_pairs, shiba_relation)"
   ]
  },
  {
   "cell_type": "code",
   "execution_count": 14,
   "metadata": {
    "scrolled": true
   },
   "outputs": [
    {
     "data": {
      "image/png": "[encoded data removed]",
      "text/plain": [
       "<Figure size 864x864 with 1 Axes>"
      ]
     },
     "metadata": {},
     "output_type": "display_data"
    }
   ],
   "source": [
    "def visualize(kg_df, relation):\n",
    "    G=nx.from_pandas_edgelist(kg_df[kg_df['edge']==relation], \"source\", \"target\", \n",
    "                          edge_attr=True, create_using=nx.MultiDiGraph())\n",
    "\n",
    "    plt.figure(figsize=(12,12))\n",
    "    pos = nx.spring_layout(G, k = 0.5) # k regulates the distance between nodes\n",
    "    nx.draw(G, with_labels=True, node_color='skyblue', node_size=1500, edge_cmap=plt.cm.Blues, pos = pos)\n",
    "    plt.show()\n",
    "    \n",
    "visualize(kg_shiba, \"is\")"
   ]
  },
  {
   "cell_type": "code",
   "execution_count": 18,
   "metadata": {},
   "outputs": [
    {
     "data": {
      "image/png": "[encoded data removed]",
      "text/plain": [
       "<Figure size 864x864 with 1 Axes>"
      ]
     },
     "metadata": {},
     "output_type": "display_data"
    }
   ],
   "source": [
    "visualize(kg_bitcoin, 'altcoins')"
   ]
  },
  {
   "cell_type": "code",
   "execution_count": null,
   "metadata": {
    "collapsed": true
   },
   "outputs": [],
   "source": []
  }
 ],
 "metadata": {
  "kernelspec": {
   "display_name": "Python 3",
   "language": "python",
   "name": "python3"
  },
  "language_info": {
   "codemirror_mode": {
    "name": "ipython",
    "version": 3
   },
   "file_extension": ".py",
   "mimetype": "text/x-python",
   "name": "python",
   "nbconvert_exporter": "python",
   "pygments_lexer": "ipython3",
   "version": "3.6.3"
  }
 },
 "nbformat": 4,
 "nbformat_minor": 2
}
