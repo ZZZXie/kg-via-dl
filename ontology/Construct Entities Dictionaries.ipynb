{
 "cells": [
  {
   "cell_type": "code",
   "execution_count": 1,
   "id": "2ff006e0",
   "metadata": {},
   "outputs": [],
   "source": [
    "# The 5 classes that will be used for constructing knowledge graphs:\n",
    "# cryptocurrency, person, wallet, protocol, platform"
   ]
  },
  {
   "cell_type": "code",
   "execution_count": null,
   "id": "2c547076",
   "metadata": {},
   "outputs": [],
   "source": [
    "import re"
   ]
  },
  {
   "cell_type": "code",
   "execution_count": 2,
   "id": "c0945d1e",
   "metadata": {},
   "outputs": [],
   "source": [
    "from bs4 import BeautifulSoup\n",
    "from urllib.request import urlopen\n",
    "\n",
    "# url = \"https://coinmarketcap.com/\"    \n",
    "# html = urlopen(url).read()\n",
    "html_raw = \"\"\n",
    "# Extracted from https://coinmarketcap.com/\n",
    "with open('crypto-top1-100.txt', \"r\", encoding='utf-8') as f:\n",
    "    html_raw = html_raw + f.read()\n",
    "# Extracted from https://coinmarketcap.com/?page=2\n",
    "with open('crypto-top101-200.txt', \"r\", encoding='utf-8') as f:\n",
    "    html_raw = html_raw + f.read()\n"
   ]
  },
  {
   "cell_type": "code",
   "execution_count": 3,
   "id": "43d4aa91",
   "metadata": {},
   "outputs": [],
   "source": [
    "# htmlparser = BeautifulSoup(html_raw, 'html.parser')\n",
    "# print(htmlparser)"
   ]
  },
  {
   "cell_type": "code",
   "execution_count": 13,
   "id": "297c6be9",
   "metadata": {},
   "outputs": [],
   "source": [
    "top200_coins = re.findall('<p font-weight=\"semibold\" color=\"text\" font-size=\"1\" class=\"sc-1eb5slv-0 iworPT\">([^<>]*)</p>', html_raw)"
   ]
  },
  {
   "cell_type": "code",
   "execution_count": 14,
   "id": "16b2e6c6",
   "metadata": {},
   "outputs": [],
   "source": [
    "top200_coins_abbreviations = re.findall('<p color=\"text3\" class=\"sc-1eb5slv-0 gGIpIK coin-item-symbol\" font-size=\"1\">([^<>]*)</p>', html_raw)"
   ]
  },
  {
   "cell_type": "code",
   "execution_count": 15,
   "id": "e4c66f8a",
   "metadata": {},
   "outputs": [
    {
     "data": {
      "text/plain": [
       "['Bitcoin',\n",
       " 'Ethereum',\n",
       " 'Tether',\n",
       " 'BNB',\n",
       " 'USD Coin',\n",
       " 'Cardano',\n",
       " 'XRP',\n",
       " 'Solana',\n",
       " 'Terra',\n",
       " 'Dogecoin',\n",
       " 'Polkadot',\n",
       " 'Avalanche',\n",
       " 'Shiba Inu',\n",
       " 'Binance USD',\n",
       " 'Polygon']"
      ]
     },
     "execution_count": 15,
     "metadata": {},
     "output_type": "execute_result"
    }
   ],
   "source": [
    "top200_coins[:15]"
   ]
  },
  {
   "cell_type": "code",
   "execution_count": 16,
   "id": "90affe6d",
   "metadata": {},
   "outputs": [
    {
     "data": {
      "text/plain": [
       "200"
      ]
     },
     "execution_count": 16,
     "metadata": {},
     "output_type": "execute_result"
    }
   ],
   "source": [
    "len(top200_coins)"
   ]
  },
  {
   "cell_type": "code",
   "execution_count": 17,
   "id": "525df65d",
   "metadata": {},
   "outputs": [
    {
     "data": {
      "text/plain": [
       "['BTC',\n",
       " 'ETH',\n",
       " 'USDT',\n",
       " 'BNB',\n",
       " 'USDC',\n",
       " 'ADA',\n",
       " 'XRP',\n",
       " 'SOL',\n",
       " 'LUNA',\n",
       " 'DOGE',\n",
       " 'DOT',\n",
       " 'AVAX',\n",
       " 'SHIB',\n",
       " 'BUSD',\n",
       " 'MATIC']"
      ]
     },
     "execution_count": 17,
     "metadata": {},
     "output_type": "execute_result"
    }
   ],
   "source": [
    "top200_coins_abbreviations[:15]"
   ]
  },
  {
   "cell_type": "code",
   "execution_count": 18,
   "id": "86e683fb",
   "metadata": {},
   "outputs": [
    {
     "data": {
      "text/plain": [
       "200"
      ]
     },
     "execution_count": 18,
     "metadata": {},
     "output_type": "execute_result"
    }
   ],
   "source": [
    "len(top200_coins_abbreviations)"
   ]
  },
  {
   "cell_type": "code",
   "execution_count": 19,
   "id": "9fb29dab",
   "metadata": {},
   "outputs": [],
   "source": [
    "html_wallets = \"\"\n",
    "# Extracted from https://www.cryptoatlas.io/rankings/wallets/\n",
    "with open('crypto-wallets.txt', \"r\", encoding='utf-8') as f:\n",
    "    html_wallets = html_wallets + f.read()"
   ]
  },
  {
   "cell_type": "code",
   "execution_count": 20,
   "id": "30abc9c2",
   "metadata": {},
   "outputs": [
    {
     "data": {
      "text/plain": [
       "['Elrond Wallet',\n",
       " 'MetaMask',\n",
       " 'Exodus',\n",
       " 'Trust Wallet',\n",
       " 'MyEtherWallet',\n",
       " 'Coinbase Wallet',\n",
       " 'Blockchain.com Wallet',\n",
       " 'MyCrypto',\n",
       " 'Zengo',\n",
       " 'Bancor',\n",
       " 'Argent',\n",
       " 'Guarda Wallet',\n",
       " 'Cake Wallet',\n",
       " 'XDEFI',\n",
       " 'Zilpay',\n",
       " 'Orion Wallet',\n",
       " 'Edge',\n",
       " 'eToroX Wallet',\n",
       " 'Bitcoin.com Wallet',\n",
       " 'Fortmatic',\n",
       " 'Gemini Wallet',\n",
       " 'Eidoo',\n",
       " 'BlueWallet',\n",
       " 'Tokenpocket',\n",
       " 'Lumi',\n",
       " 'BRD',\n",
       " 'Phantom',\n",
       " 'Novi',\n",
       " 'ValoraApp',\n",
       " 'Liquality',\n",
       " 'Eco',\n",
       " 'Lumiwallet Product',\n",
       " 'Burst Walllet',\n",
       " 'imToken Crypto']"
      ]
     },
     "execution_count": 20,
     "metadata": {},
     "output_type": "execute_result"
    }
   ],
   "source": [
    "top_wallets = re.findall('<div class=\"RawLogo_space__1A3IB\"><a title=\"([^<>]*)\" href=\"', html_wallets)\n",
    "top_wallets"
   ]
  },
  {
   "cell_type": "code",
   "execution_count": 24,
   "id": "91919550",
   "metadata": {},
   "outputs": [
    {
     "data": {
      "text/plain": [
       "['Proof of Work',\n",
       " 'Proof of Stake',\n",
       " 'Delegated Proof of Stake',\n",
       " 'Practical Byzantine Fault Tolerance',\n",
       " 'Ripple']"
      ]
     },
     "execution_count": 24,
     "metadata": {},
     "output_type": "execute_result"
    }
   ],
   "source": [
    "# Per research paper : Analysis of the main consensus protocols of blockchain\n",
    "# https://www.sciencedirect.com/science/article/pii/S240595951930164X#:~:text=There%20are%20three%20basic%20types,demands%20of%20specific%20application%20scenario.\n",
    "main_protocols = ['Proof of Work', 'Proof of Stake', 'Delegated Proof of Stake', 'Practical Byzantine Fault Tolerance', 'Ripple']\n",
    "main_protocols"
   ]
  },
  {
   "cell_type": "code",
   "execution_count": 1,
   "id": "cbea07e9",
   "metadata": {},
   "outputs": [
    {
     "data": {
      "text/plain": [
       "['PoW', 'PoS', 'DPoS', 'PBFT', 'Ripple']"
      ]
     },
     "execution_count": 1,
     "metadata": {},
     "output_type": "execute_result"
    }
   ],
   "source": [
    "main_protocols_abbreviations = ['PoW', 'PoS', 'DPoS', 'PBFT', 'Ripple']\n",
    "main_protocols_abbreviations"
   ]
  },
  {
   "cell_type": "code",
   "execution_count": 2,
   "id": "758df55b",
   "metadata": {},
   "outputs": [
    {
     "data": {
      "text/plain": [
       "['coinbase',\n",
       " 'gemini',\n",
       " 'crypto',\n",
       " 'etoro',\n",
       " 'kraken',\n",
       " 'binance',\n",
       " 'blockfi',\n",
       " 'ftx',\n",
       " 'robinhood',\n",
       " 'tradestation',\n",
       " 'webull']"
      ]
     },
     "execution_count": 2,
     "metadata": {},
     "output_type": "execute_result"
    }
   ],
   "source": [
    "#https://www.nerdwallet.com/best/investing/crypto-exchanges-platforms\n",
    "crypto_platforms = ['coinbase', 'gemini', 'crypto', 'etoro', 'kraken', 'binance', 'blockfi', 'ftx', 'robinhood', 'tradestation', 'webull']\n",
    "crypto_platforms"
   ]
  },
  {
   "cell_type": "code",
   "execution_count": 3,
   "id": "ea875a4d",
   "metadata": {},
   "outputs": [],
   "source": [
    "# There is no way to construct a list of persons\n",
    "\n",
    "# developer\n",
    "# helper\n",
    "# maintainer\n",
    "# translator\n",
    "# tester\n",
    "\n",
    "# Maybe for person relationships we can rely on the relationship matching\n",
    "# instead of person name matching to dictionary"
   ]
  },
  {
   "cell_type": "code",
   "execution_count": null,
   "id": "e4f70518",
   "metadata": {},
   "outputs": [],
   "source": []
  }
 ],
 "metadata": {
  "kernelspec": {
   "display_name": "Python 3 (ipykernel)",
   "language": "python",
   "name": "python3"
  },
  "language_info": {
   "codemirror_mode": {
    "name": "ipython",
    "version": 3
   },
   "file_extension": ".py",
   "mimetype": "text/x-python",
   "name": "python",
   "nbconvert_exporter": "python",
   "pygments_lexer": "ipython3",
   "version": "3.9.10"
  }
 },
 "nbformat": 4,
 "nbformat_minor": 5
}
