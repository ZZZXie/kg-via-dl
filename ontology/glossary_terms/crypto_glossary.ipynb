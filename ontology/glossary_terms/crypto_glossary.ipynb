{
 "cells": [
  {
   "cell_type": "code",
   "execution_count": 45,
   "id": "a8bd2705-07e6-4531-aa8f-c172393b54cc",
   "metadata": {},
   "outputs": [],
   "source": [
    "import requests\n",
    "import csv\n",
    "from bs4 import BeautifulSoup"
   ]
  },
  {
   "cell_type": "code",
   "execution_count": 40,
   "id": "63ff381b-a944-4205-87ee-d1e4e3008cfa",
   "metadata": {},
   "outputs": [],
   "source": [
    "master_dict = []"
   ]
  },
  {
   "cell_type": "code",
   "execution_count": 41,
   "id": "bec8f0f6-af65-4f77-b607-4bcd63d7040c",
   "metadata": {},
   "outputs": [],
   "source": [
    "URL = \"https://academy.moralis.io/blog/defi-encyclopedia-the-ultimate-list-of-decentralized-finance-terms/\"\n",
    "page = requests.get(URL)\n",
    "\n",
    "soup = BeautifulSoup(page.content, \"html.parser\")\n",
    "job_elements = soup.find_all(\"p\")\n",
    "\n",
    "for job_element in job_elements:\n",
    "    try:\n",
    "        token_name = job_element.find(\"strong\")\n",
    "        master_dict.append(token_name.text.strip().lower())\n",
    "    except:\n",
    "        pass\n",
    "master_dict = master_dict[3:]"
   ]
  },
  {
   "cell_type": "code",
   "execution_count": 42,
   "id": "948f08c7-4320-4580-b764-7fdf8f23c5b1",
   "metadata": {},
   "outputs": [],
   "source": [
    "URL = \"https://consensys.net/knowledge-base/a-blockchain-glossary-for-beginners/\"\n",
    "page = requests.get(URL)\n",
    "\n",
    "soup = BeautifulSoup(page.content, \"html.parser\")\n",
    "job_elements = soup.find_all(\"h5\")\n",
    "for job_element in job_elements:\n",
    "    texts = job_element.text.split(\"/\")\n",
    "    for text in texts:\n",
    "        master_dict.append(text.strip().lower())"
   ]
  },
  {
   "cell_type": "code",
   "execution_count": 43,
   "id": "40b4e23d-9688-41eb-8fe6-9e5ffca0570e",
   "metadata": {},
   "outputs": [],
   "source": [
    "URL = \"https://blog.liquid.com/crypto-glossary-a-z-of-common-terms-and-phrases\"\n",
    "page = requests.get(URL)\n",
    "\n",
    "soup = BeautifulSoup(page.content, \"html.parser\")\n",
    "job_elements = soup.find_all(\"p\")\n",
    "\n",
    "for job_element in job_elements:\n",
    "    try:\n",
    "        token_name = job_element.find(\"strong\")\n",
    "        master_dict.append(token_name.text.strip().lower())\n",
    "    except:\n",
    "        pass"
   ]
  },
  {
   "cell_type": "code",
   "execution_count": 44,
   "id": "8d75aa69-6e0d-425f-b1a9-85056376ae37",
   "metadata": {},
   "outputs": [
    {
     "name": "stdout",
     "output_type": "stream",
     "text": [
      "371\n",
      "334\n"
     ]
    }
   ],
   "source": [
    "master_dict.sort()\n",
    "print(len(master_dict))\n",
    "master_dict = list(set(master_dict))\n",
    "print(len(master_dict))\n",
    "master_dict.sort()"
   ]
  },
  {
   "cell_type": "code",
   "execution_count": 38,
   "id": "9571a32a-1e76-475e-979f-a1d561e54519",
   "metadata": {},
   "outputs": [
    {
     "name": "stdout",
     "output_type": "stream",
     "text": [
      "['0x protocol', '51% attack', 'aave', 'account', 'address', 'addressicon', 'addressidenticon', 'air-gapping', 'airdrop', 'all time high/low', 'all time low', 'altcoin', 'aml', 'aml (anti-money laundering)', 'amm', 'api (application programming interface)', 'apr', 'apy', 'arbitrage', 'arbitrageurs', 'argent', 'asic (application specific integrated circuit)', 'atokens', 'attestation', 'auditing', 'augur', 'bag holder', 'bal', 'balancer', 'beacon chain', 'bear market', 'bearish', 'binance', 'bitcoin', 'bitcoin (btc)', 'bitcoin maximalist', 'black swan', 'block', 'block height', 'block reward', 'block time', 'blockchain', 'bonding curves', 'borrowing rate', 'bounty', 'brain wallet', 'bug bounty', 'buidl', 'bull market', 'bullish', 'burn', 'buy/sell wall', 'bytecode', 'byzantium fork', 'censorship resistant', 'cex', 'circulating supply', 'client (ethereum)', 'codefi', 'coin', 'coinbase', 'coinbase wallet', 'coins', 'cold storage', 'cold wallet', 'collateral', 'collateralization ratio', 'comp', 'compound', 'confirmation', 'confirmations', 'consensus', 'consensys', 'constantinople fork', 'contract', 'crv', 'crypto', 'crypto bounties', 'crypto wallet', 'crypto-', 'crypto-compliance', 'cryptoassets', 'cryptocurrency', 'cryptoeconomics', 'cryptography', 'ctokens', 'curve', 'dai', 'dao', 'dapp', 'dapps', 'decentralization', 'decentralized', 'decentralized application (dapp)', 'decentralized exchange', 'decentralized exchange (dex)', 'defi', 'defi pulse', 'deflationary token', 'deposit', 'derivation', 'derivatives', 'derive', 'devcon', 'dex', 'difficulty', 'difficulty bomb', 'digital asset', 'digital identity', 'digital signature', 'distributed denial of service (ddos) attack', 'distributed ledger', 'distributed ledger technology (dlt)', 'double spend', 'dump', 'dydx', 'dyor', 'eip (ethereum improvement proposal)', 'encrypted vs unencrypted keys', 'encryption', 'ens', 'enterprise ethereum alliance (eea)', 'entropy', 'epoch', 'erc', 'erc-20', 'erc-20 token standard', 'erc-721 token standard', 'eth', 'ether (denominations)', 'ether (eth)', 'ethereum', 'etherscan', 'evm (ethereum virtual machine)', 'exchange', 'faucet', 'fiat', 'fiat currency', 'final, finality', 'finney', 'flash loan', 'flash swaps', 'flippening', 'fomo', 'fork', 'fud', 'game theory', 'gas', 'gas limit', 'gas price', 'genesis block', 'governance tokens', 'gwei', 'halving', 'hard fork', 'hardware wallet', 'hash', 'hashing', 'hd wallet', 'hexadecimal', 'hodl', 'hodl (hodling, hodler)', 'hot storage', 'hot wallet', 'hyperledger', 'ico', 'identicon', 'immutability', 'impermanent loss', 'indicator', 'infura', 'instadapp', 'internal transaction', 'interplanetary file system (ipfs)', 'keystore file', 'knc', 'know your customer (kyc)', 'kyberswap', 'kyc', 'layer 2', 'lend', 'lending rate (supply rate)', 'leverage', 'light client', 'limit', 'liquid democracy (delegative democracy)', 'liquidation', 'liquidation ratio', 'liquidity', 'liquidity mining', 'liquidity pools', 'liquidity provider', 'long', 'lp', 'mainnet', 'maker', 'margin trading', 'market cap', 'market maker', 'market taker', 'merkle patricia trie', 'mesh', 'metamask', 'mining', 'mkr', 'mnemonic phrase', 'moon', 'multi signature (multisig)', 'nexus', 'nft', 'nocoiner', 'node', 'node (full node)', 'nonce', 'off-chain', 'ommer block', 'on-chain', 'optimistic rollup', 'opyn', 'oracle', 'oracle (or price oracle)', 'oracle attacks', 'over-collateralization', 'p2c', 'p2p', 'p2p (peer-to-peer)', 'paper wallet', 'parity', 'permissioned ledger', 'permissionless', 'plasma', 'poa, pos, pow', 'pos', 'pow hybrid', 'price oracles', 'private blockchain', 'private currency', 'private key', 'proof of authority (poa)', 'proof of stake (pos)', 'proof of work (pow)', 'proof-of-stake', 'proof-of-work', 'protocol', 'public and public keys', 'public blockchain', 'public key', 'pump', 'pump and dump', 'relayer', 'ren', 'roadmap', 'rollups', 'rpc', 'rug pull', 'satoshi', 'satoshi nakamoto', 'scalability', 'secret recovery phrase', 'security', 'seed (phrase)', 'self-executing', 'serialization', 'sharding', 'shill', 'short', 'sidechains', 'slashing condition', 'slippage', 'slot', 'smart contract', 'smart contract hacks', 'smart contracts', 'snx', 'soft fork', 'solidity', 'spread', 'stable interest rate', 'stablecoin', 'stablecoins', 'staking', 'state', 'state channels', 'subscribe to consensys newsletters', 'synthetics', 'synthetix', 'szabo', 'ta', 'testnet', 'testnet koven', 'testnet rinkeby', 'testnet ropsten', 'token', 'token burns', 'token rewards', 'tokenomics', 'tokens', 'total supply', 'trading fees', 'trail of bits (auditing)', 'transaction block', 'transaction fee', 'transparent', 'trustless', 'turing complete', 'tvl', 'ui', 'underlying asset', 'uniswap', 'ux', 'validator', 'validity proof', 'validium', 'variable interest rate', 'volatility', 'voting rights', 'wallet', 'web 3.0', 'web 3.0 wallet', 'web3', 'whale', 'whitepaper', 'wyre', 'yearn.finance (yearn)', 'yfi', 'yield', 'yield aggregator', 'yield farming', 'yield optimizer', 'ytokens', 'zapper', 'zero address', 'zk-snark', 'zrx']\n"
     ]
    }
   ],
   "source": [
    "print(master_dict)"
   ]
  },
  {
   "cell_type": "code",
   "execution_count": 46,
   "id": "a608afa2-c30d-4482-9c9a-ef62e6ad0a20",
   "metadata": {},
   "outputs": [],
   "source": [
    "with open('master_dict.csv', 'w') as f:\n",
    "      \n",
    "    # using csv.writer method from CSV package\n",
    "    write = csv.writer(f)\n",
    "    write.writerow(master_dict)"
   ]
  },
  {
   "cell_type": "code",
   "execution_count": null,
   "id": "54d11a2b-97f9-4975-b889-eaaf5bbd1d65",
   "metadata": {},
   "outputs": [],
   "source": []
  }
 ],
 "metadata": {
  "kernelspec": {
   "display_name": "Python 3 (ipykernel)",
   "language": "python",
   "name": "python3"
  },
  "language_info": {
   "codemirror_mode": {
    "name": "ipython",
    "version": 3
   },
   "file_extension": ".py",
   "mimetype": "text/x-python",
   "name": "python",
   "nbconvert_exporter": "python",
   "pygments_lexer": "ipython3",
   "version": "3.9.7"
  }
 },
 "nbformat": 4,
 "nbformat_minor": 5
}
