{
 "cells": [
  {
   "cell_type": "code",
   "execution_count": 1,
   "metadata": {},
   "outputs": [],
   "source": [
    "import pandas as pd\n",
    "import numpy as np"
   ]
  },
  {
   "cell_type": "code",
   "execution_count": 2,
   "metadata": {},
   "outputs": [],
   "source": [
    "import os\n",
    "import random\n",
    "import re\n",
    "import string\n",
    "\n",
    "import nltk\n",
    "\n",
    "from gensim.models import Word2Vec\n",
    "\n",
    "from nltk import word_tokenize\n",
    "from nltk.corpus import stopwords\n",
    "\n",
    "from sklearn.cluster import MiniBatchKMeans\n",
    "from sklearn.metrics import silhouette_samples, silhouette_score"
   ]
  },
  {
   "cell_type": "code",
   "execution_count": 3,
   "metadata": {},
   "outputs": [],
   "source": [
    "SEED = 42\n",
    "random.seed(SEED)\n",
    "os.environ[\"PYTHONHASHSEED\"] = str(SEED)\n",
    "np.random.seed(SEED)"
   ]
  },
  {
   "cell_type": "code",
   "execution_count": 4,
   "metadata": {},
   "outputs": [],
   "source": [
    "df = pd.read_csv('10_accounts.csv',index_col=[0])"
   ]
  },
  {
   "cell_type": "code",
   "execution_count": 5,
   "metadata": {},
   "outputs": [
    {
     "data": {
      "text/plain": [
       "0         I Read Cathie Wood’s Ark Invest’s 132 Page “Bi...\n",
       "1         Crypto Platforms Should Offer Investors Same P...\n",
       "2                                         I would guess 80%\n",
       "3         Crypto Support Is Growing on Capitol Hill\\n\\nS...\n",
       "4         Algorand Brings a Level of Maturity to the Blo...\n",
       "                                ...                        \n",
       "130239                                 This tweet is a test\n",
       "130240    Most households to reach grid parity with sola...\n",
       "130241    GMail Tip:  just discovered you can drag label...\n",
       "130242     It was thru your mention in This week in star...\n",
       "130243    Giving TweetDeck a go... in my camper...  Out ...\n",
       "Name: text, Length: 126363, dtype: object"
      ]
     },
     "execution_count": 5,
     "metadata": {},
     "output_type": "execute_result"
    }
   ],
   "source": [
    "df['text']"
   ]
  },
  {
   "cell_type": "code",
   "execution_count": 6,
   "metadata": {},
   "outputs": [
    {
     "name": "stderr",
     "output_type": "stream",
     "text": [
      "[nltk_data] Downloading package stopwords to\n",
      "[nltk_data]     C:\\Users\\neelj\\AppData\\Roaming\\nltk_data...\n",
      "[nltk_data]   Package stopwords is already up-to-date!\n",
      "[nltk_data] Downloading package punkt to\n",
      "[nltk_data]     C:\\Users\\neelj\\AppData\\Roaming\\nltk_data...\n",
      "[nltk_data]   Package punkt is already up-to-date!\n"
     ]
    },
    {
     "data": {
      "text/plain": [
       "True"
      ]
     },
     "execution_count": 6,
     "metadata": {},
     "output_type": "execute_result"
    }
   ],
   "source": [
    "nltk.download(\"stopwords\")\n",
    "nltk.download('punkt')"
   ]
  },
  {
   "cell_type": "code",
   "execution_count": 7,
   "metadata": {},
   "outputs": [],
   "source": [
    "def clean_text(text, tokenizer, stopwords):\n",
    "    text = str(text).lower()\n",
    "    text = re.sub(r\"\\[(.*?)\\]\", \"\", text)\n",
    "    text = re.sub(r\"\\s+\", \" \", text)\n",
    "    text = re.sub(r\"\\w+…|…\", \"\", text)\n",
    "    text = re.sub(r\"(?<=\\w)-(?=\\w)\", \" \", text)\n",
    "    text = re.sub(f\"[{re.escape(string.punctuation)}]\", \"\", text)\n",
    "\n",
    "    tokens = tokenizer(text)\n",
    "    tokens = [t for t in tokens if not t in stopwords]\n",
    "    tokens = [\"\" if t.isdigit() else t for t in tokens]\n",
    "    tokens = [t for t in tokens if len(t) > 1]\n",
    "    return tokens"
   ]
  },
  {
   "cell_type": "code",
   "execution_count": 8,
   "metadata": {},
   "outputs": [],
   "source": [
    "df['tokens'] = df['text'].map(lambda x: clean_text(x, word_tokenize, stopwords.words(\"english\")))"
   ]
  },
  {
   "cell_type": "code",
   "execution_count": 9,
   "metadata": {},
   "outputs": [],
   "source": [
    "tokenized_lists = df['tokens'].tolist()"
   ]
  },
  {
   "cell_type": "code",
   "execution_count": 10,
   "metadata": {},
   "outputs": [],
   "source": [
    "model = Word2Vec(sentences=tokenized_lists, vector_size=100, workers=1, seed=SEED)"
   ]
  },
  {
   "cell_type": "code",
   "execution_count": 11,
   "metadata": {},
   "outputs": [],
   "source": [
    "def vectorize(tokenized_lists, model):\n",
    "    features = []\n",
    "    for tokens in tokenized_lists:\n",
    "        zero_vector = np.zeros(model.vector_size)\n",
    "        vectors = []\n",
    "        for token in tokens:\n",
    "            if token in model.wv:\n",
    "                try:\n",
    "                    vectors.append(model.wv[token])\n",
    "                except KeyError:\n",
    "                    continue\n",
    "        if vectors:\n",
    "            vectors = np.asarray(vectors)\n",
    "            avg_vec = vectors.mean(axis=0)\n",
    "            features.append(avg_vec)\n",
    "        else:\n",
    "            features.append(zero_vector)\n",
    "    return features"
   ]
  },
  {
   "cell_type": "code",
   "execution_count": 12,
   "metadata": {},
   "outputs": [
    {
     "data": {
      "text/plain": [
       "(126363, 100)"
      ]
     },
     "execution_count": 12,
     "metadata": {},
     "output_type": "execute_result"
    }
   ],
   "source": [
    "vectorized_lists = vectorize(tokenized_lists, model)\n",
    "len(vectorized_lists), len(vectorized_lists[0])"
   ]
  },
  {
   "cell_type": "code",
   "execution_count": 13,
   "metadata": {},
   "outputs": [],
   "source": [
    "from scipy.spatial.distance import cdist\n",
    "import matplotlib.pyplot as plt"
   ]
  },
  {
   "cell_type": "code",
   "execution_count": 14,
   "metadata": {},
   "outputs": [
    {
     "name": "stderr",
     "output_type": "stream",
     "text": [
      "C:\\Users\\neelj\\anaconda3\\lib\\site-packages\\sklearn\\cluster\\_kmeans.py:1047: UserWarning: MiniBatchKMeans is known to have a memory leak on Windows with MKL, when there are less chunks than available threads. You can prevent it by setting batch_size >= 2048 or by setting the environment variable OMP_NUM_THREADS=2\n",
      "  \"MiniBatchKMeans is known to have a memory leak on \"\n",
      "C:\\Users\\neelj\\anaconda3\\lib\\site-packages\\sklearn\\cluster\\_kmeans.py:1047: UserWarning: MiniBatchKMeans is known to have a memory leak on Windows with MKL, when there are less chunks than available threads. You can prevent it by setting batch_size >= 2048 or by setting the environment variable OMP_NUM_THREADS=2\n",
      "  \"MiniBatchKMeans is known to have a memory leak on \"\n",
      "C:\\Users\\neelj\\anaconda3\\lib\\site-packages\\sklearn\\cluster\\_kmeans.py:1047: UserWarning: MiniBatchKMeans is known to have a memory leak on Windows with MKL, when there are less chunks than available threads. You can prevent it by setting batch_size >= 2048 or by setting the environment variable OMP_NUM_THREADS=2\n",
      "  \"MiniBatchKMeans is known to have a memory leak on \"\n",
      "C:\\Users\\neelj\\anaconda3\\lib\\site-packages\\sklearn\\cluster\\_kmeans.py:1047: UserWarning: MiniBatchKMeans is known to have a memory leak on Windows with MKL, when there are less chunks than available threads. You can prevent it by setting batch_size >= 2048 or by setting the environment variable OMP_NUM_THREADS=2\n",
      "  \"MiniBatchKMeans is known to have a memory leak on \"\n",
      "C:\\Users\\neelj\\anaconda3\\lib\\site-packages\\sklearn\\cluster\\_kmeans.py:1047: UserWarning: MiniBatchKMeans is known to have a memory leak on Windows with MKL, when there are less chunks than available threads. You can prevent it by setting batch_size >= 2048 or by setting the environment variable OMP_NUM_THREADS=2\n",
      "  \"MiniBatchKMeans is known to have a memory leak on \"\n",
      "C:\\Users\\neelj\\anaconda3\\lib\\site-packages\\sklearn\\cluster\\_kmeans.py:1047: UserWarning: MiniBatchKMeans is known to have a memory leak on Windows with MKL, when there are less chunks than available threads. You can prevent it by setting batch_size >= 2048 or by setting the environment variable OMP_NUM_THREADS=2\n",
      "  \"MiniBatchKMeans is known to have a memory leak on \"\n",
      "C:\\Users\\neelj\\anaconda3\\lib\\site-packages\\sklearn\\cluster\\_kmeans.py:1047: UserWarning: MiniBatchKMeans is known to have a memory leak on Windows with MKL, when there are less chunks than available threads. You can prevent it by setting batch_size >= 2048 or by setting the environment variable OMP_NUM_THREADS=2\n",
      "  \"MiniBatchKMeans is known to have a memory leak on \"\n",
      "C:\\Users\\neelj\\anaconda3\\lib\\site-packages\\sklearn\\cluster\\_kmeans.py:1047: UserWarning: MiniBatchKMeans is known to have a memory leak on Windows with MKL, when there are less chunks than available threads. You can prevent it by setting batch_size >= 2048 or by setting the environment variable OMP_NUM_THREADS=2\n",
      "  \"MiniBatchKMeans is known to have a memory leak on \"\n",
      "C:\\Users\\neelj\\anaconda3\\lib\\site-packages\\sklearn\\cluster\\_kmeans.py:1047: UserWarning: MiniBatchKMeans is known to have a memory leak on Windows with MKL, when there are less chunks than available threads. You can prevent it by setting batch_size >= 2048 or by setting the environment variable OMP_NUM_THREADS=2\n",
      "  \"MiniBatchKMeans is known to have a memory leak on \"\n",
      "C:\\Users\\neelj\\anaconda3\\lib\\site-packages\\sklearn\\cluster\\_kmeans.py:1047: UserWarning: MiniBatchKMeans is known to have a memory leak on Windows with MKL, when there are less chunks than available threads. You can prevent it by setting batch_size >= 2048 or by setting the environment variable OMP_NUM_THREADS=2\n",
      "  \"MiniBatchKMeans is known to have a memory leak on \"\n",
      "C:\\Users\\neelj\\anaconda3\\lib\\site-packages\\sklearn\\cluster\\_kmeans.py:1047: UserWarning: MiniBatchKMeans is known to have a memory leak on Windows with MKL, when there are less chunks than available threads. You can prevent it by setting batch_size >= 2048 or by setting the environment variable OMP_NUM_THREADS=2\n",
      "  \"MiniBatchKMeans is known to have a memory leak on \"\n",
      "C:\\Users\\neelj\\anaconda3\\lib\\site-packages\\sklearn\\cluster\\_kmeans.py:1047: UserWarning: MiniBatchKMeans is known to have a memory leak on Windows with MKL, when there are less chunks than available threads. You can prevent it by setting batch_size >= 2048 or by setting the environment variable OMP_NUM_THREADS=2\n",
      "  \"MiniBatchKMeans is known to have a memory leak on \"\n",
      "C:\\Users\\neelj\\anaconda3\\lib\\site-packages\\sklearn\\cluster\\_kmeans.py:1047: UserWarning: MiniBatchKMeans is known to have a memory leak on Windows with MKL, when there are less chunks than available threads. You can prevent it by setting batch_size >= 2048 or by setting the environment variable OMP_NUM_THREADS=2\n",
      "  \"MiniBatchKMeans is known to have a memory leak on \"\n",
      "C:\\Users\\neelj\\anaconda3\\lib\\site-packages\\sklearn\\cluster\\_kmeans.py:1047: UserWarning: MiniBatchKMeans is known to have a memory leak on Windows with MKL, when there are less chunks than available threads. You can prevent it by setting batch_size >= 2048 or by setting the environment variable OMP_NUM_THREADS=2\n",
      "  \"MiniBatchKMeans is known to have a memory leak on \"\n",
      "C:\\Users\\neelj\\anaconda3\\lib\\site-packages\\sklearn\\cluster\\_kmeans.py:1047: UserWarning: MiniBatchKMeans is known to have a memory leak on Windows with MKL, when there are less chunks than available threads. You can prevent it by setting batch_size >= 2048 or by setting the environment variable OMP_NUM_THREADS=2\n",
      "  \"MiniBatchKMeans is known to have a memory leak on \"\n",
      "C:\\Users\\neelj\\anaconda3\\lib\\site-packages\\sklearn\\cluster\\_kmeans.py:1047: UserWarning: MiniBatchKMeans is known to have a memory leak on Windows with MKL, when there are less chunks than available threads. You can prevent it by setting batch_size >= 2048 or by setting the environment variable OMP_NUM_THREADS=2\n",
      "  \"MiniBatchKMeans is known to have a memory leak on \"\n",
      "C:\\Users\\neelj\\anaconda3\\lib\\site-packages\\sklearn\\cluster\\_kmeans.py:1047: UserWarning: MiniBatchKMeans is known to have a memory leak on Windows with MKL, when there are less chunks than available threads. You can prevent it by setting batch_size >= 2048 or by setting the environment variable OMP_NUM_THREADS=2\n",
      "  \"MiniBatchKMeans is known to have a memory leak on \"\n",
      "C:\\Users\\neelj\\anaconda3\\lib\\site-packages\\sklearn\\cluster\\_kmeans.py:1047: UserWarning: MiniBatchKMeans is known to have a memory leak on Windows with MKL, when there are less chunks than available threads. You can prevent it by setting batch_size >= 2048 or by setting the environment variable OMP_NUM_THREADS=2\n",
      "  \"MiniBatchKMeans is known to have a memory leak on \"\n",
      "C:\\Users\\neelj\\anaconda3\\lib\\site-packages\\sklearn\\cluster\\_kmeans.py:1047: UserWarning: MiniBatchKMeans is known to have a memory leak on Windows with MKL, when there are less chunks than available threads. You can prevent it by setting batch_size >= 2048 or by setting the environment variable OMP_NUM_THREADS=2\n",
      "  \"MiniBatchKMeans is known to have a memory leak on \"\n"
     ]
    }
   ],
   "source": [
    "cluster_sse_dict = {}\n",
    "cluster_dist_dict = {}\n",
    "for k in range(1,20):\n",
    "    km = MiniBatchKMeans(n_clusters=k, batch_size=500).fit(vectorized_lists)\n",
    "    cluster_sse_dict[k] = km.inertia_\n",
    "    cluster_dist_dict[k] = sum(np.min(cdist(vectorized_lists, km.cluster_centers_, 'euclidean'), axis=1)) / len(vectorized_lists)"
   ]
  },
  {
   "cell_type": "code",
   "execution_count": 15,
   "metadata": {},
   "outputs": [
    {
     "name": "stdout",
     "output_type": "stream",
     "text": [
      "Inertia (SSE)\n",
      "1 : 1492463.7612381536\n",
      "2 : 1303588.155396306\n",
      "3 : 1153916.701214585\n",
      "4 : 1064641.670454681\n",
      "5 : 1008894.1124024424\n",
      "6 : 993940.755895469\n",
      "7 : 955432.7147817126\n",
      "8 : 922715.342360619\n",
      "9 : 896925.4014940932\n",
      "10 : 893058.8537439583\n",
      "11 : 883383.6348167191\n",
      "12 : 870969.7915442054\n",
      "13 : 855824.1420040992\n",
      "14 : 849229.1189935378\n",
      "15 : 837658.517643155\n",
      "16 : 834439.4837345949\n",
      "17 : 815660.5900438068\n",
      "18 : 826965.0544222161\n",
      "19 : 800832.1217798833\n"
     ]
    }
   ],
   "source": [
    "print('Inertia (SSE)')\n",
    "for k, v in cluster_sse_dict.items():\n",
    "    print(f'{k} : {v}')"
   ]
  },
  {
   "cell_type": "code",
   "execution_count": 16,
   "metadata": {},
   "outputs": [
    {
     "name": "stdout",
     "output_type": "stream",
     "text": [
      "Distortion\n",
      "1 : 3.2208878389811004\n",
      "2 : 3.0034572118914356\n",
      "3 : 2.8074813588231815\n",
      "4 : 2.7144178484997457\n",
      "5 : 2.6396668652950734\n",
      "6 : 2.614553786570718\n",
      "7 : 2.5631636955243944\n",
      "8 : 2.5239181905233066\n",
      "9 : 2.4840592259637266\n",
      "10 : 2.477666444588855\n",
      "11 : 2.4681202812838685\n",
      "12 : 2.448605475254797\n",
      "13 : 2.4283996805215113\n",
      "14 : 2.4147416578721446\n",
      "15 : 2.404954516302075\n",
      "16 : 2.3980668901190847\n",
      "17 : 2.3679224545358024\n",
      "18 : 2.3905651701092765\n",
      "19 : 2.3468350707423826\n"
     ]
    }
   ],
   "source": [
    "print('Distortion')\n",
    "for k, v in cluster_dist_dict.items():\n",
    "    print(f'{k} : {v}')"
   ]
  },
  {
   "cell_type": "code",
   "execution_count": 17,
   "metadata": {},
   "outputs": [
    {
     "data": {
      "text/plain": [
       "Text(0.5, 0, '# of Clusters')"
      ]
     },
     "execution_count": 17,
     "metadata": {},
     "output_type": "execute_result"
    },
    {
     "data": {
      "image/png": "[encoded data removed]",
      "text/plain": [
       "<Figure size 432x288 with 1 Axes>"
      ]
     },
     "metadata": {
      "needs_background": "light"
     },
     "output_type": "display_data"
    }
   ],
   "source": [
    "plt.plot(list(cluster_sse_dict.keys()),list(cluster_sse_dict.values()))\n",
    "plt.ylabel('Inertia (SSE)')\n",
    "plt.xlabel('# of Clusters')"
   ]
  },
  {
   "cell_type": "code",
   "execution_count": 18,
   "metadata": {},
   "outputs": [
    {
     "data": {
      "text/plain": [
       "Text(0.5, 0, '# of Clusters')"
      ]
     },
     "execution_count": 18,
     "metadata": {},
     "output_type": "execute_result"
    },
    {
     "data": {
      "image/png": "[encoded data removed]",
      "text/plain": [
       "<Figure size 432x288 with 1 Axes>"
      ]
     },
     "metadata": {
      "needs_background": "light"
     },
     "output_type": "display_data"
    }
   ],
   "source": [
    "plt.plot(list(cluster_dist_dict.keys()),list(cluster_dist_dict.values()))\n",
    "plt.ylabel('Distortion')\n",
    "plt.xlabel('# of Clusters')"
   ]
  },
  {
   "cell_type": "code",
   "execution_count": 19,
   "metadata": {},
   "outputs": [],
   "source": [
    "def mbkmeans_clusters(X, k, mb, print_silhouette_values):\n",
    "    km = MiniBatchKMeans(n_clusters=k, batch_size=mb).fit(X)\n",
    "    print(f\"For n_clusters = {k}\")\n",
    "    print(f\"Silhouette coefficient: {silhouette_score(X, km.labels_):0.2f}\")\n",
    "    print(f\"Inertia:{km.inertia_}\")\n",
    "\n",
    "    if print_silhouette_values:\n",
    "        sample_silhouette_values = silhouette_samples(X, km.labels_)\n",
    "        print(f\"Silhouette values:\")\n",
    "        silhouette_values = []\n",
    "        for i in range(k):\n",
    "            cluster_silhouette_values = sample_silhouette_values[km.labels_ == i]\n",
    "            silhouette_values.append(\n",
    "                (\n",
    "                    i,\n",
    "                    cluster_silhouette_values.shape[0],\n",
    "                    cluster_silhouette_values.mean(),\n",
    "                    cluster_silhouette_values.min(),\n",
    "                    cluster_silhouette_values.max(),\n",
    "                )\n",
    "            )\n",
    "        silhouette_values = sorted(\n",
    "            silhouette_values, key=lambda tup: tup[2], reverse=True\n",
    "        )\n",
    "        for s in silhouette_values:\n",
    "            print(\n",
    "                f\"    Cluster {s[0]}: Size:{s[1]} | Avg:{s[2]:.2f} | Min:{s[3]:.2f} | Max: {s[4]:.2f}\"\n",
    "            )\n",
    "    return km, km.labels_"
   ]
  },
  {
   "cell_type": "code",
   "execution_count": 20,
   "metadata": {},
   "outputs": [
    {
     "name": "stderr",
     "output_type": "stream",
     "text": [
      "C:\\Users\\neelj\\anaconda3\\lib\\site-packages\\sklearn\\cluster\\_kmeans.py:1047: UserWarning: MiniBatchKMeans is known to have a memory leak on Windows with MKL, when there are less chunks than available threads. You can prevent it by setting batch_size >= 2048 or by setting the environment variable OMP_NUM_THREADS=2\n",
      "  \"MiniBatchKMeans is known to have a memory leak on \"\n"
     ]
    },
    {
     "name": "stdout",
     "output_type": "stream",
     "text": [
      "For n_clusters = 9\n",
      "Silhouette coefficient: 0.09\n",
      "Inertia:898972.7580857432\n",
      "Silhouette values:\n",
      "    Cluster 8: Size:3607 | Avg:0.31 | Min:-0.05 | Max: 0.50\n",
      "    Cluster 2: Size:6311 | Avg:0.25 | Min:0.01 | Max: 0.42\n",
      "    Cluster 4: Size:20388 | Avg:0.15 | Min:-0.05 | Max: 0.33\n",
      "    Cluster 0: Size:21149 | Avg:0.11 | Min:0.01 | Max: 0.27\n",
      "    Cluster 5: Size:13830 | Avg:0.06 | Min:-0.05 | Max: 0.23\n",
      "    Cluster 3: Size:15211 | Avg:0.05 | Min:-0.13 | Max: 0.23\n",
      "    Cluster 7: Size:23055 | Avg:0.05 | Min:-0.08 | Max: 0.22\n",
      "    Cluster 6: Size:10771 | Avg:0.04 | Min:-0.14 | Max: 0.21\n",
      "    Cluster 1: Size:12041 | Avg:0.01 | Min:-0.18 | Max: 0.24\n"
     ]
    }
   ],
   "source": [
    "clustering, cluster_labels = mbkmeans_clusters(X=vectorized_lists, k=9, mb=500, print_silhouette_values=True)\n",
    "df_clusters = pd.DataFrame({\"text\": df['text'], \"tokens\": [\" \".join(text) for text in tokenized_lists], \"cluster\": cluster_labels})"
   ]
  },
  {
   "cell_type": "code",
   "execution_count": 21,
   "metadata": {},
   "outputs": [
    {
     "data": {
      "text/html": [
       "<div>\n",
       "<style scoped>\n",
       "    .dataframe tbody tr th:only-of-type {\n",
       "        vertical-align: middle;\n",
       "    }\n",
       "\n",
       "    .dataframe tbody tr th {\n",
       "        vertical-align: top;\n",
       "    }\n",
       "\n",
       "    .dataframe thead th {\n",
       "        text-align: right;\n",
       "    }\n",
       "</style>\n",
       "<table border=\"1\" class=\"dataframe\">\n",
       "  <thead>\n",
       "    <tr style=\"text-align: right;\">\n",
       "      <th></th>\n",
       "      <th>text</th>\n",
       "      <th>tokens</th>\n",
       "      <th>cluster</th>\n",
       "    </tr>\n",
       "  </thead>\n",
       "  <tbody>\n",
       "    <tr>\n",
       "      <th>0</th>\n",
       "      <td>I Read Cathie Wood’s Ark Invest’s 132 Page “Bi...</td>\n",
       "      <td>read cathie wood ark invest page big ideas rep...</td>\n",
       "      <td>4</td>\n",
       "    </tr>\n",
       "    <tr>\n",
       "      <th>1</th>\n",
       "      <td>Crypto Platforms Should Offer Investors Same P...</td>\n",
       "      <td>crypto platforms offer investors protections s...</td>\n",
       "      <td>4</td>\n",
       "    </tr>\n",
       "    <tr>\n",
       "      <th>2</th>\n",
       "      <td>I would guess 80%</td>\n",
       "      <td>would guess</td>\n",
       "      <td>7</td>\n",
       "    </tr>\n",
       "    <tr>\n",
       "      <th>3</th>\n",
       "      <td>Crypto Support Is Growing on Capitol Hill\\n\\nS...</td>\n",
       "      <td>crypto support growing capitol hill sentiment ...</td>\n",
       "      <td>4</td>\n",
       "    </tr>\n",
       "    <tr>\n",
       "      <th>4</th>\n",
       "      <td>Algorand Brings a Level of Maturity to the Blo...</td>\n",
       "      <td>algorand brings level maturity blockchain spac...</td>\n",
       "      <td>4</td>\n",
       "    </tr>\n",
       "    <tr>\n",
       "      <th>...</th>\n",
       "      <td>...</td>\n",
       "      <td>...</td>\n",
       "      <td>...</td>\n",
       "    </tr>\n",
       "    <tr>\n",
       "      <th>130239</th>\n",
       "      <td>This tweet is a test</td>\n",
       "      <td>tweet test</td>\n",
       "      <td>1</td>\n",
       "    </tr>\n",
       "    <tr>\n",
       "      <th>130240</th>\n",
       "      <td>Most households to reach grid parity with sola...</td>\n",
       "      <td>households reach grid parity solar power</td>\n",
       "      <td>0</td>\n",
       "    </tr>\n",
       "    <tr>\n",
       "      <th>130241</th>\n",
       "      <td>GMail Tip:  just discovered you can drag label...</td>\n",
       "      <td>gmail tip discovered drag labels left directly...</td>\n",
       "      <td>0</td>\n",
       "    </tr>\n",
       "    <tr>\n",
       "      <th>130242</th>\n",
       "      <td>It was thru your mention in This week in star...</td>\n",
       "      <td>thru mention week startups thought check busin...</td>\n",
       "      <td>1</td>\n",
       "    </tr>\n",
       "    <tr>\n",
       "      <th>130243</th>\n",
       "      <td>Giving TweetDeck a go... in my camper...  Out ...</td>\n",
       "      <td>giving tweetdeck go camper running errins bali...</td>\n",
       "      <td>1</td>\n",
       "    </tr>\n",
       "  </tbody>\n",
       "</table>\n",
       "<p>126363 rows × 3 columns</p>\n",
       "</div>"
      ],
      "text/plain": [
       "                                                     text  \\\n",
       "0       I Read Cathie Wood’s Ark Invest’s 132 Page “Bi...   \n",
       "1       Crypto Platforms Should Offer Investors Same P...   \n",
       "2                                       I would guess 80%   \n",
       "3       Crypto Support Is Growing on Capitol Hill\\n\\nS...   \n",
       "4       Algorand Brings a Level of Maturity to the Blo...   \n",
       "...                                                   ...   \n",
       "130239                               This tweet is a test   \n",
       "130240  Most households to reach grid parity with sola...   \n",
       "130241  GMail Tip:  just discovered you can drag label...   \n",
       "130242   It was thru your mention in This week in star...   \n",
       "130243  Giving TweetDeck a go... in my camper...  Out ...   \n",
       "\n",
       "                                                   tokens  cluster  \n",
       "0       read cathie wood ark invest page big ideas rep...        4  \n",
       "1       crypto platforms offer investors protections s...        4  \n",
       "2                                             would guess        7  \n",
       "3       crypto support growing capitol hill sentiment ...        4  \n",
       "4       algorand brings level maturity blockchain spac...        4  \n",
       "...                                                   ...      ...  \n",
       "130239                                         tweet test        1  \n",
       "130240           households reach grid parity solar power        0  \n",
       "130241  gmail tip discovered drag labels left directly...        0  \n",
       "130242  thru mention week startups thought check busin...        1  \n",
       "130243  giving tweetdeck go camper running errins bali...        1  \n",
       "\n",
       "[126363 rows x 3 columns]"
      ]
     },
     "execution_count": 21,
     "metadata": {},
     "output_type": "execute_result"
    }
   ],
   "source": [
    "df_clusters"
   ]
  },
  {
   "cell_type": "code",
   "execution_count": 22,
   "metadata": {},
   "outputs": [
    {
     "name": "stdout",
     "output_type": "stream",
     "text": [
      "Most representative terms per cluster (based on centroids):\n",
      "Cluster 0: dexes bricks responsibly emphasizing gamblers \n",
      "Cluster 1: regularly subscribing newsletters hopium rsc \n",
      "Cluster 2: dipping 38k orange revisited convincingly \n",
      "Cluster 3: peaks fluctuated declines hourly flat \n",
      "Cluster 4: readreuters visas jpmorgans targeting nyse \n",
      "Cluster 5: blockspace unwind capped proportional incomes \n",
      "Cluster 6: preceded bottomed ranging corrective check👇 \n",
      "Cluster 7: knowing sometimes rarely sleep proper \n",
      "Cluster 8: pleasure thank cheers shoutout ✌️ \n"
     ]
    }
   ],
   "source": [
    "print(\"Most representative terms per cluster (based on centroids):\")\n",
    "for i in range(9):\n",
    "    tokens_per_cluster = \"\"\n",
    "    most_representative = model.wv.most_similar(positive=[clustering.cluster_centers_[i]], topn=5)\n",
    "    for t in most_representative:\n",
    "        tokens_per_cluster += f\"{t[0]} \"\n",
    "    print(f\"Cluster {i}: {tokens_per_cluster}\")"
   ]
  },
  {
   "cell_type": "code",
   "execution_count": null,
   "metadata": {},
   "outputs": [],
   "source": []
  }
 ],
 "metadata": {
  "kernelspec": {
   "display_name": "Python 3",
   "language": "python",
   "name": "python3"
  },
  "language_info": {
   "codemirror_mode": {
    "name": "ipython",
    "version": 3
   },
   "file_extension": ".py",
   "mimetype": "text/x-python",
   "name": "python",
   "nbconvert_exporter": "python",
   "pygments_lexer": "ipython3",
   "version": "3.7.6"
  }
 },
 "nbformat": 4,
 "nbformat_minor": 4
}
