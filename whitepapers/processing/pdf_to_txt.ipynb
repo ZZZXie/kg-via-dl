{
 "cells": [
  {
   "cell_type": "code",
   "execution_count": 1,
   "id": "noble-fountain",
   "metadata": {},
   "outputs": [
    {
     "name": "stdout",
     "output_type": "stream",
     "text": [
      "Requirement already satisfied: pdfplumber in /Users/aznhu/anaconda3/lib/python3.6/site-packages (0.6.0)\n",
      "Requirement already satisfied: Wand>=0.6.7 in /Users/aznhu/anaconda3/lib/python3.6/site-packages (from pdfplumber) (0.6.7)\n",
      "Requirement already satisfied: Pillow>=8.4 in /Users/aznhu/anaconda3/lib/python3.6/site-packages (from pdfplumber) (8.4.0)\n",
      "Requirement already satisfied: pdfminer.six==20211012 in /Users/aznhu/anaconda3/lib/python3.6/site-packages (from pdfplumber) (20211012)\n",
      "Requirement already satisfied: chardet in /Users/aznhu/anaconda3/lib/python3.6/site-packages (from pdfminer.six==20211012->pdfplumber) (4.0.0)\n",
      "Requirement already satisfied: cryptography in /Users/aznhu/anaconda3/lib/python3.6/site-packages (from pdfminer.six==20211012->pdfplumber) (3.3.1)\n",
      "Requirement already satisfied: cffi>=1.12 in /Users/aznhu/anaconda3/lib/python3.6/site-packages (from cryptography->pdfminer.six==20211012->pdfplumber) (1.14.0)\n",
      "Requirement already satisfied: six>=1.4.1 in /Users/aznhu/anaconda3/lib/python3.6/site-packages (from cryptography->pdfminer.six==20211012->pdfplumber) (1.15.0)\n",
      "Requirement already satisfied: pycparser in /Users/aznhu/anaconda3/lib/python3.6/site-packages (from cffi>=1.12->cryptography->pdfminer.six==20211012->pdfplumber) (2.20)\n",
      "\u001b[33mWARNING: You are using pip version 21.2.4; however, version 21.3.1 is available.\n",
      "You should consider upgrading via the '/Users/aznhu/anaconda3/bin/python -m pip install --upgrade pip' command.\u001b[0m\n"
     ]
    }
   ],
   "source": [
    "import sys\n",
    "!{sys.executable} -m pip install pdfplumber"
   ]
  },
  {
   "cell_type": "code",
   "execution_count": null,
   "id": "received-alcohol",
   "metadata": {
    "scrolled": false
   },
   "outputs": [
    {
     "name": "stdout",
     "output_type": "stream",
     "text": [
      "Converting ../top20_whitepapers/Bitcoin.pdf ...\n",
      "Converting ../top20_whitepapers/Crypto_com.pdf ...\n",
      "Converting ../top20_whitepapers/Cardano.pdf ...\n",
      "Converting ../top20_whitepapers/Tron.pdf ...\n",
      "Converting ../top20_whitepapers/Avalanche.pdf ...\n",
      "Converting ../top20_whitepapers/Binance.pdf ...\n",
      "Converting ../top20_whitepapers/Terra.pdf ...\n",
      "Converting ../top20_whitepapers/Algorand.pdf ...\n",
      "Converting ../top20_whitepapers/Tether.pdf ...\n",
      "Converting ../top20_whitepapers/FTX_token.pdf ...\n",
      "Converting ../top20_whitepapers/Ripple.pdf ...\n",
      "Converting ../top20_whitepapers/ShibaInu.pdf ...\n",
      "Converting ../top20_whitepapers/Polygon.pdf ...\n",
      "Converting ../top20_whitepapers/Ethereum.pdf ...\n",
      "Converting ../top20_whitepapers/Solana.pdf ...\n",
      "Converting ../top20_whitepapers/Uniswap.pdf ...\n",
      "Converting ../top20_whitepapers/PolkaDot.pdf ...\n",
      "Converting ../top20_whitepapers/Chainlink.pdf ...\n"
     ]
    }
   ],
   "source": [
    "import os\n",
    "import pdfplumber\n",
    "\n",
    "directory = \"\"\n",
    "for entry in os.scandir(path='../top20_whitepapers'):\n",
    "    if (entry.path.endswith(\".pdf\") and entry.is_file()):\n",
    "        print(\"Converting \" + entry.path + \" ...\")\n",
    "        with pdfplumber.open(entry.path) as pdf:\n",
    "            toAdd = \"\"\n",
    "            for page in pdf.pages:\n",
    "                toAdd += page.extract_text() + \"\\n\"\n",
    "            file = open(os.path.splitext(entry.path)[0] + \".txt\",\"w\")\n",
    "            file.write(toAdd)\n",
    "            file.close()"
   ]
  },
  {
   "cell_type": "code",
   "execution_count": null,
   "id": "endangered-french",
   "metadata": {},
   "outputs": [],
   "source": []
  }
 ],
 "metadata": {
  "kernelspec": {
   "display_name": "Python 3",
   "language": "python",
   "name": "python3"
  },
  "language_info": {
   "codemirror_mode": {
    "name": "ipython",
    "version": 3
   },
   "file_extension": ".py",
   "mimetype": "text/x-python",
   "name": "python",
   "nbconvert_exporter": "python",
   "pygments_lexer": "ipython3",
   "version": "3.6.8"
  }
 },
 "nbformat": 4,
 "nbformat_minor": 5
}
