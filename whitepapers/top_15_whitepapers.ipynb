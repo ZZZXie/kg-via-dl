{
 "cells": [
  {
   "cell_type": "code",
   "execution_count": 1,
   "id": "velvet-hormone",
   "metadata": {},
   "outputs": [],
   "source": [
    "import os\n",
    "import nltk\n",
    "import string\n",
    "from nltk import word_tokenize\n",
    "from nltk.corpus import stopwords\n",
    "from nltk.stem.porter import PorterStemmer\n",
    "\n",
    "from collections import defaultdict\n",
    "stop_words = stopwords.words('english')\n",
    "\n",
    "from nltk.stem import WordNetLemmatizer\n",
    " \n",
    "lemmatizer = WordNetLemmatizer()\n",
    "\n",
    "directory = \"\"\n",
    "texts = []\n",
    "for entry in os.scandir():\n",
    "    if (entry.path.endswith(\".txt\") and entry.is_file()):\n",
    "        with open(entry.path) as f:\n",
    "            buffer = f.read()\n",
    "            text = \" \".join(buffer.lower().split())\n",
    "            \n",
    "            text_p = \"\".join([char for char in text if char not in string.punctuation])\n",
    "            result = ''.join([i for i in text_p if not i.isdigit()])\n",
    "            texts.append(result)\n",
    "            \n",
    "tokenized = []\n",
    "\n",
    "dictionary = defaultdict(int)\n",
    "\n",
    "for t in texts:\n",
    "    words = word_tokenize(t)\n",
    "    filtered_words = [word for word in words if word not in stop_words]\n",
    "    porter = PorterStemmer()\n",
    "    \n",
    "    \n",
    "    lemma = [lemmatizer.lemmatize(word) for word in filtered_words]\n",
    "    tokenized.append(lemma)\n",
    "    \n",
    "for t in tokenized:\n",
    "    for w in t:\n",
    "        dictionary[w] += 1\n",
    "        \n",
    "most_freq_tokens = dict(sorted(dictionary.items(), key=lambda item: item[1], reverse=True))\n",
    "        \n",
    "#for k,v in most_freq_tokens.items():\n",
    "    #print(k, v)"
   ]
  },
  {
   "cell_type": "code",
   "execution_count": 4,
   "id": "7a636d9e-ce99-45e4-bb4b-c6c49d48cdb7",
   "metadata": {},
   "outputs": [
    {
     "name": "stdout",
     "output_type": "stream",
     "text": [
      "631\n"
     ]
    }
   ],
   "source": [
    "import json\n",
    "\n",
    "print(most_freq_tokens['transaction'])\n",
    "with open('word_freq.json', 'w') as f:\n",
    "    json.dump(most_freq_tokens, f)"
   ]
  },
  {
   "cell_type": "code",
   "execution_count": 36,
   "id": "intimate-state",
   "metadata": {},
   "outputs": [
    {
     "name": "stderr",
     "output_type": "stream",
     "text": [
      "/Users/aznhu/anaconda3/lib/python3.6/site-packages/ipykernel_launcher.py:9: RuntimeWarning: divide by zero encountered in log2\n",
      "  if __name__ == '__main__':\n",
      "/Users/aznhu/anaconda3/lib/python3.6/site-packages/ipykernel_launcher.py:9: RuntimeWarning: invalid value encountered in multiply\n",
      "  if __name__ == '__main__':\n"
     ]
    },
    {
     "data": {
      "image/png": "[encoded data removed]",
      "text/plain": [
       "<Figure size 432x288 with 1 Axes>"
      ]
     },
     "metadata": {
      "needs_background": "light"
     },
     "output_type": "display_data"
    }
   ],
   "source": [
    "from matplotlib import pyplot as plt\n",
    "import numpy as np\n",
    "\n",
    "#func = []\n",
    "x = np.linspace(0.00, 1.00, 100)\n",
    "#for pt in x:\n",
    "    #func.append(-pt*np.log2(pt) - (1-pt)*np.log2(1-pt))\n",
    "\n",
    "plt.plot(x, -x*np.log2(x) - (1-x)*np.log2(1-x))\n",
    "plt.show()"
   ]
  },
  {
   "cell_type": "code",
   "execution_count": null,
   "id": "focal-duncan",
   "metadata": {},
   "outputs": [],
   "source": []
  }
 ],
 "metadata": {
  "kernelspec": {
   "display_name": "Python 3 (ipykernel)",
   "language": "python",
   "name": "python3"
  },
  "language_info": {
   "codemirror_mode": {
    "name": "ipython",
    "version": 3
   },
   "file_extension": ".py",
   "mimetype": "text/x-python",
   "name": "python",
   "nbconvert_exporter": "python",
   "pygments_lexer": "ipython3",
   "version": "3.9.7"
  }
 },
 "nbformat": 4,
 "nbformat_minor": 5
}
